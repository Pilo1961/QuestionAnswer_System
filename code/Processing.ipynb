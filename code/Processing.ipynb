{
  "nbformat": 4,
  "nbformat_minor": 0,
  "metadata": {
    "colab": {
      "name": "Processing.ipynb",
      "provenance": [],
      "authorship_tag": "ABX9TyOc8JT4M7/0g1g6P+ksWMaM",
      "include_colab_link": true
    },
    "kernelspec": {
      "name": "python3",
      "display_name": "Python 3"
    }
  },
  "cells": [
    {
      "cell_type": "markdown",
      "metadata": {
        "id": "view-in-github",
        "colab_type": "text"
      },
      "source": [
        "<a href=\"https://colab.research.google.com/github/Pilo1961/QuestionAnswer_System/blob/master/code/Processing.ipynb\" target=\"_parent\"><img src=\"https://colab.research.google.com/assets/colab-badge.svg\" alt=\"Open In Colab\"/></a>"
      ]
    },
    {
      "cell_type": "markdown",
      "metadata": {
        "id": "TBYUBtDapR9v",
        "colab_type": "text"
      },
      "source": [
        "# Notebook setup"
      ]
    },
    {
      "cell_type": "code",
      "metadata": {
        "id": "nIHvOI8TpU3d",
        "colab_type": "code",
        "outputId": "f4df2c7c-06c0-46b8-e883-ee2a91bd69ba",
        "colab": {
          "base_uri": "https://localhost:8080/",
          "height": 121
        }
      },
      "source": [
        "#load data from google drive\n",
        "from google.colab import drive\n",
        "drive.mount('/content/drive')"
      ],
      "execution_count": 1,
      "outputs": [
        {
          "output_type": "stream",
          "text": [
            "Go to this URL in a browser: https://accounts.google.com/o/oauth2/auth?client_id=947318989803-6bn6qk8qdgf4n4g3pfee6491hc0brc4i.apps.googleusercontent.com&redirect_uri=urn%3aietf%3awg%3aoauth%3a2.0%3aoob&response_type=code&scope=email%20https%3a%2f%2fwww.googleapis.com%2fauth%2fdocs.test%20https%3a%2f%2fwww.googleapis.com%2fauth%2fdrive%20https%3a%2f%2fwww.googleapis.com%2fauth%2fdrive.photos.readonly%20https%3a%2f%2fwww.googleapis.com%2fauth%2fpeopleapi.readonly\n",
            "\n",
            "Enter your authorization code:\n",
            "··········\n",
            "Mounted at /content/drive\n"
          ],
          "name": "stdout"
        }
      ]
    },
    {
      "cell_type": "code",
      "metadata": {
        "id": "nT3qdiARpj5G",
        "colab_type": "code",
        "outputId": "9582522c-5c07-425a-e6d1-ef3d895860d9",
        "colab": {
          "base_uri": "https://localhost:8080/",
          "height": 50
        }
      },
      "source": [
        "import pickle\n",
        "from textblob import TextBlob\n",
        "import nltk\n",
        "nltk.download('punkt')\n",
        "from nltk.tokenize import sent_tokenize, word_tokenize\n",
        "import pandas as pd\n",
        "import numpy as np\n",
        "import matplotlib.pyplot as plt\n",
        "%matplotlib inline"
      ],
      "execution_count": 2,
      "outputs": [
        {
          "output_type": "stream",
          "text": [
            "[nltk_data] Downloading package punkt to /root/nltk_data...\n",
            "[nltk_data]   Unzipping tokenizers/punkt.zip.\n"
          ],
          "name": "stdout"
        }
      ]
    },
    {
      "cell_type": "markdown",
      "metadata": {
        "id": "yAPr24iiplIm",
        "colab_type": "text"
      },
      "source": [
        "# Read data"
      ]
    },
    {
      "cell_type": "code",
      "metadata": {
        "id": "t6zlDoER-86z",
        "colab_type": "code",
        "colab": {}
      },
      "source": [
        "#load train data from pickle\n",
        "with open(\"/content/drive/My Drive/QA/df_train.pkl\", \"rb\") as f:\n",
        "    train_data = pickle.load(f)\n",
        "\n",
        "train_data.drop(columns=['id','title'],inplace=True)\n",
        "train_data.dropna(inplace=True)"
      ],
      "execution_count": 0,
      "outputs": []
    },
    {
      "cell_type": "code",
      "metadata": {
        "id": "QQaneygQ_OQX",
        "colab_type": "code",
        "outputId": "e3c281a5-0130-472b-d737-f44651518e64",
        "colab": {
          "base_uri": "https://localhost:8080/",
          "height": 195
        }
      },
      "source": [
        "train_data.head()"
      ],
      "execution_count": 50,
      "outputs": [
        {
          "output_type": "execute_result",
          "data": {
            "text/html": [
              "<div>\n",
              "<style scoped>\n",
              "    .dataframe tbody tr th:only-of-type {\n",
              "        vertical-align: middle;\n",
              "    }\n",
              "\n",
              "    .dataframe tbody tr th {\n",
              "        vertical-align: top;\n",
              "    }\n",
              "\n",
              "    .dataframe thead th {\n",
              "        text-align: right;\n",
              "    }\n",
              "</style>\n",
              "<table border=\"1\" class=\"dataframe\">\n",
              "  <thead>\n",
              "    <tr style=\"text-align: right;\">\n",
              "      <th></th>\n",
              "      <th>answer_start</th>\n",
              "      <th>text</th>\n",
              "      <th>context</th>\n",
              "      <th>question</th>\n",
              "    </tr>\n",
              "  </thead>\n",
              "  <tbody>\n",
              "    <tr>\n",
              "      <th>0</th>\n",
              "      <td>515</td>\n",
              "      <td>Saint Bernadette Soubirous</td>\n",
              "      <td>Architecturally, the school has a Catholic cha...</td>\n",
              "      <td>To whom did the Virgin Mary allegedly appear i...</td>\n",
              "    </tr>\n",
              "    <tr>\n",
              "      <th>1</th>\n",
              "      <td>187</td>\n",
              "      <td>a copper statue of Christ</td>\n",
              "      <td>Architecturally, the school has a Catholic cha...</td>\n",
              "      <td>What is in front of the Notre Dame Main Building?</td>\n",
              "    </tr>\n",
              "    <tr>\n",
              "      <th>2</th>\n",
              "      <td>279</td>\n",
              "      <td>the Main Building</td>\n",
              "      <td>Architecturally, the school has a Catholic cha...</td>\n",
              "      <td>The Basilica of the Sacred heart at Notre Dame...</td>\n",
              "    </tr>\n",
              "    <tr>\n",
              "      <th>3</th>\n",
              "      <td>381</td>\n",
              "      <td>a Marian place of prayer and reflection</td>\n",
              "      <td>Architecturally, the school has a Catholic cha...</td>\n",
              "      <td>What is the Grotto at Notre Dame?</td>\n",
              "    </tr>\n",
              "    <tr>\n",
              "      <th>4</th>\n",
              "      <td>92</td>\n",
              "      <td>a golden statue of the Virgin Mary</td>\n",
              "      <td>Architecturally, the school has a Catholic cha...</td>\n",
              "      <td>What sits on top of the Main Building at Notre...</td>\n",
              "    </tr>\n",
              "  </tbody>\n",
              "</table>\n",
              "</div>"
            ],
            "text/plain": [
              "   answer_start  ...                                           question\n",
              "0           515  ...  To whom did the Virgin Mary allegedly appear i...\n",
              "1           187  ...  What is in front of the Notre Dame Main Building?\n",
              "2           279  ...  The Basilica of the Sacred heart at Notre Dame...\n",
              "3           381  ...                  What is the Grotto at Notre Dame?\n",
              "4            92  ...  What sits on top of the Main Building at Notre...\n",
              "\n",
              "[5 rows x 4 columns]"
            ]
          },
          "metadata": {
            "tags": []
          },
          "execution_count": 50
        }
      ]
    },
    {
      "cell_type": "code",
      "metadata": {
        "id": "uubTnOIX_Ut4",
        "colab_type": "code",
        "colab": {}
      },
      "source": [
        "#load embeddings from pickle\n",
        "#train question embedding\n",
        "with open(\"/content/drive/My Drive/QA/train_question.pkl\", \"rb\") as f:\n",
        "    train_question_emb = pickle.load(f)\n",
        "\n",
        "#train context embeddings\n",
        "with open(\"/content/drive/My Drive/QA/train_dict.pkl\", \"rb\") as f:\n",
        "    train_dict = pickle.load(f)"
      ],
      "execution_count": 0,
      "outputs": []
    },
    {
      "cell_type": "markdown",
      "metadata": {
        "id": "-6aEpdhfxs5t",
        "colab_type": "text"
      },
      "source": [
        "### Format data\n",
        "\n",
        "Ordenamos los datos en forma de listas anidadas.\n",
        "* La variable context_embedding es una lista anidada con los embeddings de las oraciones del contexto.\n",
        "* La variable contexts contiene las oraciones tokenizadas del contexto\n",
        "* q_embedding tiene los embeddings de las preguntas."
      ]
    },
    {
      "cell_type": "code",
      "metadata": {
        "id": "YE-nqZY4Cty9",
        "colab_type": "code",
        "colab": {}
      },
      "source": [
        "#Genera una lista de listas para los contextos\n",
        "#y para los embeddings de los contextos\n",
        "\n",
        "contexts=[]\n",
        "context_embedding=[]\n",
        "last_context=[]\n",
        "\n",
        "for context in train_data['context']:\n",
        "\n",
        "  if context == last_context:# Si es el mismo contexto usa lo que ya calculamos\n",
        "    contexts.append(temp)\n",
        "    context_embedding.append(temp_emb)\n",
        "    continue\n",
        "  \n",
        "  temp=[]\n",
        "  temp_emb=[]\n",
        "  for sent in sent_tokenize(context):\n",
        "    s=sent.lower()\n",
        "    temp.append(s)\n",
        "    e=train_dict[s]\n",
        "    temp_emb.append(e)\n",
        "  \n",
        "  contexts.append(temp)\n",
        "  context_embedding.append(temp_emb)\n",
        "  last_context=context\n"
      ],
      "execution_count": 0,
      "outputs": []
    },
    {
      "cell_type": "code",
      "metadata": {
        "id": "y2rVag0AHjvZ",
        "colab_type": "code",
        "outputId": "1bc27970-5592-4ba8-c123-bb8363d14b48",
        "colab": {
          "base_uri": "https://localhost:8080/",
          "height": 67
        }
      },
      "source": [
        "# Todas las variables tienen la misma longitud que el df original\n",
        "print(len(context_embedding))\n",
        "print(len(contexts))\n",
        "print(len(train_question_emb))"
      ],
      "execution_count": 51,
      "outputs": [
        {
          "output_type": "stream",
          "text": [
            "87636\n",
            "87636\n",
            "87636\n"
          ],
          "name": "stdout"
        }
      ]
    },
    {
      "cell_type": "code",
      "metadata": {
        "id": "LEhaUCYyhbK5",
        "colab_type": "code",
        "colab": {}
      },
      "source": [
        "df_context_embedding=pd.DataFrame(context_embedding)\n",
        "df_contexts=pd.DataFrame(contexts)\n",
        "df_question_embedding=pd.DataFrame(train_question_emb)"
      ],
      "execution_count": 0,
      "outputs": []
    },
    {
      "cell_type": "code",
      "metadata": {
        "id": "KDD1nfc3hbOC",
        "colab_type": "code",
        "colab": {}
      },
      "source": [
        ""
      ],
      "execution_count": 0,
      "outputs": []
    },
    {
      "cell_type": "code",
      "metadata": {
        "id": "rt0v-3s5hbQ7",
        "colab_type": "code",
        "colab": {}
      },
      "source": [
        ""
      ],
      "execution_count": 0,
      "outputs": []
    },
    {
      "cell_type": "code",
      "metadata": {
        "id": "oht51mWnhbUc",
        "colab_type": "code",
        "colab": {}
      },
      "source": [
        ""
      ],
      "execution_count": 0,
      "outputs": []
    },
    {
      "cell_type": "markdown",
      "metadata": {
        "id": "4371R2dAPfxM",
        "colab_type": "text"
      },
      "source": [
        "# Target\n",
        "\n",
        "Para hacer la variable target buscamos la respuesta literal dentro del contexto. El target es la oración donde aparece la respuesta."
      ]
    },
    {
      "cell_type": "code",
      "metadata": {
        "id": "tdq5A5e3FB7j",
        "colab_type": "code",
        "outputId": "f15de20a-a1a4-44d9-8811-5b44445393bc",
        "colab": {
          "base_uri": "https://localhost:8080/",
          "height": 195
        }
      },
      "source": [
        "train_data.head()"
      ],
      "execution_count": 14,
      "outputs": [
        {
          "output_type": "execute_result",
          "data": {
            "text/html": [
              "<div>\n",
              "<style scoped>\n",
              "    .dataframe tbody tr th:only-of-type {\n",
              "        vertical-align: middle;\n",
              "    }\n",
              "\n",
              "    .dataframe tbody tr th {\n",
              "        vertical-align: top;\n",
              "    }\n",
              "\n",
              "    .dataframe thead th {\n",
              "        text-align: right;\n",
              "    }\n",
              "</style>\n",
              "<table border=\"1\" class=\"dataframe\">\n",
              "  <thead>\n",
              "    <tr style=\"text-align: right;\">\n",
              "      <th></th>\n",
              "      <th>answer_start</th>\n",
              "      <th>text</th>\n",
              "      <th>context</th>\n",
              "      <th>question</th>\n",
              "    </tr>\n",
              "  </thead>\n",
              "  <tbody>\n",
              "    <tr>\n",
              "      <th>0</th>\n",
              "      <td>515</td>\n",
              "      <td>Saint Bernadette Soubirous</td>\n",
              "      <td>Architecturally, the school has a Catholic cha...</td>\n",
              "      <td>To whom did the Virgin Mary allegedly appear i...</td>\n",
              "    </tr>\n",
              "    <tr>\n",
              "      <th>1</th>\n",
              "      <td>187</td>\n",
              "      <td>a copper statue of Christ</td>\n",
              "      <td>Architecturally, the school has a Catholic cha...</td>\n",
              "      <td>What is in front of the Notre Dame Main Building?</td>\n",
              "    </tr>\n",
              "    <tr>\n",
              "      <th>2</th>\n",
              "      <td>279</td>\n",
              "      <td>the Main Building</td>\n",
              "      <td>Architecturally, the school has a Catholic cha...</td>\n",
              "      <td>The Basilica of the Sacred heart at Notre Dame...</td>\n",
              "    </tr>\n",
              "    <tr>\n",
              "      <th>3</th>\n",
              "      <td>381</td>\n",
              "      <td>a Marian place of prayer and reflection</td>\n",
              "      <td>Architecturally, the school has a Catholic cha...</td>\n",
              "      <td>What is the Grotto at Notre Dame?</td>\n",
              "    </tr>\n",
              "    <tr>\n",
              "      <th>4</th>\n",
              "      <td>92</td>\n",
              "      <td>a golden statue of the Virgin Mary</td>\n",
              "      <td>Architecturally, the school has a Catholic cha...</td>\n",
              "      <td>What sits on top of the Main Building at Notre...</td>\n",
              "    </tr>\n",
              "  </tbody>\n",
              "</table>\n",
              "</div>"
            ],
            "text/plain": [
              "   answer_start  ...                                           question\n",
              "0           515  ...  To whom did the Virgin Mary allegedly appear i...\n",
              "1           187  ...  What is in front of the Notre Dame Main Building?\n",
              "2           279  ...  The Basilica of the Sacred heart at Notre Dame...\n",
              "3           381  ...                  What is the Grotto at Notre Dame?\n",
              "4            92  ...  What sits on top of the Main Building at Notre...\n",
              "\n",
              "[5 rows x 4 columns]"
            ]
          },
          "metadata": {
            "tags": []
          },
          "execution_count": 14
        }
      ]
    },
    {
      "cell_type": "code",
      "metadata": {
        "id": "X4Yg0BM4GPgJ",
        "colab_type": "code",
        "outputId": "eb3cbc9a-00cc-42c1-e816-6cac3c9f50ee",
        "colab": {
          "base_uri": "https://localhost:8080/",
          "height": 101
        }
      },
      "source": [
        "#Busca la oracion que tiene la respuesta literal dentro del contexto\n",
        "#guarda la posicion de la oracion dentro del contexto\n",
        "# Si no la encuentra deja target = -1\n",
        "train_data[\"target\"]=-1\n",
        "for i in range (len(train_data)):\n",
        "  respuesta=train_data[\"text\"][i].lower()\n",
        "  for j, sent in enumerate(contexts[i]):\n",
        "    if respuesta in sent: \n",
        "      train_data[\"target\"][i] = j\n",
        "      break\n"
      ],
      "execution_count": 52,
      "outputs": [
        {
          "output_type": "stream",
          "text": [
            "/usr/local/lib/python3.6/dist-packages/ipykernel_launcher.py:9: SettingWithCopyWarning: \n",
            "A value is trying to be set on a copy of a slice from a DataFrame\n",
            "\n",
            "See the caveats in the documentation: https://pandas.pydata.org/pandas-docs/stable/user_guide/indexing.html#returning-a-view-versus-a-copy\n",
            "  if __name__ == '__main__':\n"
          ],
          "name": "stderr"
        }
      ]
    },
    {
      "cell_type": "code",
      "metadata": {
        "id": "JubYzxmO6rrX",
        "colab_type": "code",
        "outputId": "1fc18963-bf0a-493e-c099-78486d062c42",
        "colab": {
          "base_uri": "https://localhost:8080/",
          "height": 34
        }
      },
      "source": [
        "#casos que no se encontro la respuesta\n",
        "sum(train_data[\"target\"]==-1)"
      ],
      "execution_count": 53,
      "outputs": [
        {
          "output_type": "execute_result",
          "data": {
            "text/plain": [
              "981"
            ]
          },
          "metadata": {
            "tags": []
          },
          "execution_count": 53
        }
      ]
    },
    {
      "cell_type": "markdown",
      "metadata": {
        "id": "1C0owgNb6E7d",
        "colab_type": "text"
      },
      "source": [
        "Encontramos 981 casos que representan el 1.11%  \n",
        "Dado que se trata de un problema de comprnesión de lectura y un supuesto en el planteamiento es que encontramos la respuesta a la pregunta literal en el contexto, procedemos a quitar esos casos de nuestro analisis."
      ]
    },
    {
      "cell_type": "code",
      "metadata": {
        "id": "zMVoZ_uuGUWQ",
        "colab_type": "code",
        "colab": {}
      },
      "source": [
        "#quitamos las filas que no tienen target en el df\n",
        "index=train_data[\"target\"]==-1\n",
        "train_data=train_data[-index].reset_index()"
      ],
      "execution_count": 0,
      "outputs": []
    },
    {
      "cell_type": "code",
      "metadata": {
        "id": "Km2O-RsYkkuJ",
        "colab_type": "code",
        "colab": {}
      },
      "source": [
        "index=np.where(train_data[\"target\"]==-1)\n",
        "contexts=np.delete(contexts,index,axis=0)\n",
        "context_embedding=np.delete(context_embedding,index,axis=0)\n",
        "train_question_emb=np.delete(train_question_emb,index,axis=0)"
      ],
      "execution_count": 0,
      "outputs": []
    },
    {
      "cell_type": "code",
      "metadata": {
        "id": "zn9xKuZTkk04",
        "colab_type": "code",
        "colab": {
          "base_uri": "https://localhost:8080/",
          "height": 84
        },
        "outputId": "90a49f7b-356b-4c7e-9886-fe31ecc50569"
      },
      "source": [
        "# La nueva longitud de los datos\n",
        "print(train_data.shape)\n",
        "print(len(context_embedding))\n",
        "print(len(contexts))\n",
        "print(len(train_question_emb))"
      ],
      "execution_count": 81,
      "outputs": [
        {
          "output_type": "stream",
          "text": [
            "(86655, 8)\n",
            "86655\n",
            "86655\n",
            "86655\n"
          ],
          "name": "stdout"
        }
      ]
    },
    {
      "cell_type": "code",
      "metadata": {
        "id": "s6NttZWBS-mI",
        "colab_type": "code",
        "outputId": "74170dd3-7d73-48f8-dc2a-aadf865bc3cb",
        "colab": {
          "base_uri": "https://localhost:8080/",
          "height": 281
        }
      },
      "source": [
        "plt.hist(train_data[\"target\"],bins=20)\n",
        "plt.title(\"Distribucion de variable target\")\n",
        "plt.show()"
      ],
      "execution_count": 71,
      "outputs": [
        {
          "output_type": "display_data",
          "data": {
            "image/png": "[encoded data removed]",
            "text/plain": [
              "<Figure size 432x288 with 1 Axes>"
            ]
          },
          "metadata": {
            "tags": [],
            "needs_background": "light"
          }
        }
      ]
    },
    {
      "cell_type": "code",
      "metadata": {
        "id": "FODko4ts5u7A",
        "colab_type": "code",
        "outputId": "61a7d9ae-6125-49b9-f9e9-b99373300114",
        "colab": {
          "base_uri": "https://localhost:8080/",
          "height": 301
        }
      },
      "source": [
        "print(np.quantile(train_data[\"target\"],.99))\n",
        "pd.DataFrame(train_data[\"target\"]).describe()"
      ],
      "execution_count": 72,
      "outputs": [
        {
          "output_type": "stream",
          "text": [
            "7.0\n"
          ],
          "name": "stdout"
        },
        {
          "output_type": "execute_result",
          "data": {
            "text/html": [
              "<div>\n",
              "<style scoped>\n",
              "    .dataframe tbody tr th:only-of-type {\n",
              "        vertical-align: middle;\n",
              "    }\n",
              "\n",
              "    .dataframe tbody tr th {\n",
              "        vertical-align: top;\n",
              "    }\n",
              "\n",
              "    .dataframe thead th {\n",
              "        text-align: right;\n",
              "    }\n",
              "</style>\n",
              "<table border=\"1\" class=\"dataframe\">\n",
              "  <thead>\n",
              "    <tr style=\"text-align: right;\">\n",
              "      <th></th>\n",
              "      <th>target</th>\n",
              "    </tr>\n",
              "  </thead>\n",
              "  <tbody>\n",
              "    <tr>\n",
              "      <th>count</th>\n",
              "      <td>86655.000000</td>\n",
              "    </tr>\n",
              "    <tr>\n",
              "      <th>mean</th>\n",
              "      <td>1.645398</td>\n",
              "    </tr>\n",
              "    <tr>\n",
              "      <th>std</th>\n",
              "      <td>1.802559</td>\n",
              "    </tr>\n",
              "    <tr>\n",
              "      <th>min</th>\n",
              "      <td>0.000000</td>\n",
              "    </tr>\n",
              "    <tr>\n",
              "      <th>25%</th>\n",
              "      <td>0.000000</td>\n",
              "    </tr>\n",
              "    <tr>\n",
              "      <th>50%</th>\n",
              "      <td>1.000000</td>\n",
              "    </tr>\n",
              "    <tr>\n",
              "      <th>75%</th>\n",
              "      <td>3.000000</td>\n",
              "    </tr>\n",
              "    <tr>\n",
              "      <th>max</th>\n",
              "      <td>20.000000</td>\n",
              "    </tr>\n",
              "  </tbody>\n",
              "</table>\n",
              "</div>"
            ],
            "text/plain": [
              "             target\n",
              "count  86655.000000\n",
              "mean       1.645398\n",
              "std        1.802559\n",
              "min        0.000000\n",
              "25%        0.000000\n",
              "50%        1.000000\n",
              "75%        3.000000\n",
              "max       20.000000"
            ]
          },
          "metadata": {
            "tags": []
          },
          "execution_count": 72
        }
      ]
    },
    {
      "cell_type": "markdown",
      "metadata": {
        "id": "57FYSITLh-0A",
        "colab_type": "text"
      },
      "source": [
        "# Prediccion"
      ]
    },
    {
      "cell_type": "code",
      "metadata": {
        "id": "hinv4KbRmSDn",
        "colab_type": "code",
        "colab": {}
      },
      "source": [
        "# Definimos las distancias a utilizar\n",
        "norma=lambda x:np.sqrt(sum(x*x))\n",
        "distancia_coseno=lambda x,y: 1-(sum(x*y)/(norma(x)*norma(y)))\n",
        "distancia_euclidiana=lambda x,y: norma(x-y)"
      ],
      "execution_count": 0,
      "outputs": []
    },
    {
      "cell_type": "code",
      "metadata": {
        "id": "keDGSmXiiARO",
        "colab_type": "code",
        "outputId": "e46f42d3-1bc5-4024-f52d-3f966bdc25cc",
        "colab": {
          "base_uri": "https://localhost:8080/",
          "height": 319
        }
      },
      "source": [
        "# Calcula la distancia coseno y la euclidiana entre las oraciones del contexto y la pregunta\n",
        "# Devuevle un array target con el indice de la oracion con la minima distancia\n",
        "euclid_distance_target=[]\n",
        "cosine_distance_target=[]\n",
        "euclid_distance=[]\n",
        "cosine_distance=[]\n",
        "\n",
        "for i in range(len(train_data)):\n",
        "  dc_min=1000\n",
        "  de_min=1000\n",
        "  temp_c=[]\n",
        "  temp_e=[]\n",
        "  for j, sent_emb in enumerate(context_embedding[i]):\n",
        "    dist_euc=distancia_euclidiana(sent_emb,train_question_emb[i])\n",
        "    dist_cos=distancia_coseno(sent_emb,train_question_emb[i])  \n",
        "    temp_c.append(dist_cos)\n",
        "    temp_e.append(dist_euc)\n",
        "\n",
        "  euclid_distance_target.append(np.argmin(temp_e))\n",
        "  cosine_distance_target.append(np.argmin(temp_c))\n",
        "  euclid_distance.append(temp_e)\n",
        "  cosine_distance.append(temp_c)\n",
        "  if i%5000==0: print(i)"
      ],
      "execution_count": 77,
      "outputs": [
        {
          "output_type": "stream",
          "text": [
            "0\n",
            "5000\n",
            "10000\n",
            "15000\n",
            "20000\n",
            "25000\n",
            "30000\n",
            "35000\n",
            "40000\n",
            "45000\n",
            "50000\n",
            "55000\n",
            "60000\n",
            "65000\n",
            "70000\n",
            "75000\n",
            "80000\n",
            "85000\n"
          ],
          "name": "stdout"
        }
      ]
    },
    {
      "cell_type": "code",
      "metadata": {
        "id": "c6g3SRaZpZTu",
        "colab_type": "code",
        "colab": {}
      },
      "source": [
        "train_data[\"euclid_prediction\"]=euclid_distance_target\n",
        "train_data[\"cosine_prediction\"]=cosine_distance_target"
      ],
      "execution_count": 0,
      "outputs": []
    },
    {
      "cell_type": "markdown",
      "metadata": {
        "id": "orTwo1Gkr-40",
        "colab_type": "text"
      },
      "source": [
        "# Acuracy"
      ]
    },
    {
      "cell_type": "code",
      "metadata": {
        "id": "_f73wEJor_Ck",
        "colab_type": "code",
        "outputId": "8c4e2f72-d312-4f65-f8bf-06b8f18d813b",
        "colab": {
          "base_uri": "https://localhost:8080/",
          "height": 50
        }
      },
      "source": [
        "#Checa si la oracion que minimiza la distancia es la misma que la oracion target\n",
        "euclid=0\n",
        "cosine=0\n",
        "for i in range(len(train_data)):\n",
        "  right=train_data[\"target\"][i]\n",
        "  e=train_data[\"euclid_prediction\"][i]\n",
        "  c=train_data[\"cosine_prediction\"][i]\n",
        "  if(right==e):euclid+=1\n",
        "  if(right==c):cosine+=1  \n",
        "\n",
        "print(\"Cosine accuracy\",cosine/len(train_data))\n",
        "print(\"Euclidian accuracy\",euclid/len(train_data))"
      ],
      "execution_count": 82,
      "outputs": [
        {
          "output_type": "stream",
          "text": [
            "Cosine accuracy 0.5996191795049334\n",
            "Euclidian accuracy 0.3696613005596907\n"
          ],
          "name": "stdout"
        }
      ]
    },
    {
      "cell_type": "markdown",
      "metadata": {
        "id": "09_Ix6Fwxz8Z",
        "colab_type": "text"
      },
      "source": [
        "Usando la distancia cosento detectamos el 59.9% de las oraciones en el conjunto train.  \n",
        "Usando la distancia euclidiana detectamos el 36.9% de las oraciones en el contexto que tienen la respuesta."
      ]
    },
    {
      "cell_type": "code",
      "metadata": {
        "id": "P0Z_T4EFr_NU",
        "colab_type": "code",
        "outputId": "0e68446f-187c-46c1-f5bd-837a6280df60",
        "colab": {
          "base_uri": "https://localhost:8080/",
          "height": 185
        }
      },
      "source": [
        "#Celda para verificar consistencia\n",
        "\n",
        "i=5906\n",
        "print(\"Distancia Euclidiana\")\n",
        "print(euclid_distance[i])\n",
        "print(\"Target: \", euclid_distance_target[i])\n",
        "print(\"Index del minimo:\",np.argmin(euclid_distance[i]))\n",
        "print(\"\\n\")\n",
        "print(\"Distancia Coseno\")\n",
        "print(cosine_distance[i])\n",
        "print(\"Target: \",cosine_distance_target[i])\n",
        "print(\"Index del minimo:\",np.argmin(cosine_distance[i]))"
      ],
      "execution_count": 88,
      "outputs": [
        {
          "output_type": "stream",
          "text": [
            "Distancia Euclidiana\n",
            "[5.2625631927403305, 4.21635732745609, 3.5960816786122, 4.308840077891539, 4.374068086779395]\n",
            "Target:  2\n",
            "Index del minimo: 2\n",
            "\n",
            "\n",
            "Distancia Coseno\n",
            "[0.4612922809524779, 0.5593019660042353, 0.4051351904905818, 0.3781817001638521, 0.43483427939486885]\n",
            "Target:  3\n",
            "Index del minimo: 3\n"
          ],
          "name": "stdout"
        }
      ]
    },
    {
      "cell_type": "markdown",
      "metadata": {
        "id": "IFDF3ppoydfI",
        "colab_type": "text"
      },
      "source": [
        "En la celda anterior vemos la distancia entre las oraciones del contexto y la pregunta.\n",
        "El objetivo es verificar consistencia entre el minimo y el minimo que se tiene como target registrado."
      ]
    },
    {
      "cell_type": "markdown",
      "metadata": {
        "id": "CXoJU1PZzvQy",
        "colab_type": "text"
      },
      "source": [
        "# Prepara data para supervizado\n",
        "\n",
        "Nos limitamos a 10 oraciones por contexto. Cualquier texto con mas de 10 oraciones se limitará a 10."
      ]
    },
    {
      "cell_type": "code",
      "metadata": {
        "id": "IqtOYPV8D2Bq",
        "colab_type": "code",
        "colab": {}
      },
      "source": [
        "df_context_embedding=pd.DataFrame(context_embedding,columns=[\"context_embedding\"])"
      ],
      "execution_count": 0,
      "outputs": []
    },
    {
      "cell_type": "code",
      "metadata": {
        "id": "bBGJaXG3zcBV",
        "colab_type": "code",
        "colab": {
          "base_uri": "https://localhost:8080/",
          "height": 195
        },
        "outputId": "0e7ae9c2-965c-4e67-b22b-d01459a263ed"
      },
      "source": [
        "train_data.head()"
      ],
      "execution_count": 114,
      "outputs": [
        {
          "output_type": "execute_result",
          "data": {
            "text/html": [
              "<div>\n",
              "<style scoped>\n",
              "    .dataframe tbody tr th:only-of-type {\n",
              "        vertical-align: middle;\n",
              "    }\n",
              "\n",
              "    .dataframe tbody tr th {\n",
              "        vertical-align: top;\n",
              "    }\n",
              "\n",
              "    .dataframe thead th {\n",
              "        text-align: right;\n",
              "    }\n",
              "</style>\n",
              "<table border=\"1\" class=\"dataframe\">\n",
              "  <thead>\n",
              "    <tr style=\"text-align: right;\">\n",
              "      <th></th>\n",
              "      <th>index</th>\n",
              "      <th>answer_start</th>\n",
              "      <th>text</th>\n",
              "      <th>context</th>\n",
              "      <th>question</th>\n",
              "      <th>target</th>\n",
              "      <th>euclid_prediction</th>\n",
              "      <th>cosine_prediction</th>\n",
              "    </tr>\n",
              "  </thead>\n",
              "  <tbody>\n",
              "    <tr>\n",
              "      <th>0</th>\n",
              "      <td>0</td>\n",
              "      <td>515</td>\n",
              "      <td>Saint Bernadette Soubirous</td>\n",
              "      <td>Architecturally, the school has a Catholic cha...</td>\n",
              "      <td>To whom did the Virgin Mary allegedly appear i...</td>\n",
              "      <td>5</td>\n",
              "      <td>0</td>\n",
              "      <td>5</td>\n",
              "    </tr>\n",
              "    <tr>\n",
              "      <th>1</th>\n",
              "      <td>1</td>\n",
              "      <td>187</td>\n",
              "      <td>a copper statue of Christ</td>\n",
              "      <td>Architecturally, the school has a Catholic cha...</td>\n",
              "      <td>What is in front of the Notre Dame Main Building?</td>\n",
              "      <td>2</td>\n",
              "      <td>3</td>\n",
              "      <td>2</td>\n",
              "    </tr>\n",
              "    <tr>\n",
              "      <th>2</th>\n",
              "      <td>2</td>\n",
              "      <td>279</td>\n",
              "      <td>the Main Building</td>\n",
              "      <td>Architecturally, the school has a Catholic cha...</td>\n",
              "      <td>The Basilica of the Sacred heart at Notre Dame...</td>\n",
              "      <td>1</td>\n",
              "      <td>3</td>\n",
              "      <td>3</td>\n",
              "    </tr>\n",
              "    <tr>\n",
              "      <th>3</th>\n",
              "      <td>3</td>\n",
              "      <td>381</td>\n",
              "      <td>a Marian place of prayer and reflection</td>\n",
              "      <td>Architecturally, the school has a Catholic cha...</td>\n",
              "      <td>What is the Grotto at Notre Dame?</td>\n",
              "      <td>4</td>\n",
              "      <td>3</td>\n",
              "      <td>3</td>\n",
              "    </tr>\n",
              "    <tr>\n",
              "      <th>4</th>\n",
              "      <td>4</td>\n",
              "      <td>92</td>\n",
              "      <td>a golden statue of the Virgin Mary</td>\n",
              "      <td>Architecturally, the school has a Catholic cha...</td>\n",
              "      <td>What sits on top of the Main Building at Notre...</td>\n",
              "      <td>1</td>\n",
              "      <td>3</td>\n",
              "      <td>1</td>\n",
              "    </tr>\n",
              "  </tbody>\n",
              "</table>\n",
              "</div>"
            ],
            "text/plain": [
              "   index  answer_start  ... euclid_prediction cosine_prediction\n",
              "0      0           515  ...                 0                 5\n",
              "1      1           187  ...                 3                 2\n",
              "2      2           279  ...                 3                 3\n",
              "3      3           381  ...                 3                 3\n",
              "4      4            92  ...                 3                 1\n",
              "\n",
              "[5 rows x 8 columns]"
            ]
          },
          "metadata": {
            "tags": []
          },
          "execution_count": 114
        }
      ]
    },
    {
      "cell_type": "code",
      "metadata": {
        "id": "YUY00ZLczcHk",
        "colab_type": "code",
        "colab": {
          "base_uri": "https://localhost:8080/",
          "height": 34
        },
        "outputId": "78e31628-3d77-45b5-a5cd-4d4a8e8c20c3"
      },
      "source": [
        "import nltk\n",
        "sentence=\" Hola como estas el dia de hoy.\"\n",
        "\n",
        "tokens=nltk.word_tokenize(sentence)\n",
        "print(tokens)"
      ],
      "execution_count": 122,
      "outputs": [
        {
          "output_type": "stream",
          "text": [
            "['Hola', 'como', 'estas', 'el', 'dia', 'de', 'hoy', '.']\n"
          ],
          "name": "stdout"
        }
      ]
    },
    {
      "cell_type": "code",
      "metadata": {
        "id": "arXQaGu8BRCt",
        "colab_type": "code",
        "colab": {
          "base_uri": "https://localhost:8080/",
          "height": 101
        },
        "outputId": "a39c15dc-3d5b-4267-c816-3a100bd4085c"
      },
      "source": [
        "nltk.download('averaged_perceptron_tagger')\n",
        "tagged=nltk.pos_tag(tokens)\n",
        "print(tagged)"
      ],
      "execution_count": 125,
      "outputs": [
        {
          "output_type": "stream",
          "text": [
            "[nltk_data] Downloading package averaged_perceptron_tagger to\n",
            "[nltk_data]     /root/nltk_data...\n",
            "[nltk_data]   Package averaged_perceptron_tagger is already up-to-\n",
            "[nltk_data]       date!\n",
            "[('Hola', 'NNP'), ('como', 'NN'), ('estas', 'NNS'), ('el', 'VBP'), ('dia', 'NN'), ('de', 'IN'), ('hoy', 'NN'), ('.', '.')]\n"
          ],
          "name": "stdout"
        }
      ]
    },
    {
      "cell_type": "code",
      "metadata": {
        "id": "9_MytxhfBRFi",
        "colab_type": "code",
        "colab": {
          "base_uri": "https://localhost:8080/",
          "height": 101
        },
        "outputId": "5761d571-2630-4f8c-84aa-56c36d6871bf"
      },
      "source": [
        "nltk.download('maxent_ne_chunker')\n",
        "nltk.download('words')\n",
        "entities = nltk.chunk.ne_chunk(tagged)\n",
        "#entities"
      ],
      "execution_count": 129,
      "outputs": [
        {
          "output_type": "stream",
          "text": [
            "[nltk_data] Downloading package maxent_ne_chunker to\n",
            "[nltk_data]     /root/nltk_data...\n",
            "[nltk_data]   Package maxent_ne_chunker is already up-to-date!\n",
            "[nltk_data] Downloading package words to /root/nltk_data...\n",
            "[nltk_data]   Package words is already up-to-date!\n"
          ],
          "name": "stdout"
        }
      ]
    },
    {
      "cell_type": "code",
      "metadata": {
        "id": "6jWYSgEgBRLB",
        "colab_type": "code",
        "colab": {}
      },
      "source": [
        "def to_nltk_tree(node):\n",
        "    if node.n_lefts + node.n_rights > 0:\n",
        "        return Tree(node.orth_, [to_nltk_tree(child) for child in node.children])\n",
        "    else:\n",
        "        return node.orth_"
      ],
      "execution_count": 0,
      "outputs": []
    },
    {
      "cell_type": "code",
      "metadata": {
        "id": "dJshlH5cBRNu",
        "colab_type": "code",
        "colab": {
          "base_uri": "https://localhost:8080/",
          "height": 437
        },
        "outputId": "679bd852-2d1d-40de-b11d-aede470ec497"
      },
      "source": [
        "import spacy\n",
        "from nltk import Tree\n",
        "en_nlp = spacy.load('en')\n",
        "[to_nltk_tree(sent.root).pretty_print()  for sent in en_nlp(contexts[0][2]).sents]"
      ],
      "execution_count": 139,
      "outputs": [
        {
          "output_type": "stream",
          "text": [
            "                                  is                                   \n",
            "  ________________________________|_______________________________      \n",
            " |                   |                             |             with  \n",
            " |                   |                             |              |     \n",
            " |                   in                            |             arms  \n",
            " |        ___________|__________________           |              |     \n",
            " |       |       |       front          |          |           upraised\n",
            " |       |       |         |            |          |              |     \n",
            " |       |       |         of           |        statue          with  \n",
            " |       |       |         |            |      ____|______        |     \n",
            " |       |       |      building      facing  |    |      of    legend \n",
            " |       |       |    _____|______      |     |    |      |       |     \n",
            " ,  immediately and the          main   it    a  copper christ   the   \n",
            "\n",
            "    omnes       \n",
            "  ____|_____     \n",
            " |    |     me  \n",
            " |    |     |    \n",
            " |    |     ad  \n",
            " |    |     |    \n",
            " |    |   venite\n",
            " |    |     |    \n",
            " \"    .     \"   \n",
            "\n"
          ],
          "name": "stdout"
        },
        {
          "output_type": "execute_result",
          "data": {
            "text/plain": [
              "[None, None]"
            ]
          },
          "metadata": {
            "tags": []
          },
          "execution_count": 139
        }
      ]
    },
    {
      "cell_type": "code",
      "metadata": {
        "id": "icQAfuK1BRQW",
        "colab_type": "code",
        "colab": {}
      },
      "source": [
        "#find root for each sentence"
      ],
      "execution_count": 0,
      "outputs": []
    },
    {
      "cell_type": "code",
      "metadata": {
        "id": "BluG4kJABRTB",
        "colab_type": "code",
        "colab": {}
      },
      "source": [
        "# compare to the question root"
      ],
      "execution_count": 0,
      "outputs": []
    },
    {
      "cell_type": "code",
      "metadata": {
        "id": "rtHJfJIKBRWa",
        "colab_type": "code",
        "colab": {}
      },
      "source": [
        ""
      ],
      "execution_count": 0,
      "outputs": []
    },
    {
      "cell_type": "code",
      "metadata": {
        "id": "tD0y53JQ8wR1",
        "colab_type": "code",
        "colab": {}
      },
      "source": [
        "import pickle\n",
        "with open(\"/content/drive/My Drive/df_with_predictions.pkl\", 'wb') as handle:\n",
        "    pickle.dump(train_data, handle)"
      ],
      "execution_count": 0,
      "outputs": []
    },
    {
      "cell_type": "code",
      "metadata": {
        "id": "frJaN7YZFFjb",
        "colab_type": "code",
        "colab": {}
      },
      "source": [
        ""
      ],
      "execution_count": 0,
      "outputs": []
    }
  ]
}
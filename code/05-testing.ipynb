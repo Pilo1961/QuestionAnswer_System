{
  "nbformat": 4,
  "nbformat_minor": 0,
  "metadata": {
    "colab": {
      "name": "Overview of Colaboratory Features",
      "provenance": [],
      "collapsed_sections": [],
      "include_colab_link": true
    },
    "kernelspec": {
      "display_name": "Python 3",
      "name": "python3"
    },
    "accelerator": "GPU"
  },
  "cells": [
    {
      "cell_type": "markdown",
      "metadata": {
        "id": "view-in-github",
        "colab_type": "text"
      },
      "source": [
        "<a href=\"https://colab.research.google.com/github/Pilo1961/QuestionAnswer_System/blob/master/code/05-testing.ipynb\" target=\"_parent\"><img src=\"https://colab.research.google.com/assets/colab-badge.svg\" alt=\"Open In Colab\"/></a>"
      ]
    },
    {
      "cell_type": "markdown",
      "metadata": {
        "id": "vod2GM6Y9Idr",
        "colab_type": "text"
      },
      "source": [
        "# Test notebook\n",
        "En este cuaderno hacemos todo el pipeline y predicciones para los datos de prueba.\n",
        "Se puede empezar desde la sección *load pkl data* si ya tenemos generados los pickles con los datos"
      ]
    },
    {
      "cell_type": "markdown",
      "metadata": {
        "id": "KgBIw8SRTSTj",
        "colab_type": "text"
      },
      "source": [
        "# Datos de prueba\n",
        "En este cuaderno hacemos todo el pipeline para los datos de prueba."
      ]
    },
    {
      "cell_type": "code",
      "metadata": {
        "id": "Y1xq0eit9JCv",
        "colab_type": "code",
        "colab": {}
      },
      "source": [
        "import numpy as np\n",
        "import pandas as pd\n",
        "import json\n",
        "import pickle"
      ],
      "execution_count": 0,
      "outputs": []
    },
    {
      "cell_type": "code",
      "metadata": {
        "id": "E2wOhRJI9Jdq",
        "colab_type": "code",
        "outputId": "7b8d2f86-35c1-4bb7-86c1-e46e1648697c",
        "colab": {
          "base_uri": "https://localhost:8080/",
          "height": 121
        }
      },
      "source": [
        "#load data from google drive\n",
        "from google.colab import drive\n",
        "drive.mount('/content/drive',force_remount=True)"
      ],
      "execution_count": 2,
      "outputs": [
        {
          "output_type": "stream",
          "text": [
            "Go to this URL in a browser: https://accounts.google.com/o/oauth2/auth?client_id=947318989803-6bn6qk8qdgf4n4g3pfee6491hc0brc4i.apps.googleusercontent.com&redirect_uri=urn%3aietf%3awg%3aoauth%3a2.0%3aoob&response_type=code&scope=email%20https%3a%2f%2fwww.googleapis.com%2fauth%2fdocs.test%20https%3a%2f%2fwww.googleapis.com%2fauth%2fdrive%20https%3a%2f%2fwww.googleapis.com%2fauth%2fdrive.photos.readonly%20https%3a%2f%2fwww.googleapis.com%2fauth%2fpeopleapi.readonly\n",
            "\n",
            "Enter your authorization code:\n",
            "··········\n",
            "Mounted at /content/drive\n"
          ],
          "name": "stdout"
        }
      ]
    },
    {
      "cell_type": "markdown",
      "metadata": {
        "id": "d6dUzje49XR5",
        "colab_type": "text"
      },
      "source": [
        "# Read data"
      ]
    },
    {
      "cell_type": "code",
      "metadata": {
        "id": "0f-JI5eG9RmH",
        "colab_type": "code",
        "outputId": "a2d89143-756c-4200-c1b0-85089ba364fd",
        "colab": {
          "base_uri": "https://localhost:8080/",
          "height": 212
        }
      },
      "source": [
        "# Lectura de datos\n",
        "path= \"/content/drive/My Drive/QA/dev-v1.0.json\"\n",
        "with open(path) as f: \n",
        "    d = json.load(f) \n",
        "\n",
        "df = pd.json_normalize(d['data'])  \n",
        "print(df.shape)\n",
        "df.head()"
      ],
      "execution_count": 59,
      "outputs": [
        {
          "output_type": "stream",
          "text": [
            "(48, 2)\n"
          ],
          "name": "stdout"
        },
        {
          "output_type": "execute_result",
          "data": {
            "text/html": [
              "<div>\n",
              "<style scoped>\n",
              "    .dataframe tbody tr th:only-of-type {\n",
              "        vertical-align: middle;\n",
              "    }\n",
              "\n",
              "    .dataframe tbody tr th {\n",
              "        vertical-align: top;\n",
              "    }\n",
              "\n",
              "    .dataframe thead th {\n",
              "        text-align: right;\n",
              "    }\n",
              "</style>\n",
              "<table border=\"1\" class=\"dataframe\">\n",
              "  <thead>\n",
              "    <tr style=\"text-align: right;\">\n",
              "      <th></th>\n",
              "      <th>paragraphs</th>\n",
              "      <th>title</th>\n",
              "    </tr>\n",
              "  </thead>\n",
              "  <tbody>\n",
              "    <tr>\n",
              "      <th>0</th>\n",
              "      <td>[{'context': 'Super Bowl 50 was an American fo...</td>\n",
              "      <td>Super_Bowl_50</td>\n",
              "    </tr>\n",
              "    <tr>\n",
              "      <th>1</th>\n",
              "      <td>[{'context': 'One of the most famous people bo...</td>\n",
              "      <td>Warsaw</td>\n",
              "    </tr>\n",
              "    <tr>\n",
              "      <th>2</th>\n",
              "      <td>[{'context': 'The Normans (Norman: Nourmands; ...</td>\n",
              "      <td>Normans</td>\n",
              "    </tr>\n",
              "    <tr>\n",
              "      <th>3</th>\n",
              "      <td>[{'context': 'Nikola Tesla (Serbian Cyrillic: ...</td>\n",
              "      <td>Nikola_Tesla</td>\n",
              "    </tr>\n",
              "    <tr>\n",
              "      <th>4</th>\n",
              "      <td>[{'context': 'Computational complexity theory ...</td>\n",
              "      <td>Computational_complexity_theory</td>\n",
              "    </tr>\n",
              "  </tbody>\n",
              "</table>\n",
              "</div>"
            ],
            "text/plain": [
              "                                          paragraphs                            title\n",
              "0  [{'context': 'Super Bowl 50 was an American fo...                    Super_Bowl_50\n",
              "1  [{'context': 'One of the most famous people bo...                           Warsaw\n",
              "2  [{'context': 'The Normans (Norman: Nourmands; ...                          Normans\n",
              "3  [{'context': 'Nikola Tesla (Serbian Cyrillic: ...                     Nikola_Tesla\n",
              "4  [{'context': 'Computational complexity theory ...  Computational_complexity_theory"
            ]
          },
          "metadata": {
            "tags": []
          },
          "execution_count": 59
        }
      ]
    },
    {
      "cell_type": "code",
      "metadata": {
        "id": "k4wrYMrh9emY",
        "colab_type": "code",
        "outputId": "b7848c37-8c6b-466a-8ffc-e83078eaf441",
        "colab": {
          "base_uri": "https://localhost:8080/",
          "height": 736
        }
      },
      "source": [
        "# Pasamos del formato json al formato tabular\n",
        "df=pd.json_normalize(data=d['data'],\n",
        "                        record_path=['paragraphs','qas','answers'],\n",
        "                        record_prefix=None,\n",
        "                        meta_prefix=None,\n",
        "                        meta=['title',\n",
        "                              ['paragraph','context'],\n",
        "                              ['paragraph','qas','question'],\n",
        "                              ['paragraph','qas','id']])\n",
        "\n",
        "df.rename(columns={'paragraph.context':'context','paragraph.qas.question':'question','paragraph.qas.id':'id'},inplace=True)\n",
        "print(df.shape)\n",
        "df.head()"
      ],
      "execution_count": 60,
      "outputs": [
        {
          "output_type": "stream",
          "text": [
            "(33615, 6)\n"
          ],
          "name": "stdout"
        },
        {
          "output_type": "execute_result",
          "data": {
            "text/html": [
              "<div>\n",
              "<style scoped>\n",
              "    .dataframe tbody tr th:only-of-type {\n",
              "        vertical-align: middle;\n",
              "    }\n",
              "\n",
              "    .dataframe tbody tr th {\n",
              "        vertical-align: top;\n",
              "    }\n",
              "\n",
              "    .dataframe thead th {\n",
              "        text-align: right;\n",
              "    }\n",
              "</style>\n",
              "<table border=\"1\" class=\"dataframe\">\n",
              "  <thead>\n",
              "    <tr style=\"text-align: right;\">\n",
              "      <th></th>\n",
              "      <th>answer_start</th>\n",
              "      <th>text</th>\n",
              "      <th>title</th>\n",
              "      <th>context</th>\n",
              "      <th>question</th>\n",
              "      <th>id</th>\n",
              "    </tr>\n",
              "  </thead>\n",
              "  <tbody>\n",
              "    <tr>\n",
              "      <th>0</th>\n",
              "      <td>176</td>\n",
              "      <td>Denver Broncos</td>\n",
              "      <td>Super_Bowl_50</td>\n",
              "      <td>Super Bowl 50 was an American football game to...</td>\n",
              "      <td>Which NFL team represented the AFC at Super Bo...</td>\n",
              "      <td>56be4db0acb8001400a502ec</td>\n",
              "    </tr>\n",
              "    <tr>\n",
              "      <th>1</th>\n",
              "      <td>177</td>\n",
              "      <td>Denver Broncos</td>\n",
              "      <td>Super_Bowl_50</td>\n",
              "      <td>Super Bowl 50 was an American football game to...</td>\n",
              "      <td>Which NFL team represented the AFC at Super Bo...</td>\n",
              "      <td>56be4db0acb8001400a502ec</td>\n",
              "    </tr>\n",
              "    <tr>\n",
              "      <th>2</th>\n",
              "      <td>177</td>\n",
              "      <td>Denver Broncos</td>\n",
              "      <td>Super_Bowl_50</td>\n",
              "      <td>Super Bowl 50 was an American football game to...</td>\n",
              "      <td>Which NFL team represented the AFC at Super Bo...</td>\n",
              "      <td>56be4db0acb8001400a502ec</td>\n",
              "    </tr>\n",
              "    <tr>\n",
              "      <th>3</th>\n",
              "      <td>248</td>\n",
              "      <td>Carolina Panthers</td>\n",
              "      <td>Super_Bowl_50</td>\n",
              "      <td>Super Bowl 50 was an American football game to...</td>\n",
              "      <td>Which NFL team represented the NFC at Super Bo...</td>\n",
              "      <td>56be4db0acb8001400a502ed</td>\n",
              "    </tr>\n",
              "    <tr>\n",
              "      <th>4</th>\n",
              "      <td>249</td>\n",
              "      <td>Carolina Panthers</td>\n",
              "      <td>Super_Bowl_50</td>\n",
              "      <td>Super Bowl 50 was an American football game to...</td>\n",
              "      <td>Which NFL team represented the NFC at Super Bo...</td>\n",
              "      <td>56be4db0acb8001400a502ed</td>\n",
              "    </tr>\n",
              "  </tbody>\n",
              "</table>\n",
              "</div>"
            ],
            "text/plain": [
              "   answer_start  ...                        id\n",
              "0           176  ...  56be4db0acb8001400a502ec\n",
              "1           177  ...  56be4db0acb8001400a502ec\n",
              "2           177  ...  56be4db0acb8001400a502ec\n",
              "3           248  ...  56be4db0acb8001400a502ed\n",
              "4           249  ...  56be4db0acb8001400a502ed\n",
              "\n",
              "[5 rows x 6 columns]"
            ]
          },
          "metadata": {
            "tags": []
          },
          "execution_count": 60
        }
      ]
    },
    {
      "cell_type": "code",
      "metadata": {
        "id": "Sy-5MY3y9l0s",
        "colab_type": "code",
        "outputId": "7655e61e-f19c-4d5e-d011-ec1eae346aa4",
        "colab": {
          "base_uri": "https://localhost:8080/",
          "height": 168
        }
      },
      "source": [
        "print(\"dimensiones df\",df.shape)\n",
        "print(\"Nas \\n\", df.isna().sum())"
      ],
      "execution_count": 61,
      "outputs": [
        {
          "output_type": "stream",
          "text": [
            "dimensiones df (33615, 6)\n",
            "Nas \n",
            " answer_start    0\n",
            "text            0\n",
            "title           0\n",
            "context         0\n",
            "question        0\n",
            "id              0\n",
            "dtype: int64\n"
          ],
          "name": "stdout"
        }
      ]
    },
    {
      "cell_type": "markdown",
      "metadata": {
        "id": "BukwQOOLFEPb",
        "colab_type": "text"
      },
      "source": [
        "### Observaciones\n",
        "* Tenemos 33615 pregutnas en los datos de prueba  \n",
        "* No tenemos valores faltantes\n",
        "\n",
        "### Tokenizamos oraciones"
      ]
    },
    {
      "cell_type": "code",
      "metadata": {
        "id": "E0tfMvCjK6mE",
        "colab_type": "code",
        "colab": {
          "base_uri": "https://localhost:8080/",
          "height": 50
        },
        "outputId": "8beedde6-1458-42eb-b350-d72b25a8daa6"
      },
      "source": [
        "import nltk\n",
        "nltk.download('punkt')\n",
        "from nltk.tokenize import sent_tokenize, word_tokenize"
      ],
      "execution_count": 62,
      "outputs": [
        {
          "output_type": "stream",
          "text": [
            "[nltk_data] Downloading package punkt to /root/nltk_data...\n",
            "[nltk_data]   Package punkt is already up-to-date!\n"
          ],
          "name": "stdout"
        }
      ]
    },
    {
      "cell_type": "code",
      "metadata": {
        "id": "7GhBkoRxK7kC",
        "colab_type": "code",
        "colab": {}
      },
      "source": [
        "# Tokeniza datos \n",
        "#Hace cada oracion un token\n",
        "#Convierte todo el texto a minusculas\n",
        "contextos=df['context'].unique()\n",
        "data=[]\n",
        "for cont in contextos: # para cada contexto\n",
        "  sample=cont\n",
        "  for sent in sent_tokenize(sample): #Extrae las oraciones\n",
        "    data.append(sent.lower())"
      ],
      "execution_count": 0,
      "outputs": []
    },
    {
      "cell_type": "code",
      "metadata": {
        "id": "ujdi4jYHK7nM",
        "colab_type": "code",
        "colab": {
          "base_uri": "https://localhost:8080/",
          "height": 138
        },
        "outputId": "4888dd5d-b195-428f-ffc6-f2fbce8eaad3"
      },
      "source": [
        "#Hay 10458 oraciones en el test, cada una es un token en la lista data\n",
        "#Las guardamos en un arreglo llamado data\n",
        "print(len(data))\n",
        "data[:5]"
      ],
      "execution_count": 64,
      "outputs": [
        {
          "output_type": "stream",
          "text": [
            "10458\n"
          ],
          "name": "stdout"
        },
        {
          "output_type": "execute_result",
          "data": {
            "text/plain": [
              "['super bowl 50 was an american football game to determine the champion of the national football league (nfl) for the 2015 season.',\n",
              " 'the american football conference (afc) champion denver broncos defeated the national football conference (nfc) champion carolina panthers 24–10 to earn their third super bowl title.',\n",
              " \"the game was played on february 7, 2016, at levi's stadium in the san francisco bay area at santa clara, california.\",\n",
              " 'as this was the 50th super bowl, the league emphasized the \"golden anniversary\" with various gold-themed initiatives, as well as temporarily suspending the tradition of naming each super bowl game with roman numerals (under which the game would have been known as \"super bowl l\"), so that the logo could prominently feature the arabic numerals 50.',\n",
              " 'the panthers finished the regular season with a 15–1 record, and quarterback cam newton was named the nfl most valuable player (mvp).']"
            ]
          },
          "metadata": {
            "tags": []
          },
          "execution_count": 64
        }
      ]
    },
    {
      "cell_type": "markdown",
      "metadata": {
        "id": "oP5iKg5JHTWV",
        "colab_type": "text"
      },
      "source": [
        "# Embeddings de oraciones"
      ]
    },
    {
      "cell_type": "markdown",
      "metadata": {
        "id": "IiOxAvQpHbV3",
        "colab_type": "text"
      },
      "source": [
        "En el cuaderno de embeddings habiamos entrenado los modelos para los datos de prueba. Usamos el mismo vocabulario que para los datos de entrenamiento y tenemos el diccionario guardado en un pickle."
      ]
    },
    {
      "cell_type": "code",
      "metadata": {
        "id": "Isz40ntWGTFD",
        "colab_type": "code",
        "colab": {}
      },
      "source": [
        "#load train data from pickle\n",
        "with open(\"/content/drive/My Drive/QA/test_dict.pkl\", \"rb\") as f:\n",
        "    test_dict = pickle.load(f)\n",
        "\n",
        "with open(\"/content/drive/My Drive/QA/test_question.pkl\", \"rb\") as f:\n",
        "    test_question = pickle.load(f)"
      ],
      "execution_count": 0,
      "outputs": []
    },
    {
      "cell_type": "code",
      "metadata": {
        "id": "QfymbnVaGZ4W",
        "colab_type": "code",
        "colab": {
          "base_uri": "https://localhost:8080/",
          "height": 138
        },
        "outputId": "1fda0bcd-5ae6-46ac-e1f9-f7dc9b74d433"
      },
      "source": [
        "#Ejemplo del diccionario.\n",
        "# Muestra una oracion y el embedding\n",
        "i=1459\n",
        "\n",
        "print(\"Longitud del diccionario: \",len(test_dict))\n",
        "print(\"Oracion: \")\n",
        "print(data[i])\n",
        "print(\"Embedding: \")\n",
        "test_dict[data[i]]"
      ],
      "execution_count": 66,
      "outputs": [
        {
          "output_type": "stream",
          "text": [
            "Longitud del diccionario:  10389\n",
            "Oracion: \n",
            "teachers in wales can be registered members of trade unions such as atl, nut or nasuwt and reports in recent years suggest that the average age of teachers in wales is falling with teachers being younger than in previous years.\n",
            "Embedding: \n"
          ],
          "name": "stdout"
        },
        {
          "output_type": "execute_result",
          "data": {
            "text/plain": [
              "array([ 0.11166224,  0.11551004,  0.09800068, ...,  0.15465239,\n",
              "       -0.03260973,  0.05560881], dtype=float32)"
            ]
          },
          "metadata": {
            "tags": []
          },
          "execution_count": 66
        }
      ]
    },
    {
      "cell_type": "markdown",
      "metadata": {
        "id": "gmx6IyhQHyVK",
        "colab_type": "text"
      },
      "source": [
        "# Transformations"
      ]
    },
    {
      "cell_type": "code",
      "metadata": {
        "id": "vF-0vP2PAF1o",
        "colab_type": "code",
        "colab": {}
      },
      "source": [
        "#Genera una lista de listas para los contextos\n",
        "#y para los embeddings de los contextos\n",
        "\n",
        "contexts=[]\n",
        "context_embedding=[]\n",
        "last_context=[]\n",
        "\n",
        "for context in df['context']:\n",
        "\n",
        "  if context == last_context:# Si es el mismo contexto usa lo que ya calculamos\n",
        "    contexts.append(temp)\n",
        "    context_embedding.append(temp_emb)\n",
        "    continue\n",
        "  \n",
        "  temp=[]\n",
        "  temp_emb=[]\n",
        "  for sent in sent_tokenize(context):\n",
        "    s=sent.lower()\n",
        "    temp.append(s)\n",
        "    e=test_dict[s]\n",
        "    temp_emb.append(e)\n",
        "  \n",
        "  contexts.append(temp)\n",
        "  context_embedding.append(temp_emb)\n",
        "  last_context=context\n"
      ],
      "execution_count": 0,
      "outputs": []
    },
    {
      "cell_type": "code",
      "metadata": {
        "id": "hQknXxsyARzA",
        "colab_type": "code",
        "outputId": "231818b3-1e42-4cda-e43e-fe45ea167d81",
        "colab": {
          "base_uri": "https://localhost:8080/",
          "height": 67
        }
      },
      "source": [
        "# Todas las variables tienen la misma longitud que el df original\n",
        "print(len(context_embedding))\n",
        "print(len(contexts))\n",
        "print(len(test_question))"
      ],
      "execution_count": 68,
      "outputs": [
        {
          "output_type": "stream",
          "text": [
            "33615\n",
            "33615\n",
            "33615\n"
          ],
          "name": "stdout"
        }
      ]
    },
    {
      "cell_type": "code",
      "metadata": {
        "id": "zksXg8PeAXby",
        "colab_type": "code",
        "outputId": "e1b4ec72-b32e-4eaa-bc5b-d28a90433372",
        "colab": {
          "base_uri": "https://localhost:8080/",
          "height": 121
        }
      },
      "source": [
        "#Busca la oracion que tiene la respuesta literal dentro del contexto\n",
        "#guarda la posicion de la oracion dentro del contexto\n",
        "# Si no la encuentra deja target = -1\n",
        "df[\"target\"]=-1\n",
        "for i in range (len(df)):\n",
        "  respuesta=df[\"text\"][i].lower()\n",
        "  for j, sent in enumerate(contexts[i]):\n",
        "    if respuesta in sent: \n",
        "      df[\"target\"][i] = j\n",
        "      break\n"
      ],
      "execution_count": 69,
      "outputs": [
        {
          "output_type": "stream",
          "text": [
            "/usr/local/lib/python3.6/dist-packages/ipykernel_launcher.py:9: SettingWithCopyWarning: \n",
            "A value is trying to be set on a copy of a slice from a DataFrame\n",
            "\n",
            "See the caveats in the documentation: https://pandas.pydata.org/pandas-docs/stable/user_guide/indexing.html#returning-a-view-versus-a-copy\n",
            "  if __name__ == '__main__':\n"
          ],
          "name": "stderr"
        }
      ]
    },
    {
      "cell_type": "code",
      "metadata": {
        "id": "3lDPa3agAjUr",
        "colab_type": "code",
        "outputId": "b82be158-575a-4403-8f52-32d2b99ba9a9",
        "colab": {
          "base_uri": "https://localhost:8080/",
          "height": 34
        }
      },
      "source": [
        "#casos que no se encontro la respuesta\n",
        "sum(df[\"target\"]==-1)"
      ],
      "execution_count": 70,
      "outputs": [
        {
          "output_type": "execute_result",
          "data": {
            "text/plain": [
              "213"
            ]
          },
          "metadata": {
            "tags": []
          },
          "execution_count": 70
        }
      ]
    },
    {
      "cell_type": "code",
      "metadata": {
        "id": "rNjhNgEuAl4t",
        "colab_type": "code",
        "colab": {}
      },
      "source": [
        "#quitamos las filas que no tienen target en el df\n",
        "index=np.where(df[\"target\"]==-1)\n",
        "contexts=np.delete(contexts,index,axis=0)\n",
        "context_embedding=np.delete(context_embedding,index,axis=0)\n",
        "test_question=np.delete(test_question,index,axis=0)\n",
        "\n",
        "#quitamos las filas que no tienen target en el df\n",
        "index=df[\"target\"]==-1\n",
        "df=df[-index].reset_index()"
      ],
      "execution_count": 0,
      "outputs": []
    },
    {
      "cell_type": "code",
      "metadata": {
        "id": "GrweBdXXA1Zn",
        "colab_type": "code",
        "outputId": "17020485-d772-4bac-ba75-9b331144d286",
        "colab": {
          "base_uri": "https://localhost:8080/",
          "height": 84
        }
      },
      "source": [
        "# La nueva longitud de los datos\n",
        "print(df.shape)\n",
        "print(len(context_embedding))\n",
        "print(len(contexts))\n",
        "print(len(test_question))"
      ],
      "execution_count": 72,
      "outputs": [
        {
          "output_type": "stream",
          "text": [
            "(33402, 8)\n",
            "33402\n",
            "33402\n",
            "33402\n"
          ],
          "name": "stdout"
        }
      ]
    },
    {
      "cell_type": "code",
      "metadata": {
        "id": "C0GfXFW0A6h7",
        "colab_type": "code",
        "outputId": "ec5b83da-a23f-41cc-bce8-98b91ec06d57",
        "colab": {
          "base_uri": "https://localhost:8080/",
          "height": 281
        }
      },
      "source": [
        "plt.hist(df[\"target\"],bins=20)\n",
        "plt.title(\"Distribucion de variable target\")\n",
        "plt.show()"
      ],
      "execution_count": 74,
      "outputs": [
        {
          "output_type": "display_data",
          "data": {
            "image/png": "[encoded data removed]",
            "text/plain": [
              "<Figure size 432x288 with 1 Axes>"
            ]
          },
          "metadata": {
            "tags": [],
            "needs_background": "light"
          }
        }
      ]
    },
    {
      "cell_type": "code",
      "metadata": {
        "id": "GabdiyfhA-eP",
        "colab_type": "code",
        "outputId": "52a5d979-1517-4bcf-d028-e8a2c3ad0a97",
        "colab": {
          "base_uri": "https://localhost:8080/",
          "height": 301
        }
      },
      "source": [
        "print(np.quantile(df[\"target\"],.99))\n",
        "pd.DataFrame(df[\"target\"]).describe()"
      ],
      "execution_count": 76,
      "outputs": [
        {
          "output_type": "stream",
          "text": [
            "8.0\n"
          ],
          "name": "stdout"
        },
        {
          "output_type": "execute_result",
          "data": {
            "text/html": [
              "<div>\n",
              "<style scoped>\n",
              "    .dataframe tbody tr th:only-of-type {\n",
              "        vertical-align: middle;\n",
              "    }\n",
              "\n",
              "    .dataframe tbody tr th {\n",
              "        vertical-align: top;\n",
              "    }\n",
              "\n",
              "    .dataframe thead th {\n",
              "        text-align: right;\n",
              "    }\n",
              "</style>\n",
              "<table border=\"1\" class=\"dataframe\">\n",
              "  <thead>\n",
              "    <tr style=\"text-align: right;\">\n",
              "      <th></th>\n",
              "      <th>target</th>\n",
              "    </tr>\n",
              "  </thead>\n",
              "  <tbody>\n",
              "    <tr>\n",
              "      <th>count</th>\n",
              "      <td>33402.000000</td>\n",
              "    </tr>\n",
              "    <tr>\n",
              "      <th>mean</th>\n",
              "      <td>1.630262</td>\n",
              "    </tr>\n",
              "    <tr>\n",
              "      <th>std</th>\n",
              "      <td>1.833376</td>\n",
              "    </tr>\n",
              "    <tr>\n",
              "      <th>min</th>\n",
              "      <td>0.000000</td>\n",
              "    </tr>\n",
              "    <tr>\n",
              "      <th>25%</th>\n",
              "      <td>0.000000</td>\n",
              "    </tr>\n",
              "    <tr>\n",
              "      <th>50%</th>\n",
              "      <td>1.000000</td>\n",
              "    </tr>\n",
              "    <tr>\n",
              "      <th>75%</th>\n",
              "      <td>3.000000</td>\n",
              "    </tr>\n",
              "    <tr>\n",
              "      <th>max</th>\n",
              "      <td>27.000000</td>\n",
              "    </tr>\n",
              "  </tbody>\n",
              "</table>\n",
              "</div>"
            ],
            "text/plain": [
              "             target\n",
              "count  33402.000000\n",
              "mean       1.630262\n",
              "std        1.833376\n",
              "min        0.000000\n",
              "25%        0.000000\n",
              "50%        1.000000\n",
              "75%        3.000000\n",
              "max       27.000000"
            ]
          },
          "metadata": {
            "tags": []
          },
          "execution_count": 76
        }
      ]
    },
    {
      "cell_type": "markdown",
      "metadata": {
        "id": "0mLpfQJtH5rv",
        "colab_type": "text"
      },
      "source": [
        "# Feature engineering"
      ]
    },
    {
      "cell_type": "code",
      "metadata": {
        "id": "MRY8k6ONBCiF",
        "colab_type": "code",
        "colab": {}
      },
      "source": [
        "# Definimos las distancias a utilizar\n",
        "norma=lambda x:np.sqrt(sum(x*x))\n",
        "distancia_coseno=lambda x,y: 1-(sum(x*y)/(norma(x)*norma(y)))\n",
        "distancia_euclidiana=lambda x,y: norma(x-y)"
      ],
      "execution_count": 0,
      "outputs": []
    },
    {
      "cell_type": "code",
      "metadata": {
        "id": "2kkY7RP0BFT-",
        "colab_type": "code",
        "outputId": "c9a4db82-e694-42da-d036-fb0130599a23",
        "colab": {
          "base_uri": "https://localhost:8080/",
          "height": 134
        }
      },
      "source": [
        "# Calcula la distancia coseno y la euclidiana entre las oraciones del contexto y la pregunta\n",
        "# Devuevle un array target con el indice de la oracion con la minima distancia\n",
        "euclid_distance_target=[]\n",
        "cosine_distance_target=[]\n",
        "euclid_distance=[]\n",
        "cosine_distance=[]\n",
        "\n",
        "for i in range(len(df)):\n",
        "  dc_min=1000\n",
        "  de_min=1000\n",
        "  temp_c=[]\n",
        "  temp_e=[]\n",
        "  for j, sent_emb in enumerate(context_embedding[i]):\n",
        "    dist_euc=distancia_euclidiana(sent_emb,test_question[i])\n",
        "    dist_cos=distancia_coseno(sent_emb,test_question[i])  \n",
        "    temp_c.append(dist_cos)\n",
        "    temp_e.append(dist_euc)\n",
        "\n",
        "  euclid_distance_target.append(np.argmin(temp_e))\n",
        "  cosine_distance_target.append(np.argmin(temp_c))\n",
        "  euclid_distance.append(temp_e)\n",
        "  cosine_distance.append(temp_c)\n",
        "  if i%5000==0: print(i)"
      ],
      "execution_count": 79,
      "outputs": [
        {
          "output_type": "stream",
          "text": [
            "0\n",
            "5000\n",
            "10000\n",
            "15000\n",
            "20000\n",
            "25000\n",
            "30000\n"
          ],
          "name": "stdout"
        }
      ]
    },
    {
      "cell_type": "code",
      "metadata": {
        "id": "POBVTuAHBOIk",
        "colab_type": "code",
        "colab": {}
      },
      "source": [
        "df[\"euclid_prediction\"]=euclid_distance_target\n",
        "df[\"cosine_prediction\"]=cosine_distance_target"
      ],
      "execution_count": 0,
      "outputs": []
    },
    {
      "cell_type": "code",
      "metadata": {
        "id": "06xz04iFBpVK",
        "colab_type": "code",
        "colab": {}
      },
      "source": [
        "import pickle\n",
        "\n",
        "with open(\"/content/drive/My Drive/QA/dist_cosine_test.pkl\", 'wb') as handle:\n",
        "    pickle.dump(cosine_distance, handle)\n",
        "\n",
        "with open(\"/content/drive/My Drive/QA/dist_euclid_test.pkl\", 'wb') as handle:\n",
        "    pickle.dump(euclid_distance, handle)"
      ],
      "execution_count": 0,
      "outputs": []
    },
    {
      "cell_type": "code",
      "metadata": {
        "id": "rzicPwfyBYcj",
        "colab_type": "code",
        "outputId": "fe9f2f85-4e6f-466e-b9a6-b18ed9c16204",
        "colab": {
          "base_uri": "https://localhost:8080/",
          "height": 50
        }
      },
      "source": [
        "#Checa si la oracion que minimiza la distancia es la misma que la oracion target\n",
        "euclid=0\n",
        "cosine=0\n",
        "for i in range(len(df)):\n",
        "  right=df[\"target\"][i]\n",
        "  e=df[\"euclid_prediction\"][i]\n",
        "  c=df[\"cosine_prediction\"][i]\n",
        "  if(right==e):euclid+=1\n",
        "  if(right==c):cosine+=1  \n",
        "\n",
        "print(\"Cosine accuracy\",cosine/len(df))\n",
        "print(\"Euclidian accuracy\",euclid/len(df))"
      ],
      "execution_count": 82,
      "outputs": [
        {
          "output_type": "stream",
          "text": [
            "Cosine accuracy 0.600862223818933\n",
            "Euclidian accuracy 0.37036704388958747\n"
          ],
          "name": "stdout"
        }
      ]
    },
    {
      "cell_type": "markdown",
      "metadata": {
        "id": "ktEZAFqgPypB",
        "colab_type": "text"
      },
      "source": [
        "### Prediccion de aprendizaje no supervizado\n",
        "Revisa en que porcentaje de los casos del test coincide que la oración que minimiza la distancia es la oración que contiene la respuesta.\n",
        "**Accuracy:**\n",
        "* 60% usando distancia coseno\n",
        "* 37% usando distancia euclidiana"
      ]
    },
    {
      "cell_type": "code",
      "metadata": {
        "id": "v-VgKrWrBxoU",
        "colab_type": "code",
        "outputId": "ea7a1b5b-a2a0-4987-ba0d-b645312f6566",
        "colab": {
          "base_uri": "https://localhost:8080/",
          "height": 235
        }
      },
      "source": [
        "#Celda para verificar consistencia\n",
        "# El target y el index del mínimo deben de coincidir para cualquier i\n",
        "i=np.random.randint(low=0,high=len(df))\n",
        "\n",
        "print(\"i: \",i)\n",
        "print(\"\\n\")\n",
        "print(\"Distancia Euclidiana\")\n",
        "print(euclid_distance[i])\n",
        "print(\"Target: \", euclid_distance_target[i])\n",
        "print(\"Index del minimo:\",np.argmin(euclid_distance[i]))\n",
        "print(\"\\n\")\n",
        "print(\"Distancia Coseno\")\n",
        "print(cosine_distance[i])\n",
        "print(\"Target: \",cosine_distance_target[i])\n",
        "print(\"Index del minimo:\",np.argmin(cosine_distance[i]))"
      ],
      "execution_count": 86,
      "outputs": [
        {
          "output_type": "stream",
          "text": [
            "i:  18\n",
            "\n",
            "\n",
            "Distancia Euclidiana\n",
            "[4.75651837762449, 5.1710093046531265, 4.707001527234436, 5.454110317986277]\n",
            "Target:  2\n",
            "Index del minimo: 2\n",
            "\n",
            "\n",
            "Distancia Coseno\n",
            "[0.4714171165529033, 0.5630912257177372, 0.4877259776630214, 0.5526839301169767]\n",
            "Target:  0\n",
            "Index del minimo: 0\n"
          ],
          "name": "stdout"
        }
      ]
    },
    {
      "cell_type": "code",
      "metadata": {
        "id": "d2pgRz_nB0Fr",
        "colab_type": "code",
        "colab": {}
      },
      "source": [
        "df_context_embedding=pd.DataFrame(context_embedding,columns=[\"context_embedding\"])"
      ],
      "execution_count": 0,
      "outputs": []
    },
    {
      "cell_type": "markdown",
      "metadata": {
        "id": "MZ943R5GIBfY",
        "colab_type": "text"
      },
      "source": [
        "### Root analysis"
      ]
    },
    {
      "cell_type": "code",
      "metadata": {
        "id": "wWrSnO-qB9fD",
        "colab_type": "code",
        "outputId": "8cef0bb4-dd87-4e00-f8ff-9f0e7586efc8",
        "colab": {
          "base_uri": "https://localhost:8080/",
          "height": 507
        }
      },
      "source": [
        "#Ejemplo de la estructura de una oración\n",
        "\n",
        "import spacy\n",
        "from nltk import Tree\n",
        "from nltk.stem.lancaster import LancasterStemmer\n",
        "st = LancasterStemmer()\n",
        "\n",
        "en_nlp = spacy.load('en')\n",
        "doc = en_nlp(contexts[0][3])\n",
        "print(contexts[0][3])\n",
        "def to_nltk_tree(node):\n",
        "    if node.n_lefts + node.n_rights > 0:\n",
        "        return Tree(node.orth_, [to_nltk_tree(child) for child in node.children])\n",
        "    else:\n",
        "        return node.orth_\n",
        "\n",
        "\n",
        "[to_nltk_tree(sent.root).pretty_print() for sent in doc.sents]"
      ],
      "execution_count": 87,
      "outputs": [
        {
          "output_type": "stream",
          "text": [
            "as this was the 50th super bowl, the league emphasized the \"golden anniversary\" with various gold-themed initiatives, as well as temporarily suspending the tradition of naming each super bowl game with roman numerals (under which the game would have been known as \"super bowl l\"), so that the logo could prominently feature the arabic numerals 50.\n",
            "                                                                                                                          emphasized                                                                                                                                                \n",
            "  ____________________________________________________________________________________________________________________________|_________________________________                                                                                                                     \n",
            " |   |            |               |                                                                                                                        anniversary                                                                                                              \n",
            " |   |            |               |      _______________________________________________________________________________________________________________________|__________________________________________                                                                          \n",
            " |   |            |               |     |   |    |     |   |               |                      |                                                                                                    suspending                                                                   \n",
            " |   |            |               |     |   |    |     |   |               |                      |             ___________________________________________________________________________________________|____________________________________________                             \n",
            " |   |            |               |     |   |    |     |   |               |                      |            |       |                                                     tradition                                                                  |                           \n",
            " |   |            |               |     |   |    |     |   |               |                      |            |       |       __________________________________________________|_______                                                               |                            \n",
            " |   |            |               |     |   |    |     |   |               |                      |            |       |      |                                                          of                                                             |                           \n",
            " |   |            |               |     |   |    |     |   |               |                      |            |       |      |                                                          |                                                              |                            \n",
            " |   |            |               |     |   |    |     |   |               |                      |            |       |      |                                                        naming                                                           |                           \n",
            " |   |            |               |     |   |    |     |   |               |                      |            |       |      |             _____________________________________________|_______                                                       |                            \n",
            " |   |            |               |     |   |    |     |   |               |                      |            |       |      |            |                                                    with                                                    |                           \n",
            " |   |            |               |     |   |    |     |   |               |                      |            |       |      |            |                                                     |                                                      |                            \n",
            " |   |            |               |     |   |    |     |   |               |                      |            |       |      |            |                                                  numerals                                                  |                           \n",
            " |   |            |               |     |   |    |     |   |               |                      |            |       |      |            |            _________________________________________|_________                                             |                            \n",
            " |   |            |               |     |   |    |     |   |               |                      |            |       |      |            |           |        |                                        known                                          |                           \n",
            " |   |            |               |     |   |    |     |   |               |                      |            |       |      |            |           |        |         _________________________________|___________                                 |                            \n",
            " |   |            |               |     |   |    |     |   |              with                    |            |       |      |            |           |        |        |       |       |       |         |           as                               |                           \n",
            " |   |            |               |     |   |    |     |   |               |                      |            |       |      |            |           |        |        |       |       |       |         |        ___|________                        |                            \n",
            " |   |           was              |     |   |    |     |   |          initiatives                 |            |       |      |           game         |        |        |       |       |       |         |       |   |   |    l                    feature                        \n",
            " |   |    ________|___            |     |   |    |     |   |      _________|________              |            |       |      |        ____|_____      |        |        |       |       |       |         |       |   |   |    |     __________________|__________________          \n",
            " |   |   |   |       bowl       league  |   |    |     |   |     |                themed          as           |       |      |       |         bowl   |        |        |       |       |     under      game     |   |   |   bowl  |   |     |        |      logo     numerals    \n",
            " |   |   |   |     ___|_____      |     |   |    |     |   |     |          ________|_____     ___|___         |       |      |       |          |     |        |        |       |       |       |         |       |   |   |    |    |   |     |        |       |     _____|______   \n",
            " ,   .   as this the 50th super  the   the  \"  golden  \"   ,  various     gold            -   as     well temporarily  ,     the     each      super roman      (      would    have    been   which      the      \"   \"   )  super  so that could prominently the  the  arabic   50\n",
            "\n"
          ],
          "name": "stdout"
        },
        {
          "output_type": "execute_result",
          "data": {
            "text/plain": [
              "[None]"
            ]
          },
          "metadata": {
            "tags": []
          },
          "execution_count": 87
        }
      ]
    },
    {
      "cell_type": "code",
      "metadata": {
        "id": "L2g-yt2iCBAQ",
        "colab_type": "code",
        "outputId": "a96b2bc6-960f-44aa-8583-7abe79250565",
        "colab": {
          "base_uri": "https://localhost:8080/",
          "height": 134
        }
      },
      "source": [
        "# calcula las raices de las oraciones de los contextos\n",
        "# calcula las raices de las pregutnas\n",
        "# Genera un vector que contiene el numero de raices en cada indice\n",
        "\n",
        "questions_root=[]\n",
        "context_root=[]\n",
        "num_roots=[]\n",
        "\n",
        "\n",
        "for i in range(len(df)):\n",
        "  if df[\"context\"][i]!=last_context: \n",
        "    roots=[st.stem(str(sent.root)) for sent in en_nlp(df[\"context\"][i]).sents]\n",
        "  context_root.append(roots)\n",
        "  num_roots.append(len(roots))\n",
        "  questions_root.append([st.stem(str(sent.root)) for sent in en_nlp(df[\"question\"][i]).sents])\n",
        "  last_context=df[\"context\"][i]\n",
        "  if i%5000==0: print(i)"
      ],
      "execution_count": 88,
      "outputs": [
        {
          "output_type": "stream",
          "text": [
            "0\n",
            "5000\n",
            "10000\n",
            "15000\n",
            "20000\n",
            "25000\n",
            "30000\n"
          ],
          "name": "stdout"
        }
      ]
    },
    {
      "cell_type": "code",
      "metadata": {
        "id": "rf_MAn7kCRfO",
        "colab_type": "code",
        "colab": {}
      },
      "source": [
        "import pickle\n",
        "\n",
        "with open(\"/content/drive/My Drive/QA/question_root_test.pkl\", 'wb') as handle:\n",
        "    pickle.dump(questions_root, handle)\n",
        "\n",
        "with open(\"/content/drive/My Drive/QA/context_root_test.pkl\", 'wb') as handle:\n",
        "    pickle.dump(context_root, handle)"
      ],
      "execution_count": 0,
      "outputs": []
    },
    {
      "cell_type": "code",
      "metadata": {
        "id": "hnbyZ89YCcId",
        "colab_type": "code",
        "outputId": "cecfcd83-82d0-4987-f7da-37fbd32f516e",
        "colab": {
          "base_uri": "https://localhost:8080/",
          "height": 84
        }
      },
      "source": [
        "#hacemos un array con las posiciones en que coinciden la raiz de la pregunta y de las oraciones\n",
        "\n",
        "root_index=[]\n",
        "\n",
        "for i in range(len(questions_root)):\n",
        "  c=[]\n",
        "  a=np.array(context_root[i])\n",
        "  b=np.array(questions_root[i])\n",
        "  for root in b:\n",
        "    temp=np.where(a==root)\n",
        "    c=np.append(c,temp[0])\n",
        "  root_index.append(c.astype('i'))\n",
        "  if i%10000 ==0: print(i)\n"
      ],
      "execution_count": 90,
      "outputs": [
        {
          "output_type": "stream",
          "text": [
            "0\n",
            "10000\n",
            "20000\n",
            "30000\n"
          ],
          "name": "stdout"
        }
      ]
    },
    {
      "cell_type": "code",
      "metadata": {
        "id": "BM8TFPk0Cf80",
        "colab_type": "code",
        "colab": {}
      },
      "source": [
        "#Hace un one hot encoder de los root. Limita los resultados a las dimensiones indicadas.\n",
        "dim=9\n",
        "root_ohe=[]\n",
        "for i in range(len(root_index)):\n",
        "  a=np.zeros(60)\n",
        "  a[root_index[i]]=1\n",
        "  root_ohe.append(a[:dim])\n",
        "\n",
        "root_ohe=pd.DataFrame(root_ohe)"
      ],
      "execution_count": 0,
      "outputs": []
    },
    {
      "cell_type": "code",
      "metadata": {
        "id": "VHuxVof3CjK8",
        "colab_type": "code",
        "outputId": "a149bf08-8b62-400a-9a2e-42ca980c15e2",
        "colab": {
          "base_uri": "https://localhost:8080/",
          "height": 195
        }
      },
      "source": [
        "root_ohe.head()"
      ],
      "execution_count": 92,
      "outputs": [
        {
          "output_type": "execute_result",
          "data": {
            "text/html": [
              "<div>\n",
              "<style scoped>\n",
              "    .dataframe tbody tr th:only-of-type {\n",
              "        vertical-align: middle;\n",
              "    }\n",
              "\n",
              "    .dataframe tbody tr th {\n",
              "        vertical-align: top;\n",
              "    }\n",
              "\n",
              "    .dataframe thead th {\n",
              "        text-align: right;\n",
              "    }\n",
              "</style>\n",
              "<table border=\"1\" class=\"dataframe\">\n",
              "  <thead>\n",
              "    <tr style=\"text-align: right;\">\n",
              "      <th></th>\n",
              "      <th>0</th>\n",
              "      <th>1</th>\n",
              "      <th>2</th>\n",
              "      <th>3</th>\n",
              "      <th>4</th>\n",
              "      <th>5</th>\n",
              "      <th>6</th>\n",
              "      <th>7</th>\n",
              "      <th>8</th>\n",
              "    </tr>\n",
              "  </thead>\n",
              "  <tbody>\n",
              "    <tr>\n",
              "      <th>0</th>\n",
              "      <td>0.0</td>\n",
              "      <td>0.0</td>\n",
              "      <td>0.0</td>\n",
              "      <td>0.0</td>\n",
              "      <td>0.0</td>\n",
              "      <td>0.0</td>\n",
              "      <td>0.0</td>\n",
              "      <td>0.0</td>\n",
              "      <td>0.0</td>\n",
              "    </tr>\n",
              "    <tr>\n",
              "      <th>1</th>\n",
              "      <td>0.0</td>\n",
              "      <td>0.0</td>\n",
              "      <td>0.0</td>\n",
              "      <td>0.0</td>\n",
              "      <td>0.0</td>\n",
              "      <td>0.0</td>\n",
              "      <td>0.0</td>\n",
              "      <td>0.0</td>\n",
              "      <td>0.0</td>\n",
              "    </tr>\n",
              "    <tr>\n",
              "      <th>2</th>\n",
              "      <td>0.0</td>\n",
              "      <td>0.0</td>\n",
              "      <td>0.0</td>\n",
              "      <td>0.0</td>\n",
              "      <td>0.0</td>\n",
              "      <td>0.0</td>\n",
              "      <td>0.0</td>\n",
              "      <td>0.0</td>\n",
              "      <td>0.0</td>\n",
              "    </tr>\n",
              "    <tr>\n",
              "      <th>3</th>\n",
              "      <td>0.0</td>\n",
              "      <td>0.0</td>\n",
              "      <td>0.0</td>\n",
              "      <td>0.0</td>\n",
              "      <td>0.0</td>\n",
              "      <td>0.0</td>\n",
              "      <td>0.0</td>\n",
              "      <td>0.0</td>\n",
              "      <td>0.0</td>\n",
              "    </tr>\n",
              "    <tr>\n",
              "      <th>4</th>\n",
              "      <td>0.0</td>\n",
              "      <td>0.0</td>\n",
              "      <td>0.0</td>\n",
              "      <td>0.0</td>\n",
              "      <td>0.0</td>\n",
              "      <td>0.0</td>\n",
              "      <td>0.0</td>\n",
              "      <td>0.0</td>\n",
              "      <td>0.0</td>\n",
              "    </tr>\n",
              "  </tbody>\n",
              "</table>\n",
              "</div>"
            ],
            "text/plain": [
              "     0    1    2    3    4    5    6    7    8\n",
              "0  0.0  0.0  0.0  0.0  0.0  0.0  0.0  0.0  0.0\n",
              "1  0.0  0.0  0.0  0.0  0.0  0.0  0.0  0.0  0.0\n",
              "2  0.0  0.0  0.0  0.0  0.0  0.0  0.0  0.0  0.0\n",
              "3  0.0  0.0  0.0  0.0  0.0  0.0  0.0  0.0  0.0\n",
              "4  0.0  0.0  0.0  0.0  0.0  0.0  0.0  0.0  0.0"
            ]
          },
          "metadata": {
            "tags": []
          },
          "execution_count": 92
        }
      ]
    },
    {
      "cell_type": "code",
      "metadata": {
        "id": "Zdktyc5wCksX",
        "colab_type": "code",
        "colab": {}
      },
      "source": [
        "import pickle\n",
        "\n",
        "with open(\"/content/drive/My Drive/QA/root_ohe_test.pkl\", 'wb') as handle:\n",
        "    pickle.dump(root_ohe, handle)"
      ],
      "execution_count": 0,
      "outputs": []
    },
    {
      "cell_type": "markdown",
      "metadata": {
        "id": "EZ4R1w71S7uu",
        "colab_type": "text"
      },
      "source": [
        "# Load pkl data\n",
        "Podemos empezar el análisis desde aqui con todos los pickles que generamos en las celdas anteriores"
      ]
    },
    {
      "cell_type": "code",
      "metadata": {
        "id": "RC7-KUsPCokh",
        "colab_type": "code",
        "colab": {}
      },
      "source": [
        "import pickle\n",
        "with open(\"/content/drive/My Drive/QA/root_ohe_test.pkl\", \"rb\") as f:\n",
        "    root_ohe = pickle.load(f)\n",
        "\n",
        "with open(\"/content/drive/My Drive/QA/dist_euclid_test.pkl\", \"rb\") as f:\n",
        "    euclid = pickle.load(f)\n",
        "\n",
        "with open(\"/content/drive/My Drive/QA/dist_cosine_test.pkl\", \"rb\") as f:\n",
        "    cosine = pickle.load(f)\n"
      ],
      "execution_count": 0,
      "outputs": []
    },
    {
      "cell_type": "code",
      "metadata": {
        "id": "-gZy1N0hGNdS",
        "colab_type": "code",
        "outputId": "7a321afe-8ed8-4b95-9687-a795dcdba30d",
        "colab": {
          "base_uri": "https://localhost:8080/",
          "height": 719
        }
      },
      "source": [
        "df.head()"
      ],
      "execution_count": 114,
      "outputs": [
        {
          "output_type": "execute_result",
          "data": {
            "text/html": [
              "<div>\n",
              "<style scoped>\n",
              "    .dataframe tbody tr th:only-of-type {\n",
              "        vertical-align: middle;\n",
              "    }\n",
              "\n",
              "    .dataframe tbody tr th {\n",
              "        vertical-align: top;\n",
              "    }\n",
              "\n",
              "    .dataframe thead th {\n",
              "        text-align: right;\n",
              "    }\n",
              "</style>\n",
              "<table border=\"1\" class=\"dataframe\">\n",
              "  <thead>\n",
              "    <tr style=\"text-align: right;\">\n",
              "      <th></th>\n",
              "      <th>index</th>\n",
              "      <th>answer_start</th>\n",
              "      <th>text</th>\n",
              "      <th>title</th>\n",
              "      <th>context</th>\n",
              "      <th>question</th>\n",
              "      <th>id</th>\n",
              "      <th>target</th>\n",
              "      <th>euclid_prediction</th>\n",
              "      <th>cosine_prediction</th>\n",
              "    </tr>\n",
              "  </thead>\n",
              "  <tbody>\n",
              "    <tr>\n",
              "      <th>0</th>\n",
              "      <td>0</td>\n",
              "      <td>176</td>\n",
              "      <td>Denver Broncos</td>\n",
              "      <td>Super_Bowl_50</td>\n",
              "      <td>Super Bowl 50 was an American football game to...</td>\n",
              "      <td>Which NFL team represented the AFC at Super Bo...</td>\n",
              "      <td>56be4db0acb8001400a502ec</td>\n",
              "      <td>1</td>\n",
              "      <td>0</td>\n",
              "      <td>0</td>\n",
              "    </tr>\n",
              "    <tr>\n",
              "      <th>1</th>\n",
              "      <td>1</td>\n",
              "      <td>177</td>\n",
              "      <td>Denver Broncos</td>\n",
              "      <td>Super_Bowl_50</td>\n",
              "      <td>Super Bowl 50 was an American football game to...</td>\n",
              "      <td>Which NFL team represented the AFC at Super Bo...</td>\n",
              "      <td>56be4db0acb8001400a502ec</td>\n",
              "      <td>1</td>\n",
              "      <td>0</td>\n",
              "      <td>0</td>\n",
              "    </tr>\n",
              "    <tr>\n",
              "      <th>2</th>\n",
              "      <td>2</td>\n",
              "      <td>177</td>\n",
              "      <td>Denver Broncos</td>\n",
              "      <td>Super_Bowl_50</td>\n",
              "      <td>Super Bowl 50 was an American football game to...</td>\n",
              "      <td>Which NFL team represented the AFC at Super Bo...</td>\n",
              "      <td>56be4db0acb8001400a502ec</td>\n",
              "      <td>1</td>\n",
              "      <td>0</td>\n",
              "      <td>0</td>\n",
              "    </tr>\n",
              "    <tr>\n",
              "      <th>3</th>\n",
              "      <td>3</td>\n",
              "      <td>248</td>\n",
              "      <td>Carolina Panthers</td>\n",
              "      <td>Super_Bowl_50</td>\n",
              "      <td>Super Bowl 50 was an American football game to...</td>\n",
              "      <td>Which NFL team represented the NFC at Super Bo...</td>\n",
              "      <td>56be4db0acb8001400a502ed</td>\n",
              "      <td>1</td>\n",
              "      <td>0</td>\n",
              "      <td>0</td>\n",
              "    </tr>\n",
              "    <tr>\n",
              "      <th>4</th>\n",
              "      <td>4</td>\n",
              "      <td>249</td>\n",
              "      <td>Carolina Panthers</td>\n",
              "      <td>Super_Bowl_50</td>\n",
              "      <td>Super Bowl 50 was an American football game to...</td>\n",
              "      <td>Which NFL team represented the NFC at Super Bo...</td>\n",
              "      <td>56be4db0acb8001400a502ed</td>\n",
              "      <td>1</td>\n",
              "      <td>0</td>\n",
              "      <td>0</td>\n",
              "    </tr>\n",
              "  </tbody>\n",
              "</table>\n",
              "</div>"
            ],
            "text/plain": [
              "   index  answer_start  ... euclid_prediction cosine_prediction\n",
              "0      0           176  ...                 0                 0\n",
              "1      1           177  ...                 0                 0\n",
              "2      2           177  ...                 0                 0\n",
              "3      3           248  ...                 0                 0\n",
              "4      4           249  ...                 0                 0\n",
              "\n",
              "[5 rows x 10 columns]"
            ]
          },
          "metadata": {
            "tags": []
          },
          "execution_count": 114
        }
      ]
    },
    {
      "cell_type": "code",
      "metadata": {
        "id": "wobV_xrXC-8y",
        "colab_type": "code",
        "outputId": "14b93a73-b4b2-4855-f97f-f81d70b299cd",
        "colab": {
          "base_uri": "https://localhost:8080/",
          "height": 84
        }
      },
      "source": [
        "print(len(euclid))\n",
        "print(len(cosine))\n",
        "print(root_ohe.shape)\n",
        "print(len(df[\"target\"]))"
      ],
      "execution_count": 116,
      "outputs": [
        {
          "output_type": "stream",
          "text": [
            "33402\n",
            "33402\n",
            "(33402, 9)\n",
            "33402\n"
          ],
          "name": "stdout"
        }
      ]
    },
    {
      "cell_type": "markdown",
      "metadata": {
        "id": "DxVvsJAMIKip",
        "colab_type": "text"
      },
      "source": [
        "# Modelos\n",
        "### Ensamblamos la matriz de machine learning"
      ]
    },
    {
      "cell_type": "code",
      "metadata": {
        "id": "0fszr--ODAdD",
        "colab_type": "code",
        "outputId": "8db490ba-39b4-4aee-c0d9-d5d6eaf4a39e",
        "colab": {
          "base_uri": "https://localhost:8080/",
          "height": 402
        }
      },
      "source": [
        "root_ohe.columns=[\"root_0\",\"root_1\",\"root_2\",\"root_3\",\"root_4\",\"root_5\",\"root_6\",\"root_7\",\"root_8\"]\n",
        "root_ohe"
      ],
      "execution_count": 117,
      "outputs": [
        {
          "output_type": "execute_result",
          "data": {
            "text/html": [
              "<div>\n",
              "<style scoped>\n",
              "    .dataframe tbody tr th:only-of-type {\n",
              "        vertical-align: middle;\n",
              "    }\n",
              "\n",
              "    .dataframe tbody tr th {\n",
              "        vertical-align: top;\n",
              "    }\n",
              "\n",
              "    .dataframe thead th {\n",
              "        text-align: right;\n",
              "    }\n",
              "</style>\n",
              "<table border=\"1\" class=\"dataframe\">\n",
              "  <thead>\n",
              "    <tr style=\"text-align: right;\">\n",
              "      <th></th>\n",
              "      <th>root_0</th>\n",
              "      <th>root_1</th>\n",
              "      <th>root_2</th>\n",
              "      <th>root_3</th>\n",
              "      <th>root_4</th>\n",
              "      <th>root_5</th>\n",
              "      <th>root_6</th>\n",
              "      <th>root_7</th>\n",
              "      <th>root_8</th>\n",
              "    </tr>\n",
              "  </thead>\n",
              "  <tbody>\n",
              "    <tr>\n",
              "      <th>0</th>\n",
              "      <td>0.0</td>\n",
              "      <td>0.0</td>\n",
              "      <td>0.0</td>\n",
              "      <td>0.0</td>\n",
              "      <td>0.0</td>\n",
              "      <td>0.0</td>\n",
              "      <td>0.0</td>\n",
              "      <td>0.0</td>\n",
              "      <td>0.0</td>\n",
              "    </tr>\n",
              "    <tr>\n",
              "      <th>1</th>\n",
              "      <td>0.0</td>\n",
              "      <td>0.0</td>\n",
              "      <td>0.0</td>\n",
              "      <td>0.0</td>\n",
              "      <td>0.0</td>\n",
              "      <td>0.0</td>\n",
              "      <td>0.0</td>\n",
              "      <td>0.0</td>\n",
              "      <td>0.0</td>\n",
              "    </tr>\n",
              "    <tr>\n",
              "      <th>2</th>\n",
              "      <td>0.0</td>\n",
              "      <td>0.0</td>\n",
              "      <td>0.0</td>\n",
              "      <td>0.0</td>\n",
              "      <td>0.0</td>\n",
              "      <td>0.0</td>\n",
              "      <td>0.0</td>\n",
              "      <td>0.0</td>\n",
              "      <td>0.0</td>\n",
              "    </tr>\n",
              "    <tr>\n",
              "      <th>3</th>\n",
              "      <td>0.0</td>\n",
              "      <td>0.0</td>\n",
              "      <td>0.0</td>\n",
              "      <td>0.0</td>\n",
              "      <td>0.0</td>\n",
              "      <td>0.0</td>\n",
              "      <td>0.0</td>\n",
              "      <td>0.0</td>\n",
              "      <td>0.0</td>\n",
              "    </tr>\n",
              "    <tr>\n",
              "      <th>4</th>\n",
              "      <td>0.0</td>\n",
              "      <td>0.0</td>\n",
              "      <td>0.0</td>\n",
              "      <td>0.0</td>\n",
              "      <td>0.0</td>\n",
              "      <td>0.0</td>\n",
              "      <td>0.0</td>\n",
              "      <td>0.0</td>\n",
              "      <td>0.0</td>\n",
              "    </tr>\n",
              "    <tr>\n",
              "      <th>...</th>\n",
              "      <td>...</td>\n",
              "      <td>...</td>\n",
              "      <td>...</td>\n",
              "      <td>...</td>\n",
              "      <td>...</td>\n",
              "      <td>...</td>\n",
              "      <td>...</td>\n",
              "      <td>...</td>\n",
              "      <td>...</td>\n",
              "    </tr>\n",
              "    <tr>\n",
              "      <th>33397</th>\n",
              "      <td>0.0</td>\n",
              "      <td>0.0</td>\n",
              "      <td>0.0</td>\n",
              "      <td>0.0</td>\n",
              "      <td>0.0</td>\n",
              "      <td>0.0</td>\n",
              "      <td>0.0</td>\n",
              "      <td>0.0</td>\n",
              "      <td>0.0</td>\n",
              "    </tr>\n",
              "    <tr>\n",
              "      <th>33398</th>\n",
              "      <td>1.0</td>\n",
              "      <td>0.0</td>\n",
              "      <td>0.0</td>\n",
              "      <td>0.0</td>\n",
              "      <td>0.0</td>\n",
              "      <td>0.0</td>\n",
              "      <td>0.0</td>\n",
              "      <td>0.0</td>\n",
              "      <td>0.0</td>\n",
              "    </tr>\n",
              "    <tr>\n",
              "      <th>33399</th>\n",
              "      <td>1.0</td>\n",
              "      <td>0.0</td>\n",
              "      <td>0.0</td>\n",
              "      <td>0.0</td>\n",
              "      <td>0.0</td>\n",
              "      <td>0.0</td>\n",
              "      <td>0.0</td>\n",
              "      <td>0.0</td>\n",
              "      <td>0.0</td>\n",
              "    </tr>\n",
              "    <tr>\n",
              "      <th>33400</th>\n",
              "      <td>1.0</td>\n",
              "      <td>0.0</td>\n",
              "      <td>0.0</td>\n",
              "      <td>0.0</td>\n",
              "      <td>0.0</td>\n",
              "      <td>0.0</td>\n",
              "      <td>0.0</td>\n",
              "      <td>0.0</td>\n",
              "      <td>0.0</td>\n",
              "    </tr>\n",
              "    <tr>\n",
              "      <th>33401</th>\n",
              "      <td>1.0</td>\n",
              "      <td>0.0</td>\n",
              "      <td>0.0</td>\n",
              "      <td>0.0</td>\n",
              "      <td>0.0</td>\n",
              "      <td>0.0</td>\n",
              "      <td>0.0</td>\n",
              "      <td>0.0</td>\n",
              "      <td>0.0</td>\n",
              "    </tr>\n",
              "  </tbody>\n",
              "</table>\n",
              "<p>33402 rows × 9 columns</p>\n",
              "</div>"
            ],
            "text/plain": [
              "       root_0  root_1  root_2  root_3  root_4  root_5  root_6  root_7  root_8\n",
              "0         0.0     0.0     0.0     0.0     0.0     0.0     0.0     0.0     0.0\n",
              "1         0.0     0.0     0.0     0.0     0.0     0.0     0.0     0.0     0.0\n",
              "2         0.0     0.0     0.0     0.0     0.0     0.0     0.0     0.0     0.0\n",
              "3         0.0     0.0     0.0     0.0     0.0     0.0     0.0     0.0     0.0\n",
              "4         0.0     0.0     0.0     0.0     0.0     0.0     0.0     0.0     0.0\n",
              "...       ...     ...     ...     ...     ...     ...     ...     ...     ...\n",
              "33397     0.0     0.0     0.0     0.0     0.0     0.0     0.0     0.0     0.0\n",
              "33398     1.0     0.0     0.0     0.0     0.0     0.0     0.0     0.0     0.0\n",
              "33399     1.0     0.0     0.0     0.0     0.0     0.0     0.0     0.0     0.0\n",
              "33400     1.0     0.0     0.0     0.0     0.0     0.0     0.0     0.0     0.0\n",
              "33401     1.0     0.0     0.0     0.0     0.0     0.0     0.0     0.0     0.0\n",
              "\n",
              "[33402 rows x 9 columns]"
            ]
          },
          "metadata": {
            "tags": []
          },
          "execution_count": 117
        }
      ]
    },
    {
      "cell_type": "code",
      "metadata": {
        "id": "HdnKbtF8DCNG",
        "colab_type": "code",
        "outputId": "b46fe179-57b1-431a-8739-6f79d8f7bda2",
        "colab": {
          "base_uri": "https://localhost:8080/",
          "height": 402
        }
      },
      "source": [
        "#preparamos los datos de distancia euclidiana\n",
        "df_euclid=pd.DataFrame(euclid)\n",
        "df_euclid=df_euclid.iloc[:,0:9]\n",
        "df_euclid.columns=[\"euc_0\",\"euc_1\",\"euc_2\",\"euc_3\",\"euc_4\",\"euc_5\",\"euc_6\",\"euc_7\",\"euc_8\"]\n",
        "df_euclid.fillna(50, inplace=True)#imputamos con un valor grande.\n",
        "df_euclid"
      ],
      "execution_count": 118,
      "outputs": [
        {
          "output_type": "execute_result",
          "data": {
            "text/html": [
              "<div>\n",
              "<style scoped>\n",
              "    .dataframe tbody tr th:only-of-type {\n",
              "        vertical-align: middle;\n",
              "    }\n",
              "\n",
              "    .dataframe tbody tr th {\n",
              "        vertical-align: top;\n",
              "    }\n",
              "\n",
              "    .dataframe thead th {\n",
              "        text-align: right;\n",
              "    }\n",
              "</style>\n",
              "<table border=\"1\" class=\"dataframe\">\n",
              "  <thead>\n",
              "    <tr style=\"text-align: right;\">\n",
              "      <th></th>\n",
              "      <th>euc_0</th>\n",
              "      <th>euc_1</th>\n",
              "      <th>euc_2</th>\n",
              "      <th>euc_3</th>\n",
              "      <th>euc_4</th>\n",
              "      <th>euc_5</th>\n",
              "      <th>euc_6</th>\n",
              "      <th>euc_7</th>\n",
              "      <th>euc_8</th>\n",
              "    </tr>\n",
              "  </thead>\n",
              "  <tbody>\n",
              "    <tr>\n",
              "      <th>0</th>\n",
              "      <td>4.938536</td>\n",
              "      <td>5.216400</td>\n",
              "      <td>5.008254</td>\n",
              "      <td>5.501133</td>\n",
              "      <td>50.0</td>\n",
              "      <td>50.0</td>\n",
              "      <td>50.0</td>\n",
              "      <td>50.0</td>\n",
              "      <td>50.0</td>\n",
              "    </tr>\n",
              "    <tr>\n",
              "      <th>1</th>\n",
              "      <td>4.938536</td>\n",
              "      <td>5.216400</td>\n",
              "      <td>5.008254</td>\n",
              "      <td>5.501133</td>\n",
              "      <td>50.0</td>\n",
              "      <td>50.0</td>\n",
              "      <td>50.0</td>\n",
              "      <td>50.0</td>\n",
              "      <td>50.0</td>\n",
              "    </tr>\n",
              "    <tr>\n",
              "      <th>2</th>\n",
              "      <td>4.938536</td>\n",
              "      <td>5.216400</td>\n",
              "      <td>5.008254</td>\n",
              "      <td>5.501133</td>\n",
              "      <td>50.0</td>\n",
              "      <td>50.0</td>\n",
              "      <td>50.0</td>\n",
              "      <td>50.0</td>\n",
              "      <td>50.0</td>\n",
              "    </tr>\n",
              "    <tr>\n",
              "      <th>3</th>\n",
              "      <td>4.938536</td>\n",
              "      <td>5.216400</td>\n",
              "      <td>5.008254</td>\n",
              "      <td>5.501133</td>\n",
              "      <td>50.0</td>\n",
              "      <td>50.0</td>\n",
              "      <td>50.0</td>\n",
              "      <td>50.0</td>\n",
              "      <td>50.0</td>\n",
              "    </tr>\n",
              "    <tr>\n",
              "      <th>4</th>\n",
              "      <td>4.938536</td>\n",
              "      <td>5.216400</td>\n",
              "      <td>5.008254</td>\n",
              "      <td>5.501133</td>\n",
              "      <td>50.0</td>\n",
              "      <td>50.0</td>\n",
              "      <td>50.0</td>\n",
              "      <td>50.0</td>\n",
              "      <td>50.0</td>\n",
              "    </tr>\n",
              "    <tr>\n",
              "      <th>...</th>\n",
              "      <td>...</td>\n",
              "      <td>...</td>\n",
              "      <td>...</td>\n",
              "      <td>...</td>\n",
              "      <td>...</td>\n",
              "      <td>...</td>\n",
              "      <td>...</td>\n",
              "      <td>...</td>\n",
              "      <td>...</td>\n",
              "    </tr>\n",
              "    <tr>\n",
              "      <th>33397</th>\n",
              "      <td>3.126111</td>\n",
              "      <td>3.108962</td>\n",
              "      <td>4.235171</td>\n",
              "      <td>2.589668</td>\n",
              "      <td>50.0</td>\n",
              "      <td>50.0</td>\n",
              "      <td>50.0</td>\n",
              "      <td>50.0</td>\n",
              "      <td>50.0</td>\n",
              "    </tr>\n",
              "    <tr>\n",
              "      <th>33398</th>\n",
              "      <td>3.421005</td>\n",
              "      <td>3.437781</td>\n",
              "      <td>4.514416</td>\n",
              "      <td>2.837525</td>\n",
              "      <td>50.0</td>\n",
              "      <td>50.0</td>\n",
              "      <td>50.0</td>\n",
              "      <td>50.0</td>\n",
              "      <td>50.0</td>\n",
              "    </tr>\n",
              "    <tr>\n",
              "      <th>33399</th>\n",
              "      <td>3.421005</td>\n",
              "      <td>3.437781</td>\n",
              "      <td>4.514416</td>\n",
              "      <td>2.837525</td>\n",
              "      <td>50.0</td>\n",
              "      <td>50.0</td>\n",
              "      <td>50.0</td>\n",
              "      <td>50.0</td>\n",
              "      <td>50.0</td>\n",
              "    </tr>\n",
              "    <tr>\n",
              "      <th>33400</th>\n",
              "      <td>3.421005</td>\n",
              "      <td>3.437781</td>\n",
              "      <td>4.514416</td>\n",
              "      <td>2.837525</td>\n",
              "      <td>50.0</td>\n",
              "      <td>50.0</td>\n",
              "      <td>50.0</td>\n",
              "      <td>50.0</td>\n",
              "      <td>50.0</td>\n",
              "    </tr>\n",
              "    <tr>\n",
              "      <th>33401</th>\n",
              "      <td>3.421005</td>\n",
              "      <td>3.437781</td>\n",
              "      <td>4.514416</td>\n",
              "      <td>2.837525</td>\n",
              "      <td>50.0</td>\n",
              "      <td>50.0</td>\n",
              "      <td>50.0</td>\n",
              "      <td>50.0</td>\n",
              "      <td>50.0</td>\n",
              "    </tr>\n",
              "  </tbody>\n",
              "</table>\n",
              "<p>33402 rows × 9 columns</p>\n",
              "</div>"
            ],
            "text/plain": [
              "          euc_0     euc_1     euc_2     euc_3  ...  euc_5  euc_6  euc_7  euc_8\n",
              "0      4.938536  5.216400  5.008254  5.501133  ...   50.0   50.0   50.0   50.0\n",
              "1      4.938536  5.216400  5.008254  5.501133  ...   50.0   50.0   50.0   50.0\n",
              "2      4.938536  5.216400  5.008254  5.501133  ...   50.0   50.0   50.0   50.0\n",
              "3      4.938536  5.216400  5.008254  5.501133  ...   50.0   50.0   50.0   50.0\n",
              "4      4.938536  5.216400  5.008254  5.501133  ...   50.0   50.0   50.0   50.0\n",
              "...         ...       ...       ...       ...  ...    ...    ...    ...    ...\n",
              "33397  3.126111  3.108962  4.235171  2.589668  ...   50.0   50.0   50.0   50.0\n",
              "33398  3.421005  3.437781  4.514416  2.837525  ...   50.0   50.0   50.0   50.0\n",
              "33399  3.421005  3.437781  4.514416  2.837525  ...   50.0   50.0   50.0   50.0\n",
              "33400  3.421005  3.437781  4.514416  2.837525  ...   50.0   50.0   50.0   50.0\n",
              "33401  3.421005  3.437781  4.514416  2.837525  ...   50.0   50.0   50.0   50.0\n",
              "\n",
              "[33402 rows x 9 columns]"
            ]
          },
          "metadata": {
            "tags": []
          },
          "execution_count": 118
        }
      ]
    },
    {
      "cell_type": "code",
      "metadata": {
        "id": "19DJxVKhDEOc",
        "colab_type": "code",
        "outputId": "94fea305-7d71-47f0-bd27-99b9ed62c85c",
        "colab": {
          "base_uri": "https://localhost:8080/",
          "height": 402
        }
      },
      "source": [
        "#preparamos los datos de distancia coseno\n",
        "df_cos=pd.DataFrame(cosine)\n",
        "df_cos=df_cos.iloc[:,0:9]\n",
        "df_cos.columns=[\"cos_0\",\"cos_1\",\"cos_2\",\"cos_3\",\"cos_4\",\"cos_5\",\"cos_6\",\"cos_7\",\"cos_8\"]\n",
        "df_cos.fillna(5, inplace=True)#imputamos con un valor grande.\n",
        "df_cos"
      ],
      "execution_count": 119,
      "outputs": [
        {
          "output_type": "execute_result",
          "data": {
            "text/html": [
              "<div>\n",
              "<style scoped>\n",
              "    .dataframe tbody tr th:only-of-type {\n",
              "        vertical-align: middle;\n",
              "    }\n",
              "\n",
              "    .dataframe tbody tr th {\n",
              "        vertical-align: top;\n",
              "    }\n",
              "\n",
              "    .dataframe thead th {\n",
              "        text-align: right;\n",
              "    }\n",
              "</style>\n",
              "<table border=\"1\" class=\"dataframe\">\n",
              "  <thead>\n",
              "    <tr style=\"text-align: right;\">\n",
              "      <th></th>\n",
              "      <th>cos_0</th>\n",
              "      <th>cos_1</th>\n",
              "      <th>cos_2</th>\n",
              "      <th>cos_3</th>\n",
              "      <th>cos_4</th>\n",
              "      <th>cos_5</th>\n",
              "      <th>cos_6</th>\n",
              "      <th>cos_7</th>\n",
              "      <th>cos_8</th>\n",
              "    </tr>\n",
              "  </thead>\n",
              "  <tbody>\n",
              "    <tr>\n",
              "      <th>0</th>\n",
              "      <td>0.530199</td>\n",
              "      <td>0.594889</td>\n",
              "      <td>0.585700</td>\n",
              "      <td>0.578876</td>\n",
              "      <td>5.0</td>\n",
              "      <td>5.0</td>\n",
              "      <td>5.0</td>\n",
              "      <td>5.0</td>\n",
              "      <td>5.0</td>\n",
              "    </tr>\n",
              "    <tr>\n",
              "      <th>1</th>\n",
              "      <td>0.530199</td>\n",
              "      <td>0.594889</td>\n",
              "      <td>0.585700</td>\n",
              "      <td>0.578876</td>\n",
              "      <td>5.0</td>\n",
              "      <td>5.0</td>\n",
              "      <td>5.0</td>\n",
              "      <td>5.0</td>\n",
              "      <td>5.0</td>\n",
              "    </tr>\n",
              "    <tr>\n",
              "      <th>2</th>\n",
              "      <td>0.530199</td>\n",
              "      <td>0.594889</td>\n",
              "      <td>0.585700</td>\n",
              "      <td>0.578876</td>\n",
              "      <td>5.0</td>\n",
              "      <td>5.0</td>\n",
              "      <td>5.0</td>\n",
              "      <td>5.0</td>\n",
              "      <td>5.0</td>\n",
              "    </tr>\n",
              "    <tr>\n",
              "      <th>3</th>\n",
              "      <td>0.530199</td>\n",
              "      <td>0.594889</td>\n",
              "      <td>0.585700</td>\n",
              "      <td>0.578876</td>\n",
              "      <td>5.0</td>\n",
              "      <td>5.0</td>\n",
              "      <td>5.0</td>\n",
              "      <td>5.0</td>\n",
              "      <td>5.0</td>\n",
              "    </tr>\n",
              "    <tr>\n",
              "      <th>4</th>\n",
              "      <td>0.530199</td>\n",
              "      <td>0.594889</td>\n",
              "      <td>0.585700</td>\n",
              "      <td>0.578876</td>\n",
              "      <td>5.0</td>\n",
              "      <td>5.0</td>\n",
              "      <td>5.0</td>\n",
              "      <td>5.0</td>\n",
              "      <td>5.0</td>\n",
              "    </tr>\n",
              "    <tr>\n",
              "      <th>...</th>\n",
              "      <td>...</td>\n",
              "      <td>...</td>\n",
              "      <td>...</td>\n",
              "      <td>...</td>\n",
              "      <td>...</td>\n",
              "      <td>...</td>\n",
              "      <td>...</td>\n",
              "      <td>...</td>\n",
              "      <td>...</td>\n",
              "    </tr>\n",
              "    <tr>\n",
              "      <th>33397</th>\n",
              "      <td>0.245094</td>\n",
              "      <td>0.262238</td>\n",
              "      <td>0.334022</td>\n",
              "      <td>0.224378</td>\n",
              "      <td>5.0</td>\n",
              "      <td>5.0</td>\n",
              "      <td>5.0</td>\n",
              "      <td>5.0</td>\n",
              "      <td>5.0</td>\n",
              "    </tr>\n",
              "    <tr>\n",
              "      <th>33398</th>\n",
              "      <td>0.306608</td>\n",
              "      <td>0.339873</td>\n",
              "      <td>0.394059</td>\n",
              "      <td>0.298434</td>\n",
              "      <td>5.0</td>\n",
              "      <td>5.0</td>\n",
              "      <td>5.0</td>\n",
              "      <td>5.0</td>\n",
              "      <td>5.0</td>\n",
              "    </tr>\n",
              "    <tr>\n",
              "      <th>33399</th>\n",
              "      <td>0.306608</td>\n",
              "      <td>0.339873</td>\n",
              "      <td>0.394059</td>\n",
              "      <td>0.298434</td>\n",
              "      <td>5.0</td>\n",
              "      <td>5.0</td>\n",
              "      <td>5.0</td>\n",
              "      <td>5.0</td>\n",
              "      <td>5.0</td>\n",
              "    </tr>\n",
              "    <tr>\n",
              "      <th>33400</th>\n",
              "      <td>0.306608</td>\n",
              "      <td>0.339873</td>\n",
              "      <td>0.394059</td>\n",
              "      <td>0.298434</td>\n",
              "      <td>5.0</td>\n",
              "      <td>5.0</td>\n",
              "      <td>5.0</td>\n",
              "      <td>5.0</td>\n",
              "      <td>5.0</td>\n",
              "    </tr>\n",
              "    <tr>\n",
              "      <th>33401</th>\n",
              "      <td>0.306608</td>\n",
              "      <td>0.339873</td>\n",
              "      <td>0.394059</td>\n",
              "      <td>0.298434</td>\n",
              "      <td>5.0</td>\n",
              "      <td>5.0</td>\n",
              "      <td>5.0</td>\n",
              "      <td>5.0</td>\n",
              "      <td>5.0</td>\n",
              "    </tr>\n",
              "  </tbody>\n",
              "</table>\n",
              "<p>33402 rows × 9 columns</p>\n",
              "</div>"
            ],
            "text/plain": [
              "          cos_0     cos_1     cos_2     cos_3  ...  cos_5  cos_6  cos_7  cos_8\n",
              "0      0.530199  0.594889  0.585700  0.578876  ...    5.0    5.0    5.0    5.0\n",
              "1      0.530199  0.594889  0.585700  0.578876  ...    5.0    5.0    5.0    5.0\n",
              "2      0.530199  0.594889  0.585700  0.578876  ...    5.0    5.0    5.0    5.0\n",
              "3      0.530199  0.594889  0.585700  0.578876  ...    5.0    5.0    5.0    5.0\n",
              "4      0.530199  0.594889  0.585700  0.578876  ...    5.0    5.0    5.0    5.0\n",
              "...         ...       ...       ...       ...  ...    ...    ...    ...    ...\n",
              "33397  0.245094  0.262238  0.334022  0.224378  ...    5.0    5.0    5.0    5.0\n",
              "33398  0.306608  0.339873  0.394059  0.298434  ...    5.0    5.0    5.0    5.0\n",
              "33399  0.306608  0.339873  0.394059  0.298434  ...    5.0    5.0    5.0    5.0\n",
              "33400  0.306608  0.339873  0.394059  0.298434  ...    5.0    5.0    5.0    5.0\n",
              "33401  0.306608  0.339873  0.394059  0.298434  ...    5.0    5.0    5.0    5.0\n",
              "\n",
              "[33402 rows x 9 columns]"
            ]
          },
          "metadata": {
            "tags": []
          },
          "execution_count": 119
        }
      ]
    },
    {
      "cell_type": "code",
      "metadata": {
        "id": "qsdK6EtGDGmI",
        "colab_type": "code",
        "colab": {}
      },
      "source": [
        "# Concatenamos los datos de distancias y raiz de la oracion\n",
        "mat=pd.concat([root_ohe,df_cos,df_euclid],ignore_index=True,axis=1)"
      ],
      "execution_count": 0,
      "outputs": []
    },
    {
      "cell_type": "code",
      "metadata": {
        "id": "oiqZ8oQTDIvq",
        "colab_type": "code",
        "outputId": "ee8af8bc-8ac9-4f75-b769-f76c38b78818",
        "colab": {
          "base_uri": "https://localhost:8080/",
          "height": 34
        }
      },
      "source": [
        "# info de la matriz\n",
        "mat=mat.to_numpy()\n",
        "print(mat.shape)"
      ],
      "execution_count": 121,
      "outputs": [
        {
          "output_type": "stream",
          "text": [
            "(33402, 27)\n"
          ],
          "name": "stdout"
        }
      ]
    },
    {
      "cell_type": "markdown",
      "metadata": {
        "id": "JGQHfWR9hCBm",
        "colab_type": "text"
      },
      "source": [
        "Normalizamos las variables"
      ]
    },
    {
      "cell_type": "code",
      "metadata": {
        "id": "LnDUruoxDK29",
        "colab_type": "code",
        "colab": {}
      },
      "source": [
        "#noramlizamos variables\n",
        "from sklearn.preprocessing import MinMaxScaler\n",
        "scaler=MinMaxScaler()\n",
        "mat=scaler.fit_transform(mat)"
      ],
      "execution_count": 0,
      "outputs": []
    },
    {
      "cell_type": "markdown",
      "metadata": {
        "id": "Z5yMmNVthE0i",
        "colab_type": "text"
      },
      "source": [
        "### Variable target"
      ]
    },
    {
      "cell_type": "code",
      "metadata": {
        "id": "wCym1ZswhHgp",
        "colab_type": "code",
        "colab": {
          "base_uri": "https://localhost:8080/",
          "height": 34
        },
        "outputId": "4939c620-bfbc-4817-f925-0edc0c93b60e"
      },
      "source": [
        "y=df[\"target\"].to_numpy()\n",
        "len(y)"
      ],
      "execution_count": 123,
      "outputs": [
        {
          "output_type": "execute_result",
          "data": {
            "text/plain": [
              "33402"
            ]
          },
          "metadata": {
            "tags": []
          },
          "execution_count": 123
        }
      ]
    },
    {
      "cell_type": "markdown",
      "metadata": {
        "id": "JIxMb90nIR2W",
        "colab_type": "text"
      },
      "source": [
        "# Modelo"
      ]
    },
    {
      "cell_type": "code",
      "metadata": {
        "id": "4t7Gz8m5G9Z_",
        "colab_type": "code",
        "colab": {}
      },
      "source": [
        "#Cargamos el mejor modelo\n",
        "import pickle\n",
        "\n",
        "with open(\"/content/drive/My Drive/QA/best_model.pkl\", \"rb\") as f:\n",
        "    clf=pickle.load(f)\n",
        "# jala el pickle del modelo"
      ],
      "execution_count": 0,
      "outputs": []
    },
    {
      "cell_type": "code",
      "metadata": {
        "id": "zRDsjXR_HDB3",
        "colab_type": "code",
        "colab": {
          "base_uri": "https://localhost:8080/",
          "height": 34
        },
        "outputId": "2d5a0e9d-003c-4547-b833-6524fb858836"
      },
      "source": [
        "#hacer predicciones\n",
        "clf.score(mat, y)"
      ],
      "execution_count": 126,
      "outputs": [
        {
          "output_type": "execute_result",
          "data": {
            "text/plain": [
              "0.5958924615292498"
            ]
          },
          "metadata": {
            "tags": []
          },
          "execution_count": 126
        }
      ]
    },
    {
      "cell_type": "markdown",
      "metadata": {
        "id": "kJlAoQsbhVBK",
        "colab_type": "text"
      },
      "source": [
        "Tenemos un resultado de 59.58% en los datos test"
      ]
    }
  ]
}
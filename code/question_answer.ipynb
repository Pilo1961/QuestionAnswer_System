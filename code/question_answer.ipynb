{
  "nbformat": 4,
  "nbformat_minor": 0,
  "metadata": {
    "colab": {
      "name": "question_answer.ipynb",
      "provenance": [],
      "include_colab_link": true
    },
    "kernelspec": {
      "name": "python3",
      "display_name": "Python 3"
    }
  },
  "cells": [
    {
      "cell_type": "markdown",
      "metadata": {
        "id": "view-in-github",
        "colab_type": "text"
      },
      "source": [
        "<a href=\"https://colab.research.google.com/github/Pilo1961/QuestionAnswer_System/blob/master/code/question_answer.ipynb\" target=\"_parent\"><img src=\"https://colab.research.google.com/assets/colab-badge.svg\" alt=\"Open In Colab\"/></a>"
      ]
    },
    {
      "cell_type": "markdown",
      "metadata": {
        "id": "7bUXPVb2Gt6C",
        "colab_type": "text"
      },
      "source": [
        "# Sistema de Preguntas y Respuestas\n",
        "## Métodos Analíticos"
      ]
    },
    {
      "cell_type": "code",
      "metadata": {
        "id": "TiDbJLdsdsKO",
        "colab_type": "code",
        "colab": {}
      },
      "source": [
        "import numpy as np\n",
        "import pandas as pd\n",
        "import json"
      ],
      "execution_count": 0,
      "outputs": []
    },
    {
      "cell_type": "markdown",
      "metadata": {
        "id": "GHovvhHY7pKM",
        "colab_type": "text"
      },
      "source": [
        "## Lectura de datos"
      ]
    },
    {
      "cell_type": "code",
      "metadata": {
        "id": "HkJiTlD3G9da",
        "colab_type": "code",
        "outputId": "0d7ac95c-8aee-4aea-d5bc-7d218235e077",
        "colab": {
          "base_uri": "https://localhost:8080/",
          "height": 129
        }
      },
      "source": [
        "#load data from google drive\n",
        "from google.colab import drive\n",
        "drive.mount('/content/drive',force_remount=True)\n",
        "path= \"/content/drive/My Drive/data/QA/train-v2.0.json\"\n",
        "train=pd.read_json(path,orient='columns')\n",
        "#path= \"/content/drive/My Drive/data/QA/dev-v2.0.json\"\n",
        "#test=pd.read_json(path)"
      ],
      "execution_count": 0,
      "outputs": [
        {
          "output_type": "stream",
          "text": [
            "Go to this URL in a browser: https://accounts.google.com/o/oauth2/auth?client_id=947318989803-6bn6qk8qdgf4n4g3pfee6491hc0brc4i.apps.googleusercontent.com&redirect_uri=urn%3aietf%3awg%3aoauth%3a2.0%3aoob&response_type=code&scope=email%20https%3a%2f%2fwww.googleapis.com%2fauth%2fdocs.test%20https%3a%2f%2fwww.googleapis.com%2fauth%2fdrive%20https%3a%2f%2fwww.googleapis.com%2fauth%2fdrive.photos.readonly%20https%3a%2f%2fwww.googleapis.com%2fauth%2fpeopleapi.readonly\n",
            "\n",
            "Enter your authorization code:\n",
            "··········\n",
            "Mounted at /content/drive\n"
          ],
          "name": "stdout"
        }
      ]
    },
    {
      "cell_type": "markdown",
      "metadata": {
        "id": "ZwEgaOTZ7z01",
        "colab_type": "text"
      },
      "source": [
        "## Datos\n",
        "\n",
        "Los datos los leemos en un archivo json anidado de varios nivles. La estructura del archivo es la siguiente\n",
        "\n",
        "+ Titulo\n",
        "+ Paragraph \n",
        "    + Context\n",
        "    + Qas\n",
        "        + Id\n",
        "        + Question\n",
        "        + Answers\n",
        "            + Text\n",
        "            + Answer start\n",
        "        + Is impossible\n",
        "        + Plausible answers\n",
        "            + Text\n",
        "            + Answer start\n",
        "  \n",
        "\n",
        "En las siguientes celdas observamos los diferentes niveles de anidacióón de los datos.\n",
        "\n",
        "Los datos contienen 130319 preguntas divididas en dos grandes ramas. Preguntas que tienen respuesta y preguntas que no tienen respuestas.\n"
      ]
    },
    {
      "cell_type": "code",
      "metadata": {
        "id": "dUtT2smilf7d",
        "colab_type": "code",
        "outputId": "1e9b8f97-87b0-4dea-9b9f-c89a27961c8b",
        "colab": {
          "base_uri": "https://localhost:8080/",
          "height": 206
        }
      },
      "source": [
        "# Lectura de datos\n",
        "with open(path) as f: \n",
        "    d = json.load(f) \n",
        "\n",
        "test = pd.json_normalize(d['data'])  \n",
        "test.shape\n",
        "test.head()"
      ],
      "execution_count": 0,
      "outputs": [
        {
          "output_type": "execute_result",
          "data": {
            "text/html": [
              "<div>\n",
              "<style scoped>\n",
              "    .dataframe tbody tr th:only-of-type {\n",
              "        vertical-align: middle;\n",
              "    }\n",
              "\n",
              "    .dataframe tbody tr th {\n",
              "        vertical-align: top;\n",
              "    }\n",
              "\n",
              "    .dataframe thead th {\n",
              "        text-align: right;\n",
              "    }\n",
              "</style>\n",
              "<table border=\"1\" class=\"dataframe\">\n",
              "  <thead>\n",
              "    <tr style=\"text-align: right;\">\n",
              "      <th></th>\n",
              "      <th>title</th>\n",
              "      <th>paragraphs</th>\n",
              "    </tr>\n",
              "  </thead>\n",
              "  <tbody>\n",
              "    <tr>\n",
              "      <th>0</th>\n",
              "      <td>Beyoncé</td>\n",
              "      <td>[{'qas': [{'question': 'When did Beyonce start...</td>\n",
              "    </tr>\n",
              "    <tr>\n",
              "      <th>1</th>\n",
              "      <td>Frédéric_Chopin</td>\n",
              "      <td>[{'qas': [{'question': \"What was Frédéric's na...</td>\n",
              "    </tr>\n",
              "    <tr>\n",
              "      <th>2</th>\n",
              "      <td>Sino-Tibetan_relations_during_the_Ming_dynasty</td>\n",
              "      <td>[{'qas': [{'question': 'Who were Wang Jiawei a...</td>\n",
              "    </tr>\n",
              "    <tr>\n",
              "      <th>3</th>\n",
              "      <td>IPod</td>\n",
              "      <td>[{'qas': [{'question': 'Which company produces...</td>\n",
              "    </tr>\n",
              "    <tr>\n",
              "      <th>4</th>\n",
              "      <td>The_Legend_of_Zelda:_Twilight_Princess</td>\n",
              "      <td>[{'qas': [{'question': 'What category of game ...</td>\n",
              "    </tr>\n",
              "  </tbody>\n",
              "</table>\n",
              "</div>"
            ],
            "text/plain": [
              "                                            title                                         paragraphs\n",
              "0                                         Beyoncé  [{'qas': [{'question': 'When did Beyonce start...\n",
              "1                                 Frédéric_Chopin  [{'qas': [{'question': \"What was Frédéric's na...\n",
              "2  Sino-Tibetan_relations_during_the_Ming_dynasty  [{'qas': [{'question': 'Who were Wang Jiawei a...\n",
              "3                                            IPod  [{'qas': [{'question': 'Which company produces...\n",
              "4          The_Legend_of_Zelda:_Twilight_Princess  [{'qas': [{'question': 'What category of game ..."
            ]
          },
          "metadata": {
            "tags": []
          },
          "execution_count": 4
        }
      ]
    },
    {
      "cell_type": "markdown",
      "metadata": {
        "id": "wKYTwBZMoOP3",
        "colab_type": "text"
      },
      "source": [
        "El dataset de entrenamiento es un json anidado. En el primer nivel tiene una columna con el tíítulo y otra columna de json anidado llamada paragreaphs."
      ]
    },
    {
      "cell_type": "code",
      "metadata": {
        "id": "CC94apd_c3GU",
        "colab_type": "code",
        "outputId": "e4d8c6c3-0786-48bd-c524-be6d9bd7a66d",
        "colab": {
          "base_uri": "https://localhost:8080/",
          "height": 206
        }
      },
      "source": [
        "nycphil2=pd.json_normalize(data=d['data'],record_path=['paragraphs'],meta=['title'])\n",
        "nycphil2.head()"
      ],
      "execution_count": 0,
      "outputs": [
        {
          "output_type": "execute_result",
          "data": {
            "text/html": [
              "<div>\n",
              "<style scoped>\n",
              "    .dataframe tbody tr th:only-of-type {\n",
              "        vertical-align: middle;\n",
              "    }\n",
              "\n",
              "    .dataframe tbody tr th {\n",
              "        vertical-align: top;\n",
              "    }\n",
              "\n",
              "    .dataframe thead th {\n",
              "        text-align: right;\n",
              "    }\n",
              "</style>\n",
              "<table border=\"1\" class=\"dataframe\">\n",
              "  <thead>\n",
              "    <tr style=\"text-align: right;\">\n",
              "      <th></th>\n",
              "      <th>qas</th>\n",
              "      <th>context</th>\n",
              "      <th>title</th>\n",
              "    </tr>\n",
              "  </thead>\n",
              "  <tbody>\n",
              "    <tr>\n",
              "      <th>0</th>\n",
              "      <td>[{'question': 'When did Beyonce start becoming...</td>\n",
              "      <td>Beyoncé Giselle Knowles-Carter (/biːˈjɒnseɪ/ b...</td>\n",
              "      <td>Beyoncé</td>\n",
              "    </tr>\n",
              "    <tr>\n",
              "      <th>1</th>\n",
              "      <td>[{'question': 'After her second solo album, wh...</td>\n",
              "      <td>Following the disbandment of Destiny's Child i...</td>\n",
              "      <td>Beyoncé</td>\n",
              "    </tr>\n",
              "    <tr>\n",
              "      <th>2</th>\n",
              "      <td>[{'question': 'In her music, what are some rec...</td>\n",
              "      <td>A self-described \"modern-day feminist\", Beyonc...</td>\n",
              "      <td>Beyoncé</td>\n",
              "    </tr>\n",
              "    <tr>\n",
              "      <th>3</th>\n",
              "      <td>[{'question': 'Beyonce's younger sibling also ...</td>\n",
              "      <td>Beyoncé Giselle Knowles was born in Houston, T...</td>\n",
              "      <td>Beyoncé</td>\n",
              "    </tr>\n",
              "    <tr>\n",
              "      <th>4</th>\n",
              "      <td>[{'question': 'What town did Beyonce go to sch...</td>\n",
              "      <td>Beyoncé attended St. Mary's Elementary School ...</td>\n",
              "      <td>Beyoncé</td>\n",
              "    </tr>\n",
              "  </tbody>\n",
              "</table>\n",
              "</div>"
            ],
            "text/plain": [
              "                                                 qas  ...    title\n",
              "0  [{'question': 'When did Beyonce start becoming...  ...  Beyoncé\n",
              "1  [{'question': 'After her second solo album, wh...  ...  Beyoncé\n",
              "2  [{'question': 'In her music, what are some rec...  ...  Beyoncé\n",
              "3  [{'question': 'Beyonce's younger sibling also ...  ...  Beyoncé\n",
              "4  [{'question': 'What town did Beyonce go to sch...  ...  Beyoncé\n",
              "\n",
              "[5 rows x 3 columns]"
            ]
          },
          "metadata": {
            "tags": []
          },
          "execution_count": 5
        }
      ]
    },
    {
      "cell_type": "markdown",
      "metadata": {
        "id": "VC8MmA10n8tc",
        "colab_type": "text"
      },
      "source": [
        "Si abrimos paragraph tiene dos columnas:\n",
        "  + qas - json anidado\n",
        "  + context - Escrito con el contexto de la pregunta\n",
        "  + title la obtenemos del nivel anterior"
      ]
    },
    {
      "cell_type": "code",
      "metadata": {
        "id": "R6z8jVLjhCYT",
        "colab_type": "code",
        "outputId": "8c044276-9f84-43ad-d00b-f42d5fd809bf",
        "colab": {
          "base_uri": "https://localhost:8080/",
          "height": 206
        }
      },
      "source": [
        "nycphil3=pd.json_normalize(data=d['data'],record_path=['paragraphs','qas'])#,meta=['title',['paragraph','context']])\n",
        "nycphil3.head()"
      ],
      "execution_count": 0,
      "outputs": [
        {
          "output_type": "execute_result",
          "data": {
            "text/html": [
              "<div>\n",
              "<style scoped>\n",
              "    .dataframe tbody tr th:only-of-type {\n",
              "        vertical-align: middle;\n",
              "    }\n",
              "\n",
              "    .dataframe tbody tr th {\n",
              "        vertical-align: top;\n",
              "    }\n",
              "\n",
              "    .dataframe thead th {\n",
              "        text-align: right;\n",
              "    }\n",
              "</style>\n",
              "<table border=\"1\" class=\"dataframe\">\n",
              "  <thead>\n",
              "    <tr style=\"text-align: right;\">\n",
              "      <th></th>\n",
              "      <th>question</th>\n",
              "      <th>id</th>\n",
              "      <th>answers</th>\n",
              "      <th>is_impossible</th>\n",
              "      <th>plausible_answers</th>\n",
              "    </tr>\n",
              "  </thead>\n",
              "  <tbody>\n",
              "    <tr>\n",
              "      <th>0</th>\n",
              "      <td>When did Beyonce start becoming popular?</td>\n",
              "      <td>56be85543aeaaa14008c9063</td>\n",
              "      <td>[{'text': 'in the late 1990s', 'answer_start':...</td>\n",
              "      <td>False</td>\n",
              "      <td>NaN</td>\n",
              "    </tr>\n",
              "    <tr>\n",
              "      <th>1</th>\n",
              "      <td>What areas did Beyonce compete in when she was...</td>\n",
              "      <td>56be85543aeaaa14008c9065</td>\n",
              "      <td>[{'text': 'singing and dancing', 'answer_start...</td>\n",
              "      <td>False</td>\n",
              "      <td>NaN</td>\n",
              "    </tr>\n",
              "    <tr>\n",
              "      <th>2</th>\n",
              "      <td>When did Beyonce leave Destiny's Child and bec...</td>\n",
              "      <td>56be85543aeaaa14008c9066</td>\n",
              "      <td>[{'text': '2003', 'answer_start': 526}]</td>\n",
              "      <td>False</td>\n",
              "      <td>NaN</td>\n",
              "    </tr>\n",
              "    <tr>\n",
              "      <th>3</th>\n",
              "      <td>In what city and state did Beyonce  grow up?</td>\n",
              "      <td>56bf6b0f3aeaaa14008c9601</td>\n",
              "      <td>[{'text': 'Houston, Texas', 'answer_start': 166}]</td>\n",
              "      <td>False</td>\n",
              "      <td>NaN</td>\n",
              "    </tr>\n",
              "    <tr>\n",
              "      <th>4</th>\n",
              "      <td>In which decade did Beyonce become famous?</td>\n",
              "      <td>56bf6b0f3aeaaa14008c9602</td>\n",
              "      <td>[{'text': 'late 1990s', 'answer_start': 276}]</td>\n",
              "      <td>False</td>\n",
              "      <td>NaN</td>\n",
              "    </tr>\n",
              "  </tbody>\n",
              "</table>\n",
              "</div>"
            ],
            "text/plain": [
              "                                            question  ... plausible_answers\n",
              "0           When did Beyonce start becoming popular?  ...               NaN\n",
              "1  What areas did Beyonce compete in when she was...  ...               NaN\n",
              "2  When did Beyonce leave Destiny's Child and bec...  ...               NaN\n",
              "3      In what city and state did Beyonce  grow up?   ...               NaN\n",
              "4         In which decade did Beyonce become famous?  ...               NaN\n",
              "\n",
              "[5 rows x 5 columns]"
            ]
          },
          "metadata": {
            "tags": []
          },
          "execution_count": 6
        }
      ]
    },
    {
      "cell_type": "code",
      "metadata": {
        "id": "HzrPdvu30Oy1",
        "colab_type": "code",
        "colab": {}
      },
      "source": [
        "Al abrir la columna qas encontramos 5 columnas mas\n",
        " + Question\n",
        " + Id\n",
        " + Answers - que es un json anidado\n",
        " + is_impossible - con valores booleanos\n",
        " + plausible answers - Con NaN y los valores que tiene son json anidados\n"
      ],
      "execution_count": 0,
      "outputs": []
    },
    {
      "cell_type": "code",
      "metadata": {
        "id": "aVDpA39apq3d",
        "colab_type": "code",
        "outputId": "58ca7145-bc50-4047-b4b5-117c7b3efecd",
        "colab": {
          "base_uri": "https://localhost:8080/",
          "height": 206
        }
      },
      "source": [
        "nycphil3=pd.json_normalize(data=d['data'],record_path=['paragraphs','qas','answers'])#,meta=['title',['paragraph','context']])\n",
        "nycphil3.head()"
      ],
      "execution_count": 0,
      "outputs": [
        {
          "output_type": "execute_result",
          "data": {
            "text/html": [
              "<div>\n",
              "<style scoped>\n",
              "    .dataframe tbody tr th:only-of-type {\n",
              "        vertical-align: middle;\n",
              "    }\n",
              "\n",
              "    .dataframe tbody tr th {\n",
              "        vertical-align: top;\n",
              "    }\n",
              "\n",
              "    .dataframe thead th {\n",
              "        text-align: right;\n",
              "    }\n",
              "</style>\n",
              "<table border=\"1\" class=\"dataframe\">\n",
              "  <thead>\n",
              "    <tr style=\"text-align: right;\">\n",
              "      <th></th>\n",
              "      <th>text</th>\n",
              "      <th>answer_start</th>\n",
              "    </tr>\n",
              "  </thead>\n",
              "  <tbody>\n",
              "    <tr>\n",
              "      <th>0</th>\n",
              "      <td>in the late 1990s</td>\n",
              "      <td>269</td>\n",
              "    </tr>\n",
              "    <tr>\n",
              "      <th>1</th>\n",
              "      <td>singing and dancing</td>\n",
              "      <td>207</td>\n",
              "    </tr>\n",
              "    <tr>\n",
              "      <th>2</th>\n",
              "      <td>2003</td>\n",
              "      <td>526</td>\n",
              "    </tr>\n",
              "    <tr>\n",
              "      <th>3</th>\n",
              "      <td>Houston, Texas</td>\n",
              "      <td>166</td>\n",
              "    </tr>\n",
              "    <tr>\n",
              "      <th>4</th>\n",
              "      <td>late 1990s</td>\n",
              "      <td>276</td>\n",
              "    </tr>\n",
              "  </tbody>\n",
              "</table>\n",
              "</div>"
            ],
            "text/plain": [
              "                  text  answer_start\n",
              "0    in the late 1990s           269\n",
              "1  singing and dancing           207\n",
              "2                 2003           526\n",
              "3       Houston, Texas           166\n",
              "4           late 1990s           276"
            ]
          },
          "metadata": {
            "tags": []
          },
          "execution_count": 82
        }
      ]
    },
    {
      "cell_type": "markdown",
      "metadata": {
        "id": "V5MHU2Er0qv9",
        "colab_type": "text"
      },
      "source": [
        "Cuando abrimos la columna answer encontramos dos columnas:\n",
        "  + Text - texto que contiene la respuesta\n",
        "  + Answer_start - Posicion de el contexto en el que comienza la respuesta"
      ]
    },
    {
      "cell_type": "code",
      "metadata": {
        "id": "NvpTuz7i0NvA",
        "colab_type": "code",
        "outputId": "67419be1-4cd6-45eb-e238-e3b9a3af3319",
        "colab": {
          "base_uri": "https://localhost:8080/",
          "height": 35
        }
      },
      "source": [
        "nycphil3=pd.json_normalize(data=d['data'],record_path=['paragraphs','qas'])#,'plausible_answers'])#,meta=['title',['paragraph','context']])\n",
        "nycphil3.shape"
      ],
      "execution_count": 0,
      "outputs": [
        {
          "output_type": "execute_result",
          "data": {
            "text/plain": [
              "(130319, 5)"
            ]
          },
          "metadata": {
            "tags": []
          },
          "execution_count": 27
        }
      ]
    },
    {
      "cell_type": "markdown",
      "metadata": {
        "id": "P1Bj2yPY2DSl",
        "colab_type": "text"
      },
      "source": [
        "# Preguntas con respuesta\n",
        "Compilamos el dataframe llamado **df**.\n",
        "* Contiene 7 columnas y todas las preguntas que cumplen las premisas.\n",
        "* Contiene 86821 preguntas con respuesta dentreo del set de entrenamiento.\n",
        "* No tiene valores nulos\n",
        "* La **variable respuesta** es text, que contiene la respuesta a la pregunta y **answer start** que indica la posicion donde esta la respuesta dentro del contexto.\n",
        "* La variable is_impossible no tiene variabilidad en preguntas con respuesta"
      ]
    },
    {
      "cell_type": "code",
      "metadata": {
        "id": "IDUzJHK-k6If",
        "colab_type": "code",
        "outputId": "130f109f-f620-4daa-8886-43795fe5a88b",
        "colab": {
          "base_uri": "https://localhost:8080/",
          "height": 206
        }
      },
      "source": [
        "df=pd.json_normalize(data=d['data'],\n",
        "                        record_path=['paragraphs','qas','answers'],\n",
        "                        record_prefix=None,\n",
        "                        meta_prefix=None,\n",
        "                        meta=['title',\n",
        "                              ['paragraph','context'],\n",
        "                              ['paragraph','qas','question'],\n",
        "                              ['paragraph','qas','id'],\n",
        "                              ['paragraph','qas','is_impossible']])\n",
        "\n",
        "df.rename(columns={'paragraph.context':'context','paragraph.qas.question':'question','paragraph.qas.id':'id','paragraph.qas.is_impossible':'is_impossible'},inplace=True)\n",
        "df.head()"
      ],
      "execution_count": 0,
      "outputs": [
        {
          "output_type": "execute_result",
          "data": {
            "text/html": [
              "<div>\n",
              "<style scoped>\n",
              "    .dataframe tbody tr th:only-of-type {\n",
              "        vertical-align: middle;\n",
              "    }\n",
              "\n",
              "    .dataframe tbody tr th {\n",
              "        vertical-align: top;\n",
              "    }\n",
              "\n",
              "    .dataframe thead th {\n",
              "        text-align: right;\n",
              "    }\n",
              "</style>\n",
              "<table border=\"1\" class=\"dataframe\">\n",
              "  <thead>\n",
              "    <tr style=\"text-align: right;\">\n",
              "      <th></th>\n",
              "      <th>text</th>\n",
              "      <th>answer_start</th>\n",
              "      <th>title</th>\n",
              "      <th>context</th>\n",
              "      <th>question</th>\n",
              "      <th>id</th>\n",
              "      <th>is_impossible</th>\n",
              "    </tr>\n",
              "  </thead>\n",
              "  <tbody>\n",
              "    <tr>\n",
              "      <th>0</th>\n",
              "      <td>in the late 1990s</td>\n",
              "      <td>269</td>\n",
              "      <td>Beyoncé</td>\n",
              "      <td>Beyoncé Giselle Knowles-Carter (/biːˈjɒnseɪ/ b...</td>\n",
              "      <td>When did Beyonce start becoming popular?</td>\n",
              "      <td>56be85543aeaaa14008c9063</td>\n",
              "      <td>False</td>\n",
              "    </tr>\n",
              "    <tr>\n",
              "      <th>1</th>\n",
              "      <td>singing and dancing</td>\n",
              "      <td>207</td>\n",
              "      <td>Beyoncé</td>\n",
              "      <td>Beyoncé Giselle Knowles-Carter (/biːˈjɒnseɪ/ b...</td>\n",
              "      <td>What areas did Beyonce compete in when she was...</td>\n",
              "      <td>56be85543aeaaa14008c9065</td>\n",
              "      <td>False</td>\n",
              "    </tr>\n",
              "    <tr>\n",
              "      <th>2</th>\n",
              "      <td>2003</td>\n",
              "      <td>526</td>\n",
              "      <td>Beyoncé</td>\n",
              "      <td>Beyoncé Giselle Knowles-Carter (/biːˈjɒnseɪ/ b...</td>\n",
              "      <td>When did Beyonce leave Destiny's Child and bec...</td>\n",
              "      <td>56be85543aeaaa14008c9066</td>\n",
              "      <td>False</td>\n",
              "    </tr>\n",
              "    <tr>\n",
              "      <th>3</th>\n",
              "      <td>Houston, Texas</td>\n",
              "      <td>166</td>\n",
              "      <td>Beyoncé</td>\n",
              "      <td>Beyoncé Giselle Knowles-Carter (/biːˈjɒnseɪ/ b...</td>\n",
              "      <td>In what city and state did Beyonce  grow up?</td>\n",
              "      <td>56bf6b0f3aeaaa14008c9601</td>\n",
              "      <td>False</td>\n",
              "    </tr>\n",
              "    <tr>\n",
              "      <th>4</th>\n",
              "      <td>late 1990s</td>\n",
              "      <td>276</td>\n",
              "      <td>Beyoncé</td>\n",
              "      <td>Beyoncé Giselle Knowles-Carter (/biːˈjɒnseɪ/ b...</td>\n",
              "      <td>In which decade did Beyonce become famous?</td>\n",
              "      <td>56bf6b0f3aeaaa14008c9602</td>\n",
              "      <td>False</td>\n",
              "    </tr>\n",
              "  </tbody>\n",
              "</table>\n",
              "</div>"
            ],
            "text/plain": [
              "                  text  answer_start  ...                        id is_impossible\n",
              "0    in the late 1990s           269  ...  56be85543aeaaa14008c9063         False\n",
              "1  singing and dancing           207  ...  56be85543aeaaa14008c9065         False\n",
              "2                 2003           526  ...  56be85543aeaaa14008c9066         False\n",
              "3       Houston, Texas           166  ...  56bf6b0f3aeaaa14008c9601         False\n",
              "4           late 1990s           276  ...  56bf6b0f3aeaaa14008c9602         False\n",
              "\n",
              "[5 rows x 7 columns]"
            ]
          },
          "metadata": {
            "tags": []
          },
          "execution_count": 54
        }
      ]
    },
    {
      "cell_type": "code",
      "metadata": {
        "id": "x-9BevmstMeB",
        "colab_type": "code",
        "outputId": "d54a693a-9622-4723-a893-2adb9d538d15",
        "colab": {
          "base_uri": "https://localhost:8080/",
          "height": 219
        }
      },
      "source": [
        "print(\"dimensiones df\",df.shape)\n",
        "print(\"Respuestas imposibles \", df[\"paragraph.qas.is_impossible\"].sum())\n",
        "print(\"Nas \\n\", df.isna().sum())\n"
      ],
      "execution_count": 0,
      "outputs": [
        {
          "output_type": "stream",
          "text": [
            "dimensiones df (86821, 7)\n",
            "Respuestas imposibles  0\n",
            "Nas \n",
            " text                           0\n",
            "answer_start                   0\n",
            "title                          0\n",
            "paragraph.context              0\n",
            "paragraph.qas.question         0\n",
            "paragraph.qas.id               0\n",
            "paragraph.qas.is_impossible    0\n",
            "dtype: int64\n"
          ],
          "name": "stdout"
        }
      ]
    },
    {
      "cell_type": "markdown",
      "metadata": {
        "id": "qh-XjkfT6qpw",
        "colab_type": "text"
      },
      "source": [
        "## Preguntas sin respuestas\n",
        "La variable is_impossible boolanea representa las preguntas que no tienen respuesta que se deben de idetificar como parte de la versióón 2 de la base de datos.\n",
        "Por el momento las vamos a ignorar, sin embargo se en las siguientes casillas se explora un poco la naturaleza de esos datos.\n",
        "1. En los casos en los que plausible answers tiene valores distintos de Na la variable answer es vacía.\n",
        "2. En los casos que la variable is_impossilbe tiene valores verdaderos la variable plausible_answers tiene valores distintos de NA.\n",
        "3. Hay 43498 entradas en esta situacion."
      ]
    },
    {
      "cell_type": "code",
      "metadata": {
        "id": "OHtPpIECCF0k",
        "colab_type": "code",
        "outputId": "b1f3a36f-ec2b-4b66-8512-b81d41f78473",
        "colab": {
          "base_uri": "https://localhost:8080/",
          "height": 424
        }
      },
      "source": [
        "df2=pd.json_normalize(data=d['data'],record_path=['paragraphs','qas'])\n",
        "df2=df2[df2[\"is_impossible\"]==True]\n",
        "df2"
      ],
      "execution_count": 0,
      "outputs": [
        {
          "output_type": "execute_result",
          "data": {
            "text/html": [
              "<div>\n",
              "<style scoped>\n",
              "    .dataframe tbody tr th:only-of-type {\n",
              "        vertical-align: middle;\n",
              "    }\n",
              "\n",
              "    .dataframe tbody tr th {\n",
              "        vertical-align: top;\n",
              "    }\n",
              "\n",
              "    .dataframe thead th {\n",
              "        text-align: right;\n",
              "    }\n",
              "</style>\n",
              "<table border=\"1\" class=\"dataframe\">\n",
              "  <thead>\n",
              "    <tr style=\"text-align: right;\">\n",
              "      <th></th>\n",
              "      <th>question</th>\n",
              "      <th>id</th>\n",
              "      <th>answers</th>\n",
              "      <th>is_impossible</th>\n",
              "      <th>plausible_answers</th>\n",
              "    </tr>\n",
              "  </thead>\n",
              "  <tbody>\n",
              "    <tr>\n",
              "      <th>2075</th>\n",
              "      <td>What category of game is Legend of Zelda: Aust...</td>\n",
              "      <td>5a8d7bf7df8bba001a0f9ab1</td>\n",
              "      <td>[]</td>\n",
              "      <td>True</td>\n",
              "      <td>[{'text': 'action-adventure', 'answer_start': ...</td>\n",
              "    </tr>\n",
              "    <tr>\n",
              "      <th>2076</th>\n",
              "      <td>What consoles can be used to play Australia Tw...</td>\n",
              "      <td>5a8d7bf7df8bba001a0f9ab2</td>\n",
              "      <td>[]</td>\n",
              "      <td>True</td>\n",
              "      <td>[{'text': 'GameCube and Wii', 'answer_start': ...</td>\n",
              "    </tr>\n",
              "    <tr>\n",
              "      <th>2077</th>\n",
              "      <td>When was Australia Twilight launched in North ...</td>\n",
              "      <td>5a8d7bf7df8bba001a0f9ab3</td>\n",
              "      <td>[]</td>\n",
              "      <td>True</td>\n",
              "      <td>[{'text': 'November 2006', 'answer_start': 569}]</td>\n",
              "    </tr>\n",
              "    <tr>\n",
              "      <th>2078</th>\n",
              "      <td>When could GameCube owners purchase Australian...</td>\n",
              "      <td>5a8d7bf7df8bba001a0f9ab4</td>\n",
              "      <td>[]</td>\n",
              "      <td>True</td>\n",
              "      <td>[{'text': 'November 2006', 'answer_start': 569}]</td>\n",
              "    </tr>\n",
              "    <tr>\n",
              "      <th>2079</th>\n",
              "      <td>What year was the Legend of Zelda: Australian ...</td>\n",
              "      <td>5a8d7bf7df8bba001a0f9ab5</td>\n",
              "      <td>[]</td>\n",
              "      <td>True</td>\n",
              "      <td>[{'text': '2005', 'answer_start': 364}]</td>\n",
              "    </tr>\n",
              "    <tr>\n",
              "      <th>...</th>\n",
              "      <td>...</td>\n",
              "      <td>...</td>\n",
              "      <td>...</td>\n",
              "      <td>...</td>\n",
              "      <td>...</td>\n",
              "    </tr>\n",
              "    <tr>\n",
              "      <th>130314</th>\n",
              "      <td>Physics has broadly agreed on the definition o...</td>\n",
              "      <td>5a7e070b70df9f001a875439</td>\n",
              "      <td>[]</td>\n",
              "      <td>True</td>\n",
              "      <td>[{'text': 'matter', 'answer_start': 485}]</td>\n",
              "    </tr>\n",
              "    <tr>\n",
              "      <th>130315</th>\n",
              "      <td>Who coined the term partonic matter?</td>\n",
              "      <td>5a7e070b70df9f001a87543a</td>\n",
              "      <td>[]</td>\n",
              "      <td>True</td>\n",
              "      <td>[{'text': 'Alfvén', 'answer_start': 327}]</td>\n",
              "    </tr>\n",
              "    <tr>\n",
              "      <th>130316</th>\n",
              "      <td>What is another name for anti-matter?</td>\n",
              "      <td>5a7e070b70df9f001a87543b</td>\n",
              "      <td>[]</td>\n",
              "      <td>True</td>\n",
              "      <td>[{'text': 'Gk. common matter', 'answer_start':...</td>\n",
              "    </tr>\n",
              "    <tr>\n",
              "      <th>130317</th>\n",
              "      <td>Matter usually does not need to be used in con...</td>\n",
              "      <td>5a7e070b70df9f001a87543c</td>\n",
              "      <td>[]</td>\n",
              "      <td>True</td>\n",
              "      <td>[{'text': 'a specifying modifier', 'answer_sta...</td>\n",
              "    </tr>\n",
              "    <tr>\n",
              "      <th>130318</th>\n",
              "      <td>What field of study has a variety of unusual c...</td>\n",
              "      <td>5a7e070b70df9f001a87543d</td>\n",
              "      <td>[]</td>\n",
              "      <td>True</td>\n",
              "      <td>[{'text': 'physics', 'answer_start': 37}]</td>\n",
              "    </tr>\n",
              "  </tbody>\n",
              "</table>\n",
              "<p>43498 rows × 5 columns</p>\n",
              "</div>"
            ],
            "text/plain": [
              "                                                 question  ...                                  plausible_answers\n",
              "2075    What category of game is Legend of Zelda: Aust...  ...  [{'text': 'action-adventure', 'answer_start': ...\n",
              "2076    What consoles can be used to play Australia Tw...  ...  [{'text': 'GameCube and Wii', 'answer_start': ...\n",
              "2077    When was Australia Twilight launched in North ...  ...   [{'text': 'November 2006', 'answer_start': 569}]\n",
              "2078    When could GameCube owners purchase Australian...  ...   [{'text': 'November 2006', 'answer_start': 569}]\n",
              "2079    What year was the Legend of Zelda: Australian ...  ...            [{'text': '2005', 'answer_start': 364}]\n",
              "...                                                   ...  ...                                                ...\n",
              "130314  Physics has broadly agreed on the definition o...  ...          [{'text': 'matter', 'answer_start': 485}]\n",
              "130315               Who coined the term partonic matter?  ...          [{'text': 'Alfvén', 'answer_start': 327}]\n",
              "130316              What is another name for anti-matter?  ...  [{'text': 'Gk. common matter', 'answer_start':...\n",
              "130317  Matter usually does not need to be used in con...  ...  [{'text': 'a specifying modifier', 'answer_sta...\n",
              "130318  What field of study has a variety of unusual c...  ...          [{'text': 'physics', 'answer_start': 37}]\n",
              "\n",
              "[43498 rows x 5 columns]"
            ]
          },
          "metadata": {
            "tags": []
          },
          "execution_count": 38
        }
      ]
    },
    {
      "cell_type": "code",
      "metadata": {
        "id": "LtYCi5d0DK5o",
        "colab_type": "code",
        "outputId": "48a62e56-64ae-46f1-fb9b-35caa4fd6909",
        "colab": {
          "base_uri": "https://localhost:8080/",
          "height": 327
        }
      },
      "source": [
        "# Todavio no lo saco pero no es necesario\n",
        "pd.json_normalize(data=df2['plausible_answers'])"
      ],
      "execution_count": 0,
      "outputs": [
        {
          "output_type": "error",
          "ename": "AttributeError",
          "evalue": "ignored",
          "traceback": [
            "\u001b[0;31m---------------------------------------------------------------------------\u001b[0m",
            "\u001b[0;31mAttributeError\u001b[0m                            Traceback (most recent call last)",
            "\u001b[0;32m<ipython-input-45-bbfbbbf3f427>\u001b[0m in \u001b[0;36m<module>\u001b[0;34m()\u001b[0m\n\u001b[0;32m----> 1\u001b[0;31m \u001b[0mpd\u001b[0m\u001b[0;34m.\u001b[0m\u001b[0mjson_normalize\u001b[0m\u001b[0;34m(\u001b[0m\u001b[0mdata\u001b[0m\u001b[0;34m=\u001b[0m\u001b[0mdf2\u001b[0m\u001b[0;34m[\u001b[0m\u001b[0;34m'plausible_answers'\u001b[0m\u001b[0;34m]\u001b[0m\u001b[0;34m)\u001b[0m\u001b[0;34m\u001b[0m\u001b[0;34m\u001b[0m\u001b[0m\n\u001b[0m",
            "\u001b[0;32m/usr/local/lib/python3.6/dist-packages/pandas/io/json/_normalize.py\u001b[0m in \u001b[0;36m_json_normalize\u001b[0;34m(data, record_path, meta, meta_prefix, record_prefix, errors, sep, max_level)\u001b[0m\n\u001b[1;32m    272\u001b[0m \u001b[0;34m\u001b[0m\u001b[0m\n\u001b[1;32m    273\u001b[0m     \u001b[0;32mif\u001b[0m \u001b[0mrecord_path\u001b[0m \u001b[0;32mis\u001b[0m \u001b[0;32mNone\u001b[0m\u001b[0;34m:\u001b[0m\u001b[0;34m\u001b[0m\u001b[0;34m\u001b[0m\u001b[0m\n\u001b[0;32m--> 274\u001b[0;31m         \u001b[0;32mif\u001b[0m \u001b[0many\u001b[0m\u001b[0;34m(\u001b[0m\u001b[0;34m[\u001b[0m\u001b[0misinstance\u001b[0m\u001b[0;34m(\u001b[0m\u001b[0mx\u001b[0m\u001b[0;34m,\u001b[0m \u001b[0mdict\u001b[0m\u001b[0;34m)\u001b[0m \u001b[0;32mfor\u001b[0m \u001b[0mx\u001b[0m \u001b[0;32min\u001b[0m \u001b[0my\u001b[0m\u001b[0;34m.\u001b[0m\u001b[0mvalues\u001b[0m\u001b[0;34m(\u001b[0m\u001b[0;34m)\u001b[0m\u001b[0;34m]\u001b[0m \u001b[0;32mfor\u001b[0m \u001b[0my\u001b[0m \u001b[0;32min\u001b[0m \u001b[0mdata\u001b[0m\u001b[0;34m)\u001b[0m\u001b[0;34m:\u001b[0m\u001b[0;34m\u001b[0m\u001b[0;34m\u001b[0m\u001b[0m\n\u001b[0m\u001b[1;32m    275\u001b[0m             \u001b[0;31m# naive normalization, this is idempotent for flat records\u001b[0m\u001b[0;34m\u001b[0m\u001b[0;34m\u001b[0m\u001b[0;34m\u001b[0m\u001b[0m\n\u001b[1;32m    276\u001b[0m             \u001b[0;31m# and potentially will inflate the data considerably for\u001b[0m\u001b[0;34m\u001b[0m\u001b[0;34m\u001b[0m\u001b[0;34m\u001b[0m\u001b[0m\n",
            "\u001b[0;32m/usr/local/lib/python3.6/dist-packages/pandas/io/json/_normalize.py\u001b[0m in \u001b[0;36m<genexpr>\u001b[0;34m(.0)\u001b[0m\n\u001b[1;32m    272\u001b[0m \u001b[0;34m\u001b[0m\u001b[0m\n\u001b[1;32m    273\u001b[0m     \u001b[0;32mif\u001b[0m \u001b[0mrecord_path\u001b[0m \u001b[0;32mis\u001b[0m \u001b[0;32mNone\u001b[0m\u001b[0;34m:\u001b[0m\u001b[0;34m\u001b[0m\u001b[0;34m\u001b[0m\u001b[0m\n\u001b[0;32m--> 274\u001b[0;31m         \u001b[0;32mif\u001b[0m \u001b[0many\u001b[0m\u001b[0;34m(\u001b[0m\u001b[0;34m[\u001b[0m\u001b[0misinstance\u001b[0m\u001b[0;34m(\u001b[0m\u001b[0mx\u001b[0m\u001b[0;34m,\u001b[0m \u001b[0mdict\u001b[0m\u001b[0;34m)\u001b[0m \u001b[0;32mfor\u001b[0m \u001b[0mx\u001b[0m \u001b[0;32min\u001b[0m \u001b[0my\u001b[0m\u001b[0;34m.\u001b[0m\u001b[0mvalues\u001b[0m\u001b[0;34m(\u001b[0m\u001b[0;34m)\u001b[0m\u001b[0;34m]\u001b[0m \u001b[0;32mfor\u001b[0m \u001b[0my\u001b[0m \u001b[0;32min\u001b[0m \u001b[0mdata\u001b[0m\u001b[0;34m)\u001b[0m\u001b[0;34m:\u001b[0m\u001b[0;34m\u001b[0m\u001b[0;34m\u001b[0m\u001b[0m\n\u001b[0m\u001b[1;32m    275\u001b[0m             \u001b[0;31m# naive normalization, this is idempotent for flat records\u001b[0m\u001b[0;34m\u001b[0m\u001b[0;34m\u001b[0m\u001b[0;34m\u001b[0m\u001b[0m\n\u001b[1;32m    276\u001b[0m             \u001b[0;31m# and potentially will inflate the data considerably for\u001b[0m\u001b[0;34m\u001b[0m\u001b[0;34m\u001b[0m\u001b[0;34m\u001b[0m\u001b[0m\n",
            "\u001b[0;31mAttributeError\u001b[0m: 'list' object has no attribute 'values'"
          ]
        }
      ]
    },
    {
      "cell_type": "code",
      "metadata": {
        "id": "3r45LnnN4pEJ",
        "colab_type": "code",
        "outputId": "a78d0787-af00-4f8d-b850-9e1277a7af12",
        "colab": {
          "base_uri": "https://localhost:8080/",
          "height": 35
        }
      },
      "source": [
        "df2['plausible_answers'].iloc[1]"
      ],
      "execution_count": 0,
      "outputs": [
        {
          "output_type": "execute_result",
          "data": {
            "text/plain": [
              "[{'answer_start': 194, 'text': 'GameCube and Wii'}]"
            ]
          },
          "metadata": {
            "tags": []
          },
          "execution_count": 43
        }
      ]
    },
    {
      "cell_type": "markdown",
      "metadata": {
        "id": "jcXkOsHrAKeQ",
        "colab_type": "text"
      },
      "source": [
        "\n",
        "## Dataset version 1\n"
      ]
    },
    {
      "cell_type": "code",
      "metadata": {
        "id": "8IOCSsPP5x67",
        "colab_type": "code",
        "colab": {}
      },
      "source": [
        "import numpy as np\n",
        "import pandas as pd\n",
        "import json"
      ],
      "execution_count": 0,
      "outputs": []
    },
    {
      "cell_type": "code",
      "metadata": {
        "id": "dBEG8gwpX6ib",
        "colab_type": "code",
        "outputId": "205a99bd-0bc6-4ef4-ae19-320ad6312265",
        "colab": {
          "base_uri": "https://localhost:8080/",
          "height": 35
        }
      },
      "source": [
        "#load data from google drive\n",
        "from google.colab import drive\n",
        "drive.mount('/content/drive',force_remount=True)\n",
        "path= \"/content/drive/My Drive/data/QA/train-v1.0.json\"\n",
        "train=pd.read_json(path,orient='columns')\n",
        "#path= \"/content/drive/My Drive/data/QA/dev-v2.0.json\"\n",
        "#test=pd.read_json(path)"
      ],
      "execution_count": 162,
      "outputs": [
        {
          "output_type": "stream",
          "text": [
            "Mounted at /content/drive\n"
          ],
          "name": "stdout"
        }
      ]
    },
    {
      "cell_type": "code",
      "metadata": {
        "id": "S8wSClC-yOSE",
        "colab_type": "code",
        "outputId": "62a03ca2-98ac-4c84-ee68-e2485d436029",
        "colab": {
          "base_uri": "https://localhost:8080/",
          "height": 206
        }
      },
      "source": [
        "# Lectura de datos\n",
        "with open(path) as f: \n",
        "    d = json.load(f) \n",
        "\n",
        "test = pd.json_normalize(d['data'])  \n",
        "test.shape\n",
        "test.head()"
      ],
      "execution_count": 163,
      "outputs": [
        {
          "output_type": "execute_result",
          "data": {
            "text/html": [
              "<div>\n",
              "<style scoped>\n",
              "    .dataframe tbody tr th:only-of-type {\n",
              "        vertical-align: middle;\n",
              "    }\n",
              "\n",
              "    .dataframe tbody tr th {\n",
              "        vertical-align: top;\n",
              "    }\n",
              "\n",
              "    .dataframe thead th {\n",
              "        text-align: right;\n",
              "    }\n",
              "</style>\n",
              "<table border=\"1\" class=\"dataframe\">\n",
              "  <thead>\n",
              "    <tr style=\"text-align: right;\">\n",
              "      <th></th>\n",
              "      <th>paragraphs</th>\n",
              "      <th>title</th>\n",
              "    </tr>\n",
              "  </thead>\n",
              "  <tbody>\n",
              "    <tr>\n",
              "      <th>0</th>\n",
              "      <td>[{'context': 'Architecturally, the school has ...</td>\n",
              "      <td>University_of_Notre_Dame</td>\n",
              "    </tr>\n",
              "    <tr>\n",
              "      <th>1</th>\n",
              "      <td>[{'context': 'Beyoncé Giselle Knowles-Carter (...</td>\n",
              "      <td>Beyoncé</td>\n",
              "    </tr>\n",
              "    <tr>\n",
              "      <th>2</th>\n",
              "      <td>[{'context': 'Montana i/mɒnˈtænə/ is a state i...</td>\n",
              "      <td>Montana</td>\n",
              "    </tr>\n",
              "    <tr>\n",
              "      <th>3</th>\n",
              "      <td>[{'context': 'The phrase \"in whole or in part\"...</td>\n",
              "      <td>Genocide</td>\n",
              "    </tr>\n",
              "    <tr>\n",
              "      <th>4</th>\n",
              "      <td>[{'context': 'The emergence of resistance of b...</td>\n",
              "      <td>Antibiotics</td>\n",
              "    </tr>\n",
              "  </tbody>\n",
              "</table>\n",
              "</div>"
            ],
            "text/plain": [
              "                                          paragraphs                     title\n",
              "0  [{'context': 'Architecturally, the school has ...  University_of_Notre_Dame\n",
              "1  [{'context': 'Beyoncé Giselle Knowles-Carter (...                   Beyoncé\n",
              "2  [{'context': 'Montana i/mɒnˈtænə/ is a state i...                   Montana\n",
              "3  [{'context': 'The phrase \"in whole or in part\"...                  Genocide\n",
              "4  [{'context': 'The emergence of resistance of b...               Antibiotics"
            ]
          },
          "metadata": {
            "tags": []
          },
          "execution_count": 163
        }
      ]
    },
    {
      "cell_type": "code",
      "metadata": {
        "id": "38Fjp7SZyeqe",
        "colab_type": "code",
        "outputId": "bdd81412-e4d1-47b5-9685-ccf24fe31f55",
        "colab": {
          "base_uri": "https://localhost:8080/",
          "height": 206
        }
      },
      "source": [
        "nycphil2=pd.json_normalize(data=d['data'],record_path=['paragraphs'],meta=['title'])\n",
        "nycphil2.head()"
      ],
      "execution_count": 164,
      "outputs": [
        {
          "output_type": "execute_result",
          "data": {
            "text/html": [
              "<div>\n",
              "<style scoped>\n",
              "    .dataframe tbody tr th:only-of-type {\n",
              "        vertical-align: middle;\n",
              "    }\n",
              "\n",
              "    .dataframe tbody tr th {\n",
              "        vertical-align: top;\n",
              "    }\n",
              "\n",
              "    .dataframe thead th {\n",
              "        text-align: right;\n",
              "    }\n",
              "</style>\n",
              "<table border=\"1\" class=\"dataframe\">\n",
              "  <thead>\n",
              "    <tr style=\"text-align: right;\">\n",
              "      <th></th>\n",
              "      <th>context</th>\n",
              "      <th>qas</th>\n",
              "      <th>title</th>\n",
              "    </tr>\n",
              "  </thead>\n",
              "  <tbody>\n",
              "    <tr>\n",
              "      <th>0</th>\n",
              "      <td>Architecturally, the school has a Catholic cha...</td>\n",
              "      <td>[{'answers': [{'answer_start': 515, 'text': 'S...</td>\n",
              "      <td>University_of_Notre_Dame</td>\n",
              "    </tr>\n",
              "    <tr>\n",
              "      <th>1</th>\n",
              "      <td>As at most other universities, Notre Dame's st...</td>\n",
              "      <td>[{'answers': [{'answer_start': 248, 'text': 'S...</td>\n",
              "      <td>University_of_Notre_Dame</td>\n",
              "    </tr>\n",
              "    <tr>\n",
              "      <th>2</th>\n",
              "      <td>The university is the major seat of the Congre...</td>\n",
              "      <td>[{'answers': [{'answer_start': 119, 'text': 'R...</td>\n",
              "      <td>University_of_Notre_Dame</td>\n",
              "    </tr>\n",
              "    <tr>\n",
              "      <th>3</th>\n",
              "      <td>The College of Engineering was established in ...</td>\n",
              "      <td>[{'answers': [{'answer_start': 487, 'text': 'e...</td>\n",
              "      <td>University_of_Notre_Dame</td>\n",
              "    </tr>\n",
              "    <tr>\n",
              "      <th>4</th>\n",
              "      <td>All of Notre Dame's undergraduate students are...</td>\n",
              "      <td>[{'answers': [{'answer_start': 496, 'text': 'L...</td>\n",
              "      <td>University_of_Notre_Dame</td>\n",
              "    </tr>\n",
              "  </tbody>\n",
              "</table>\n",
              "</div>"
            ],
            "text/plain": [
              "                                             context  ...                     title\n",
              "0  Architecturally, the school has a Catholic cha...  ...  University_of_Notre_Dame\n",
              "1  As at most other universities, Notre Dame's st...  ...  University_of_Notre_Dame\n",
              "2  The university is the major seat of the Congre...  ...  University_of_Notre_Dame\n",
              "3  The College of Engineering was established in ...  ...  University_of_Notre_Dame\n",
              "4  All of Notre Dame's undergraduate students are...  ...  University_of_Notre_Dame\n",
              "\n",
              "[5 rows x 3 columns]"
            ]
          },
          "metadata": {
            "tags": []
          },
          "execution_count": 164
        }
      ]
    },
    {
      "cell_type": "code",
      "metadata": {
        "id": "GdVR2yOkykhI",
        "colab_type": "code",
        "outputId": "6e122df9-0db7-483e-9998-7e2b05e960fa",
        "colab": {
          "base_uri": "https://localhost:8080/",
          "height": 293
        }
      },
      "source": [
        "nycphil3=pd.json_normalize(data=d['data'],record_path=['paragraphs','qas'])#,meta=['title',['paragraph','context']])\n",
        "nycphil3.head()"
      ],
      "execution_count": 165,
      "outputs": [
        {
          "output_type": "execute_result",
          "data": {
            "text/html": [
              "<div>\n",
              "<style scoped>\n",
              "    .dataframe tbody tr th:only-of-type {\n",
              "        vertical-align: middle;\n",
              "    }\n",
              "\n",
              "    .dataframe tbody tr th {\n",
              "        vertical-align: top;\n",
              "    }\n",
              "\n",
              "    .dataframe thead th {\n",
              "        text-align: right;\n",
              "    }\n",
              "</style>\n",
              "<table border=\"1\" class=\"dataframe\">\n",
              "  <thead>\n",
              "    <tr style=\"text-align: right;\">\n",
              "      <th></th>\n",
              "      <th>answers</th>\n",
              "      <th>id</th>\n",
              "      <th>question</th>\n",
              "    </tr>\n",
              "  </thead>\n",
              "  <tbody>\n",
              "    <tr>\n",
              "      <th>0</th>\n",
              "      <td>[{'answer_start': 515, 'text': 'Saint Bernadet...</td>\n",
              "      <td>5733be284776f41900661182</td>\n",
              "      <td>To whom did the Virgin Mary allegedly appear i...</td>\n",
              "    </tr>\n",
              "    <tr>\n",
              "      <th>1</th>\n",
              "      <td>[{'answer_start': 187, 'text': ' a copper stat...</td>\n",
              "      <td>5733be284776f4190066117f</td>\n",
              "      <td>What is in front of the Notre Dame Main Building?</td>\n",
              "    </tr>\n",
              "    <tr>\n",
              "      <th>2</th>\n",
              "      <td>[{'answer_start': 279, 'text': 'the Main Build...</td>\n",
              "      <td>5733be284776f41900661180</td>\n",
              "      <td>The Basilica of the Sacred heart at Notre Dame...</td>\n",
              "    </tr>\n",
              "    <tr>\n",
              "      <th>3</th>\n",
              "      <td>[{'answer_start': 381, 'text': 'a Marian place...</td>\n",
              "      <td>5733be284776f41900661181</td>\n",
              "      <td>What is the Grotto at Notre Dame?</td>\n",
              "    </tr>\n",
              "    <tr>\n",
              "      <th>4</th>\n",
              "      <td>[{'answer_start': 92, 'text': 'a golden statue...</td>\n",
              "      <td>5733be284776f4190066117e</td>\n",
              "      <td>What sits on top of the Main Building at Notre...</td>\n",
              "    </tr>\n",
              "  </tbody>\n",
              "</table>\n",
              "</div>"
            ],
            "text/plain": [
              "                                             answers  ...                                           question\n",
              "0  [{'answer_start': 515, 'text': 'Saint Bernadet...  ...  To whom did the Virgin Mary allegedly appear i...\n",
              "1  [{'answer_start': 187, 'text': ' a copper stat...  ...  What is in front of the Notre Dame Main Building?\n",
              "2  [{'answer_start': 279, 'text': 'the Main Build...  ...  The Basilica of the Sacred heart at Notre Dame...\n",
              "3  [{'answer_start': 381, 'text': 'a Marian place...  ...                  What is the Grotto at Notre Dame?\n",
              "4  [{'answer_start': 92, 'text': 'a golden statue...  ...  What sits on top of the Main Building at Notre...\n",
              "\n",
              "[5 rows x 3 columns]"
            ]
          },
          "metadata": {
            "tags": []
          },
          "execution_count": 165
        }
      ]
    },
    {
      "cell_type": "code",
      "metadata": {
        "id": "7lywzzM4ypmm",
        "colab_type": "code",
        "outputId": "aa4fd149-1939-49bd-f0bc-a7d413d5149e",
        "colab": {
          "base_uri": "https://localhost:8080/",
          "height": 206
        }
      },
      "source": [
        "nycphil3=pd.json_normalize(data=d['data'],record_path=['paragraphs','qas','answers'])#,meta=['title',['paragraph','context']])\n",
        "nycphil3.head()"
      ],
      "execution_count": 166,
      "outputs": [
        {
          "output_type": "execute_result",
          "data": {
            "text/html": [
              "<div>\n",
              "<style scoped>\n",
              "    .dataframe tbody tr th:only-of-type {\n",
              "        vertical-align: middle;\n",
              "    }\n",
              "\n",
              "    .dataframe tbody tr th {\n",
              "        vertical-align: top;\n",
              "    }\n",
              "\n",
              "    .dataframe thead th {\n",
              "        text-align: right;\n",
              "    }\n",
              "</style>\n",
              "<table border=\"1\" class=\"dataframe\">\n",
              "  <thead>\n",
              "    <tr style=\"text-align: right;\">\n",
              "      <th></th>\n",
              "      <th>answer_start</th>\n",
              "      <th>text</th>\n",
              "    </tr>\n",
              "  </thead>\n",
              "  <tbody>\n",
              "    <tr>\n",
              "      <th>0</th>\n",
              "      <td>515</td>\n",
              "      <td>Saint Bernadette Soubirous</td>\n",
              "    </tr>\n",
              "    <tr>\n",
              "      <th>1</th>\n",
              "      <td>187</td>\n",
              "      <td>a copper statue of Christ</td>\n",
              "    </tr>\n",
              "    <tr>\n",
              "      <th>2</th>\n",
              "      <td>279</td>\n",
              "      <td>the Main Building</td>\n",
              "    </tr>\n",
              "    <tr>\n",
              "      <th>3</th>\n",
              "      <td>381</td>\n",
              "      <td>a Marian place of prayer and reflection</td>\n",
              "    </tr>\n",
              "    <tr>\n",
              "      <th>4</th>\n",
              "      <td>92</td>\n",
              "      <td>a golden statue of the Virgin Mary</td>\n",
              "    </tr>\n",
              "  </tbody>\n",
              "</table>\n",
              "</div>"
            ],
            "text/plain": [
              "   answer_start                                     text\n",
              "0           515               Saint Bernadette Soubirous\n",
              "1           187                a copper statue of Christ\n",
              "2           279                        the Main Building\n",
              "3           381  a Marian place of prayer and reflection\n",
              "4            92       a golden statue of the Virgin Mary"
            ]
          },
          "metadata": {
            "tags": []
          },
          "execution_count": 166
        }
      ]
    },
    {
      "cell_type": "code",
      "metadata": {
        "id": "vBvcbbXTyvbX",
        "colab_type": "code",
        "outputId": "29bb4ce2-3ccf-43f7-b3c4-e9a83bd74b35",
        "colab": {
          "base_uri": "https://localhost:8080/",
          "height": 554
        }
      },
      "source": [
        "df=pd.json_normalize(data=d['data'],\n",
        "                        record_path=['paragraphs','qas','answers'],\n",
        "                        record_prefix=None,\n",
        "                        meta_prefix=None,\n",
        "                        meta=['title',\n",
        "                              ['paragraph','context'],\n",
        "                              ['paragraph','qas','question'],\n",
        "                              ['paragraph','qas','id']])\n",
        "\n",
        "df.rename(columns={'paragraph.context':'context','paragraph.qas.question':'question','paragraph.qas.id':'id'},inplace=True)\n",
        "df.head()"
      ],
      "execution_count": 167,
      "outputs": [
        {
          "output_type": "execute_result",
          "data": {
            "text/html": [
              "<div>\n",
              "<style scoped>\n",
              "    .dataframe tbody tr th:only-of-type {\n",
              "        vertical-align: middle;\n",
              "    }\n",
              "\n",
              "    .dataframe tbody tr th {\n",
              "        vertical-align: top;\n",
              "    }\n",
              "\n",
              "    .dataframe thead th {\n",
              "        text-align: right;\n",
              "    }\n",
              "</style>\n",
              "<table border=\"1\" class=\"dataframe\">\n",
              "  <thead>\n",
              "    <tr style=\"text-align: right;\">\n",
              "      <th></th>\n",
              "      <th>answer_start</th>\n",
              "      <th>text</th>\n",
              "      <th>title</th>\n",
              "      <th>context</th>\n",
              "      <th>question</th>\n",
              "      <th>id</th>\n",
              "    </tr>\n",
              "  </thead>\n",
              "  <tbody>\n",
              "    <tr>\n",
              "      <th>0</th>\n",
              "      <td>515</td>\n",
              "      <td>Saint Bernadette Soubirous</td>\n",
              "      <td>University_of_Notre_Dame</td>\n",
              "      <td>Architecturally, the school has a Catholic cha...</td>\n",
              "      <td>To whom did the Virgin Mary allegedly appear i...</td>\n",
              "      <td>5733be284776f41900661182</td>\n",
              "    </tr>\n",
              "    <tr>\n",
              "      <th>1</th>\n",
              "      <td>187</td>\n",
              "      <td>a copper statue of Christ</td>\n",
              "      <td>University_of_Notre_Dame</td>\n",
              "      <td>Architecturally, the school has a Catholic cha...</td>\n",
              "      <td>What is in front of the Notre Dame Main Building?</td>\n",
              "      <td>5733be284776f4190066117f</td>\n",
              "    </tr>\n",
              "    <tr>\n",
              "      <th>2</th>\n",
              "      <td>279</td>\n",
              "      <td>the Main Building</td>\n",
              "      <td>University_of_Notre_Dame</td>\n",
              "      <td>Architecturally, the school has a Catholic cha...</td>\n",
              "      <td>The Basilica of the Sacred heart at Notre Dame...</td>\n",
              "      <td>5733be284776f41900661180</td>\n",
              "    </tr>\n",
              "    <tr>\n",
              "      <th>3</th>\n",
              "      <td>381</td>\n",
              "      <td>a Marian place of prayer and reflection</td>\n",
              "      <td>University_of_Notre_Dame</td>\n",
              "      <td>Architecturally, the school has a Catholic cha...</td>\n",
              "      <td>What is the Grotto at Notre Dame?</td>\n",
              "      <td>5733be284776f41900661181</td>\n",
              "    </tr>\n",
              "    <tr>\n",
              "      <th>4</th>\n",
              "      <td>92</td>\n",
              "      <td>a golden statue of the Virgin Mary</td>\n",
              "      <td>University_of_Notre_Dame</td>\n",
              "      <td>Architecturally, the school has a Catholic cha...</td>\n",
              "      <td>What sits on top of the Main Building at Notre...</td>\n",
              "      <td>5733be284776f4190066117e</td>\n",
              "    </tr>\n",
              "  </tbody>\n",
              "</table>\n",
              "</div>"
            ],
            "text/plain": [
              "   answer_start  ...                        id\n",
              "0           515  ...  5733be284776f41900661182\n",
              "1           187  ...  5733be284776f4190066117f\n",
              "2           279  ...  5733be284776f41900661180\n",
              "3           381  ...  5733be284776f41900661181\n",
              "4            92  ...  5733be284776f4190066117e\n",
              "\n",
              "[5 rows x 6 columns]"
            ]
          },
          "metadata": {
            "tags": []
          },
          "execution_count": 167
        }
      ]
    },
    {
      "cell_type": "code",
      "metadata": {
        "id": "61jsOXHAy21X",
        "colab_type": "code",
        "outputId": "606ce594-01ae-49c5-acc4-5aad47fd6389",
        "colab": {
          "base_uri": "https://localhost:8080/",
          "height": 182
        }
      },
      "source": [
        "print(\"dimensiones df\",df.shape)\n",
        "print(\"Nas \\n\", df.isna().sum())\n"
      ],
      "execution_count": 168,
      "outputs": [
        {
          "output_type": "stream",
          "text": [
            "dimensiones df (87636, 6)\n",
            "Nas \n",
            " answer_start    0\n",
            "text            0\n",
            "title           0\n",
            "context         0\n",
            "question        0\n",
            "id              0\n",
            "dtype: int64\n"
          ],
          "name": "stdout"
        }
      ]
    },
    {
      "cell_type": "markdown",
      "metadata": {
        "id": "EU5b-JDK-u3X",
        "colab_type": "text"
      },
      "source": [
        "# Vocabulario"
      ]
    },
    {
      "cell_type": "code",
      "metadata": {
        "id": "PNRrQ52PhA4j",
        "colab_type": "code",
        "colab": {}
      },
      "source": [
        "from textblob import TextBlob\n",
        "import matplotlib.pyplot as  plt\n",
        "%matplotlib inline"
      ],
      "execution_count": 0,
      "outputs": []
    },
    {
      "cell_type": "code",
      "metadata": {
        "id": "dHYDNVCzzw_i",
        "colab_type": "code",
        "outputId": "b4efaff5-4058-4ec6-d63a-421498ac873b",
        "colab": {
          "base_uri": "https://localhost:8080/",
          "height": 35
        }
      },
      "source": [
        "#creamos una lista con todos los contextos\n",
        "contextos=df[\"context\"].unique()\n",
        "len(contextos)"
      ],
      "execution_count": 170,
      "outputs": [
        {
          "output_type": "execute_result",
          "data": {
            "text/plain": [
              "18891"
            ]
          },
          "metadata": {
            "tags": []
          },
          "execution_count": 170
        }
      ]
    },
    {
      "cell_type": "markdown",
      "metadata": {
        "id": "4IV-WG5xhaHp",
        "colab_type": "text"
      },
      "source": [
        "**Text blob** es una paqueteria en python que nos ayuda a procesar lenguaje natural. Tiene muchas funciones para analizar la sintáxis, tokenizar, hacer preprocesamiento, frecuencias, entre otras.\n",
        "\n",
        "En el contexto de este análisis lo utilizamos para extraer las oraciones de los contextos y para contar las palabras y oraciones que tenemos."
      ]
    },
    {
      "cell_type": "code",
      "metadata": {
        "id": "rFPtPuHFci28",
        "colab_type": "code",
        "colab": {}
      },
      "source": [
        "# numero de oraciones por contexto\n",
        "num_sent=[]\n",
        "for i in range(len(contextos)):\n",
        "  num_sent=np.append(num_sent, len(TextBlob(contextos[i]).sentences))"
      ],
      "execution_count": 0,
      "outputs": []
    },
    {
      "cell_type": "code",
      "metadata": {
        "id": "UF0nya4CmQfP",
        "colab_type": "code",
        "outputId": "2f035a18-7b64-4d37-99a7-66e8015682e7",
        "colab": {
          "base_uri": "https://localhost:8080/",
          "height": 281
        }
      },
      "source": [
        "plt.hist(num_sent,bins=15)\n",
        "plt.title(\"Numero de oraciones por contexto\")\n",
        "plt.show()"
      ],
      "execution_count": 172,
      "outputs": [
        {
          "output_type": "display_data",
          "data": {
            "image/png": "[encoded data removed]",
            "text/plain": [
              "<Figure size 432x288 with 1 Axes>"
            ]
          },
          "metadata": {
            "tags": [],
            "needs_background": "light"
          }
        }
      ]
    },
    {
      "cell_type": "code",
      "metadata": {
        "id": "IA_pTjBZmpX4",
        "colab_type": "code",
        "outputId": "191f61fb-2ebf-4b7b-f827-ec754310bf6b",
        "colab": {
          "base_uri": "https://localhost:8080/",
          "height": 300
        }
      },
      "source": [
        "pd.DataFrame(num_sent).describe()"
      ],
      "execution_count": 173,
      "outputs": [
        {
          "output_type": "execute_result",
          "data": {
            "text/html": [
              "<div>\n",
              "<style scoped>\n",
              "    .dataframe tbody tr th:only-of-type {\n",
              "        vertical-align: middle;\n",
              "    }\n",
              "\n",
              "    .dataframe tbody tr th {\n",
              "        vertical-align: top;\n",
              "    }\n",
              "\n",
              "    .dataframe thead th {\n",
              "        text-align: right;\n",
              "    }\n",
              "</style>\n",
              "<table border=\"1\" class=\"dataframe\">\n",
              "  <thead>\n",
              "    <tr style=\"text-align: right;\">\n",
              "      <th></th>\n",
              "      <th>0</th>\n",
              "    </tr>\n",
              "  </thead>\n",
              "  <tbody>\n",
              "    <tr>\n",
              "      <th>count</th>\n",
              "      <td>18891.000000</td>\n",
              "    </tr>\n",
              "    <tr>\n",
              "      <th>mean</th>\n",
              "      <td>4.953470</td>\n",
              "    </tr>\n",
              "    <tr>\n",
              "      <th>std</th>\n",
              "      <td>2.326159</td>\n",
              "    </tr>\n",
              "    <tr>\n",
              "      <th>min</th>\n",
              "      <td>1.000000</td>\n",
              "    </tr>\n",
              "    <tr>\n",
              "      <th>25%</th>\n",
              "      <td>3.000000</td>\n",
              "    </tr>\n",
              "    <tr>\n",
              "      <th>50%</th>\n",
              "      <td>5.000000</td>\n",
              "    </tr>\n",
              "    <tr>\n",
              "      <th>75%</th>\n",
              "      <td>6.000000</td>\n",
              "    </tr>\n",
              "    <tr>\n",
              "      <th>max</th>\n",
              "      <td>27.000000</td>\n",
              "    </tr>\n",
              "  </tbody>\n",
              "</table>\n",
              "</div>"
            ],
            "text/plain": [
              "                  0\n",
              "count  18891.000000\n",
              "mean       4.953470\n",
              "std        2.326159\n",
              "min        1.000000\n",
              "25%        3.000000\n",
              "50%        5.000000\n",
              "75%        6.000000\n",
              "max       27.000000"
            ]
          },
          "metadata": {
            "tags": []
          },
          "execution_count": 173
        }
      ]
    },
    {
      "cell_type": "code",
      "metadata": {
        "id": "VD5t2lombka8",
        "colab_type": "code",
        "outputId": "b58db2e4-08bc-4b6a-b726-6a392e2ba6bf",
        "colab": {
          "base_uri": "https://localhost:8080/",
          "height": 35
        }
      },
      "source": [
        "sentence_corpus= TextBlob(\" \".join(contextos)).sentences\n",
        "len(sentence_corpus)"
      ],
      "execution_count": 174,
      "outputs": [
        {
          "output_type": "execute_result",
          "data": {
            "text/plain": [
              "92659"
            ]
          },
          "metadata": {
            "tags": []
          },
          "execution_count": 174
        }
      ]
    },
    {
      "cell_type": "code",
      "metadata": {
        "id": "JGAZw1BxfEJL",
        "colab_type": "code",
        "outputId": "05fac166-991e-47d5-dd00-dcdf31a2d01a",
        "colab": {
          "base_uri": "https://localhost:8080/",
          "height": 35
        }
      },
      "source": [
        "#Numero de palabras en todos los contextos\n",
        "corpus= TextBlob(\" \".join(contextos)).words\n",
        "len(corpus)"
      ],
      "execution_count": 175,
      "outputs": [
        {
          "output_type": "execute_result",
          "data": {
            "text/plain": [
              "2220093"
            ]
          },
          "metadata": {
            "tags": []
          },
          "execution_count": 175
        }
      ]
    },
    {
      "cell_type": "code",
      "metadata": {
        "id": "CXCQtaNsbmrR",
        "colab_type": "code",
        "outputId": "fe854510-f767-45e1-e779-c1339be28692",
        "colab": {
          "base_uri": "https://localhost:8080/",
          "height": 318
        }
      },
      "source": [
        "#palabras por oracion\n",
        "word_sent=[len(sentence.words) for sentence in sentence_corpus]\n",
        "\n",
        "plt.hist(word_sent,bins=15)\n",
        "plt.title(\"Numero de palabras por oracion\")\n",
        "plt.show()\n",
        "\n",
        "print(\"max= \",max(word_sent))\n",
        "print(\"min= \",min(word_sent))"
      ],
      "execution_count": 176,
      "outputs": [
        {
          "output_type": "display_data",
          "data": {
            "image/png": "[encoded data removed]",
            "text/plain": [
              "<Figure size 432x288 with 1 Axes>"
            ]
          },
          "metadata": {
            "tags": [],
            "needs_background": "light"
          }
        },
        {
          "output_type": "stream",
          "text": [
            "max=  323\n",
            "min=  0\n"
          ],
          "name": "stdout"
        }
      ]
    },
    {
      "cell_type": "markdown",
      "metadata": {
        "id": "9FAUvx07lx8p",
        "colab_type": "text"
      },
      "source": [
        "## Embedding\n",
        "\n",
        "Probamos el embedding de [InferSent de Facebook](https://github.com/facebookresearch/InferSent).\n",
        "\n",
        "Este es un embedding para oraciones completas que provee representaciones semanticas para oraciones en inglés."
      ]
    },
    {
      "cell_type": "code",
      "metadata": {
        "id": "LJ2nXwmrcZmm",
        "colab_type": "code",
        "colab": {}
      },
      "source": [
        "import torch\n",
        "import cython\n",
        "from nltk.tokenize import sent_tokenize, word_tokenize\n",
        "import gensim\n",
        "from gensim.models import Word2Vec"
      ],
      "execution_count": 0,
      "outputs": []
    },
    {
      "cell_type": "code",
      "metadata": {
        "id": "lKD0P_gDudSu",
        "colab_type": "code",
        "outputId": "bedfa8d6-146a-4d3a-b852-634b72835bbb",
        "colab": {
          "base_uri": "https://localhost:8080/",
          "height": 348
        }
      },
      "source": [
        "#Hace el corpus\n",
        "data=[]\n",
        "i=0\n",
        "for cont in contextos: # para cada contexto\n",
        "  sample=cont\n",
        "  for sent in sent_tokenize(sample): #Extrae las oraciones\n",
        "    temp=[]\n",
        "    for j in word_tokenize(sent): #Estrae las palabras\n",
        "      temp.append(j.lower())\n",
        "\n",
        "    data.append(temp)\n",
        "  i=i+1\n",
        "  if i%1000==0: print(\"i= \",i)"
      ],
      "execution_count": 178,
      "outputs": [
        {
          "output_type": "stream",
          "text": [
            "i=  1000\n",
            "i=  2000\n",
            "i=  3000\n",
            "i=  4000\n",
            "i=  5000\n",
            "i=  6000\n",
            "i=  7000\n",
            "i=  8000\n",
            "i=  9000\n",
            "i=  10000\n",
            "i=  11000\n",
            "i=  12000\n",
            "i=  13000\n",
            "i=  14000\n",
            "i=  15000\n",
            "i=  16000\n",
            "i=  17000\n",
            "i=  18000\n"
          ],
          "name": "stdout"
        }
      ]
    },
    {
      "cell_type": "code",
      "metadata": {
        "id": "GYmlQi7x2Oq-",
        "colab_type": "code",
        "colab": {
          "base_uri": "https://localhost:8080/",
          "height": 329
        },
        "outputId": "45e61a83-08f3-46cc-bcc7-02654d3d1fc8"
      },
      "source": [
        "#La estructura que queda de data tiene la forma de lista de oraciones.\n",
        "#Cada oracion es una lista de palabras\n",
        "#Con este metodo tenemos 93576 oraciones, anteriormente teniamos 92659\n",
        "#Tiene un 0.1% de variacion\n",
        "print(len(data))\n",
        "data[1]"
      ],
      "execution_count": 188,
      "outputs": [
        {
          "output_type": "stream",
          "text": [
            "93576\n"
          ],
          "name": "stdout"
        },
        {
          "output_type": "execute_result",
          "data": {
            "text/plain": [
              "['atop',\n",
              " 'the',\n",
              " 'main',\n",
              " 'building',\n",
              " \"'s\",\n",
              " 'gold',\n",
              " 'dome',\n",
              " 'is',\n",
              " 'a',\n",
              " 'golden',\n",
              " 'statue',\n",
              " 'of',\n",
              " 'the',\n",
              " 'virgin',\n",
              " 'mary',\n",
              " '.']"
            ]
          },
          "metadata": {
            "tags": []
          },
          "execution_count": 188
        }
      ]
    },
    {
      "cell_type": "code",
      "metadata": {
        "id": "9dEyLQxi4mC2",
        "colab_type": "code",
        "colab": {}
      },
      "source": [
        "#entrena un modelo Word2Vec CBOW con nuestro corpus\n",
        "model1 = gensim.models.Word2Vec(data, min_count = 1,  size = 100, window = 5,workers=8) "
      ],
      "execution_count": 0,
      "outputs": []
    },
    {
      "cell_type": "code",
      "metadata": {
        "id": "SbZN3yzr4zYf",
        "colab_type": "code",
        "outputId": "72fb3ac6-6df8-477e-a7b4-28918dd5e1ff",
        "colab": {
          "base_uri": "https://localhost:8080/",
          "height": 35
        }
      },
      "source": [
        "#longitud del vocabulario\n",
        "len(model1.wv.vocab)"
      ],
      "execution_count": 180,
      "outputs": [
        {
          "output_type": "execute_result",
          "data": {
            "text/plain": [
              "23451"
            ]
          },
          "metadata": {
            "tags": []
          },
          "execution_count": 180
        }
      ]
    },
    {
      "cell_type": "code",
      "metadata": {
        "id": "WUl8fCehKmTB",
        "colab_type": "code",
        "colab": {
          "base_uri": "https://localhost:8080/",
          "height": 459
        },
        "outputId": "dd676d00-9cf1-4f61-8adc-e07e2fbe3e51"
      },
      "source": [
        "#La representaciones las podemos ver:\n",
        "model1['building']"
      ],
      "execution_count": 208,
      "outputs": [
        {
          "output_type": "stream",
          "text": [
            "/usr/local/lib/python3.6/dist-packages/ipykernel_launcher.py:2: DeprecationWarning: Call to deprecated `__getitem__` (Method will be removed in 4.0.0, use self.wv.__getitem__() instead).\n",
            "  \n"
          ],
          "name": "stderr"
        },
        {
          "output_type": "execute_result",
          "data": {
            "text/plain": [
              "array([-0.41631997,  0.24322174, -0.26301834,  0.5927479 , -0.43996578,\n",
              "        0.42519355, -0.8752711 ,  0.8117276 ,  0.57307434,  0.79361266,\n",
              "        0.6029814 , -0.8874359 , -0.6974811 , -0.342889  ,  0.23446864,\n",
              "        0.37986547,  0.00337138, -0.86307865, -0.25488955, -1.3216996 ,\n",
              "       -0.50352377, -0.9396355 , -0.25530764,  0.57404345, -0.30325845,\n",
              "       -0.3037257 ,  0.7647121 , -1.6702636 ,  0.6862074 ,  0.03333635,\n",
              "       -0.28773412,  0.7182696 ,  1.703597  ,  0.9000342 ,  0.37890738,\n",
              "       -1.1757716 ,  0.02837415,  0.12708436, -0.15132459, -0.941572  ,\n",
              "        1.0221431 ,  0.28083634,  0.25479347,  0.363765  , -0.00975495,\n",
              "       -0.22245586,  0.6753861 , -0.5523469 , -0.48654947,  0.01129391,\n",
              "       -0.4954423 ,  0.22348964,  0.22529382,  0.28036055,  0.12528664,\n",
              "        1.094586  , -1.1631596 , -1.0522741 ,  0.22428045, -0.9672225 ,\n",
              "       -0.46917588, -1.5162807 , -0.10357415, -0.40197754, -0.04318987,\n",
              "       -0.21626866,  0.41889626, -0.193274  ,  0.80372745, -0.20464587,\n",
              "        0.20060655,  0.90358824,  0.23394006,  0.6188295 ,  0.7524749 ,\n",
              "       -1.1857941 ,  0.6022249 , -0.50432336,  0.5832663 , -0.44335976,\n",
              "        0.05618053, -0.5108679 ,  0.44002667, -0.41286173,  0.18920602,\n",
              "        0.36463097,  0.17152058,  0.46841276,  0.67640805, -0.1413426 ,\n",
              "       -0.7182924 , -0.5019456 ,  0.8252451 ,  0.8298667 , -0.54630715,\n",
              "       -0.61783254,  0.20110627,  0.86252826, -0.7859945 ,  0.5139829 ],\n",
              "      dtype=float32)"
            ]
          },
          "metadata": {
            "tags": []
          },
          "execution_count": 208
        }
      ]
    },
    {
      "cell_type": "code",
      "metadata": {
        "id": "zkyrQb7BPUD8",
        "colab_type": "code",
        "outputId": "34796b14-d153-4f3d-faa5-35ebe985cd82",
        "colab": {
          "base_uri": "https://localhost:8080/",
          "height": 257
        }
      },
      "source": [
        "#Buscamos palabras similares a otras\n",
        "#Una pregunta es:\n",
        "print(\"La pregunta 1 es: \")\n",
        "print(df[\"question\"][1])\n",
        "print(\"Palabras similares a building: \")\n",
        "print(model1.wv.most_similar(positive=['building'], topn=5))\n",
        "print(\"Palabras similares a notre: \")\n",
        "print(model1.wv.most_similar(positive=['notre'], topn=5))\n",
        "print(\"Palabras similares a dame: \")\n",
        "print(model1.wv.most_similar(positive=['dame'], topn=5))\n",
        "print(\"Palabras similares a front: \")\n",
        "print(model1.wv.most_similar(positive=['front'], topn=5))"
      ],
      "execution_count": 192,
      "outputs": [
        {
          "output_type": "stream",
          "text": [
            "La pregunta 1 es: \n",
            "What is in front of the Notre Dame Main Building?\n",
            "Palabras similares a building: \n",
            "[('centre', 0.8091248273849487), ('street', 0.7997871041297913), ('station', 0.7944681644439697), ('center', 0.7849119901657104), ('park', 0.770930826663971)]\n",
            "Palabras similares a notre: \n",
            "[('dame', 0.9451849460601807), ('yale', 0.868816614151001), ('hospital', 0.8529942035675049), ('chicago', 0.8415922522544861), ('memorial', 0.8412803411483765)]\n",
            "Palabras similares a dame: \n",
            "[('notre', 0.9451850056648254), ('college', 0.8502907156944275), ('hospital', 0.8452717065811157), ('yale', 0.8431522846221924), ('academy', 0.8400453329086304)]\n",
            "Palabras similares a front: \n",
            "[('village', 0.7923232913017273), ('side', 0.7796663045883179), ('town', 0.7559666633605957), ('outskirts', 0.7433922290802002), ('shores', 0.7341602444648743)]\n"
          ],
          "name": "stdout"
        },
        {
          "output_type": "stream",
          "text": [
            "/usr/local/lib/python3.6/dist-packages/gensim/matutils.py:737: FutureWarning: Conversion of the second argument of issubdtype from `int` to `np.signedinteger` is deprecated. In future, it will be treated as `np.int64 == np.dtype(int).type`.\n",
            "  if np.issubdtype(vec.dtype, np.int):\n"
          ],
          "name": "stderr"
        }
      ]
    },
    {
      "cell_type": "code",
      "metadata": {
        "id": "15k9n6Oh5Qd6",
        "colab_type": "code",
        "colab": {}
      },
      "source": [
        "#entrena un modelo Word2Vec skip-gram con nuestro corpus\n",
        "model2 = gensim.models.Word2Vec(data, min_count = 1, size = 100, window = 5, sg = 1, workers=8)  "
      ],
      "execution_count": 0,
      "outputs": []
    },
    {
      "cell_type": "code",
      "metadata": {
        "id": "NjcpXzU1Pwy5",
        "colab_type": "code",
        "colab": {
          "base_uri": "https://localhost:8080/",
          "height": 257
        },
        "outputId": "9bf6a8c9-e410-42ff-c919-0b7e1402222b"
      },
      "source": [
        "#Buscamos palabras similares a otras\n",
        "#Una pregunta es:\n",
        "print(\"La pregunta 1 es: \")\n",
        "print(df[\"question\"][1])\n",
        "print(\"Palabras similares a building: \")\n",
        "print(model2.wv.most_similar(positive=['building'], topn=5))\n",
        "print(\"Palabras similares a notre: \")\n",
        "print(model2.wv.most_similar(positive=['notre'], topn=5))\n",
        "print(\"Palabras similares a dame: \")\n",
        "print(model2.wv.most_similar(positive=['dame'], topn=5))\n",
        "print(\"Palabras similares a front: \")\n",
        "print(model2.wv.most_similar(positive=['front'], topn=5))"
      ],
      "execution_count": 198,
      "outputs": [
        {
          "output_type": "stream",
          "text": [
            "La pregunta 1 es: \n",
            "What is in front of the Notre Dame Main Building?\n",
            "Palabras similares a building: \n",
            "[('constructed', 0.8112320303916931), ('subway', 0.8014562129974365), ('buildings', 0.7972802519798279), ('brick', 0.796481728553772), ('civic', 0.7959247827529907)]\n",
            "Palabras similares a notre: \n",
            "[('dame', 0.9711912870407104), ('ku', 0.8672677278518677), ('celebration', 0.8587011098861694), ('athletics', 0.8538817167282104), ('wayne', 0.8535916209220886)]\n",
            "Palabras similares a dame: \n",
            "[('notre', 0.9711912870407104), ('ku', 0.8559335470199585), ('fc', 0.849277138710022), ('athletics', 0.8492733240127563), ('junior', 0.8457870483398438)]\n",
            "Palabras similares a front: \n",
            "[('wing', 0.8303583860397339), ('38th', 0.8075164556503296), ('rear', 0.7912957072257996), ('sides', 0.79121994972229), ('caught', 0.7873533964157104)]\n"
          ],
          "name": "stdout"
        },
        {
          "output_type": "stream",
          "text": [
            "/usr/local/lib/python3.6/dist-packages/gensim/matutils.py:737: FutureWarning: Conversion of the second argument of issubdtype from `int` to `np.signedinteger` is deprecated. In future, it will be treated as `np.int64 == np.dtype(int).type`.\n",
            "  if np.issubdtype(vec.dtype, np.int):\n"
          ],
          "name": "stderr"
        }
      ]
    },
    {
      "cell_type": "markdown",
      "metadata": {
        "id": "wOrIfIysDgxx",
        "colab_type": "text"
      },
      "source": [
        "Hay que notar que las probabilidades son diferentes para el modelo de CBOW y de skip-grams aunque se entrenaron con el mismo vocabulario."
      ]
    },
    {
      "cell_type": "code",
      "metadata": {
        "id": "9iGeYBcb-LYC",
        "colab_type": "code",
        "outputId": "5ba52f7e-0eb0-41db-8491-62c663220a14",
        "colab": {
          "base_uri": "https://localhost:8080/",
          "height": 294
        }
      },
      "source": [
        "i=36\n",
        "q=word_tokenize(df[\"question\"][i].lower())\n",
        "\n",
        "print(\"Pregunta:\")\n",
        "print(q)\n",
        "\n",
        "\n",
        "print(\"La respuesta indicada es:\")\n",
        "print(df[\"text\"][i])\n",
        "\n",
        "print(\"\\n\")\n",
        "print(\"Palabras mas parecidas con CBOW\")\n",
        "print(model1.wv.most_similar(positive=q, topn=6))\n",
        "\n",
        "print(\"\\n\")\n",
        "print(\"Palabras mas parecidas con skip-grams\")\n",
        "print(model2.wv.most_similar(positive=q, topn=6))\n"
      ],
      "execution_count": 207,
      "outputs": [
        {
          "output_type": "stream",
          "text": [
            "Pregunta:\n",
            "['in', 'what', 'year', 'was', 'the', 'theodore', 'm.', 'hesburgh', 'library', 'at', 'notre', 'dame', 'finished', '?']\n",
            "La respuesta indicada es:\n",
            "1963\n",
            "\n",
            "\n",
            "Palabras mas probables con CBOW\n",
            "[('inaugural', 0.8821373581886292), ('herald', 0.8771012425422668), ('auditorium', 0.8741787672042847), ('jerome', 0.872140645980835), ('allen', 0.8642104864120483), ('princeton', 0.8638155460357666)]\n",
            "\n",
            "\n",
            "Palabras mas probables con skip-grams\n",
            "[('peking', 0.9339052438735962), ('honoring', 0.9333432912826538), ('monroeville', 0.9274170994758606), ('ephesus', 0.9249165058135986), ('goddard', 0.9245061874389648), ('bennett', 0.9232707023620605)]\n"
          ],
          "name": "stdout"
        },
        {
          "output_type": "stream",
          "text": [
            "/usr/local/lib/python3.6/dist-packages/gensim/matutils.py:737: FutureWarning: Conversion of the second argument of issubdtype from `int` to `np.signedinteger` is deprecated. In future, it will be treated as `np.int64 == np.dtype(int).type`.\n",
            "  if np.issubdtype(vec.dtype, np.int):\n"
          ],
          "name": "stderr"
        }
      ]
    },
    {
      "cell_type": "markdown",
      "metadata": {
        "id": "un-PdAurFMZL",
        "colab_type": "text"
      },
      "source": [
        "Las predicciones que estáá dando el modelo son muy malas. Las palabras mas parecidas no tienen nada que ver con la respuesta a la pregunta.  \n",
        "Notese que todavia no tenemos ningun entrenamiento en el modelo. Hasta ahora lo unico que tenemos es una representacion matricial de las palabras dado el contexto en el que aparecen en nuestro corpus.   \n",
        "Sobre esa informacióón debemos contruir un modelo que ligue nuestras representaciones con el sentido de la pregunta.\n"
      ]
    },
    {
      "cell_type": "code",
      "metadata": {
        "id": "vsR1MxLSFxUJ",
        "colab_type": "code",
        "colab": {
          "base_uri": "https://localhost:8080/",
          "height": 384
        },
        "outputId": "eca7e83c-bbe2-47d2-fc6a-ad2aa39469b8"
      },
      "source": [
        ""
      ],
      "execution_count": 210,
      "outputs": [
        {
          "output_type": "stream",
          "text": [
            "/usr/local/lib/python3.6/dist-packages/ipykernel_launcher.py:1: DeprecationWarning: Call to deprecated `__getitem__` (Method will be removed in 4.0.0, use self.wv.__getitem__() instead).\n",
            "  \"\"\"Entry point for launching an IPython kernel.\n"
          ],
          "name": "stderr"
        },
        {
          "output_type": "error",
          "ename": "KeyError",
          "evalue": "ignored",
          "traceback": [
            "\u001b[0;31m---------------------------------------------------------------------------\u001b[0m",
            "\u001b[0;31mKeyError\u001b[0m                                  Traceback (most recent call last)",
            "\u001b[0;32m<ipython-input-210-928f537f983a>\u001b[0m in \u001b[0;36m<module>\u001b[0;34m()\u001b[0m\n\u001b[0;32m----> 1\u001b[0;31m \u001b[0mmodel1\u001b[0m\u001b[0;34m[\u001b[0m\u001b[0;36m0\u001b[0m\u001b[0;34m,\u001b[0m\u001b[0;34m]\u001b[0m\u001b[0;34m\u001b[0m\u001b[0;34m\u001b[0m\u001b[0m\n\u001b[0m",
            "\u001b[0;32m/usr/local/lib/python3.6/dist-packages/gensim/utils.py\u001b[0m in \u001b[0;36mnew_func1\u001b[0;34m(*args, **kwargs)\u001b[0m\n\u001b[1;32m   1420\u001b[0m                     \u001b[0mstacklevel\u001b[0m\u001b[0;34m=\u001b[0m\u001b[0;36m2\u001b[0m\u001b[0;34m\u001b[0m\u001b[0;34m\u001b[0m\u001b[0m\n\u001b[1;32m   1421\u001b[0m                 )\n\u001b[0;32m-> 1422\u001b[0;31m                 \u001b[0;32mreturn\u001b[0m \u001b[0mfunc\u001b[0m\u001b[0;34m(\u001b[0m\u001b[0;34m*\u001b[0m\u001b[0margs\u001b[0m\u001b[0;34m,\u001b[0m \u001b[0;34m**\u001b[0m\u001b[0mkwargs\u001b[0m\u001b[0;34m)\u001b[0m\u001b[0;34m\u001b[0m\u001b[0;34m\u001b[0m\u001b[0m\n\u001b[0m\u001b[1;32m   1423\u001b[0m \u001b[0;34m\u001b[0m\u001b[0m\n\u001b[1;32m   1424\u001b[0m             \u001b[0;32mreturn\u001b[0m \u001b[0mnew_func1\u001b[0m\u001b[0;34m\u001b[0m\u001b[0;34m\u001b[0m\u001b[0m\n",
            "\u001b[0;32m/usr/local/lib/python3.6/dist-packages/gensim/models/word2vec.py\u001b[0m in \u001b[0;36m__getitem__\u001b[0;34m(self, words)\u001b[0m\n\u001b[1;32m   1101\u001b[0m \u001b[0;34m\u001b[0m\u001b[0m\n\u001b[1;32m   1102\u001b[0m         \"\"\"\n\u001b[0;32m-> 1103\u001b[0;31m         \u001b[0;32mreturn\u001b[0m \u001b[0mself\u001b[0m\u001b[0;34m.\u001b[0m\u001b[0mwv\u001b[0m\u001b[0;34m.\u001b[0m\u001b[0m__getitem__\u001b[0m\u001b[0;34m(\u001b[0m\u001b[0mwords\u001b[0m\u001b[0;34m)\u001b[0m\u001b[0;34m\u001b[0m\u001b[0;34m\u001b[0m\u001b[0m\n\u001b[0m\u001b[1;32m   1104\u001b[0m \u001b[0;34m\u001b[0m\u001b[0m\n\u001b[1;32m   1105\u001b[0m     \u001b[0;34m@\u001b[0m\u001b[0mdeprecated\u001b[0m\u001b[0;34m(\u001b[0m\u001b[0;34m\"Method will be removed in 4.0.0, use self.wv.__contains__() instead\"\u001b[0m\u001b[0;34m)\u001b[0m\u001b[0;34m\u001b[0m\u001b[0;34m\u001b[0m\u001b[0m\n",
            "\u001b[0;32m/usr/local/lib/python3.6/dist-packages/gensim/models/keyedvectors.py\u001b[0m in \u001b[0;36m__getitem__\u001b[0;34m(self, entities)\u001b[0m\n\u001b[1;32m    337\u001b[0m             \u001b[0;32mreturn\u001b[0m \u001b[0mself\u001b[0m\u001b[0;34m.\u001b[0m\u001b[0mget_vector\u001b[0m\u001b[0;34m(\u001b[0m\u001b[0mentities\u001b[0m\u001b[0;34m)\u001b[0m\u001b[0;34m\u001b[0m\u001b[0;34m\u001b[0m\u001b[0m\n\u001b[1;32m    338\u001b[0m \u001b[0;34m\u001b[0m\u001b[0m\n\u001b[0;32m--> 339\u001b[0;31m         \u001b[0;32mreturn\u001b[0m \u001b[0mvstack\u001b[0m\u001b[0;34m(\u001b[0m\u001b[0;34m[\u001b[0m\u001b[0mself\u001b[0m\u001b[0;34m.\u001b[0m\u001b[0mget_vector\u001b[0m\u001b[0;34m(\u001b[0m\u001b[0mentity\u001b[0m\u001b[0;34m)\u001b[0m \u001b[0;32mfor\u001b[0m \u001b[0mentity\u001b[0m \u001b[0;32min\u001b[0m \u001b[0mentities\u001b[0m\u001b[0;34m]\u001b[0m\u001b[0;34m)\u001b[0m\u001b[0;34m\u001b[0m\u001b[0;34m\u001b[0m\u001b[0m\n\u001b[0m\u001b[1;32m    340\u001b[0m \u001b[0;34m\u001b[0m\u001b[0m\n\u001b[1;32m    341\u001b[0m     \u001b[0;32mdef\u001b[0m \u001b[0m__contains__\u001b[0m\u001b[0;34m(\u001b[0m\u001b[0mself\u001b[0m\u001b[0;34m,\u001b[0m \u001b[0mentity\u001b[0m\u001b[0;34m)\u001b[0m\u001b[0;34m:\u001b[0m\u001b[0;34m\u001b[0m\u001b[0;34m\u001b[0m\u001b[0m\n",
            "\u001b[0;32m/usr/local/lib/python3.6/dist-packages/gensim/models/keyedvectors.py\u001b[0m in \u001b[0;36m<listcomp>\u001b[0;34m(.0)\u001b[0m\n\u001b[1;32m    337\u001b[0m             \u001b[0;32mreturn\u001b[0m \u001b[0mself\u001b[0m\u001b[0;34m.\u001b[0m\u001b[0mget_vector\u001b[0m\u001b[0;34m(\u001b[0m\u001b[0mentities\u001b[0m\u001b[0;34m)\u001b[0m\u001b[0;34m\u001b[0m\u001b[0;34m\u001b[0m\u001b[0m\n\u001b[1;32m    338\u001b[0m \u001b[0;34m\u001b[0m\u001b[0m\n\u001b[0;32m--> 339\u001b[0;31m         \u001b[0;32mreturn\u001b[0m \u001b[0mvstack\u001b[0m\u001b[0;34m(\u001b[0m\u001b[0;34m[\u001b[0m\u001b[0mself\u001b[0m\u001b[0;34m.\u001b[0m\u001b[0mget_vector\u001b[0m\u001b[0;34m(\u001b[0m\u001b[0mentity\u001b[0m\u001b[0;34m)\u001b[0m \u001b[0;32mfor\u001b[0m \u001b[0mentity\u001b[0m \u001b[0;32min\u001b[0m \u001b[0mentities\u001b[0m\u001b[0;34m]\u001b[0m\u001b[0;34m)\u001b[0m\u001b[0;34m\u001b[0m\u001b[0;34m\u001b[0m\u001b[0m\n\u001b[0m\u001b[1;32m    340\u001b[0m \u001b[0;34m\u001b[0m\u001b[0m\n\u001b[1;32m    341\u001b[0m     \u001b[0;32mdef\u001b[0m \u001b[0m__contains__\u001b[0m\u001b[0;34m(\u001b[0m\u001b[0mself\u001b[0m\u001b[0;34m,\u001b[0m \u001b[0mentity\u001b[0m\u001b[0;34m)\u001b[0m\u001b[0;34m:\u001b[0m\u001b[0;34m\u001b[0m\u001b[0;34m\u001b[0m\u001b[0m\n",
            "\u001b[0;32m/usr/local/lib/python3.6/dist-packages/gensim/models/keyedvectors.py\u001b[0m in \u001b[0;36mget_vector\u001b[0;34m(self, word)\u001b[0m\n\u001b[1;32m    453\u001b[0m \u001b[0;34m\u001b[0m\u001b[0m\n\u001b[1;32m    454\u001b[0m     \u001b[0;32mdef\u001b[0m \u001b[0mget_vector\u001b[0m\u001b[0;34m(\u001b[0m\u001b[0mself\u001b[0m\u001b[0;34m,\u001b[0m \u001b[0mword\u001b[0m\u001b[0;34m)\u001b[0m\u001b[0;34m:\u001b[0m\u001b[0;34m\u001b[0m\u001b[0;34m\u001b[0m\u001b[0m\n\u001b[0;32m--> 455\u001b[0;31m         \u001b[0;32mreturn\u001b[0m \u001b[0mself\u001b[0m\u001b[0;34m.\u001b[0m\u001b[0mword_vec\u001b[0m\u001b[0;34m(\u001b[0m\u001b[0mword\u001b[0m\u001b[0;34m)\u001b[0m\u001b[0;34m\u001b[0m\u001b[0;34m\u001b[0m\u001b[0m\n\u001b[0m\u001b[1;32m    456\u001b[0m \u001b[0;34m\u001b[0m\u001b[0m\n\u001b[1;32m    457\u001b[0m     \u001b[0;32mdef\u001b[0m \u001b[0mwords_closer_than\u001b[0m\u001b[0;34m(\u001b[0m\u001b[0mself\u001b[0m\u001b[0;34m,\u001b[0m \u001b[0mw1\u001b[0m\u001b[0;34m,\u001b[0m \u001b[0mw2\u001b[0m\u001b[0;34m)\u001b[0m\u001b[0;34m:\u001b[0m\u001b[0;34m\u001b[0m\u001b[0;34m\u001b[0m\u001b[0m\n",
            "\u001b[0;32m/usr/local/lib/python3.6/dist-packages/gensim/models/keyedvectors.py\u001b[0m in \u001b[0;36mword_vec\u001b[0;34m(self, word, use_norm)\u001b[0m\n\u001b[1;32m    450\u001b[0m             \u001b[0;32mreturn\u001b[0m \u001b[0mresult\u001b[0m\u001b[0;34m\u001b[0m\u001b[0;34m\u001b[0m\u001b[0m\n\u001b[1;32m    451\u001b[0m         \u001b[0;32melse\u001b[0m\u001b[0;34m:\u001b[0m\u001b[0;34m\u001b[0m\u001b[0;34m\u001b[0m\u001b[0m\n\u001b[0;32m--> 452\u001b[0;31m             \u001b[0;32mraise\u001b[0m \u001b[0mKeyError\u001b[0m\u001b[0;34m(\u001b[0m\u001b[0;34m\"word '%s' not in vocabulary\"\u001b[0m \u001b[0;34m%\u001b[0m \u001b[0mword\u001b[0m\u001b[0;34m)\u001b[0m\u001b[0;34m\u001b[0m\u001b[0;34m\u001b[0m\u001b[0m\n\u001b[0m\u001b[1;32m    453\u001b[0m \u001b[0;34m\u001b[0m\u001b[0m\n\u001b[1;32m    454\u001b[0m     \u001b[0;32mdef\u001b[0m \u001b[0mget_vector\u001b[0m\u001b[0;34m(\u001b[0m\u001b[0mself\u001b[0m\u001b[0;34m,\u001b[0m \u001b[0mword\u001b[0m\u001b[0;34m)\u001b[0m\u001b[0;34m:\u001b[0m\u001b[0;34m\u001b[0m\u001b[0;34m\u001b[0m\u001b[0m\n",
            "\u001b[0;31mKeyError\u001b[0m: \"word '0' not in vocabulary\""
          ]
        }
      ]
    },
    {
      "cell_type": "code",
      "metadata": {
        "id": "bNqeGURQLUTs",
        "colab_type": "code",
        "colab": {}
      },
      "source": [
        ""
      ],
      "execution_count": 0,
      "outputs": []
    }
  ]
}
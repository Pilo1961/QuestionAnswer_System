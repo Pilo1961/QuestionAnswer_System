{
  "nbformat": 4,
  "nbformat_minor": 0,
  "metadata": {
    "colab": {
      "name": "question_answer.ipynb",
      "provenance": [],
      "authorship_tag": "ABX9TyObU2oWrmiPaVSP3yLkVnd4",
      "include_colab_link": true
    },
    "kernelspec": {
      "name": "python3",
      "display_name": "Python 3"
    }
  },
  "cells": [
    {
      "cell_type": "markdown",
      "metadata": {
        "id": "view-in-github",
        "colab_type": "text"
      },
      "source": [
        "<a href=\"https://colab.research.google.com/github/Pilo1961/QuestionAnswer_System/blob/master/code/question_answer.ipynb\" target=\"_parent\"><img src=\"https://colab.research.google.com/assets/colab-badge.svg\" alt=\"Open In Colab\"/></a>"
      ]
    },
    {
      "cell_type": "markdown",
      "metadata": {
        "id": "7bUXPVb2Gt6C",
        "colab_type": "text"
      },
      "source": [
        "# Sistema de Preguntas y Respuestas\n",
        "## Métodos Analíticos"
      ]
    },
    {
      "cell_type": "code",
      "metadata": {
        "id": "TiDbJLdsdsKO",
        "colab_type": "code",
        "colab": {}
      },
      "source": [
        "import numpy as np\n",
        "import pandas as pd"
      ],
      "execution_count": 0,
      "outputs": []
    },
    {
      "cell_type": "code",
      "metadata": {
        "id": "HkJiTlD3G9da",
        "colab_type": "code",
        "colab": {
          "base_uri": "https://localhost:8080/",
          "height": 34
        },
        "outputId": "15e102cd-170e-4988-a1ba-63e301811c83"
      },
      "source": [
        "#load data from google drive\n",
        "from google.colab import drive\n",
        "drive.mount('/content/drive')\n",
        "path= \"/content/drive/My Drive/data/train-v2.0.json\"\n",
        "train=pd.read_json(path,orient='columns')\n",
        "path= \"/content/drive/My Drive/data/dev-v2.0.json\"\n",
        "test=pd.read_json(path)"
      ],
      "execution_count": 47,
      "outputs": [
        {
          "output_type": "stream",
          "text": [
            "Drive already mounted at /content/drive; to attempt to forcibly remount, call drive.mount(\"/content/drive\", force_remount=True).\n"
          ],
          "name": "stdout"
        }
      ]
    },
    {
      "cell_type": "code",
      "metadata": {
        "id": "dUtT2smilf7d",
        "colab_type": "code",
        "colab": {
          "base_uri": "https://localhost:8080/",
          "height": 229
        },
        "outputId": "18d73d98-528f-4cfe-c47d-290009d3d4f5"
      },
      "source": [
        "with open(path) as f: \n",
        "    d = json.load(f) \n",
        "  \n",
        "# lets put the data into a pandas df \n",
        "# clicking on raw_nyc_phil.json under \"Input Files\" \n",
        "# tells us parent node is 'programs' \n",
        "test = json_normalize(d['data'])  \n",
        "test.head()"
      ],
      "execution_count": 121,
      "outputs": [
        {
          "output_type": "stream",
          "text": [
            "/usr/local/lib/python3.6/dist-packages/ipykernel_launcher.py:7: FutureWarning: pandas.io.json.json_normalize is deprecated, use pandas.json_normalize instead\n",
            "  import sys\n"
          ],
          "name": "stderr"
        },
        {
          "output_type": "execute_result",
          "data": {
            "text/html": [
              "<div>\n",
              "<style scoped>\n",
              "    .dataframe tbody tr th:only-of-type {\n",
              "        vertical-align: middle;\n",
              "    }\n",
              "\n",
              "    .dataframe tbody tr th {\n",
              "        vertical-align: top;\n",
              "    }\n",
              "\n",
              "    .dataframe thead th {\n",
              "        text-align: right;\n",
              "    }\n",
              "</style>\n",
              "<table border=\"1\" class=\"dataframe\">\n",
              "  <thead>\n",
              "    <tr style=\"text-align: right;\">\n",
              "      <th></th>\n",
              "      <th>title</th>\n",
              "      <th>paragraphs</th>\n",
              "    </tr>\n",
              "  </thead>\n",
              "  <tbody>\n",
              "    <tr>\n",
              "      <th>0</th>\n",
              "      <td>Normans</td>\n",
              "      <td>[{'qas': [{'question': 'In what country is Nor...</td>\n",
              "    </tr>\n",
              "    <tr>\n",
              "      <th>1</th>\n",
              "      <td>Computational_complexity_theory</td>\n",
              "      <td>[{'qas': [{'question': 'What branch of theoret...</td>\n",
              "    </tr>\n",
              "    <tr>\n",
              "      <th>2</th>\n",
              "      <td>Southern_California</td>\n",
              "      <td>[{'qas': [{'question': 'What is Southern Calif...</td>\n",
              "    </tr>\n",
              "    <tr>\n",
              "      <th>3</th>\n",
              "      <td>Sky_(United_Kingdom)</td>\n",
              "      <td>[{'qas': [{'question': 'What company was forme...</td>\n",
              "    </tr>\n",
              "    <tr>\n",
              "      <th>4</th>\n",
              "      <td>Victoria_(Australia)</td>\n",
              "      <td>[{'qas': [{'question': 'What kind of economy d...</td>\n",
              "    </tr>\n",
              "  </tbody>\n",
              "</table>\n",
              "</div>"
            ],
            "text/plain": [
              "                             title                                         paragraphs\n",
              "0                          Normans  [{'qas': [{'question': 'In what country is Nor...\n",
              "1  Computational_complexity_theory  [{'qas': [{'question': 'What branch of theoret...\n",
              "2              Southern_California  [{'qas': [{'question': 'What is Southern Calif...\n",
              "3             Sky_(United_Kingdom)  [{'qas': [{'question': 'What company was forme...\n",
              "4             Victoria_(Australia)  [{'qas': [{'question': 'What kind of economy d..."
            ]
          },
          "metadata": {
            "tags": []
          },
          "execution_count": 121
        }
      ]
    },
    {
      "cell_type": "code",
      "metadata": {
        "id": "CC94apd_c3GU",
        "colab_type": "code",
        "colab": {
          "base_uri": "https://localhost:8080/",
          "height": 195
        },
        "outputId": "ed390a2a-6210-47c3-9db3-ad2ffec5ffbf"
      },
      "source": [
        "nycphil2=pd.json_normalize(data=d['data'],record_path=['paragraphs'],meta=['title'])\n",
        "nycphil2.head()"
      ],
      "execution_count": 131,
      "outputs": [
        {
          "output_type": "execute_result",
          "data": {
            "text/html": [
              "<div>\n",
              "<style scoped>\n",
              "    .dataframe tbody tr th:only-of-type {\n",
              "        vertical-align: middle;\n",
              "    }\n",
              "\n",
              "    .dataframe tbody tr th {\n",
              "        vertical-align: top;\n",
              "    }\n",
              "\n",
              "    .dataframe thead th {\n",
              "        text-align: right;\n",
              "    }\n",
              "</style>\n",
              "<table border=\"1\" class=\"dataframe\">\n",
              "  <thead>\n",
              "    <tr style=\"text-align: right;\">\n",
              "      <th></th>\n",
              "      <th>qas</th>\n",
              "      <th>context</th>\n",
              "      <th>title</th>\n",
              "    </tr>\n",
              "  </thead>\n",
              "  <tbody>\n",
              "    <tr>\n",
              "      <th>0</th>\n",
              "      <td>[{'question': 'In what country is Normandy loc...</td>\n",
              "      <td>The Normans (Norman: Nourmands; French: Norman...</td>\n",
              "      <td>Normans</td>\n",
              "    </tr>\n",
              "    <tr>\n",
              "      <th>1</th>\n",
              "      <td>[{'question': 'Who was the duke in the battle ...</td>\n",
              "      <td>The Norman dynasty had a major political, cult...</td>\n",
              "      <td>Normans</td>\n",
              "    </tr>\n",
              "    <tr>\n",
              "      <th>2</th>\n",
              "      <td>[{'question': 'What is the original meaning of...</td>\n",
              "      <td>The English name \"Normans\" comes from the Fren...</td>\n",
              "      <td>Normans</td>\n",
              "    </tr>\n",
              "    <tr>\n",
              "      <th>3</th>\n",
              "      <td>[{'question': 'When was the Duchy of Normandy ...</td>\n",
              "      <td>In the course of the 10th century, the initial...</td>\n",
              "      <td>Normans</td>\n",
              "    </tr>\n",
              "    <tr>\n",
              "      <th>4</th>\n",
              "      <td>[{'question': 'Who upon arriving gave the orig...</td>\n",
              "      <td>Before Rollo's arrival, its populations did no...</td>\n",
              "      <td>Normans</td>\n",
              "    </tr>\n",
              "  </tbody>\n",
              "</table>\n",
              "</div>"
            ],
            "text/plain": [
              "                                                 qas  ...    title\n",
              "0  [{'question': 'In what country is Normandy loc...  ...  Normans\n",
              "1  [{'question': 'Who was the duke in the battle ...  ...  Normans\n",
              "2  [{'question': 'What is the original meaning of...  ...  Normans\n",
              "3  [{'question': 'When was the Duchy of Normandy ...  ...  Normans\n",
              "4  [{'question': 'Who upon arriving gave the orig...  ...  Normans\n",
              "\n",
              "[5 rows x 3 columns]"
            ]
          },
          "metadata": {
            "tags": []
          },
          "execution_count": 131
        }
      ]
    },
    {
      "cell_type": "code",
      "metadata": {
        "id": "R6z8jVLjhCYT",
        "colab_type": "code",
        "colab": {
          "base_uri": "https://localhost:8080/",
          "height": 313
        },
        "outputId": "89a6442d-f518-4345-8acc-915c5c04973b"
      },
      "source": [
        "nycphil3=json_normalize(data=d['data'],record_path=['paragraphs','qas'],meta=['title',['paragraph','context']])\n",
        "nycphil3.head()"
      ],
      "execution_count": 153,
      "outputs": [
        {
          "output_type": "stream",
          "text": [
            "/usr/local/lib/python3.6/dist-packages/ipykernel_launcher.py:1: FutureWarning: pandas.io.json.json_normalize is deprecated, use pandas.json_normalize instead\n",
            "  \"\"\"Entry point for launching an IPython kernel.\n"
          ],
          "name": "stderr"
        },
        {
          "output_type": "execute_result",
          "data": {
            "text/html": [
              "<div>\n",
              "<style scoped>\n",
              "    .dataframe tbody tr th:only-of-type {\n",
              "        vertical-align: middle;\n",
              "    }\n",
              "\n",
              "    .dataframe tbody tr th {\n",
              "        vertical-align: top;\n",
              "    }\n",
              "\n",
              "    .dataframe thead th {\n",
              "        text-align: right;\n",
              "    }\n",
              "</style>\n",
              "<table border=\"1\" class=\"dataframe\">\n",
              "  <thead>\n",
              "    <tr style=\"text-align: right;\">\n",
              "      <th></th>\n",
              "      <th>question</th>\n",
              "      <th>id</th>\n",
              "      <th>answers</th>\n",
              "      <th>is_impossible</th>\n",
              "      <th>plausible_answers</th>\n",
              "      <th>title</th>\n",
              "      <th>paragraph.context</th>\n",
              "    </tr>\n",
              "  </thead>\n",
              "  <tbody>\n",
              "    <tr>\n",
              "      <th>0</th>\n",
              "      <td>In what country is Normandy located?</td>\n",
              "      <td>56ddde6b9a695914005b9628</td>\n",
              "      <td>[{'text': 'France', 'answer_start': 159}, {'te...</td>\n",
              "      <td>False</td>\n",
              "      <td>NaN</td>\n",
              "      <td>Normans</td>\n",
              "      <td>The Normans (Norman: Nourmands; French: Norman...</td>\n",
              "    </tr>\n",
              "    <tr>\n",
              "      <th>1</th>\n",
              "      <td>When were the Normans in Normandy?</td>\n",
              "      <td>56ddde6b9a695914005b9629</td>\n",
              "      <td>[{'text': '10th and 11th centuries', 'answer_s...</td>\n",
              "      <td>False</td>\n",
              "      <td>NaN</td>\n",
              "      <td>Normans</td>\n",
              "      <td>The Normans (Norman: Nourmands; French: Norman...</td>\n",
              "    </tr>\n",
              "    <tr>\n",
              "      <th>2</th>\n",
              "      <td>From which countries did the Norse originate?</td>\n",
              "      <td>56ddde6b9a695914005b962a</td>\n",
              "      <td>[{'text': 'Denmark, Iceland and Norway', 'answ...</td>\n",
              "      <td>False</td>\n",
              "      <td>NaN</td>\n",
              "      <td>Normans</td>\n",
              "      <td>The Normans (Norman: Nourmands; French: Norman...</td>\n",
              "    </tr>\n",
              "    <tr>\n",
              "      <th>3</th>\n",
              "      <td>Who was the Norse leader?</td>\n",
              "      <td>56ddde6b9a695914005b962b</td>\n",
              "      <td>[{'text': 'Rollo', 'answer_start': 308}, {'tex...</td>\n",
              "      <td>False</td>\n",
              "      <td>NaN</td>\n",
              "      <td>Normans</td>\n",
              "      <td>The Normans (Norman: Nourmands; French: Norman...</td>\n",
              "    </tr>\n",
              "    <tr>\n",
              "      <th>4</th>\n",
              "      <td>What century did the Normans first gain their ...</td>\n",
              "      <td>56ddde6b9a695914005b962c</td>\n",
              "      <td>[{'text': '10th century', 'answer_start': 671}...</td>\n",
              "      <td>False</td>\n",
              "      <td>NaN</td>\n",
              "      <td>Normans</td>\n",
              "      <td>The Normans (Norman: Nourmands; French: Norman...</td>\n",
              "    </tr>\n",
              "  </tbody>\n",
              "</table>\n",
              "</div>"
            ],
            "text/plain": [
              "                                            question  ...                                  paragraph.context\n",
              "0               In what country is Normandy located?  ...  The Normans (Norman: Nourmands; French: Norman...\n",
              "1                 When were the Normans in Normandy?  ...  The Normans (Norman: Nourmands; French: Norman...\n",
              "2      From which countries did the Norse originate?  ...  The Normans (Norman: Nourmands; French: Norman...\n",
              "3                          Who was the Norse leader?  ...  The Normans (Norman: Nourmands; French: Norman...\n",
              "4  What century did the Normans first gain their ...  ...  The Normans (Norman: Nourmands; French: Norman...\n",
              "\n",
              "[5 rows x 7 columns]"
            ]
          },
          "metadata": {
            "tags": []
          },
          "execution_count": 153
        }
      ]
    },
    {
      "cell_type": "code",
      "metadata": {
        "id": "_LwRQLKg1TO5",
        "colab_type": "code",
        "colab": {
          "base_uri": "https://localhost:8080/",
          "height": 218
        },
        "outputId": "fe831abe-0e4e-496d-80b6-92d912d26ff2"
      },
      "source": [
        "nycphil3[\"plausible_answers\"]"
      ],
      "execution_count": 152,
      "outputs": [
        {
          "output_type": "execute_result",
          "data": {
            "text/plain": [
              "0                                                      NaN\n",
              "1                                                      NaN\n",
              "2                                                      NaN\n",
              "3                                                      NaN\n",
              "4                                                      NaN\n",
              "                               ...                        \n",
              "11868                                                  NaN\n",
              "11869         [{'text': 'pound-force', 'answer_start': 4}]\n",
              "11870     [{'text': 'kilogram-force', 'answer_start': 82}]\n",
              "11871    [{'text': 'kilogram-force', 'answer_start': 195}]\n",
              "11872    [{'text': 'kilogram-force', 'answer_start': 383}]\n",
              "Name: plausible_answers, Length: 11873, dtype: object"
            ]
          },
          "metadata": {
            "tags": []
          },
          "execution_count": 152
        }
      ]
    },
    {
      "cell_type": "code",
      "metadata": {
        "id": "IDUzJHK-k6If",
        "colab_type": "code",
        "colab": {
          "base_uri": "https://localhost:8080/",
          "height": 603
        },
        "outputId": "db716649-10ac-406c-98e1-c88684b8dac6"
      },
      "source": [
        "nycphil4=json_normalize(data=d['data'],\n",
        "                        record_path=['paragraphs','qas','answers'],\n",
        "                        meta=['title',\n",
        "                              ['paragraph','context'],\n",
        "                              ['paragraph','qas','question'],\n",
        "                              ['paragraph','qas','id'],\n",
        "                              ['paragraph','qas','is_impossible']])#\n",
        "                              #['paragraph','qas','plausible_answers']])\n",
        "nycphil4"
      ],
      "execution_count": 162,
      "outputs": [
        {
          "output_type": "stream",
          "text": [
            "/usr/local/lib/python3.6/dist-packages/ipykernel_launcher.py:7: FutureWarning: pandas.io.json.json_normalize is deprecated, use pandas.json_normalize instead\n",
            "  import sys\n"
          ],
          "name": "stderr"
        },
        {
          "output_type": "execute_result",
          "data": {
            "text/html": [
              "<div>\n",
              "<style scoped>\n",
              "    .dataframe tbody tr th:only-of-type {\n",
              "        vertical-align: middle;\n",
              "    }\n",
              "\n",
              "    .dataframe tbody tr th {\n",
              "        vertical-align: top;\n",
              "    }\n",
              "\n",
              "    .dataframe thead th {\n",
              "        text-align: right;\n",
              "    }\n",
              "</style>\n",
              "<table border=\"1\" class=\"dataframe\">\n",
              "  <thead>\n",
              "    <tr style=\"text-align: right;\">\n",
              "      <th></th>\n",
              "      <th>text</th>\n",
              "      <th>answer_start</th>\n",
              "      <th>title</th>\n",
              "      <th>paragraph.context</th>\n",
              "      <th>paragraph.qas.question</th>\n",
              "      <th>paragraph.qas.id</th>\n",
              "      <th>paragraph.qas.is_impossible</th>\n",
              "    </tr>\n",
              "  </thead>\n",
              "  <tbody>\n",
              "    <tr>\n",
              "      <th>0</th>\n",
              "      <td>France</td>\n",
              "      <td>159</td>\n",
              "      <td>Normans</td>\n",
              "      <td>The Normans (Norman: Nourmands; French: Norman...</td>\n",
              "      <td>In what country is Normandy located?</td>\n",
              "      <td>56ddde6b9a695914005b9628</td>\n",
              "      <td>False</td>\n",
              "    </tr>\n",
              "    <tr>\n",
              "      <th>1</th>\n",
              "      <td>France</td>\n",
              "      <td>159</td>\n",
              "      <td>Normans</td>\n",
              "      <td>The Normans (Norman: Nourmands; French: Norman...</td>\n",
              "      <td>In what country is Normandy located?</td>\n",
              "      <td>56ddde6b9a695914005b9628</td>\n",
              "      <td>False</td>\n",
              "    </tr>\n",
              "    <tr>\n",
              "      <th>2</th>\n",
              "      <td>France</td>\n",
              "      <td>159</td>\n",
              "      <td>Normans</td>\n",
              "      <td>The Normans (Norman: Nourmands; French: Norman...</td>\n",
              "      <td>In what country is Normandy located?</td>\n",
              "      <td>56ddde6b9a695914005b9628</td>\n",
              "      <td>False</td>\n",
              "    </tr>\n",
              "    <tr>\n",
              "      <th>3</th>\n",
              "      <td>France</td>\n",
              "      <td>159</td>\n",
              "      <td>Normans</td>\n",
              "      <td>The Normans (Norman: Nourmands; French: Norman...</td>\n",
              "      <td>In what country is Normandy located?</td>\n",
              "      <td>56ddde6b9a695914005b9628</td>\n",
              "      <td>False</td>\n",
              "    </tr>\n",
              "    <tr>\n",
              "      <th>4</th>\n",
              "      <td>10th and 11th centuries</td>\n",
              "      <td>94</td>\n",
              "      <td>Normans</td>\n",
              "      <td>The Normans (Norman: Nourmands; French: Norman...</td>\n",
              "      <td>When were the Normans in Normandy?</td>\n",
              "      <td>56ddde6b9a695914005b9629</td>\n",
              "      <td>False</td>\n",
              "    </tr>\n",
              "    <tr>\n",
              "      <th>...</th>\n",
              "      <td>...</td>\n",
              "      <td>...</td>\n",
              "      <td>...</td>\n",
              "      <td>...</td>\n",
              "      <td>...</td>\n",
              "      <td>...</td>\n",
              "      <td>...</td>\n",
              "    </tr>\n",
              "    <tr>\n",
              "      <th>20297</th>\n",
              "      <td>sthène</td>\n",
              "      <td>665</td>\n",
              "      <td>Force</td>\n",
              "      <td>The pound-force has a metric counterpart, less...</td>\n",
              "      <td>What is the seldom used force unit equal to on...</td>\n",
              "      <td>5737aafd1c456719005744ff</td>\n",
              "      <td>False</td>\n",
              "    </tr>\n",
              "    <tr>\n",
              "      <th>20298</th>\n",
              "      <td>sthène</td>\n",
              "      <td>665</td>\n",
              "      <td>Force</td>\n",
              "      <td>The pound-force has a metric counterpart, less...</td>\n",
              "      <td>What is the seldom used force unit equal to on...</td>\n",
              "      <td>5737aafd1c456719005744ff</td>\n",
              "      <td>False</td>\n",
              "    </tr>\n",
              "    <tr>\n",
              "      <th>20299</th>\n",
              "      <td>sthène</td>\n",
              "      <td>665</td>\n",
              "      <td>Force</td>\n",
              "      <td>The pound-force has a metric counterpart, less...</td>\n",
              "      <td>What is the seldom used force unit equal to on...</td>\n",
              "      <td>5737aafd1c456719005744ff</td>\n",
              "      <td>False</td>\n",
              "    </tr>\n",
              "    <tr>\n",
              "      <th>20300</th>\n",
              "      <td>sthène</td>\n",
              "      <td>665</td>\n",
              "      <td>Force</td>\n",
              "      <td>The pound-force has a metric counterpart, less...</td>\n",
              "      <td>What is the seldom used force unit equal to on...</td>\n",
              "      <td>5737aafd1c456719005744ff</td>\n",
              "      <td>False</td>\n",
              "    </tr>\n",
              "    <tr>\n",
              "      <th>20301</th>\n",
              "      <td>sthène</td>\n",
              "      <td>665</td>\n",
              "      <td>Force</td>\n",
              "      <td>The pound-force has a metric counterpart, less...</td>\n",
              "      <td>What is the seldom used force unit equal to on...</td>\n",
              "      <td>5737aafd1c456719005744ff</td>\n",
              "      <td>False</td>\n",
              "    </tr>\n",
              "  </tbody>\n",
              "</table>\n",
              "<p>20302 rows × 7 columns</p>\n",
              "</div>"
            ],
            "text/plain": [
              "                          text  ...  paragraph.qas.is_impossible\n",
              "0                       France  ...                        False\n",
              "1                       France  ...                        False\n",
              "2                       France  ...                        False\n",
              "3                       France  ...                        False\n",
              "4      10th and 11th centuries  ...                        False\n",
              "...                        ...  ...                          ...\n",
              "20297                   sthène  ...                        False\n",
              "20298                   sthène  ...                        False\n",
              "20299                   sthène  ...                        False\n",
              "20300                   sthène  ...                        False\n",
              "20301                   sthène  ...                        False\n",
              "\n",
              "[20302 rows x 7 columns]"
            ]
          },
          "metadata": {
            "tags": []
          },
          "execution_count": 162
        }
      ]
    },
    {
      "cell_type": "code",
      "metadata": {
        "id": "INDB-E26dzmh",
        "colab_type": "code",
        "colab": {
          "base_uri": "https://localhost:8080/",
          "height": 435
        },
        "outputId": "bf2cf582-cc2a-4958-fe89-ee57396307b1"
      },
      "source": [
        ""
      ],
      "execution_count": 86,
      "outputs": [
        {
          "output_type": "stream",
          "text": [
            "/usr/local/lib/python3.6/dist-packages/ipykernel_launcher.py:1: FutureWarning: pandas.io.json.json_normalize is deprecated, use pandas.json_normalize instead\n",
            "  \"\"\"Entry point for launching an IPython kernel.\n"
          ],
          "name": "stderr"
        },
        {
          "output_type": "execute_result",
          "data": {
            "text/html": [
              "<div>\n",
              "<style scoped>\n",
              "    .dataframe tbody tr th:only-of-type {\n",
              "        vertical-align: middle;\n",
              "    }\n",
              "\n",
              "    .dataframe tbody tr th {\n",
              "        vertical-align: top;\n",
              "    }\n",
              "\n",
              "    .dataframe thead th {\n",
              "        text-align: right;\n",
              "    }\n",
              "</style>\n",
              "<table border=\"1\" class=\"dataframe\">\n",
              "  <thead>\n",
              "    <tr style=\"text-align: right;\">\n",
              "      <th></th>\n",
              "      <th>text</th>\n",
              "      <th>answer_start</th>\n",
              "      <th>title</th>\n",
              "    </tr>\n",
              "  </thead>\n",
              "  <tbody>\n",
              "    <tr>\n",
              "      <th>0</th>\n",
              "      <td>France</td>\n",
              "      <td>159</td>\n",
              "      <td>Normans</td>\n",
              "    </tr>\n",
              "    <tr>\n",
              "      <th>1</th>\n",
              "      <td>France</td>\n",
              "      <td>159</td>\n",
              "      <td>Normans</td>\n",
              "    </tr>\n",
              "    <tr>\n",
              "      <th>2</th>\n",
              "      <td>France</td>\n",
              "      <td>159</td>\n",
              "      <td>Normans</td>\n",
              "    </tr>\n",
              "    <tr>\n",
              "      <th>3</th>\n",
              "      <td>France</td>\n",
              "      <td>159</td>\n",
              "      <td>Normans</td>\n",
              "    </tr>\n",
              "    <tr>\n",
              "      <th>4</th>\n",
              "      <td>10th and 11th centuries</td>\n",
              "      <td>94</td>\n",
              "      <td>Normans</td>\n",
              "    </tr>\n",
              "    <tr>\n",
              "      <th>...</th>\n",
              "      <td>...</td>\n",
              "      <td>...</td>\n",
              "      <td>...</td>\n",
              "    </tr>\n",
              "    <tr>\n",
              "      <th>20297</th>\n",
              "      <td>sthène</td>\n",
              "      <td>665</td>\n",
              "      <td>Force</td>\n",
              "    </tr>\n",
              "    <tr>\n",
              "      <th>20298</th>\n",
              "      <td>sthène</td>\n",
              "      <td>665</td>\n",
              "      <td>Force</td>\n",
              "    </tr>\n",
              "    <tr>\n",
              "      <th>20299</th>\n",
              "      <td>sthène</td>\n",
              "      <td>665</td>\n",
              "      <td>Force</td>\n",
              "    </tr>\n",
              "    <tr>\n",
              "      <th>20300</th>\n",
              "      <td>sthène</td>\n",
              "      <td>665</td>\n",
              "      <td>Force</td>\n",
              "    </tr>\n",
              "    <tr>\n",
              "      <th>20301</th>\n",
              "      <td>sthène</td>\n",
              "      <td>665</td>\n",
              "      <td>Force</td>\n",
              "    </tr>\n",
              "  </tbody>\n",
              "</table>\n",
              "<p>20302 rows × 3 columns</p>\n",
              "</div>"
            ],
            "text/plain": [
              "                          text  answer_start    title\n",
              "0                       France           159  Normans\n",
              "1                       France           159  Normans\n",
              "2                       France           159  Normans\n",
              "3                       France           159  Normans\n",
              "4      10th and 11th centuries            94  Normans\n",
              "...                        ...           ...      ...\n",
              "20297                   sthène           665    Force\n",
              "20298                   sthène           665    Force\n",
              "20299                   sthène           665    Force\n",
              "20300                   sthène           665    Force\n",
              "20301                   sthène           665    Force\n",
              "\n",
              "[20302 rows x 3 columns]"
            ]
          },
          "metadata": {
            "tags": []
          },
          "execution_count": 86
        }
      ]
    },
    {
      "cell_type": "code",
      "metadata": {
        "id": "GHSBMYjre6Ic",
        "colab_type": "code",
        "colab": {}
      },
      "source": [
        "]"
      ],
      "execution_count": 0,
      "outputs": []
    }
  ]
}
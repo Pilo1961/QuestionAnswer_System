{
  "nbformat": 4,
  "nbformat_minor": 0,
  "metadata": {
    "colab": {
      "name": "question_answer.ipynb",
      "provenance": [],
      "authorship_tag": "ABX9TyPvHdb8glLrwk54wXNPbTNc",
      "include_colab_link": true
    },
    "kernelspec": {
      "name": "python3",
      "display_name": "Python 3"
    }
  },
  "cells": [
    {
      "cell_type": "markdown",
      "metadata": {
        "id": "view-in-github",
        "colab_type": "text"
      },
      "source": [
        "<a href=\"https://colab.research.google.com/github/Pilo1961/QuestionAnswer_System/blob/master/code/question_answer.ipynb\" target=\"_parent\"><img src=\"https://colab.research.google.com/assets/colab-badge.svg\" alt=\"Open In Colab\"/></a>"
      ]
    },
    {
      "cell_type": "markdown",
      "metadata": {
        "id": "7bUXPVb2Gt6C",
        "colab_type": "text"
      },
      "source": [
        "# Sistema de Preguntas y Respuestas\n",
        "## Métodos Analíticos"
      ]
    },
    {
      "cell_type": "code",
      "metadata": {
        "id": "TiDbJLdsdsKO",
        "colab_type": "code",
        "colab": {}
      },
      "source": [
        "import numpy as np\n",
        "import pandas as pd\n",
        "import json"
      ],
      "execution_count": 0,
      "outputs": []
    },
    {
      "cell_type": "markdown",
      "metadata": {
        "id": "GHovvhHY7pKM",
        "colab_type": "text"
      },
      "source": [
        "## Lectura de datos"
      ]
    },
    {
      "cell_type": "code",
      "metadata": {
        "id": "HkJiTlD3G9da",
        "colab_type": "code",
        "outputId": "0d7ac95c-8aee-4aea-d5bc-7d218235e077",
        "colab": {
          "base_uri": "https://localhost:8080/",
          "height": 129
        }
      },
      "source": [
        "#load data from google drive\n",
        "from google.colab import drive\n",
        "drive.mount('/content/drive',force_remount=True)\n",
        "path= \"/content/drive/My Drive/data/QA/train-v2.0.json\"\n",
        "train=pd.read_json(path,orient='columns')\n",
        "#path= \"/content/drive/My Drive/data/QA/dev-v2.0.json\"\n",
        "#test=pd.read_json(path)"
      ],
      "execution_count": 3,
      "outputs": [
        {
          "output_type": "stream",
          "text": [
            "Go to this URL in a browser: https://accounts.google.com/o/oauth2/auth?client_id=947318989803-6bn6qk8qdgf4n4g3pfee6491hc0brc4i.apps.googleusercontent.com&redirect_uri=urn%3aietf%3awg%3aoauth%3a2.0%3aoob&response_type=code&scope=email%20https%3a%2f%2fwww.googleapis.com%2fauth%2fdocs.test%20https%3a%2f%2fwww.googleapis.com%2fauth%2fdrive%20https%3a%2f%2fwww.googleapis.com%2fauth%2fdrive.photos.readonly%20https%3a%2f%2fwww.googleapis.com%2fauth%2fpeopleapi.readonly\n",
            "\n",
            "Enter your authorization code:\n",
            "··········\n",
            "Mounted at /content/drive\n"
          ],
          "name": "stdout"
        }
      ]
    },
    {
      "cell_type": "markdown",
      "metadata": {
        "id": "ZwEgaOTZ7z01",
        "colab_type": "text"
      },
      "source": [
        "## Datos\n",
        "\n",
        "Los datos los leemos en un archivo json anidado de varios nivles. La estructura del archivo es la siguiente\n",
        "\n",
        "+ Titulo\n",
        "+ Paragraph \n",
        "    + Context\n",
        "    + Qas\n",
        "        + Id\n",
        "        + Question\n",
        "        + Answers\n",
        "            + Text\n",
        "            + Answer start\n",
        "        + Is impossible\n",
        "        + Plausible answers\n",
        "            + Text\n",
        "            + Answer start\n",
        "  \n",
        "\n",
        "En las siguientes celdas observamos los diferentes niveles de anidacióón de los datos.\n",
        "\n",
        "Los datos contienen 130319 preguntas divididas en dos grandes ramas. Preguntas que tienen respuesta y preguntas que no tienen respuestas.\n"
      ]
    },
    {
      "cell_type": "code",
      "metadata": {
        "id": "dUtT2smilf7d",
        "colab_type": "code",
        "outputId": "1e9b8f97-87b0-4dea-9b9f-c89a27961c8b",
        "colab": {
          "base_uri": "https://localhost:8080/",
          "height": 206
        }
      },
      "source": [
        "# Lectura de datos\n",
        "with open(path) as f: \n",
        "    d = json.load(f) \n",
        "\n",
        "test = pd.json_normalize(d['data'])  \n",
        "test.shape\n",
        "test.head()"
      ],
      "execution_count": 4,
      "outputs": [
        {
          "output_type": "execute_result",
          "data": {
            "text/html": [
              "<div>\n",
              "<style scoped>\n",
              "    .dataframe tbody tr th:only-of-type {\n",
              "        vertical-align: middle;\n",
              "    }\n",
              "\n",
              "    .dataframe tbody tr th {\n",
              "        vertical-align: top;\n",
              "    }\n",
              "\n",
              "    .dataframe thead th {\n",
              "        text-align: right;\n",
              "    }\n",
              "</style>\n",
              "<table border=\"1\" class=\"dataframe\">\n",
              "  <thead>\n",
              "    <tr style=\"text-align: right;\">\n",
              "      <th></th>\n",
              "      <th>title</th>\n",
              "      <th>paragraphs</th>\n",
              "    </tr>\n",
              "  </thead>\n",
              "  <tbody>\n",
              "    <tr>\n",
              "      <th>0</th>\n",
              "      <td>Beyoncé</td>\n",
              "      <td>[{'qas': [{'question': 'When did Beyonce start...</td>\n",
              "    </tr>\n",
              "    <tr>\n",
              "      <th>1</th>\n",
              "      <td>Frédéric_Chopin</td>\n",
              "      <td>[{'qas': [{'question': \"What was Frédéric's na...</td>\n",
              "    </tr>\n",
              "    <tr>\n",
              "      <th>2</th>\n",
              "      <td>Sino-Tibetan_relations_during_the_Ming_dynasty</td>\n",
              "      <td>[{'qas': [{'question': 'Who were Wang Jiawei a...</td>\n",
              "    </tr>\n",
              "    <tr>\n",
              "      <th>3</th>\n",
              "      <td>IPod</td>\n",
              "      <td>[{'qas': [{'question': 'Which company produces...</td>\n",
              "    </tr>\n",
              "    <tr>\n",
              "      <th>4</th>\n",
              "      <td>The_Legend_of_Zelda:_Twilight_Princess</td>\n",
              "      <td>[{'qas': [{'question': 'What category of game ...</td>\n",
              "    </tr>\n",
              "  </tbody>\n",
              "</table>\n",
              "</div>"
            ],
            "text/plain": [
              "                                            title                                         paragraphs\n",
              "0                                         Beyoncé  [{'qas': [{'question': 'When did Beyonce start...\n",
              "1                                 Frédéric_Chopin  [{'qas': [{'question': \"What was Frédéric's na...\n",
              "2  Sino-Tibetan_relations_during_the_Ming_dynasty  [{'qas': [{'question': 'Who were Wang Jiawei a...\n",
              "3                                            IPod  [{'qas': [{'question': 'Which company produces...\n",
              "4          The_Legend_of_Zelda:_Twilight_Princess  [{'qas': [{'question': 'What category of game ..."
            ]
          },
          "metadata": {
            "tags": []
          },
          "execution_count": 4
        }
      ]
    },
    {
      "cell_type": "markdown",
      "metadata": {
        "id": "wKYTwBZMoOP3",
        "colab_type": "text"
      },
      "source": [
        "El dataset de entrenamiento es un json anidado. En el primer nivel tiene una columna con el tíítulo y otra columna de json anidado llamada paragreaphs."
      ]
    },
    {
      "cell_type": "code",
      "metadata": {
        "id": "CC94apd_c3GU",
        "colab_type": "code",
        "outputId": "e4d8c6c3-0786-48bd-c524-be6d9bd7a66d",
        "colab": {
          "base_uri": "https://localhost:8080/",
          "height": 206
        }
      },
      "source": [
        "nycphil2=pd.json_normalize(data=d['data'],record_path=['paragraphs'],meta=['title'])\n",
        "nycphil2.head()"
      ],
      "execution_count": 5,
      "outputs": [
        {
          "output_type": "execute_result",
          "data": {
            "text/html": [
              "<div>\n",
              "<style scoped>\n",
              "    .dataframe tbody tr th:only-of-type {\n",
              "        vertical-align: middle;\n",
              "    }\n",
              "\n",
              "    .dataframe tbody tr th {\n",
              "        vertical-align: top;\n",
              "    }\n",
              "\n",
              "    .dataframe thead th {\n",
              "        text-align: right;\n",
              "    }\n",
              "</style>\n",
              "<table border=\"1\" class=\"dataframe\">\n",
              "  <thead>\n",
              "    <tr style=\"text-align: right;\">\n",
              "      <th></th>\n",
              "      <th>qas</th>\n",
              "      <th>context</th>\n",
              "      <th>title</th>\n",
              "    </tr>\n",
              "  </thead>\n",
              "  <tbody>\n",
              "    <tr>\n",
              "      <th>0</th>\n",
              "      <td>[{'question': 'When did Beyonce start becoming...</td>\n",
              "      <td>Beyoncé Giselle Knowles-Carter (/biːˈjɒnseɪ/ b...</td>\n",
              "      <td>Beyoncé</td>\n",
              "    </tr>\n",
              "    <tr>\n",
              "      <th>1</th>\n",
              "      <td>[{'question': 'After her second solo album, wh...</td>\n",
              "      <td>Following the disbandment of Destiny's Child i...</td>\n",
              "      <td>Beyoncé</td>\n",
              "    </tr>\n",
              "    <tr>\n",
              "      <th>2</th>\n",
              "      <td>[{'question': 'In her music, what are some rec...</td>\n",
              "      <td>A self-described \"modern-day feminist\", Beyonc...</td>\n",
              "      <td>Beyoncé</td>\n",
              "    </tr>\n",
              "    <tr>\n",
              "      <th>3</th>\n",
              "      <td>[{'question': 'Beyonce's younger sibling also ...</td>\n",
              "      <td>Beyoncé Giselle Knowles was born in Houston, T...</td>\n",
              "      <td>Beyoncé</td>\n",
              "    </tr>\n",
              "    <tr>\n",
              "      <th>4</th>\n",
              "      <td>[{'question': 'What town did Beyonce go to sch...</td>\n",
              "      <td>Beyoncé attended St. Mary's Elementary School ...</td>\n",
              "      <td>Beyoncé</td>\n",
              "    </tr>\n",
              "  </tbody>\n",
              "</table>\n",
              "</div>"
            ],
            "text/plain": [
              "                                                 qas  ...    title\n",
              "0  [{'question': 'When did Beyonce start becoming...  ...  Beyoncé\n",
              "1  [{'question': 'After her second solo album, wh...  ...  Beyoncé\n",
              "2  [{'question': 'In her music, what are some rec...  ...  Beyoncé\n",
              "3  [{'question': 'Beyonce's younger sibling also ...  ...  Beyoncé\n",
              "4  [{'question': 'What town did Beyonce go to sch...  ...  Beyoncé\n",
              "\n",
              "[5 rows x 3 columns]"
            ]
          },
          "metadata": {
            "tags": []
          },
          "execution_count": 5
        }
      ]
    },
    {
      "cell_type": "markdown",
      "metadata": {
        "id": "VC8MmA10n8tc",
        "colab_type": "text"
      },
      "source": [
        "Si abrimos paragraph tiene dos columnas:\n",
        "  + qas - json anidado\n",
        "  + context - Escrito con el contexto de la pregunta\n",
        "  + title la obtenemos del nivel anterior"
      ]
    },
    {
      "cell_type": "code",
      "metadata": {
        "id": "R6z8jVLjhCYT",
        "colab_type": "code",
        "outputId": "8c044276-9f84-43ad-d00b-f42d5fd809bf",
        "colab": {
          "base_uri": "https://localhost:8080/",
          "height": 206
        }
      },
      "source": [
        "nycphil3=pd.json_normalize(data=d['data'],record_path=['paragraphs','qas'])#,meta=['title',['paragraph','context']])\n",
        "nycphil3.head()"
      ],
      "execution_count": 6,
      "outputs": [
        {
          "output_type": "execute_result",
          "data": {
            "text/html": [
              "<div>\n",
              "<style scoped>\n",
              "    .dataframe tbody tr th:only-of-type {\n",
              "        vertical-align: middle;\n",
              "    }\n",
              "\n",
              "    .dataframe tbody tr th {\n",
              "        vertical-align: top;\n",
              "    }\n",
              "\n",
              "    .dataframe thead th {\n",
              "        text-align: right;\n",
              "    }\n",
              "</style>\n",
              "<table border=\"1\" class=\"dataframe\">\n",
              "  <thead>\n",
              "    <tr style=\"text-align: right;\">\n",
              "      <th></th>\n",
              "      <th>question</th>\n",
              "      <th>id</th>\n",
              "      <th>answers</th>\n",
              "      <th>is_impossible</th>\n",
              "      <th>plausible_answers</th>\n",
              "    </tr>\n",
              "  </thead>\n",
              "  <tbody>\n",
              "    <tr>\n",
              "      <th>0</th>\n",
              "      <td>When did Beyonce start becoming popular?</td>\n",
              "      <td>56be85543aeaaa14008c9063</td>\n",
              "      <td>[{'text': 'in the late 1990s', 'answer_start':...</td>\n",
              "      <td>False</td>\n",
              "      <td>NaN</td>\n",
              "    </tr>\n",
              "    <tr>\n",
              "      <th>1</th>\n",
              "      <td>What areas did Beyonce compete in when she was...</td>\n",
              "      <td>56be85543aeaaa14008c9065</td>\n",
              "      <td>[{'text': 'singing and dancing', 'answer_start...</td>\n",
              "      <td>False</td>\n",
              "      <td>NaN</td>\n",
              "    </tr>\n",
              "    <tr>\n",
              "      <th>2</th>\n",
              "      <td>When did Beyonce leave Destiny's Child and bec...</td>\n",
              "      <td>56be85543aeaaa14008c9066</td>\n",
              "      <td>[{'text': '2003', 'answer_start': 526}]</td>\n",
              "      <td>False</td>\n",
              "      <td>NaN</td>\n",
              "    </tr>\n",
              "    <tr>\n",
              "      <th>3</th>\n",
              "      <td>In what city and state did Beyonce  grow up?</td>\n",
              "      <td>56bf6b0f3aeaaa14008c9601</td>\n",
              "      <td>[{'text': 'Houston, Texas', 'answer_start': 166}]</td>\n",
              "      <td>False</td>\n",
              "      <td>NaN</td>\n",
              "    </tr>\n",
              "    <tr>\n",
              "      <th>4</th>\n",
              "      <td>In which decade did Beyonce become famous?</td>\n",
              "      <td>56bf6b0f3aeaaa14008c9602</td>\n",
              "      <td>[{'text': 'late 1990s', 'answer_start': 276}]</td>\n",
              "      <td>False</td>\n",
              "      <td>NaN</td>\n",
              "    </tr>\n",
              "  </tbody>\n",
              "</table>\n",
              "</div>"
            ],
            "text/plain": [
              "                                            question  ... plausible_answers\n",
              "0           When did Beyonce start becoming popular?  ...               NaN\n",
              "1  What areas did Beyonce compete in when she was...  ...               NaN\n",
              "2  When did Beyonce leave Destiny's Child and bec...  ...               NaN\n",
              "3      In what city and state did Beyonce  grow up?   ...               NaN\n",
              "4         In which decade did Beyonce become famous?  ...               NaN\n",
              "\n",
              "[5 rows x 5 columns]"
            ]
          },
          "metadata": {
            "tags": []
          },
          "execution_count": 6
        }
      ]
    },
    {
      "cell_type": "code",
      "metadata": {
        "id": "HzrPdvu30Oy1",
        "colab_type": "code",
        "colab": {}
      },
      "source": [
        "Al abrir la columna qas encontramos 5 columnas mas\n",
        " + Question\n",
        " + Id\n",
        " + Answers - que es un json anidado\n",
        " + is_impossible - con valores booleanos\n",
        " + plausible answers - Con NaN y los valores que tiene son json anidados\n"
      ],
      "execution_count": 0,
      "outputs": []
    },
    {
      "cell_type": "code",
      "metadata": {
        "id": "aVDpA39apq3d",
        "colab_type": "code",
        "colab": {
          "base_uri": "https://localhost:8080/",
          "height": 206
        },
        "outputId": "58ca7145-bc50-4047-b4b5-117c7b3efecd"
      },
      "source": [
        "nycphil3=pd.json_normalize(data=d['data'],record_path=['paragraphs','qas','answers'])#,meta=['title',['paragraph','context']])\n",
        "nycphil3.head()"
      ],
      "execution_count": 82,
      "outputs": [
        {
          "output_type": "execute_result",
          "data": {
            "text/html": [
              "<div>\n",
              "<style scoped>\n",
              "    .dataframe tbody tr th:only-of-type {\n",
              "        vertical-align: middle;\n",
              "    }\n",
              "\n",
              "    .dataframe tbody tr th {\n",
              "        vertical-align: top;\n",
              "    }\n",
              "\n",
              "    .dataframe thead th {\n",
              "        text-align: right;\n",
              "    }\n",
              "</style>\n",
              "<table border=\"1\" class=\"dataframe\">\n",
              "  <thead>\n",
              "    <tr style=\"text-align: right;\">\n",
              "      <th></th>\n",
              "      <th>text</th>\n",
              "      <th>answer_start</th>\n",
              "    </tr>\n",
              "  </thead>\n",
              "  <tbody>\n",
              "    <tr>\n",
              "      <th>0</th>\n",
              "      <td>in the late 1990s</td>\n",
              "      <td>269</td>\n",
              "    </tr>\n",
              "    <tr>\n",
              "      <th>1</th>\n",
              "      <td>singing and dancing</td>\n",
              "      <td>207</td>\n",
              "    </tr>\n",
              "    <tr>\n",
              "      <th>2</th>\n",
              "      <td>2003</td>\n",
              "      <td>526</td>\n",
              "    </tr>\n",
              "    <tr>\n",
              "      <th>3</th>\n",
              "      <td>Houston, Texas</td>\n",
              "      <td>166</td>\n",
              "    </tr>\n",
              "    <tr>\n",
              "      <th>4</th>\n",
              "      <td>late 1990s</td>\n",
              "      <td>276</td>\n",
              "    </tr>\n",
              "  </tbody>\n",
              "</table>\n",
              "</div>"
            ],
            "text/plain": [
              "                  text  answer_start\n",
              "0    in the late 1990s           269\n",
              "1  singing and dancing           207\n",
              "2                 2003           526\n",
              "3       Houston, Texas           166\n",
              "4           late 1990s           276"
            ]
          },
          "metadata": {
            "tags": []
          },
          "execution_count": 82
        }
      ]
    },
    {
      "cell_type": "markdown",
      "metadata": {
        "id": "V5MHU2Er0qv9",
        "colab_type": "text"
      },
      "source": [
        "Cuando abrimos la columna answer encontramos dos columnas:\n",
        "  + Text - texto que contiene la respuesta\n",
        "  + Answer_start - Posicion de el contexto en el que comienza la respuesta"
      ]
    },
    {
      "cell_type": "code",
      "metadata": {
        "id": "NvpTuz7i0NvA",
        "colab_type": "code",
        "colab": {
          "base_uri": "https://localhost:8080/",
          "height": 35
        },
        "outputId": "67419be1-4cd6-45eb-e238-e3b9a3af3319"
      },
      "source": [
        "nycphil3=pd.json_normalize(data=d['data'],record_path=['paragraphs','qas'])#,'plausible_answers'])#,meta=['title',['paragraph','context']])\n",
        "nycphil3.shape"
      ],
      "execution_count": 27,
      "outputs": [
        {
          "output_type": "execute_result",
          "data": {
            "text/plain": [
              "(130319, 5)"
            ]
          },
          "metadata": {
            "tags": []
          },
          "execution_count": 27
        }
      ]
    },
    {
      "cell_type": "markdown",
      "metadata": {
        "id": "P1Bj2yPY2DSl",
        "colab_type": "text"
      },
      "source": [
        "# Preguntas con respuesta\n",
        "Compilamos el dataframe llamado **df**.\n",
        "* Contiene 7 columnas y todas las preguntas que cumplen las premisas.\n",
        "* Contiene 86821 preguntas con respuesta dentreo del set de entrenamiento.\n",
        "* No tiene valores nulos\n",
        "* La **variable respuesta** es text, que contiene la respuesta a la pregunta y **answer start** que indica la posicion donde esta la respuesta dentro del contexto.\n",
        "* La variable is_impossible no tiene variabilidad en preguntas con respuesta"
      ]
    },
    {
      "cell_type": "code",
      "metadata": {
        "id": "IDUzJHK-k6If",
        "colab_type": "code",
        "outputId": "130f109f-f620-4daa-8886-43795fe5a88b",
        "colab": {
          "base_uri": "https://localhost:8080/",
          "height": 206
        }
      },
      "source": [
        "df=pd.json_normalize(data=d['data'],\n",
        "                        record_path=['paragraphs','qas','answers'],\n",
        "                        record_prefix=None,\n",
        "                        meta_prefix=None,\n",
        "                        meta=['title',\n",
        "                              ['paragraph','context'],\n",
        "                              ['paragraph','qas','question'],\n",
        "                              ['paragraph','qas','id'],\n",
        "                              ['paragraph','qas','is_impossible']])\n",
        "\n",
        "df.rename(columns={'paragraph.context':'context','paragraph.qas.question':'question','paragraph.qas.id':'id','paragraph.qas.is_impossible':'is_impossible'},inplace=True)\n",
        "df.head()"
      ],
      "execution_count": 54,
      "outputs": [
        {
          "output_type": "execute_result",
          "data": {
            "text/html": [
              "<div>\n",
              "<style scoped>\n",
              "    .dataframe tbody tr th:only-of-type {\n",
              "        vertical-align: middle;\n",
              "    }\n",
              "\n",
              "    .dataframe tbody tr th {\n",
              "        vertical-align: top;\n",
              "    }\n",
              "\n",
              "    .dataframe thead th {\n",
              "        text-align: right;\n",
              "    }\n",
              "</style>\n",
              "<table border=\"1\" class=\"dataframe\">\n",
              "  <thead>\n",
              "    <tr style=\"text-align: right;\">\n",
              "      <th></th>\n",
              "      <th>text</th>\n",
              "      <th>answer_start</th>\n",
              "      <th>title</th>\n",
              "      <th>context</th>\n",
              "      <th>question</th>\n",
              "      <th>id</th>\n",
              "      <th>is_impossible</th>\n",
              "    </tr>\n",
              "  </thead>\n",
              "  <tbody>\n",
              "    <tr>\n",
              "      <th>0</th>\n",
              "      <td>in the late 1990s</td>\n",
              "      <td>269</td>\n",
              "      <td>Beyoncé</td>\n",
              "      <td>Beyoncé Giselle Knowles-Carter (/biːˈjɒnseɪ/ b...</td>\n",
              "      <td>When did Beyonce start becoming popular?</td>\n",
              "      <td>56be85543aeaaa14008c9063</td>\n",
              "      <td>False</td>\n",
              "    </tr>\n",
              "    <tr>\n",
              "      <th>1</th>\n",
              "      <td>singing and dancing</td>\n",
              "      <td>207</td>\n",
              "      <td>Beyoncé</td>\n",
              "      <td>Beyoncé Giselle Knowles-Carter (/biːˈjɒnseɪ/ b...</td>\n",
              "      <td>What areas did Beyonce compete in when she was...</td>\n",
              "      <td>56be85543aeaaa14008c9065</td>\n",
              "      <td>False</td>\n",
              "    </tr>\n",
              "    <tr>\n",
              "      <th>2</th>\n",
              "      <td>2003</td>\n",
              "      <td>526</td>\n",
              "      <td>Beyoncé</td>\n",
              "      <td>Beyoncé Giselle Knowles-Carter (/biːˈjɒnseɪ/ b...</td>\n",
              "      <td>When did Beyonce leave Destiny's Child and bec...</td>\n",
              "      <td>56be85543aeaaa14008c9066</td>\n",
              "      <td>False</td>\n",
              "    </tr>\n",
              "    <tr>\n",
              "      <th>3</th>\n",
              "      <td>Houston, Texas</td>\n",
              "      <td>166</td>\n",
              "      <td>Beyoncé</td>\n",
              "      <td>Beyoncé Giselle Knowles-Carter (/biːˈjɒnseɪ/ b...</td>\n",
              "      <td>In what city and state did Beyonce  grow up?</td>\n",
              "      <td>56bf6b0f3aeaaa14008c9601</td>\n",
              "      <td>False</td>\n",
              "    </tr>\n",
              "    <tr>\n",
              "      <th>4</th>\n",
              "      <td>late 1990s</td>\n",
              "      <td>276</td>\n",
              "      <td>Beyoncé</td>\n",
              "      <td>Beyoncé Giselle Knowles-Carter (/biːˈjɒnseɪ/ b...</td>\n",
              "      <td>In which decade did Beyonce become famous?</td>\n",
              "      <td>56bf6b0f3aeaaa14008c9602</td>\n",
              "      <td>False</td>\n",
              "    </tr>\n",
              "  </tbody>\n",
              "</table>\n",
              "</div>"
            ],
            "text/plain": [
              "                  text  answer_start  ...                        id is_impossible\n",
              "0    in the late 1990s           269  ...  56be85543aeaaa14008c9063         False\n",
              "1  singing and dancing           207  ...  56be85543aeaaa14008c9065         False\n",
              "2                 2003           526  ...  56be85543aeaaa14008c9066         False\n",
              "3       Houston, Texas           166  ...  56bf6b0f3aeaaa14008c9601         False\n",
              "4           late 1990s           276  ...  56bf6b0f3aeaaa14008c9602         False\n",
              "\n",
              "[5 rows x 7 columns]"
            ]
          },
          "metadata": {
            "tags": []
          },
          "execution_count": 54
        }
      ]
    },
    {
      "cell_type": "code",
      "metadata": {
        "id": "x-9BevmstMeB",
        "colab_type": "code",
        "colab": {
          "base_uri": "https://localhost:8080/",
          "height": 219
        },
        "outputId": "d54a693a-9622-4723-a893-2adb9d538d15"
      },
      "source": [
        "print(\"dimensiones df\",df.shape)\n",
        "print(\"Respuestas imposibles \", df[\"paragraph.qas.is_impossible\"].sum())\n",
        "print(\"Nas \\n\", df.isna().sum())\n"
      ],
      "execution_count": 22,
      "outputs": [
        {
          "output_type": "stream",
          "text": [
            "dimensiones df (86821, 7)\n",
            "Respuestas imposibles  0\n",
            "Nas \n",
            " text                           0\n",
            "answer_start                   0\n",
            "title                          0\n",
            "paragraph.context              0\n",
            "paragraph.qas.question         0\n",
            "paragraph.qas.id               0\n",
            "paragraph.qas.is_impossible    0\n",
            "dtype: int64\n"
          ],
          "name": "stdout"
        }
      ]
    },
    {
      "cell_type": "markdown",
      "metadata": {
        "id": "qh-XjkfT6qpw",
        "colab_type": "text"
      },
      "source": [
        "## Preguntas sin respuestas\n",
        "La variable is_impossible boolanea representa las preguntas que no tienen respuesta que se deben de idetificar como parte de la versióón 2 de la base de datos.\n",
        "Por el momento las vamos a ignorar, sin embargo se en las siguientes casillas se explora un poco la naturaleza de esos datos.\n",
        "1. En los casos en los que plausible answers tiene valores distintos de Na la variable answer es vacía.\n",
        "2. En los casos que la variable is_impossilbe tiene valores verdaderos la variable plausible_answers tiene valores distintos de NA.\n",
        "3. Hay 43498 entradas en esta situacion."
      ]
    },
    {
      "cell_type": "code",
      "metadata": {
        "id": "OHtPpIECCF0k",
        "colab_type": "code",
        "colab": {
          "base_uri": "https://localhost:8080/",
          "height": 424
        },
        "outputId": "b1f3a36f-ec2b-4b66-8512-b81d41f78473"
      },
      "source": [
        "df2=pd.json_normalize(data=d['data'],record_path=['paragraphs','qas'])\n",
        "df2=df2[df2[\"is_impossible\"]==True]\n",
        "df2"
      ],
      "execution_count": 38,
      "outputs": [
        {
          "output_type": "execute_result",
          "data": {
            "text/html": [
              "<div>\n",
              "<style scoped>\n",
              "    .dataframe tbody tr th:only-of-type {\n",
              "        vertical-align: middle;\n",
              "    }\n",
              "\n",
              "    .dataframe tbody tr th {\n",
              "        vertical-align: top;\n",
              "    }\n",
              "\n",
              "    .dataframe thead th {\n",
              "        text-align: right;\n",
              "    }\n",
              "</style>\n",
              "<table border=\"1\" class=\"dataframe\">\n",
              "  <thead>\n",
              "    <tr style=\"text-align: right;\">\n",
              "      <th></th>\n",
              "      <th>question</th>\n",
              "      <th>id</th>\n",
              "      <th>answers</th>\n",
              "      <th>is_impossible</th>\n",
              "      <th>plausible_answers</th>\n",
              "    </tr>\n",
              "  </thead>\n",
              "  <tbody>\n",
              "    <tr>\n",
              "      <th>2075</th>\n",
              "      <td>What category of game is Legend of Zelda: Aust...</td>\n",
              "      <td>5a8d7bf7df8bba001a0f9ab1</td>\n",
              "      <td>[]</td>\n",
              "      <td>True</td>\n",
              "      <td>[{'text': 'action-adventure', 'answer_start': ...</td>\n",
              "    </tr>\n",
              "    <tr>\n",
              "      <th>2076</th>\n",
              "      <td>What consoles can be used to play Australia Tw...</td>\n",
              "      <td>5a8d7bf7df8bba001a0f9ab2</td>\n",
              "      <td>[]</td>\n",
              "      <td>True</td>\n",
              "      <td>[{'text': 'GameCube and Wii', 'answer_start': ...</td>\n",
              "    </tr>\n",
              "    <tr>\n",
              "      <th>2077</th>\n",
              "      <td>When was Australia Twilight launched in North ...</td>\n",
              "      <td>5a8d7bf7df8bba001a0f9ab3</td>\n",
              "      <td>[]</td>\n",
              "      <td>True</td>\n",
              "      <td>[{'text': 'November 2006', 'answer_start': 569}]</td>\n",
              "    </tr>\n",
              "    <tr>\n",
              "      <th>2078</th>\n",
              "      <td>When could GameCube owners purchase Australian...</td>\n",
              "      <td>5a8d7bf7df8bba001a0f9ab4</td>\n",
              "      <td>[]</td>\n",
              "      <td>True</td>\n",
              "      <td>[{'text': 'November 2006', 'answer_start': 569}]</td>\n",
              "    </tr>\n",
              "    <tr>\n",
              "      <th>2079</th>\n",
              "      <td>What year was the Legend of Zelda: Australian ...</td>\n",
              "      <td>5a8d7bf7df8bba001a0f9ab5</td>\n",
              "      <td>[]</td>\n",
              "      <td>True</td>\n",
              "      <td>[{'text': '2005', 'answer_start': 364}]</td>\n",
              "    </tr>\n",
              "    <tr>\n",
              "      <th>...</th>\n",
              "      <td>...</td>\n",
              "      <td>...</td>\n",
              "      <td>...</td>\n",
              "      <td>...</td>\n",
              "      <td>...</td>\n",
              "    </tr>\n",
              "    <tr>\n",
              "      <th>130314</th>\n",
              "      <td>Physics has broadly agreed on the definition o...</td>\n",
              "      <td>5a7e070b70df9f001a875439</td>\n",
              "      <td>[]</td>\n",
              "      <td>True</td>\n",
              "      <td>[{'text': 'matter', 'answer_start': 485}]</td>\n",
              "    </tr>\n",
              "    <tr>\n",
              "      <th>130315</th>\n",
              "      <td>Who coined the term partonic matter?</td>\n",
              "      <td>5a7e070b70df9f001a87543a</td>\n",
              "      <td>[]</td>\n",
              "      <td>True</td>\n",
              "      <td>[{'text': 'Alfvén', 'answer_start': 327}]</td>\n",
              "    </tr>\n",
              "    <tr>\n",
              "      <th>130316</th>\n",
              "      <td>What is another name for anti-matter?</td>\n",
              "      <td>5a7e070b70df9f001a87543b</td>\n",
              "      <td>[]</td>\n",
              "      <td>True</td>\n",
              "      <td>[{'text': 'Gk. common matter', 'answer_start':...</td>\n",
              "    </tr>\n",
              "    <tr>\n",
              "      <th>130317</th>\n",
              "      <td>Matter usually does not need to be used in con...</td>\n",
              "      <td>5a7e070b70df9f001a87543c</td>\n",
              "      <td>[]</td>\n",
              "      <td>True</td>\n",
              "      <td>[{'text': 'a specifying modifier', 'answer_sta...</td>\n",
              "    </tr>\n",
              "    <tr>\n",
              "      <th>130318</th>\n",
              "      <td>What field of study has a variety of unusual c...</td>\n",
              "      <td>5a7e070b70df9f001a87543d</td>\n",
              "      <td>[]</td>\n",
              "      <td>True</td>\n",
              "      <td>[{'text': 'physics', 'answer_start': 37}]</td>\n",
              "    </tr>\n",
              "  </tbody>\n",
              "</table>\n",
              "<p>43498 rows × 5 columns</p>\n",
              "</div>"
            ],
            "text/plain": [
              "                                                 question  ...                                  plausible_answers\n",
              "2075    What category of game is Legend of Zelda: Aust...  ...  [{'text': 'action-adventure', 'answer_start': ...\n",
              "2076    What consoles can be used to play Australia Tw...  ...  [{'text': 'GameCube and Wii', 'answer_start': ...\n",
              "2077    When was Australia Twilight launched in North ...  ...   [{'text': 'November 2006', 'answer_start': 569}]\n",
              "2078    When could GameCube owners purchase Australian...  ...   [{'text': 'November 2006', 'answer_start': 569}]\n",
              "2079    What year was the Legend of Zelda: Australian ...  ...            [{'text': '2005', 'answer_start': 364}]\n",
              "...                                                   ...  ...                                                ...\n",
              "130314  Physics has broadly agreed on the definition o...  ...          [{'text': 'matter', 'answer_start': 485}]\n",
              "130315               Who coined the term partonic matter?  ...          [{'text': 'Alfvén', 'answer_start': 327}]\n",
              "130316              What is another name for anti-matter?  ...  [{'text': 'Gk. common matter', 'answer_start':...\n",
              "130317  Matter usually does not need to be used in con...  ...  [{'text': 'a specifying modifier', 'answer_sta...\n",
              "130318  What field of study has a variety of unusual c...  ...          [{'text': 'physics', 'answer_start': 37}]\n",
              "\n",
              "[43498 rows x 5 columns]"
            ]
          },
          "metadata": {
            "tags": []
          },
          "execution_count": 38
        }
      ]
    },
    {
      "cell_type": "code",
      "metadata": {
        "id": "LtYCi5d0DK5o",
        "colab_type": "code",
        "colab": {
          "base_uri": "https://localhost:8080/",
          "height": 327
        },
        "outputId": "48a62e56-64ae-46f1-fb9b-35caa4fd6909"
      },
      "source": [
        "# Todavio no lo saco pero no es necesario\n",
        "pd.json_normalize(data=df2['plausible_answers'])"
      ],
      "execution_count": 45,
      "outputs": [
        {
          "output_type": "error",
          "ename": "AttributeError",
          "evalue": "ignored",
          "traceback": [
            "\u001b[0;31m---------------------------------------------------------------------------\u001b[0m",
            "\u001b[0;31mAttributeError\u001b[0m                            Traceback (most recent call last)",
            "\u001b[0;32m<ipython-input-45-bbfbbbf3f427>\u001b[0m in \u001b[0;36m<module>\u001b[0;34m()\u001b[0m\n\u001b[0;32m----> 1\u001b[0;31m \u001b[0mpd\u001b[0m\u001b[0;34m.\u001b[0m\u001b[0mjson_normalize\u001b[0m\u001b[0;34m(\u001b[0m\u001b[0mdata\u001b[0m\u001b[0;34m=\u001b[0m\u001b[0mdf2\u001b[0m\u001b[0;34m[\u001b[0m\u001b[0;34m'plausible_answers'\u001b[0m\u001b[0;34m]\u001b[0m\u001b[0;34m)\u001b[0m\u001b[0;34m\u001b[0m\u001b[0;34m\u001b[0m\u001b[0m\n\u001b[0m",
            "\u001b[0;32m/usr/local/lib/python3.6/dist-packages/pandas/io/json/_normalize.py\u001b[0m in \u001b[0;36m_json_normalize\u001b[0;34m(data, record_path, meta, meta_prefix, record_prefix, errors, sep, max_level)\u001b[0m\n\u001b[1;32m    272\u001b[0m \u001b[0;34m\u001b[0m\u001b[0m\n\u001b[1;32m    273\u001b[0m     \u001b[0;32mif\u001b[0m \u001b[0mrecord_path\u001b[0m \u001b[0;32mis\u001b[0m \u001b[0;32mNone\u001b[0m\u001b[0;34m:\u001b[0m\u001b[0;34m\u001b[0m\u001b[0;34m\u001b[0m\u001b[0m\n\u001b[0;32m--> 274\u001b[0;31m         \u001b[0;32mif\u001b[0m \u001b[0many\u001b[0m\u001b[0;34m(\u001b[0m\u001b[0;34m[\u001b[0m\u001b[0misinstance\u001b[0m\u001b[0;34m(\u001b[0m\u001b[0mx\u001b[0m\u001b[0;34m,\u001b[0m \u001b[0mdict\u001b[0m\u001b[0;34m)\u001b[0m \u001b[0;32mfor\u001b[0m \u001b[0mx\u001b[0m \u001b[0;32min\u001b[0m \u001b[0my\u001b[0m\u001b[0;34m.\u001b[0m\u001b[0mvalues\u001b[0m\u001b[0;34m(\u001b[0m\u001b[0;34m)\u001b[0m\u001b[0;34m]\u001b[0m \u001b[0;32mfor\u001b[0m \u001b[0my\u001b[0m \u001b[0;32min\u001b[0m \u001b[0mdata\u001b[0m\u001b[0;34m)\u001b[0m\u001b[0;34m:\u001b[0m\u001b[0;34m\u001b[0m\u001b[0;34m\u001b[0m\u001b[0m\n\u001b[0m\u001b[1;32m    275\u001b[0m             \u001b[0;31m# naive normalization, this is idempotent for flat records\u001b[0m\u001b[0;34m\u001b[0m\u001b[0;34m\u001b[0m\u001b[0;34m\u001b[0m\u001b[0m\n\u001b[1;32m    276\u001b[0m             \u001b[0;31m# and potentially will inflate the data considerably for\u001b[0m\u001b[0;34m\u001b[0m\u001b[0;34m\u001b[0m\u001b[0;34m\u001b[0m\u001b[0m\n",
            "\u001b[0;32m/usr/local/lib/python3.6/dist-packages/pandas/io/json/_normalize.py\u001b[0m in \u001b[0;36m<genexpr>\u001b[0;34m(.0)\u001b[0m\n\u001b[1;32m    272\u001b[0m \u001b[0;34m\u001b[0m\u001b[0m\n\u001b[1;32m    273\u001b[0m     \u001b[0;32mif\u001b[0m \u001b[0mrecord_path\u001b[0m \u001b[0;32mis\u001b[0m \u001b[0;32mNone\u001b[0m\u001b[0;34m:\u001b[0m\u001b[0;34m\u001b[0m\u001b[0;34m\u001b[0m\u001b[0m\n\u001b[0;32m--> 274\u001b[0;31m         \u001b[0;32mif\u001b[0m \u001b[0many\u001b[0m\u001b[0;34m(\u001b[0m\u001b[0;34m[\u001b[0m\u001b[0misinstance\u001b[0m\u001b[0;34m(\u001b[0m\u001b[0mx\u001b[0m\u001b[0;34m,\u001b[0m \u001b[0mdict\u001b[0m\u001b[0;34m)\u001b[0m \u001b[0;32mfor\u001b[0m \u001b[0mx\u001b[0m \u001b[0;32min\u001b[0m \u001b[0my\u001b[0m\u001b[0;34m.\u001b[0m\u001b[0mvalues\u001b[0m\u001b[0;34m(\u001b[0m\u001b[0;34m)\u001b[0m\u001b[0;34m]\u001b[0m \u001b[0;32mfor\u001b[0m \u001b[0my\u001b[0m \u001b[0;32min\u001b[0m \u001b[0mdata\u001b[0m\u001b[0;34m)\u001b[0m\u001b[0;34m:\u001b[0m\u001b[0;34m\u001b[0m\u001b[0;34m\u001b[0m\u001b[0m\n\u001b[0m\u001b[1;32m    275\u001b[0m             \u001b[0;31m# naive normalization, this is idempotent for flat records\u001b[0m\u001b[0;34m\u001b[0m\u001b[0;34m\u001b[0m\u001b[0;34m\u001b[0m\u001b[0m\n\u001b[1;32m    276\u001b[0m             \u001b[0;31m# and potentially will inflate the data considerably for\u001b[0m\u001b[0;34m\u001b[0m\u001b[0;34m\u001b[0m\u001b[0;34m\u001b[0m\u001b[0m\n",
            "\u001b[0;31mAttributeError\u001b[0m: 'list' object has no attribute 'values'"
          ]
        }
      ]
    },
    {
      "cell_type": "code",
      "metadata": {
        "id": "3r45LnnN4pEJ",
        "colab_type": "code",
        "colab": {
          "base_uri": "https://localhost:8080/",
          "height": 35
        },
        "outputId": "a78d0787-af00-4f8d-b850-9e1277a7af12"
      },
      "source": [
        "df2['plausible_answers'].iloc[1]"
      ],
      "execution_count": 43,
      "outputs": [
        {
          "output_type": "execute_result",
          "data": {
            "text/plain": [
              "[{'answer_start': 194, 'text': 'GameCube and Wii'}]"
            ]
          },
          "metadata": {
            "tags": []
          },
          "execution_count": 43
        }
      ]
    },
    {
      "cell_type": "markdown",
      "metadata": {
        "id": "jcXkOsHrAKeQ",
        "colab_type": "text"
      },
      "source": [
        ""
      ]
    },
    {
      "cell_type": "code",
      "metadata": {
        "id": "8IOCSsPP5x67",
        "colab_type": "code",
        "colab": {}
      },
      "source": [
        ""
      ],
      "execution_count": 0,
      "outputs": []
    }
  ]
}
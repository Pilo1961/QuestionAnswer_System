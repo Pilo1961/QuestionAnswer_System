{
  "nbformat": 4,
  "nbformat_minor": 0,
  "metadata": {
    "colab": {
      "name": "Overview of Colaboratory Features",
      "provenance": [],
      "collapsed_sections": [],
      "include_colab_link": true
    },
    "kernelspec": {
      "display_name": "Python 3",
      "name": "python3"
    },
    "accelerator": "GPU"
  },
  "cells": [
    {
      "cell_type": "markdown",
      "metadata": {
        "id": "view-in-github",
        "colab_type": "text"
      },
      "source": [
        "<a href=\"https://colab.research.google.com/github/Pilo1961/QuestionAnswer_System/blob/master/code/TestData.ipynb\" target=\"_parent\"><img src=\"https://colab.research.google.com/assets/colab-badge.svg\" alt=\"Open In Colab\"/></a>"
      ]
    },
    {
      "cell_type": "markdown",
      "metadata": {
        "id": "vod2GM6Y9Idr",
        "colab_type": "text"
      },
      "source": [
        "# Datos de prueba"
      ]
    },
    {
      "cell_type": "code",
      "metadata": {
        "id": "Y1xq0eit9JCv",
        "colab_type": "code",
        "colab": {}
      },
      "source": [
        "import numpy as np\n",
        "import pandas as pd\n",
        "import json\n",
        "import pickle"
      ],
      "execution_count": 0,
      "outputs": []
    },
    {
      "cell_type": "code",
      "metadata": {
        "id": "E2wOhRJI9Jdq",
        "colab_type": "code",
        "colab": {
          "base_uri": "https://localhost:8080/",
          "height": 121
        },
        "outputId": "199a47bb-c394-486f-bbb8-f85ebf11b8c2"
      },
      "source": [
        "#load data from google drive\n",
        "from google.colab import drive\n",
        "drive.mount('/content/drive',force_remount=True)"
      ],
      "execution_count": 3,
      "outputs": [
        {
          "output_type": "stream",
          "text": [
            "Go to this URL in a browser: https://accounts.google.com/o/oauth2/auth?client_id=947318989803-6bn6qk8qdgf4n4g3pfee6491hc0brc4i.apps.googleusercontent.com&redirect_uri=urn%3aietf%3awg%3aoauth%3a2.0%3aoob&response_type=code&scope=email%20https%3a%2f%2fwww.googleapis.com%2fauth%2fdocs.test%20https%3a%2f%2fwww.googleapis.com%2fauth%2fdrive%20https%3a%2f%2fwww.googleapis.com%2fauth%2fdrive.photos.readonly%20https%3a%2f%2fwww.googleapis.com%2fauth%2fpeopleapi.readonly\n",
            "\n",
            "Enter your authorization code:\n",
            "··········\n",
            "Mounted at /content/drive\n"
          ],
          "name": "stdout"
        }
      ]
    },
    {
      "cell_type": "markdown",
      "metadata": {
        "id": "d6dUzje49XR5",
        "colab_type": "text"
      },
      "source": [
        "# Read data"
      ]
    },
    {
      "cell_type": "code",
      "metadata": {
        "id": "0f-JI5eG9RmH",
        "colab_type": "code",
        "colab": {
          "base_uri": "https://localhost:8080/",
          "height": 212
        },
        "outputId": "6ad6d1d9-775b-402e-b00c-120bd9b78f7f"
      },
      "source": [
        "# Lectura de datos\n",
        "path= \"/content/drive/My Drive/QA/dev-v1.0.json\"\n",
        "with open(path) as f: \n",
        "    d = json.load(f) \n",
        "\n",
        "df = pd.json_normalize(d['data'])  \n",
        "print(df.shape)\n",
        "df.head()"
      ],
      "execution_count": 4,
      "outputs": [
        {
          "output_type": "stream",
          "text": [
            "(48, 2)\n"
          ],
          "name": "stdout"
        },
        {
          "output_type": "execute_result",
          "data": {
            "text/html": [
              "<div>\n",
              "<style scoped>\n",
              "    .dataframe tbody tr th:only-of-type {\n",
              "        vertical-align: middle;\n",
              "    }\n",
              "\n",
              "    .dataframe tbody tr th {\n",
              "        vertical-align: top;\n",
              "    }\n",
              "\n",
              "    .dataframe thead th {\n",
              "        text-align: right;\n",
              "    }\n",
              "</style>\n",
              "<table border=\"1\" class=\"dataframe\">\n",
              "  <thead>\n",
              "    <tr style=\"text-align: right;\">\n",
              "      <th></th>\n",
              "      <th>paragraphs</th>\n",
              "      <th>title</th>\n",
              "    </tr>\n",
              "  </thead>\n",
              "  <tbody>\n",
              "    <tr>\n",
              "      <th>0</th>\n",
              "      <td>[{'context': 'Super Bowl 50 was an American fo...</td>\n",
              "      <td>Super_Bowl_50</td>\n",
              "    </tr>\n",
              "    <tr>\n",
              "      <th>1</th>\n",
              "      <td>[{'context': 'One of the most famous people bo...</td>\n",
              "      <td>Warsaw</td>\n",
              "    </tr>\n",
              "    <tr>\n",
              "      <th>2</th>\n",
              "      <td>[{'context': 'The Normans (Norman: Nourmands; ...</td>\n",
              "      <td>Normans</td>\n",
              "    </tr>\n",
              "    <tr>\n",
              "      <th>3</th>\n",
              "      <td>[{'context': 'Nikola Tesla (Serbian Cyrillic: ...</td>\n",
              "      <td>Nikola_Tesla</td>\n",
              "    </tr>\n",
              "    <tr>\n",
              "      <th>4</th>\n",
              "      <td>[{'context': 'Computational complexity theory ...</td>\n",
              "      <td>Computational_complexity_theory</td>\n",
              "    </tr>\n",
              "  </tbody>\n",
              "</table>\n",
              "</div>"
            ],
            "text/plain": [
              "                                          paragraphs                            title\n",
              "0  [{'context': 'Super Bowl 50 was an American fo...                    Super_Bowl_50\n",
              "1  [{'context': 'One of the most famous people bo...                           Warsaw\n",
              "2  [{'context': 'The Normans (Norman: Nourmands; ...                          Normans\n",
              "3  [{'context': 'Nikola Tesla (Serbian Cyrillic: ...                     Nikola_Tesla\n",
              "4  [{'context': 'Computational complexity theory ...  Computational_complexity_theory"
            ]
          },
          "metadata": {
            "tags": []
          },
          "execution_count": 4
        }
      ]
    },
    {
      "cell_type": "code",
      "metadata": {
        "id": "k4wrYMrh9emY",
        "colab_type": "code",
        "colab": {
          "base_uri": "https://localhost:8080/",
          "height": 736
        },
        "outputId": "769351db-1fa6-48b8-e43c-f7f663cf94ee"
      },
      "source": [
        "df=pd.json_normalize(data=d['data'],\n",
        "                        record_path=['paragraphs','qas','answers'],\n",
        "                        record_prefix=None,\n",
        "                        meta_prefix=None,\n",
        "                        meta=['title',\n",
        "                              ['paragraph','context'],\n",
        "                              ['paragraph','qas','question'],\n",
        "                              ['paragraph','qas','id']])\n",
        "\n",
        "df.rename(columns={'paragraph.context':'context','paragraph.qas.question':'question','paragraph.qas.id':'id'},inplace=True)\n",
        "print(df.shape)\n",
        "df.head()"
      ],
      "execution_count": 5,
      "outputs": [
        {
          "output_type": "stream",
          "text": [
            "(33615, 6)\n"
          ],
          "name": "stdout"
        },
        {
          "output_type": "execute_result",
          "data": {
            "text/html": [
              "<div>\n",
              "<style scoped>\n",
              "    .dataframe tbody tr th:only-of-type {\n",
              "        vertical-align: middle;\n",
              "    }\n",
              "\n",
              "    .dataframe tbody tr th {\n",
              "        vertical-align: top;\n",
              "    }\n",
              "\n",
              "    .dataframe thead th {\n",
              "        text-align: right;\n",
              "    }\n",
              "</style>\n",
              "<table border=\"1\" class=\"dataframe\">\n",
              "  <thead>\n",
              "    <tr style=\"text-align: right;\">\n",
              "      <th></th>\n",
              "      <th>answer_start</th>\n",
              "      <th>text</th>\n",
              "      <th>title</th>\n",
              "      <th>context</th>\n",
              "      <th>question</th>\n",
              "      <th>id</th>\n",
              "    </tr>\n",
              "  </thead>\n",
              "  <tbody>\n",
              "    <tr>\n",
              "      <th>0</th>\n",
              "      <td>176</td>\n",
              "      <td>Denver Broncos</td>\n",
              "      <td>Super_Bowl_50</td>\n",
              "      <td>Super Bowl 50 was an American football game to...</td>\n",
              "      <td>Which NFL team represented the AFC at Super Bo...</td>\n",
              "      <td>56be4db0acb8001400a502ec</td>\n",
              "    </tr>\n",
              "    <tr>\n",
              "      <th>1</th>\n",
              "      <td>177</td>\n",
              "      <td>Denver Broncos</td>\n",
              "      <td>Super_Bowl_50</td>\n",
              "      <td>Super Bowl 50 was an American football game to...</td>\n",
              "      <td>Which NFL team represented the AFC at Super Bo...</td>\n",
              "      <td>56be4db0acb8001400a502ec</td>\n",
              "    </tr>\n",
              "    <tr>\n",
              "      <th>2</th>\n",
              "      <td>177</td>\n",
              "      <td>Denver Broncos</td>\n",
              "      <td>Super_Bowl_50</td>\n",
              "      <td>Super Bowl 50 was an American football game to...</td>\n",
              "      <td>Which NFL team represented the AFC at Super Bo...</td>\n",
              "      <td>56be4db0acb8001400a502ec</td>\n",
              "    </tr>\n",
              "    <tr>\n",
              "      <th>3</th>\n",
              "      <td>248</td>\n",
              "      <td>Carolina Panthers</td>\n",
              "      <td>Super_Bowl_50</td>\n",
              "      <td>Super Bowl 50 was an American football game to...</td>\n",
              "      <td>Which NFL team represented the NFC at Super Bo...</td>\n",
              "      <td>56be4db0acb8001400a502ed</td>\n",
              "    </tr>\n",
              "    <tr>\n",
              "      <th>4</th>\n",
              "      <td>249</td>\n",
              "      <td>Carolina Panthers</td>\n",
              "      <td>Super_Bowl_50</td>\n",
              "      <td>Super Bowl 50 was an American football game to...</td>\n",
              "      <td>Which NFL team represented the NFC at Super Bo...</td>\n",
              "      <td>56be4db0acb8001400a502ed</td>\n",
              "    </tr>\n",
              "  </tbody>\n",
              "</table>\n",
              "</div>"
            ],
            "text/plain": [
              "   answer_start  ...                        id\n",
              "0           176  ...  56be4db0acb8001400a502ec\n",
              "1           177  ...  56be4db0acb8001400a502ec\n",
              "2           177  ...  56be4db0acb8001400a502ec\n",
              "3           248  ...  56be4db0acb8001400a502ed\n",
              "4           249  ...  56be4db0acb8001400a502ed\n",
              "\n",
              "[5 rows x 6 columns]"
            ]
          },
          "metadata": {
            "tags": []
          },
          "execution_count": 5
        }
      ]
    },
    {
      "cell_type": "code",
      "metadata": {
        "id": "Sy-5MY3y9l0s",
        "colab_type": "code",
        "colab": {
          "base_uri": "https://localhost:8080/",
          "height": 168
        },
        "outputId": "d1125acb-a51a-4b89-9337-d663f404ff57"
      },
      "source": [
        "print(\"dimensiones df\",df.shape)\n",
        "print(\"Nas \\n\", df.isna().sum())"
      ],
      "execution_count": 6,
      "outputs": [
        {
          "output_type": "stream",
          "text": [
            "dimensiones df (33615, 6)\n",
            "Nas \n",
            " answer_start    0\n",
            "text            0\n",
            "title           0\n",
            "context         0\n",
            "question        0\n",
            "id              0\n",
            "dtype: int64\n"
          ],
          "name": "stdout"
        }
      ]
    },
    {
      "cell_type": "markdown",
      "metadata": {
        "id": "oP5iKg5JHTWV",
        "colab_type": "text"
      },
      "source": [
        "# Embeddings de oraciones"
      ]
    },
    {
      "cell_type": "code",
      "metadata": {
        "id": "6mYh8wL-9pkX",
        "colab_type": "code",
        "colab": {}
      },
      "source": [
        "import numpy as np\n",
        "import pandas as pd\n",
        "from random import randint\n",
        "import torch\n",
        "\n",
        "%load_ext autoreload\n",
        "%autoreload 2\n",
        "%matplotlib inline"
      ],
      "execution_count": 0,
      "outputs": []
    },
    {
      "cell_type": "code",
      "metadata": {
        "id": "TmlEAyaH-K5C",
        "colab_type": "code",
        "colab": {
          "base_uri": "https://localhost:8080/",
          "height": 34
        },
        "outputId": "6d3f3d06-e3b7-4156-e9eb-c12d0e5fb197"
      },
      "source": [
        "#usa cuda si esta disponible\n",
        "cuda=torch.cuda.is_available()\n",
        "use_cuda = cuda\n",
        "print(\"Use cuda: \",cuda)"
      ],
      "execution_count": 8,
      "outputs": [
        {
          "output_type": "stream",
          "text": [
            "Use cuda:  True\n"
          ],
          "name": "stdout"
        }
      ]
    },
    {
      "cell_type": "code",
      "metadata": {
        "id": "GIEJxYr6-MNn",
        "colab_type": "code",
        "colab": {
          "base_uri": "https://localhost:8080/",
          "height": 34
        },
        "outputId": "a5c7f4c9-96cd-4453-91d5-4e768af6aec8"
      },
      "source": [
        "#importa el modulo models de infersent\n",
        "import sys\n",
        "sys.path.append('/content/drive/My Drive/QA/')\n",
        "from models import InferSent\n",
        "\n",
        "model_version = 1\n",
        "MODEL_PATH = \"/content/drive/My Drive/QA/infersent%s.pkl\" % model_version\n",
        "params_model = {'bsize': 64, 'word_emb_dim': 300, 'enc_lstm_dim': 2048,\n",
        "                'pool_type': 'max', 'dpout_model': 0.0, 'version': model_version}\n",
        "model = InferSent(params_model)\n",
        "model.load_state_dict(torch.load(MODEL_PATH))"
      ],
      "execution_count": 9,
      "outputs": [
        {
          "output_type": "execute_result",
          "data": {
            "text/plain": [
              "<All keys matched successfully>"
            ]
          },
          "metadata": {
            "tags": []
          },
          "execution_count": 9
        }
      ]
    },
    {
      "cell_type": "code",
      "metadata": {
        "id": "SS-pWK6k-jZQ",
        "colab_type": "code",
        "colab": {}
      },
      "source": [
        "# Keep it on CPU or put it on GPU\n",
        "model = model.cuda() if use_cuda else model"
      ],
      "execution_count": 0,
      "outputs": []
    },
    {
      "cell_type": "code",
      "metadata": {
        "id": "Bc46Hm5B-mjv",
        "colab_type": "code",
        "colab": {}
      },
      "source": [
        "# Importa el embedding word2Vec GLovE preentrnado\n",
        "W2V_PATH = '/content/drive/My Drive/QA/glove.840B.300d.txt' if model_version == 1 else 'fastText/crawl-300d-2M.vec'\n",
        "model.set_w2v_path(W2V_PATH)"
      ],
      "execution_count": 0,
      "outputs": []
    },
    {
      "cell_type": "markdown",
      "metadata": {
        "id": "IiOxAvQpHbV3",
        "colab_type": "text"
      },
      "source": [
        ""
      ]
    },
    {
      "cell_type": "code",
      "metadata": {
        "id": "9bM0oxWY-oQW",
        "colab_type": "code",
        "colab": {
          "base_uri": "https://localhost:8080/",
          "height": 50
        },
        "outputId": "b6abc409-b360-40f2-d23e-d4d9e60b2e36"
      },
      "source": [
        "import nltk\n",
        "nltk.download('punkt')\n",
        "from nltk.tokenize import sent_tokenize, word_tokenize"
      ],
      "execution_count": 12,
      "outputs": [
        {
          "output_type": "stream",
          "text": [
            "[nltk_data] Downloading package punkt to /root/nltk_data...\n",
            "[nltk_data]   Unzipping tokenizers/punkt.zip.\n"
          ],
          "name": "stdout"
        }
      ]
    },
    {
      "cell_type": "code",
      "metadata": {
        "id": "dofny1oH-qEz",
        "colab_type": "code",
        "colab": {}
      },
      "source": [
        "# Tokeniza datos \n",
        "#Hace cada oracion un token\n",
        "#Convierte todo el texto a minusculas\n",
        "contextos=df['context'].unique()\n",
        "data=[]\n",
        "for cont in contextos: # para cada contexto\n",
        "  sample=cont\n",
        "  for sent in sent_tokenize(sample): #Extrae las oraciones\n",
        "    data.append(sent.lower())"
      ],
      "execution_count": 0,
      "outputs": []
    },
    {
      "cell_type": "code",
      "metadata": {
        "id": "rRsuAZan-wOB",
        "colab_type": "code",
        "colab": {
          "base_uri": "https://localhost:8080/",
          "height": 138
        },
        "outputId": "e153c638-0b55-42c0-c2db-1fa34cf52eb4"
      },
      "source": [
        "#Hay 93576 oraciones en el train, cada una es un token en la lista data\n",
        "print(len(data))\n",
        "data[:5]"
      ],
      "execution_count": 14,
      "outputs": [
        {
          "output_type": "stream",
          "text": [
            "10458\n"
          ],
          "name": "stdout"
        },
        {
          "output_type": "execute_result",
          "data": {
            "text/plain": [
              "['super bowl 50 was an american football game to determine the champion of the national football league (nfl) for the 2015 season.',\n",
              " 'the american football conference (afc) champion denver broncos defeated the national football conference (nfc) champion carolina panthers 24–10 to earn their third super bowl title.',\n",
              " \"the game was played on february 7, 2016, at levi's stadium in the san francisco bay area at santa clara, california.\",\n",
              " 'as this was the 50th super bowl, the league emphasized the \"golden anniversary\" with various gold-themed initiatives, as well as temporarily suspending the tradition of naming each super bowl game with roman numerals (under which the game would have been known as \"super bowl l\"), so that the logo could prominently feature the arabic numerals 50.',\n",
              " 'the panthers finished the regular season with a 15–1 record, and quarterback cam newton was named the nfl most valuable player (mvp).']"
            ]
          },
          "metadata": {
            "tags": []
          },
          "execution_count": 14
        }
      ]
    },
    {
      "cell_type": "markdown",
      "metadata": {
        "id": "rwjFItHtHso8",
        "colab_type": "text"
      },
      "source": [
        ""
      ]
    },
    {
      "cell_type": "code",
      "metadata": {
        "id": "RlRlgY-t-x7d",
        "colab_type": "code",
        "colab": {
          "base_uri": "https://localhost:8080/",
          "height": 50
        },
        "outputId": "36b95915-272d-4b88-ac2f-9d7e8c0a8c12"
      },
      "source": [
        "import pickle\n",
        "from textblob import TextBlob\n",
        "import nltk\n",
        "nltk.download('punkt')\n",
        "from nltk.tokenize import sent_tokenize, word_tokenize\n",
        "import pandas as pd\n",
        "import numpy as np\n",
        "import matplotlib.pyplot as plt\n",
        "%matplotlib inline"
      ],
      "execution_count": 15,
      "outputs": [
        {
          "output_type": "stream",
          "text": [
            "[nltk_data] Downloading package punkt to /root/nltk_data...\n",
            "[nltk_data]   Package punkt is already up-to-date!\n"
          ],
          "name": "stdout"
        }
      ]
    },
    {
      "cell_type": "code",
      "metadata": {
        "id": "bKShSi6O_lB2",
        "colab_type": "code",
        "colab": {}
      },
      "source": [
        "#load train data from pickle\n",
        "with open(\"/content/drive/My Drive/QA/df_test.pkl\", \"rb\") as f:\n",
        "    test_data = pickle.load(f)\n",
        "\n",
        "test_data.drop(columns=['id','title'],inplace=True)\n",
        "test_data.dropna(inplace=True)"
      ],
      "execution_count": 0,
      "outputs": []
    },
    {
      "cell_type": "code",
      "metadata": {
        "id": "KPe1hlEm_xct",
        "colab_type": "code",
        "colab": {
          "base_uri": "https://localhost:8080/",
          "height": 296
        },
        "outputId": "435f267b-3978-43c3-b324-11c599566ddc"
      },
      "source": [
        "print(test_data.shape)\n",
        "test_data.head()"
      ],
      "execution_count": 18,
      "outputs": [
        {
          "output_type": "stream",
          "text": [
            "(33615, 4)\n"
          ],
          "name": "stdout"
        },
        {
          "output_type": "execute_result",
          "data": {
            "text/html": [
              "<div>\n",
              "<style scoped>\n",
              "    .dataframe tbody tr th:only-of-type {\n",
              "        vertical-align: middle;\n",
              "    }\n",
              "\n",
              "    .dataframe tbody tr th {\n",
              "        vertical-align: top;\n",
              "    }\n",
              "\n",
              "    .dataframe thead th {\n",
              "        text-align: right;\n",
              "    }\n",
              "</style>\n",
              "<table border=\"1\" class=\"dataframe\">\n",
              "  <thead>\n",
              "    <tr style=\"text-align: right;\">\n",
              "      <th></th>\n",
              "      <th>answer_start</th>\n",
              "      <th>text</th>\n",
              "      <th>context</th>\n",
              "      <th>question</th>\n",
              "    </tr>\n",
              "  </thead>\n",
              "  <tbody>\n",
              "    <tr>\n",
              "      <th>0</th>\n",
              "      <td>176</td>\n",
              "      <td>Denver Broncos</td>\n",
              "      <td>Super Bowl 50 was an American football game to...</td>\n",
              "      <td>Which NFL team represented the AFC at Super Bo...</td>\n",
              "    </tr>\n",
              "    <tr>\n",
              "      <th>1</th>\n",
              "      <td>177</td>\n",
              "      <td>Denver Broncos</td>\n",
              "      <td>Super Bowl 50 was an American football game to...</td>\n",
              "      <td>Which NFL team represented the AFC at Super Bo...</td>\n",
              "    </tr>\n",
              "    <tr>\n",
              "      <th>2</th>\n",
              "      <td>177</td>\n",
              "      <td>Denver Broncos</td>\n",
              "      <td>Super Bowl 50 was an American football game to...</td>\n",
              "      <td>Which NFL team represented the AFC at Super Bo...</td>\n",
              "    </tr>\n",
              "    <tr>\n",
              "      <th>3</th>\n",
              "      <td>248</td>\n",
              "      <td>Carolina Panthers</td>\n",
              "      <td>Super Bowl 50 was an American football game to...</td>\n",
              "      <td>Which NFL team represented the NFC at Super Bo...</td>\n",
              "    </tr>\n",
              "    <tr>\n",
              "      <th>4</th>\n",
              "      <td>249</td>\n",
              "      <td>Carolina Panthers</td>\n",
              "      <td>Super Bowl 50 was an American football game to...</td>\n",
              "      <td>Which NFL team represented the NFC at Super Bo...</td>\n",
              "    </tr>\n",
              "  </tbody>\n",
              "</table>\n",
              "</div>"
            ],
            "text/plain": [
              "   answer_start  ...                                           question\n",
              "0           176  ...  Which NFL team represented the AFC at Super Bo...\n",
              "1           177  ...  Which NFL team represented the AFC at Super Bo...\n",
              "2           177  ...  Which NFL team represented the AFC at Super Bo...\n",
              "3           248  ...  Which NFL team represented the NFC at Super Bo...\n",
              "4           249  ...  Which NFL team represented the NFC at Super Bo...\n",
              "\n",
              "[5 rows x 4 columns]"
            ]
          },
          "metadata": {
            "tags": []
          },
          "execution_count": 18
        }
      ]
    },
    {
      "cell_type": "code",
      "metadata": {
        "id": "H5h9UOui_4p0",
        "colab_type": "code",
        "colab": {}
      },
      "source": [
        "#load embeddings from pickle\n",
        "#train question embedding\n",
        "with open(\"/content/drive/My Drive/QA/test_question.pkl\", \"rb\") as f:\n",
        "    test_question_emb = pickle.load(f)\n",
        "\n",
        "#train context embeddings\n",
        "with open(\"/content/drive/My Drive/QA/test_dict.pkl\", \"rb\") as f:\n",
        "    test_dict = pickle.load(f)"
      ],
      "execution_count": 0,
      "outputs": []
    },
    {
      "cell_type": "markdown",
      "metadata": {
        "id": "gmx6IyhQHyVK",
        "colab_type": "text"
      },
      "source": [
        "# Transformations"
      ]
    },
    {
      "cell_type": "code",
      "metadata": {
        "id": "vF-0vP2PAF1o",
        "colab_type": "code",
        "colab": {}
      },
      "source": [
        "#Genera una lista de listas para los contextos\n",
        "#y para los embeddings de los contextos\n",
        "\n",
        "contexts=[]\n",
        "context_embedding=[]\n",
        "last_context=[]\n",
        "\n",
        "for context in test_data['context']:\n",
        "\n",
        "  if context == last_context:# Si es el mismo contexto usa lo que ya calculamos\n",
        "    contexts.append(temp)\n",
        "    context_embedding.append(temp_emb)\n",
        "    continue\n",
        "  \n",
        "  temp=[]\n",
        "  temp_emb=[]\n",
        "  for sent in sent_tokenize(context):\n",
        "    s=sent.lower()\n",
        "    temp.append(s)\n",
        "    e=test_dict[s]\n",
        "    temp_emb.append(e)\n",
        "  \n",
        "  contexts.append(temp)\n",
        "  context_embedding.append(temp_emb)\n",
        "  last_context=context\n"
      ],
      "execution_count": 0,
      "outputs": []
    },
    {
      "cell_type": "code",
      "metadata": {
        "id": "hQknXxsyARzA",
        "colab_type": "code",
        "colab": {
          "base_uri": "https://localhost:8080/",
          "height": 67
        },
        "outputId": "5b0b9a6b-afef-4086-caf2-0311b0f33232"
      },
      "source": [
        "# Todas las variables tienen la misma longitud que el df original\n",
        "print(len(context_embedding))\n",
        "print(len(contexts))\n",
        "print(len(test_question_emb))"
      ],
      "execution_count": 23,
      "outputs": [
        {
          "output_type": "stream",
          "text": [
            "33615\n",
            "33615\n",
            "33615\n"
          ],
          "name": "stdout"
        }
      ]
    },
    {
      "cell_type": "code",
      "metadata": {
        "id": "zksXg8PeAXby",
        "colab_type": "code",
        "colab": {
          "base_uri": "https://localhost:8080/",
          "height": 121
        },
        "outputId": "047e2d3c-8a74-455d-b304-72fb56f0daec"
      },
      "source": [
        "#Busca la oracion que tiene la respuesta literal dentro del contexto\n",
        "#guarda la posicion de la oracion dentro del contexto\n",
        "# Si no la encuentra deja target = -1\n",
        "test_data[\"target\"]=-1\n",
        "for i in range (len(test_data)):\n",
        "  respuesta=test_data[\"text\"][i].lower()\n",
        "  for j, sent in enumerate(contexts[i]):\n",
        "    if respuesta in sent: \n",
        "      test_data[\"target\"][i] = j\n",
        "      break\n"
      ],
      "execution_count": 24,
      "outputs": [
        {
          "output_type": "stream",
          "text": [
            "/usr/local/lib/python3.6/dist-packages/ipykernel_launcher.py:9: SettingWithCopyWarning: \n",
            "A value is trying to be set on a copy of a slice from a DataFrame\n",
            "\n",
            "See the caveats in the documentation: https://pandas.pydata.org/pandas-docs/stable/user_guide/indexing.html#returning-a-view-versus-a-copy\n",
            "  if __name__ == '__main__':\n"
          ],
          "name": "stderr"
        }
      ]
    },
    {
      "cell_type": "code",
      "metadata": {
        "id": "3lDPa3agAjUr",
        "colab_type": "code",
        "colab": {
          "base_uri": "https://localhost:8080/",
          "height": 34
        },
        "outputId": "441efa58-aea2-4934-9017-53e1dfbeb5ac"
      },
      "source": [
        "#casos que no se encontro la respuesta\n",
        "sum(test_data[\"target\"]==-1)"
      ],
      "execution_count": 26,
      "outputs": [
        {
          "output_type": "execute_result",
          "data": {
            "text/plain": [
              "213"
            ]
          },
          "metadata": {
            "tags": []
          },
          "execution_count": 26
        }
      ]
    },
    {
      "cell_type": "code",
      "metadata": {
        "id": "rNjhNgEuAl4t",
        "colab_type": "code",
        "colab": {}
      },
      "source": [
        "#quitamos las filas que no tienen target en el df\n",
        "index=np.where(test_data[\"target\"]==-1)\n",
        "contexts=np.delete(contexts,index,axis=0)\n",
        "context_embedding=np.delete(context_embedding,index,axis=0)\n",
        "test_question_emb=np.delete(test_question_emb,index,axis=0)\n",
        "\n",
        "#quitamos las filas que no tienen target en el df\n",
        "index=test_data[\"target\"]==-1\n",
        "test_data=test_data[-index].reset_index()"
      ],
      "execution_count": 0,
      "outputs": []
    },
    {
      "cell_type": "code",
      "metadata": {
        "id": "GrweBdXXA1Zn",
        "colab_type": "code",
        "colab": {
          "base_uri": "https://localhost:8080/",
          "height": 84
        },
        "outputId": "646443c0-c4ce-42ab-fdbf-128ff550c22f"
      },
      "source": [
        "# La nueva longitud de los datos\n",
        "print(test_data.shape)\n",
        "print(len(context_embedding))\n",
        "print(len(contexts))\n",
        "print(len(test_question_emb))"
      ],
      "execution_count": 28,
      "outputs": [
        {
          "output_type": "stream",
          "text": [
            "(33402, 6)\n",
            "33402\n",
            "33402\n",
            "33402\n"
          ],
          "name": "stdout"
        }
      ]
    },
    {
      "cell_type": "code",
      "metadata": {
        "id": "C0GfXFW0A6h7",
        "colab_type": "code",
        "colab": {
          "base_uri": "https://localhost:8080/",
          "height": 281
        },
        "outputId": "92b5289b-aa36-43c2-f992-7b1e55e38785"
      },
      "source": [
        "plt.hist(test_data[\"target\"],bins=20)\n",
        "plt.title(\"Distribucion de variable target\")\n",
        "plt.show()"
      ],
      "execution_count": 29,
      "outputs": [
        {
          "output_type": "display_data",
          "data": {
            "image/png": "[encoded data removed]",
            "text/plain": [
              "<Figure size 432x288 with 1 Axes>"
            ]
          },
          "metadata": {
            "tags": [],
            "needs_background": "light"
          }
        }
      ]
    },
    {
      "cell_type": "code",
      "metadata": {
        "id": "GabdiyfhA-eP",
        "colab_type": "code",
        "colab": {
          "base_uri": "https://localhost:8080/",
          "height": 301
        },
        "outputId": "160c03f3-8b2e-44bc-96e2-5b3c42ae16b9"
      },
      "source": [
        "print(np.quantile(test_data[\"target\"],.99))\n",
        "pd.DataFrame(test_data[\"target\"]).describe()"
      ],
      "execution_count": 30,
      "outputs": [
        {
          "output_type": "stream",
          "text": [
            "8.0\n"
          ],
          "name": "stdout"
        },
        {
          "output_type": "execute_result",
          "data": {
            "text/html": [
              "<div>\n",
              "<style scoped>\n",
              "    .dataframe tbody tr th:only-of-type {\n",
              "        vertical-align: middle;\n",
              "    }\n",
              "\n",
              "    .dataframe tbody tr th {\n",
              "        vertical-align: top;\n",
              "    }\n",
              "\n",
              "    .dataframe thead th {\n",
              "        text-align: right;\n",
              "    }\n",
              "</style>\n",
              "<table border=\"1\" class=\"dataframe\">\n",
              "  <thead>\n",
              "    <tr style=\"text-align: right;\">\n",
              "      <th></th>\n",
              "      <th>target</th>\n",
              "    </tr>\n",
              "  </thead>\n",
              "  <tbody>\n",
              "    <tr>\n",
              "      <th>count</th>\n",
              "      <td>33402.000000</td>\n",
              "    </tr>\n",
              "    <tr>\n",
              "      <th>mean</th>\n",
              "      <td>1.630262</td>\n",
              "    </tr>\n",
              "    <tr>\n",
              "      <th>std</th>\n",
              "      <td>1.833376</td>\n",
              "    </tr>\n",
              "    <tr>\n",
              "      <th>min</th>\n",
              "      <td>0.000000</td>\n",
              "    </tr>\n",
              "    <tr>\n",
              "      <th>25%</th>\n",
              "      <td>0.000000</td>\n",
              "    </tr>\n",
              "    <tr>\n",
              "      <th>50%</th>\n",
              "      <td>1.000000</td>\n",
              "    </tr>\n",
              "    <tr>\n",
              "      <th>75%</th>\n",
              "      <td>3.000000</td>\n",
              "    </tr>\n",
              "    <tr>\n",
              "      <th>max</th>\n",
              "      <td>27.000000</td>\n",
              "    </tr>\n",
              "  </tbody>\n",
              "</table>\n",
              "</div>"
            ],
            "text/plain": [
              "             target\n",
              "count  33402.000000\n",
              "mean       1.630262\n",
              "std        1.833376\n",
              "min        0.000000\n",
              "25%        0.000000\n",
              "50%        1.000000\n",
              "75%        3.000000\n",
              "max       27.000000"
            ]
          },
          "metadata": {
            "tags": []
          },
          "execution_count": 30
        }
      ]
    },
    {
      "cell_type": "markdown",
      "metadata": {
        "id": "0mLpfQJtH5rv",
        "colab_type": "text"
      },
      "source": [
        "# Feature engineering"
      ]
    },
    {
      "cell_type": "code",
      "metadata": {
        "id": "MRY8k6ONBCiF",
        "colab_type": "code",
        "colab": {}
      },
      "source": [
        "# Definimos las distancias a utilizar\n",
        "norma=lambda x:np.sqrt(sum(x*x))\n",
        "distancia_coseno=lambda x,y: 1-(sum(x*y)/(norma(x)*norma(y)))\n",
        "distancia_euclidiana=lambda x,y: norma(x-y)"
      ],
      "execution_count": 0,
      "outputs": []
    },
    {
      "cell_type": "code",
      "metadata": {
        "id": "2kkY7RP0BFT-",
        "colab_type": "code",
        "colab": {
          "base_uri": "https://localhost:8080/",
          "height": 134
        },
        "outputId": "c203e04d-7b72-4a46-ed23-1059b864f957"
      },
      "source": [
        "# Calcula la distancia coseno y la euclidiana entre las oraciones del contexto y la pregunta\n",
        "# Devuevle un array target con el indice de la oracion con la minima distancia\n",
        "euclid_distance_target=[]\n",
        "cosine_distance_target=[]\n",
        "euclid_distance=[]\n",
        "cosine_distance=[]\n",
        "\n",
        "for i in range(len(test_data)):\n",
        "  dc_min=1000\n",
        "  de_min=1000\n",
        "  temp_c=[]\n",
        "  temp_e=[]\n",
        "  for j, sent_emb in enumerate(context_embedding[i]):\n",
        "    dist_euc=distancia_euclidiana(sent_emb,test_question_emb[i])\n",
        "    dist_cos=distancia_coseno(sent_emb,test_question_emb[i])  \n",
        "    temp_c.append(dist_cos)\n",
        "    temp_e.append(dist_euc)\n",
        "\n",
        "  euclid_distance_target.append(np.argmin(temp_e))\n",
        "  cosine_distance_target.append(np.argmin(temp_c))\n",
        "  euclid_distance.append(temp_e)\n",
        "  cosine_distance.append(temp_c)\n",
        "  if i%5000==0: print(i)"
      ],
      "execution_count": 33,
      "outputs": [
        {
          "output_type": "stream",
          "text": [
            "0\n",
            "5000\n",
            "10000\n",
            "15000\n",
            "20000\n",
            "25000\n",
            "30000\n"
          ],
          "name": "stdout"
        }
      ]
    },
    {
      "cell_type": "code",
      "metadata": {
        "id": "POBVTuAHBOIk",
        "colab_type": "code",
        "colab": {}
      },
      "source": [
        "test_data[\"euclid_prediction\"]=euclid_distance_target\n",
        "test_data[\"cosine_prediction\"]=cosine_distance_target"
      ],
      "execution_count": 0,
      "outputs": []
    },
    {
      "cell_type": "code",
      "metadata": {
        "id": "06xz04iFBpVK",
        "colab_type": "code",
        "colab": {}
      },
      "source": [
        "import pickle\n",
        "\n",
        "with open(\"/content/drive/My Drive/QA/dist_cosine_test.pkl\", 'wb') as handle:\n",
        "    pickle.dump(cosine_distance, handle)\n",
        "\n",
        "with open(\"/content/drive/My Drive/QA/dist_euclid_test.pkl\", 'wb') as handle:\n",
        "    pickle.dump(euclid_distance, handle)"
      ],
      "execution_count": 0,
      "outputs": []
    },
    {
      "cell_type": "code",
      "metadata": {
        "id": "rzicPwfyBYcj",
        "colab_type": "code",
        "colab": {
          "base_uri": "https://localhost:8080/",
          "height": 50
        },
        "outputId": "b0b03dbb-e4f1-43e4-9c9b-68bebe85b626"
      },
      "source": [
        "#Checa si la oracion que minimiza la distancia es la misma que la oracion target\n",
        "euclid=0\n",
        "cosine=0\n",
        "for i in range(len(test_data)):\n",
        "  right=test_data[\"target\"][i]\n",
        "  e=test_data[\"euclid_prediction\"][i]\n",
        "  c=test_data[\"cosine_prediction\"][i]\n",
        "  if(right==e):euclid+=1\n",
        "  if(right==c):cosine+=1  \n",
        "\n",
        "print(\"Cosine accuracy\",cosine/len(test_data))\n",
        "print(\"Euclidian accuracy\",euclid/len(test_data))"
      ],
      "execution_count": 49,
      "outputs": [
        {
          "output_type": "stream",
          "text": [
            "Cosine accuracy 0.600862223818933\n",
            "Euclidian accuracy 0.37036704388958747\n"
          ],
          "name": "stdout"
        }
      ]
    },
    {
      "cell_type": "code",
      "metadata": {
        "id": "v-VgKrWrBxoU",
        "colab_type": "code",
        "colab": {
          "base_uri": "https://localhost:8080/",
          "height": 185
        },
        "outputId": "e0b2fba8-4364-4af9-996a-a7beb4455776"
      },
      "source": [
        "#Celda para verificar consistencia\n",
        "\n",
        "i=5906\n",
        "print(\"Distancia Euclidiana\")\n",
        "print(euclid_distance[i])\n",
        "print(\"Target: \", euclid_distance_target[i])\n",
        "print(\"Index del minimo:\",np.argmin(euclid_distance[i]))\n",
        "print(\"\\n\")\n",
        "print(\"Distancia Coseno\")\n",
        "print(cosine_distance[i])\n",
        "print(\"Target: \",cosine_distance_target[i])\n",
        "print(\"Index del minimo:\",np.argmin(cosine_distance[i]))"
      ],
      "execution_count": 36,
      "outputs": [
        {
          "output_type": "stream",
          "text": [
            "Distancia Euclidiana\n",
            "[4.081764987297665, 4.1296550458220995, 3.3031778593587924, 3.8007893518635703]\n",
            "Target:  2\n",
            "Index del minimo: 2\n",
            "\n",
            "\n",
            "Distancia Coseno\n",
            "[0.4374958549723478, 0.5097233058628179, 0.32345810661767593, 0.6643518803863951]\n",
            "Target:  2\n",
            "Index del minimo: 2\n"
          ],
          "name": "stdout"
        }
      ]
    },
    {
      "cell_type": "code",
      "metadata": {
        "id": "d2pgRz_nB0Fr",
        "colab_type": "code",
        "colab": {}
      },
      "source": [
        "df_context_embedding=pd.DataFrame(context_embedding,columns=[\"context_embedding\"])"
      ],
      "execution_count": 0,
      "outputs": []
    },
    {
      "cell_type": "markdown",
      "metadata": {
        "id": "MZ943R5GIBfY",
        "colab_type": "text"
      },
      "source": [
        "### Root analysis"
      ]
    },
    {
      "cell_type": "code",
      "metadata": {
        "id": "wWrSnO-qB9fD",
        "colab_type": "code",
        "colab": {
          "base_uri": "https://localhost:8080/",
          "height": 507
        },
        "outputId": "b8575877-c4ac-4e7b-91ac-11d3833bea4c"
      },
      "source": [
        "#Ejemplo de la estructura de una oración\n",
        "\n",
        "import spacy\n",
        "from nltk import Tree\n",
        "from nltk.stem.lancaster import LancasterStemmer\n",
        "st = LancasterStemmer()\n",
        "\n",
        "en_nlp = spacy.load('en')\n",
        "doc = en_nlp(contexts[0][3])\n",
        "print(contexts[0][3])\n",
        "def to_nltk_tree(node):\n",
        "    if node.n_lefts + node.n_rights > 0:\n",
        "        return Tree(node.orth_, [to_nltk_tree(child) for child in node.children])\n",
        "    else:\n",
        "        return node.orth_\n",
        "\n",
        "\n",
        "[to_nltk_tree(sent.root).pretty_print() for sent in doc.sents]"
      ],
      "execution_count": 38,
      "outputs": [
        {
          "output_type": "stream",
          "text": [
            "as this was the 50th super bowl, the league emphasized the \"golden anniversary\" with various gold-themed initiatives, as well as temporarily suspending the tradition of naming each super bowl game with roman numerals (under which the game would have been known as \"super bowl l\"), so that the logo could prominently feature the arabic numerals 50.\n",
            "                                                                                                                          emphasized                                                                                                                                                \n",
            "  ____________________________________________________________________________________________________________________________|_________________________________                                                                                                                     \n",
            " |   |            |               |                                                                                                                        anniversary                                                                                                              \n",
            " |   |            |               |      _______________________________________________________________________________________________________________________|__________________________________________                                                                          \n",
            " |   |            |               |     |   |    |     |   |               |                      |                                                                                                    suspending                                                                   \n",
            " |   |            |               |     |   |    |     |   |               |                      |             ___________________________________________________________________________________________|____________________________________________                             \n",
            " |   |            |               |     |   |    |     |   |               |                      |            |       |                                                     tradition                                                                  |                           \n",
            " |   |            |               |     |   |    |     |   |               |                      |            |       |       __________________________________________________|_______                                                               |                            \n",
            " |   |            |               |     |   |    |     |   |               |                      |            |       |      |                                                          of                                                             |                           \n",
            " |   |            |               |     |   |    |     |   |               |                      |            |       |      |                                                          |                                                              |                            \n",
            " |   |            |               |     |   |    |     |   |               |                      |            |       |      |                                                        naming                                                           |                           \n",
            " |   |            |               |     |   |    |     |   |               |                      |            |       |      |             _____________________________________________|_______                                                       |                            \n",
            " |   |            |               |     |   |    |     |   |               |                      |            |       |      |            |                                                    with                                                    |                           \n",
            " |   |            |               |     |   |    |     |   |               |                      |            |       |      |            |                                                     |                                                      |                            \n",
            " |   |            |               |     |   |    |     |   |               |                      |            |       |      |            |                                                  numerals                                                  |                           \n",
            " |   |            |               |     |   |    |     |   |               |                      |            |       |      |            |            _________________________________________|_________                                             |                            \n",
            " |   |            |               |     |   |    |     |   |               |                      |            |       |      |            |           |        |                                        known                                          |                           \n",
            " |   |            |               |     |   |    |     |   |               |                      |            |       |      |            |           |        |         _________________________________|___________                                 |                            \n",
            " |   |            |               |     |   |    |     |   |              with                    |            |       |      |            |           |        |        |       |       |       |         |           as                               |                           \n",
            " |   |            |               |     |   |    |     |   |               |                      |            |       |      |            |           |        |        |       |       |       |         |        ___|________                        |                            \n",
            " |   |           was              |     |   |    |     |   |          initiatives                 |            |       |      |           game         |        |        |       |       |       |         |       |   |   |    l                    feature                        \n",
            " |   |    ________|___            |     |   |    |     |   |      _________|________              |            |       |      |        ____|_____      |        |        |       |       |       |         |       |   |   |    |     __________________|__________________          \n",
            " |   |   |   |       bowl       league  |   |    |     |   |     |                themed          as           |       |      |       |         bowl   |        |        |       |       |     under      game     |   |   |   bowl  |   |     |        |      logo     numerals    \n",
            " |   |   |   |     ___|_____      |     |   |    |     |   |     |          ________|_____     ___|___         |       |      |       |          |     |        |        |       |       |       |         |       |   |   |    |    |   |     |        |       |     _____|______   \n",
            " ,   .   as this the 50th super  the   the  \"  golden  \"   ,  various     gold            -   as     well temporarily  ,     the     each      super roman      (      would    have    been   which      the      \"   \"   )  super  so that could prominently the  the  arabic   50\n",
            "\n"
          ],
          "name": "stdout"
        },
        {
          "output_type": "execute_result",
          "data": {
            "text/plain": [
              "[None]"
            ]
          },
          "metadata": {
            "tags": []
          },
          "execution_count": 38
        }
      ]
    },
    {
      "cell_type": "code",
      "metadata": {
        "id": "L2g-yt2iCBAQ",
        "colab_type": "code",
        "colab": {
          "base_uri": "https://localhost:8080/",
          "height": 134
        },
        "outputId": "a7be6056-63aa-4fbb-c863-48a726920654"
      },
      "source": [
        "# calcula las raices de las oraciones de los contextos\n",
        "# calcula las raices de las pregutnas\n",
        "# Genera un vector que contiene el numero de raices en cada indice\n",
        "\n",
        "questions_root=[]\n",
        "context_root=[]\n",
        "num_roots=[]\n",
        "\n",
        "\n",
        "for i in range(len(test_data)):\n",
        "  if test_data[\"context\"][i]!=last_context: \n",
        "    roots=[st.stem(str(sent.root)) for sent in en_nlp(test_data[\"context\"][i]).sents]\n",
        "  context_root.append(roots)\n",
        "  num_roots.append(len(roots))\n",
        "  questions_root.append([st.stem(str(sent.root)) for sent in en_nlp(test_data[\"question\"][i]).sents])\n",
        "  last_context=test_data[\"context\"][i]\n",
        "  if i%5000==0: print(i)"
      ],
      "execution_count": 39,
      "outputs": [
        {
          "output_type": "stream",
          "text": [
            "0\n",
            "5000\n",
            "10000\n",
            "15000\n",
            "20000\n",
            "25000\n",
            "30000\n"
          ],
          "name": "stdout"
        }
      ]
    },
    {
      "cell_type": "code",
      "metadata": {
        "id": "rf_MAn7kCRfO",
        "colab_type": "code",
        "colab": {}
      },
      "source": [
        "import pickle\n",
        "\n",
        "with open(\"/content/drive/My Drive/QA/question_root_test.pkl\", 'wb') as handle:\n",
        "    pickle.dump(questions_root, handle)\n",
        "\n",
        "with open(\"/content/drive/My Drive/QA/context_root_test.pkl\", 'wb') as handle:\n",
        "    pickle.dump(context_root, handle)"
      ],
      "execution_count": 0,
      "outputs": []
    },
    {
      "cell_type": "code",
      "metadata": {
        "id": "hnbyZ89YCcId",
        "colab_type": "code",
        "colab": {
          "base_uri": "https://localhost:8080/",
          "height": 84
        },
        "outputId": "9901111b-6614-4166-9c2a-738529ad0c79"
      },
      "source": [
        "#hacemos un array con las posiciones en que coinciden la raiz de la pregunta y de las oraciones\n",
        "\n",
        "root_index=[]\n",
        "\n",
        "for i in range(len(questions_root)):\n",
        "  c=[]\n",
        "  a=np.array(context_root[i])\n",
        "  b=np.array(questions_root[i])\n",
        "  for root in b:\n",
        "    temp=np.where(a==root)\n",
        "    c=np.append(c,temp[0])\n",
        "  root_index.append(c.astype('i'))\n",
        "  if i%10000 ==0: print(i)\n"
      ],
      "execution_count": 41,
      "outputs": [
        {
          "output_type": "stream",
          "text": [
            "0\n",
            "10000\n",
            "20000\n",
            "30000\n"
          ],
          "name": "stdout"
        }
      ]
    },
    {
      "cell_type": "code",
      "metadata": {
        "id": "BM8TFPk0Cf80",
        "colab_type": "code",
        "colab": {}
      },
      "source": [
        "#Hace un one hot encoder de los root. Limita los resultados a las dimensiones indicadas.\n",
        "dim=9\n",
        "root_ohe=[]\n",
        "for i in range(len(root_index)):\n",
        "  a=np.zeros(60)\n",
        "  a[root_index[i]]=1\n",
        "  root_ohe.append(a[:dim])\n",
        "\n",
        "root_ohe=pd.DataFrame(root_ohe)"
      ],
      "execution_count": 0,
      "outputs": []
    },
    {
      "cell_type": "code",
      "metadata": {
        "id": "VHuxVof3CjK8",
        "colab_type": "code",
        "colab": {
          "base_uri": "https://localhost:8080/",
          "height": 195
        },
        "outputId": "0d085ad3-b199-4356-f5c1-df908d8a6bd9"
      },
      "source": [
        "root_ohe.head()"
      ],
      "execution_count": 43,
      "outputs": [
        {
          "output_type": "execute_result",
          "data": {
            "text/html": [
              "<div>\n",
              "<style scoped>\n",
              "    .dataframe tbody tr th:only-of-type {\n",
              "        vertical-align: middle;\n",
              "    }\n",
              "\n",
              "    .dataframe tbody tr th {\n",
              "        vertical-align: top;\n",
              "    }\n",
              "\n",
              "    .dataframe thead th {\n",
              "        text-align: right;\n",
              "    }\n",
              "</style>\n",
              "<table border=\"1\" class=\"dataframe\">\n",
              "  <thead>\n",
              "    <tr style=\"text-align: right;\">\n",
              "      <th></th>\n",
              "      <th>0</th>\n",
              "      <th>1</th>\n",
              "      <th>2</th>\n",
              "      <th>3</th>\n",
              "      <th>4</th>\n",
              "      <th>5</th>\n",
              "      <th>6</th>\n",
              "      <th>7</th>\n",
              "      <th>8</th>\n",
              "    </tr>\n",
              "  </thead>\n",
              "  <tbody>\n",
              "    <tr>\n",
              "      <th>0</th>\n",
              "      <td>0.0</td>\n",
              "      <td>0.0</td>\n",
              "      <td>0.0</td>\n",
              "      <td>0.0</td>\n",
              "      <td>0.0</td>\n",
              "      <td>0.0</td>\n",
              "      <td>0.0</td>\n",
              "      <td>0.0</td>\n",
              "      <td>0.0</td>\n",
              "    </tr>\n",
              "    <tr>\n",
              "      <th>1</th>\n",
              "      <td>0.0</td>\n",
              "      <td>0.0</td>\n",
              "      <td>0.0</td>\n",
              "      <td>0.0</td>\n",
              "      <td>0.0</td>\n",
              "      <td>0.0</td>\n",
              "      <td>0.0</td>\n",
              "      <td>0.0</td>\n",
              "      <td>0.0</td>\n",
              "    </tr>\n",
              "    <tr>\n",
              "      <th>2</th>\n",
              "      <td>0.0</td>\n",
              "      <td>0.0</td>\n",
              "      <td>0.0</td>\n",
              "      <td>0.0</td>\n",
              "      <td>0.0</td>\n",
              "      <td>0.0</td>\n",
              "      <td>0.0</td>\n",
              "      <td>0.0</td>\n",
              "      <td>0.0</td>\n",
              "    </tr>\n",
              "    <tr>\n",
              "      <th>3</th>\n",
              "      <td>0.0</td>\n",
              "      <td>0.0</td>\n",
              "      <td>0.0</td>\n",
              "      <td>0.0</td>\n",
              "      <td>0.0</td>\n",
              "      <td>0.0</td>\n",
              "      <td>0.0</td>\n",
              "      <td>0.0</td>\n",
              "      <td>0.0</td>\n",
              "    </tr>\n",
              "    <tr>\n",
              "      <th>4</th>\n",
              "      <td>0.0</td>\n",
              "      <td>0.0</td>\n",
              "      <td>0.0</td>\n",
              "      <td>0.0</td>\n",
              "      <td>0.0</td>\n",
              "      <td>0.0</td>\n",
              "      <td>0.0</td>\n",
              "      <td>0.0</td>\n",
              "      <td>0.0</td>\n",
              "    </tr>\n",
              "  </tbody>\n",
              "</table>\n",
              "</div>"
            ],
            "text/plain": [
              "     0    1    2    3    4    5    6    7    8\n",
              "0  0.0  0.0  0.0  0.0  0.0  0.0  0.0  0.0  0.0\n",
              "1  0.0  0.0  0.0  0.0  0.0  0.0  0.0  0.0  0.0\n",
              "2  0.0  0.0  0.0  0.0  0.0  0.0  0.0  0.0  0.0\n",
              "3  0.0  0.0  0.0  0.0  0.0  0.0  0.0  0.0  0.0\n",
              "4  0.0  0.0  0.0  0.0  0.0  0.0  0.0  0.0  0.0"
            ]
          },
          "metadata": {
            "tags": []
          },
          "execution_count": 43
        }
      ]
    },
    {
      "cell_type": "code",
      "metadata": {
        "id": "Zdktyc5wCksX",
        "colab_type": "code",
        "colab": {}
      },
      "source": [
        "import pickle\n",
        "\n",
        "with open(\"/content/drive/My Drive/QA/root_ohe_test.pkl\", 'wb') as handle:\n",
        "    pickle.dump(root_ohe, handle)"
      ],
      "execution_count": 0,
      "outputs": []
    },
    {
      "cell_type": "code",
      "metadata": {
        "id": "RC7-KUsPCokh",
        "colab_type": "code",
        "colab": {}
      },
      "source": [
        "import pickle\n",
        "with open(\"/content/drive/My Drive/QA/root_ohe_test.pkl\", \"rb\") as f:\n",
        "    root_ohe = pickle.load(f)\n",
        "\n",
        "with open(\"/content/drive/My Drive/QA/dist_euclid_test.pkl\", \"rb\") as f:\n",
        "    euclid = pickle.load(f)\n",
        "\n",
        "with open(\"/content/drive/My Drive/QA/dist_cosine_test.pkl\", \"rb\") as f:\n",
        "    cosine = pickle.load(f)\n"
      ],
      "execution_count": 0,
      "outputs": []
    },
    {
      "cell_type": "code",
      "metadata": {
        "id": "-gZy1N0hGNdS",
        "colab_type": "code",
        "colab": {
          "base_uri": "https://localhost:8080/",
          "height": 719
        },
        "outputId": "9aa7440d-6192-413d-fa11-f47856bae6b1"
      },
      "source": [
        "test_data.head()"
      ],
      "execution_count": 52,
      "outputs": [
        {
          "output_type": "execute_result",
          "data": {
            "text/html": [
              "<div>\n",
              "<style scoped>\n",
              "    .dataframe tbody tr th:only-of-type {\n",
              "        vertical-align: middle;\n",
              "    }\n",
              "\n",
              "    .dataframe tbody tr th {\n",
              "        vertical-align: top;\n",
              "    }\n",
              "\n",
              "    .dataframe thead th {\n",
              "        text-align: right;\n",
              "    }\n",
              "</style>\n",
              "<table border=\"1\" class=\"dataframe\">\n",
              "  <thead>\n",
              "    <tr style=\"text-align: right;\">\n",
              "      <th></th>\n",
              "      <th>index</th>\n",
              "      <th>answer_start</th>\n",
              "      <th>text</th>\n",
              "      <th>context</th>\n",
              "      <th>question</th>\n",
              "      <th>target</th>\n",
              "      <th>euclid_prediction</th>\n",
              "      <th>cosine_prediction</th>\n",
              "    </tr>\n",
              "  </thead>\n",
              "  <tbody>\n",
              "    <tr>\n",
              "      <th>0</th>\n",
              "      <td>0</td>\n",
              "      <td>176</td>\n",
              "      <td>Denver Broncos</td>\n",
              "      <td>Super Bowl 50 was an American football game to...</td>\n",
              "      <td>Which NFL team represented the AFC at Super Bo...</td>\n",
              "      <td>1</td>\n",
              "      <td>0</td>\n",
              "      <td>0</td>\n",
              "    </tr>\n",
              "    <tr>\n",
              "      <th>1</th>\n",
              "      <td>1</td>\n",
              "      <td>177</td>\n",
              "      <td>Denver Broncos</td>\n",
              "      <td>Super Bowl 50 was an American football game to...</td>\n",
              "      <td>Which NFL team represented the AFC at Super Bo...</td>\n",
              "      <td>1</td>\n",
              "      <td>0</td>\n",
              "      <td>0</td>\n",
              "    </tr>\n",
              "    <tr>\n",
              "      <th>2</th>\n",
              "      <td>2</td>\n",
              "      <td>177</td>\n",
              "      <td>Denver Broncos</td>\n",
              "      <td>Super Bowl 50 was an American football game to...</td>\n",
              "      <td>Which NFL team represented the AFC at Super Bo...</td>\n",
              "      <td>1</td>\n",
              "      <td>0</td>\n",
              "      <td>0</td>\n",
              "    </tr>\n",
              "    <tr>\n",
              "      <th>3</th>\n",
              "      <td>3</td>\n",
              "      <td>248</td>\n",
              "      <td>Carolina Panthers</td>\n",
              "      <td>Super Bowl 50 was an American football game to...</td>\n",
              "      <td>Which NFL team represented the NFC at Super Bo...</td>\n",
              "      <td>1</td>\n",
              "      <td>0</td>\n",
              "      <td>0</td>\n",
              "    </tr>\n",
              "    <tr>\n",
              "      <th>4</th>\n",
              "      <td>4</td>\n",
              "      <td>249</td>\n",
              "      <td>Carolina Panthers</td>\n",
              "      <td>Super Bowl 50 was an American football game to...</td>\n",
              "      <td>Which NFL team represented the NFC at Super Bo...</td>\n",
              "      <td>1</td>\n",
              "      <td>0</td>\n",
              "      <td>0</td>\n",
              "    </tr>\n",
              "  </tbody>\n",
              "</table>\n",
              "</div>"
            ],
            "text/plain": [
              "   index  answer_start  ... euclid_prediction cosine_prediction\n",
              "0      0           176  ...                 0                 0\n",
              "1      1           177  ...                 0                 0\n",
              "2      2           177  ...                 0                 0\n",
              "3      3           248  ...                 0                 0\n",
              "4      4           249  ...                 0                 0\n",
              "\n",
              "[5 rows x 8 columns]"
            ]
          },
          "metadata": {
            "tags": []
          },
          "execution_count": 52
        }
      ]
    },
    {
      "cell_type": "code",
      "metadata": {
        "id": "wobV_xrXC-8y",
        "colab_type": "code",
        "colab": {
          "base_uri": "https://localhost:8080/",
          "height": 84
        },
        "outputId": "ddca0426-6e8d-4ba1-9f17-b5d02039fe38"
      },
      "source": [
        "print(len(euclid))\n",
        "print(len(cosine))\n",
        "print(root_ohe.shape)\n",
        "print(len(test_data[\"target\"]))"
      ],
      "execution_count": 54,
      "outputs": [
        {
          "output_type": "stream",
          "text": [
            "33402\n",
            "33402\n",
            "(33402, 9)\n",
            "33402\n"
          ],
          "name": "stdout"
        }
      ]
    },
    {
      "cell_type": "markdown",
      "metadata": {
        "id": "DxVvsJAMIKip",
        "colab_type": "text"
      },
      "source": [
        "## MAtriz ML"
      ]
    },
    {
      "cell_type": "code",
      "metadata": {
        "id": "0fszr--ODAdD",
        "colab_type": "code",
        "colab": {
          "base_uri": "https://localhost:8080/",
          "height": 402
        },
        "outputId": "c2adf677-b326-466a-d2bc-27dbd9979c62"
      },
      "source": [
        "root_ohe.columns=[\"root_0\",\"root_1\",\"root_2\",\"root_3\",\"root_4\",\"root_5\",\"root_6\",\"root_7\",\"root_8\"]\n",
        "root_ohe"
      ],
      "execution_count": 55,
      "outputs": [
        {
          "output_type": "execute_result",
          "data": {
            "text/html": [
              "<div>\n",
              "<style scoped>\n",
              "    .dataframe tbody tr th:only-of-type {\n",
              "        vertical-align: middle;\n",
              "    }\n",
              "\n",
              "    .dataframe tbody tr th {\n",
              "        vertical-align: top;\n",
              "    }\n",
              "\n",
              "    .dataframe thead th {\n",
              "        text-align: right;\n",
              "    }\n",
              "</style>\n",
              "<table border=\"1\" class=\"dataframe\">\n",
              "  <thead>\n",
              "    <tr style=\"text-align: right;\">\n",
              "      <th></th>\n",
              "      <th>root_0</th>\n",
              "      <th>root_1</th>\n",
              "      <th>root_2</th>\n",
              "      <th>root_3</th>\n",
              "      <th>root_4</th>\n",
              "      <th>root_5</th>\n",
              "      <th>root_6</th>\n",
              "      <th>root_7</th>\n",
              "      <th>root_8</th>\n",
              "    </tr>\n",
              "  </thead>\n",
              "  <tbody>\n",
              "    <tr>\n",
              "      <th>0</th>\n",
              "      <td>0.0</td>\n",
              "      <td>0.0</td>\n",
              "      <td>0.0</td>\n",
              "      <td>0.0</td>\n",
              "      <td>0.0</td>\n",
              "      <td>0.0</td>\n",
              "      <td>0.0</td>\n",
              "      <td>0.0</td>\n",
              "      <td>0.0</td>\n",
              "    </tr>\n",
              "    <tr>\n",
              "      <th>1</th>\n",
              "      <td>0.0</td>\n",
              "      <td>0.0</td>\n",
              "      <td>0.0</td>\n",
              "      <td>0.0</td>\n",
              "      <td>0.0</td>\n",
              "      <td>0.0</td>\n",
              "      <td>0.0</td>\n",
              "      <td>0.0</td>\n",
              "      <td>0.0</td>\n",
              "    </tr>\n",
              "    <tr>\n",
              "      <th>2</th>\n",
              "      <td>0.0</td>\n",
              "      <td>0.0</td>\n",
              "      <td>0.0</td>\n",
              "      <td>0.0</td>\n",
              "      <td>0.0</td>\n",
              "      <td>0.0</td>\n",
              "      <td>0.0</td>\n",
              "      <td>0.0</td>\n",
              "      <td>0.0</td>\n",
              "    </tr>\n",
              "    <tr>\n",
              "      <th>3</th>\n",
              "      <td>0.0</td>\n",
              "      <td>0.0</td>\n",
              "      <td>0.0</td>\n",
              "      <td>0.0</td>\n",
              "      <td>0.0</td>\n",
              "      <td>0.0</td>\n",
              "      <td>0.0</td>\n",
              "      <td>0.0</td>\n",
              "      <td>0.0</td>\n",
              "    </tr>\n",
              "    <tr>\n",
              "      <th>4</th>\n",
              "      <td>0.0</td>\n",
              "      <td>0.0</td>\n",
              "      <td>0.0</td>\n",
              "      <td>0.0</td>\n",
              "      <td>0.0</td>\n",
              "      <td>0.0</td>\n",
              "      <td>0.0</td>\n",
              "      <td>0.0</td>\n",
              "      <td>0.0</td>\n",
              "    </tr>\n",
              "    <tr>\n",
              "      <th>...</th>\n",
              "      <td>...</td>\n",
              "      <td>...</td>\n",
              "      <td>...</td>\n",
              "      <td>...</td>\n",
              "      <td>...</td>\n",
              "      <td>...</td>\n",
              "      <td>...</td>\n",
              "      <td>...</td>\n",
              "      <td>...</td>\n",
              "    </tr>\n",
              "    <tr>\n",
              "      <th>33397</th>\n",
              "      <td>0.0</td>\n",
              "      <td>0.0</td>\n",
              "      <td>0.0</td>\n",
              "      <td>0.0</td>\n",
              "      <td>0.0</td>\n",
              "      <td>0.0</td>\n",
              "      <td>0.0</td>\n",
              "      <td>0.0</td>\n",
              "      <td>0.0</td>\n",
              "    </tr>\n",
              "    <tr>\n",
              "      <th>33398</th>\n",
              "      <td>1.0</td>\n",
              "      <td>0.0</td>\n",
              "      <td>0.0</td>\n",
              "      <td>0.0</td>\n",
              "      <td>0.0</td>\n",
              "      <td>0.0</td>\n",
              "      <td>0.0</td>\n",
              "      <td>0.0</td>\n",
              "      <td>0.0</td>\n",
              "    </tr>\n",
              "    <tr>\n",
              "      <th>33399</th>\n",
              "      <td>1.0</td>\n",
              "      <td>0.0</td>\n",
              "      <td>0.0</td>\n",
              "      <td>0.0</td>\n",
              "      <td>0.0</td>\n",
              "      <td>0.0</td>\n",
              "      <td>0.0</td>\n",
              "      <td>0.0</td>\n",
              "      <td>0.0</td>\n",
              "    </tr>\n",
              "    <tr>\n",
              "      <th>33400</th>\n",
              "      <td>1.0</td>\n",
              "      <td>0.0</td>\n",
              "      <td>0.0</td>\n",
              "      <td>0.0</td>\n",
              "      <td>0.0</td>\n",
              "      <td>0.0</td>\n",
              "      <td>0.0</td>\n",
              "      <td>0.0</td>\n",
              "      <td>0.0</td>\n",
              "    </tr>\n",
              "    <tr>\n",
              "      <th>33401</th>\n",
              "      <td>1.0</td>\n",
              "      <td>0.0</td>\n",
              "      <td>0.0</td>\n",
              "      <td>0.0</td>\n",
              "      <td>0.0</td>\n",
              "      <td>0.0</td>\n",
              "      <td>0.0</td>\n",
              "      <td>0.0</td>\n",
              "      <td>0.0</td>\n",
              "    </tr>\n",
              "  </tbody>\n",
              "</table>\n",
              "<p>33402 rows × 9 columns</p>\n",
              "</div>"
            ],
            "text/plain": [
              "       root_0  root_1  root_2  root_3  root_4  root_5  root_6  root_7  root_8\n",
              "0         0.0     0.0     0.0     0.0     0.0     0.0     0.0     0.0     0.0\n",
              "1         0.0     0.0     0.0     0.0     0.0     0.0     0.0     0.0     0.0\n",
              "2         0.0     0.0     0.0     0.0     0.0     0.0     0.0     0.0     0.0\n",
              "3         0.0     0.0     0.0     0.0     0.0     0.0     0.0     0.0     0.0\n",
              "4         0.0     0.0     0.0     0.0     0.0     0.0     0.0     0.0     0.0\n",
              "...       ...     ...     ...     ...     ...     ...     ...     ...     ...\n",
              "33397     0.0     0.0     0.0     0.0     0.0     0.0     0.0     0.0     0.0\n",
              "33398     1.0     0.0     0.0     0.0     0.0     0.0     0.0     0.0     0.0\n",
              "33399     1.0     0.0     0.0     0.0     0.0     0.0     0.0     0.0     0.0\n",
              "33400     1.0     0.0     0.0     0.0     0.0     0.0     0.0     0.0     0.0\n",
              "33401     1.0     0.0     0.0     0.0     0.0     0.0     0.0     0.0     0.0\n",
              "\n",
              "[33402 rows x 9 columns]"
            ]
          },
          "metadata": {
            "tags": []
          },
          "execution_count": 55
        }
      ]
    },
    {
      "cell_type": "code",
      "metadata": {
        "id": "HdnKbtF8DCNG",
        "colab_type": "code",
        "colab": {
          "base_uri": "https://localhost:8080/",
          "height": 402
        },
        "outputId": "b8f26c19-c87d-417d-e67f-0760bbbc4e3e"
      },
      "source": [
        "#preparamos los datos de distancia euclidiana\n",
        "df_euclid=pd.DataFrame(euclid)\n",
        "df_euclid=df_euclid.iloc[:,0:9]\n",
        "df_euclid.columns=[\"euc_0\",\"euc_1\",\"euc_2\",\"euc_3\",\"euc_4\",\"euc_5\",\"euc_6\",\"euc_7\",\"euc_8\"]\n",
        "df_euclid.fillna(50, inplace=True)#imputamos con un valor grande.\n",
        "df_euclid"
      ],
      "execution_count": 56,
      "outputs": [
        {
          "output_type": "execute_result",
          "data": {
            "text/html": [
              "<div>\n",
              "<style scoped>\n",
              "    .dataframe tbody tr th:only-of-type {\n",
              "        vertical-align: middle;\n",
              "    }\n",
              "\n",
              "    .dataframe tbody tr th {\n",
              "        vertical-align: top;\n",
              "    }\n",
              "\n",
              "    .dataframe thead th {\n",
              "        text-align: right;\n",
              "    }\n",
              "</style>\n",
              "<table border=\"1\" class=\"dataframe\">\n",
              "  <thead>\n",
              "    <tr style=\"text-align: right;\">\n",
              "      <th></th>\n",
              "      <th>euc_0</th>\n",
              "      <th>euc_1</th>\n",
              "      <th>euc_2</th>\n",
              "      <th>euc_3</th>\n",
              "      <th>euc_4</th>\n",
              "      <th>euc_5</th>\n",
              "      <th>euc_6</th>\n",
              "      <th>euc_7</th>\n",
              "      <th>euc_8</th>\n",
              "    </tr>\n",
              "  </thead>\n",
              "  <tbody>\n",
              "    <tr>\n",
              "      <th>0</th>\n",
              "      <td>4.938536</td>\n",
              "      <td>5.216400</td>\n",
              "      <td>5.008254</td>\n",
              "      <td>5.501133</td>\n",
              "      <td>50.0</td>\n",
              "      <td>50.0</td>\n",
              "      <td>50.0</td>\n",
              "      <td>50.0</td>\n",
              "      <td>50.0</td>\n",
              "    </tr>\n",
              "    <tr>\n",
              "      <th>1</th>\n",
              "      <td>4.938536</td>\n",
              "      <td>5.216400</td>\n",
              "      <td>5.008254</td>\n",
              "      <td>5.501133</td>\n",
              "      <td>50.0</td>\n",
              "      <td>50.0</td>\n",
              "      <td>50.0</td>\n",
              "      <td>50.0</td>\n",
              "      <td>50.0</td>\n",
              "    </tr>\n",
              "    <tr>\n",
              "      <th>2</th>\n",
              "      <td>4.938536</td>\n",
              "      <td>5.216400</td>\n",
              "      <td>5.008254</td>\n",
              "      <td>5.501133</td>\n",
              "      <td>50.0</td>\n",
              "      <td>50.0</td>\n",
              "      <td>50.0</td>\n",
              "      <td>50.0</td>\n",
              "      <td>50.0</td>\n",
              "    </tr>\n",
              "    <tr>\n",
              "      <th>3</th>\n",
              "      <td>4.938536</td>\n",
              "      <td>5.216400</td>\n",
              "      <td>5.008254</td>\n",
              "      <td>5.501133</td>\n",
              "      <td>50.0</td>\n",
              "      <td>50.0</td>\n",
              "      <td>50.0</td>\n",
              "      <td>50.0</td>\n",
              "      <td>50.0</td>\n",
              "    </tr>\n",
              "    <tr>\n",
              "      <th>4</th>\n",
              "      <td>4.938536</td>\n",
              "      <td>5.216400</td>\n",
              "      <td>5.008254</td>\n",
              "      <td>5.501133</td>\n",
              "      <td>50.0</td>\n",
              "      <td>50.0</td>\n",
              "      <td>50.0</td>\n",
              "      <td>50.0</td>\n",
              "      <td>50.0</td>\n",
              "    </tr>\n",
              "    <tr>\n",
              "      <th>...</th>\n",
              "      <td>...</td>\n",
              "      <td>...</td>\n",
              "      <td>...</td>\n",
              "      <td>...</td>\n",
              "      <td>...</td>\n",
              "      <td>...</td>\n",
              "      <td>...</td>\n",
              "      <td>...</td>\n",
              "      <td>...</td>\n",
              "    </tr>\n",
              "    <tr>\n",
              "      <th>33397</th>\n",
              "      <td>3.126111</td>\n",
              "      <td>3.108962</td>\n",
              "      <td>4.235171</td>\n",
              "      <td>2.589668</td>\n",
              "      <td>50.0</td>\n",
              "      <td>50.0</td>\n",
              "      <td>50.0</td>\n",
              "      <td>50.0</td>\n",
              "      <td>50.0</td>\n",
              "    </tr>\n",
              "    <tr>\n",
              "      <th>33398</th>\n",
              "      <td>3.421005</td>\n",
              "      <td>3.437781</td>\n",
              "      <td>4.514416</td>\n",
              "      <td>2.837525</td>\n",
              "      <td>50.0</td>\n",
              "      <td>50.0</td>\n",
              "      <td>50.0</td>\n",
              "      <td>50.0</td>\n",
              "      <td>50.0</td>\n",
              "    </tr>\n",
              "    <tr>\n",
              "      <th>33399</th>\n",
              "      <td>3.421005</td>\n",
              "      <td>3.437781</td>\n",
              "      <td>4.514416</td>\n",
              "      <td>2.837525</td>\n",
              "      <td>50.0</td>\n",
              "      <td>50.0</td>\n",
              "      <td>50.0</td>\n",
              "      <td>50.0</td>\n",
              "      <td>50.0</td>\n",
              "    </tr>\n",
              "    <tr>\n",
              "      <th>33400</th>\n",
              "      <td>3.421005</td>\n",
              "      <td>3.437781</td>\n",
              "      <td>4.514416</td>\n",
              "      <td>2.837525</td>\n",
              "      <td>50.0</td>\n",
              "      <td>50.0</td>\n",
              "      <td>50.0</td>\n",
              "      <td>50.0</td>\n",
              "      <td>50.0</td>\n",
              "    </tr>\n",
              "    <tr>\n",
              "      <th>33401</th>\n",
              "      <td>3.421005</td>\n",
              "      <td>3.437781</td>\n",
              "      <td>4.514416</td>\n",
              "      <td>2.837525</td>\n",
              "      <td>50.0</td>\n",
              "      <td>50.0</td>\n",
              "      <td>50.0</td>\n",
              "      <td>50.0</td>\n",
              "      <td>50.0</td>\n",
              "    </tr>\n",
              "  </tbody>\n",
              "</table>\n",
              "<p>33402 rows × 9 columns</p>\n",
              "</div>"
            ],
            "text/plain": [
              "          euc_0     euc_1     euc_2     euc_3  ...  euc_5  euc_6  euc_7  euc_8\n",
              "0      4.938536  5.216400  5.008254  5.501133  ...   50.0   50.0   50.0   50.0\n",
              "1      4.938536  5.216400  5.008254  5.501133  ...   50.0   50.0   50.0   50.0\n",
              "2      4.938536  5.216400  5.008254  5.501133  ...   50.0   50.0   50.0   50.0\n",
              "3      4.938536  5.216400  5.008254  5.501133  ...   50.0   50.0   50.0   50.0\n",
              "4      4.938536  5.216400  5.008254  5.501133  ...   50.0   50.0   50.0   50.0\n",
              "...         ...       ...       ...       ...  ...    ...    ...    ...    ...\n",
              "33397  3.126111  3.108962  4.235171  2.589668  ...   50.0   50.0   50.0   50.0\n",
              "33398  3.421005  3.437781  4.514416  2.837525  ...   50.0   50.0   50.0   50.0\n",
              "33399  3.421005  3.437781  4.514416  2.837525  ...   50.0   50.0   50.0   50.0\n",
              "33400  3.421005  3.437781  4.514416  2.837525  ...   50.0   50.0   50.0   50.0\n",
              "33401  3.421005  3.437781  4.514416  2.837525  ...   50.0   50.0   50.0   50.0\n",
              "\n",
              "[33402 rows x 9 columns]"
            ]
          },
          "metadata": {
            "tags": []
          },
          "execution_count": 56
        }
      ]
    },
    {
      "cell_type": "code",
      "metadata": {
        "id": "19DJxVKhDEOc",
        "colab_type": "code",
        "colab": {
          "base_uri": "https://localhost:8080/",
          "height": 402
        },
        "outputId": "220e17ae-2c8d-4668-ac84-5c115705580a"
      },
      "source": [
        "#preparamos los datos de distancia coseno\n",
        "df_cos=pd.DataFrame(cosine)\n",
        "df_cos=df_cos.iloc[:,0:9]\n",
        "df_cos.columns=[\"cos_0\",\"cos_1\",\"cos_2\",\"cos_3\",\"cos_4\",\"cos_5\",\"cos_6\",\"cos_7\",\"cos_8\"]\n",
        "df_cos.fillna(5, inplace=True)#imputamos con un valor grande.\n",
        "df_cos"
      ],
      "execution_count": 57,
      "outputs": [
        {
          "output_type": "execute_result",
          "data": {
            "text/html": [
              "<div>\n",
              "<style scoped>\n",
              "    .dataframe tbody tr th:only-of-type {\n",
              "        vertical-align: middle;\n",
              "    }\n",
              "\n",
              "    .dataframe tbody tr th {\n",
              "        vertical-align: top;\n",
              "    }\n",
              "\n",
              "    .dataframe thead th {\n",
              "        text-align: right;\n",
              "    }\n",
              "</style>\n",
              "<table border=\"1\" class=\"dataframe\">\n",
              "  <thead>\n",
              "    <tr style=\"text-align: right;\">\n",
              "      <th></th>\n",
              "      <th>cos_0</th>\n",
              "      <th>cos_1</th>\n",
              "      <th>cos_2</th>\n",
              "      <th>cos_3</th>\n",
              "      <th>cos_4</th>\n",
              "      <th>cos_5</th>\n",
              "      <th>cos_6</th>\n",
              "      <th>cos_7</th>\n",
              "      <th>cos_8</th>\n",
              "    </tr>\n",
              "  </thead>\n",
              "  <tbody>\n",
              "    <tr>\n",
              "      <th>0</th>\n",
              "      <td>0.530199</td>\n",
              "      <td>0.594889</td>\n",
              "      <td>0.585700</td>\n",
              "      <td>0.578876</td>\n",
              "      <td>5.0</td>\n",
              "      <td>5.0</td>\n",
              "      <td>5.0</td>\n",
              "      <td>5.0</td>\n",
              "      <td>5.0</td>\n",
              "    </tr>\n",
              "    <tr>\n",
              "      <th>1</th>\n",
              "      <td>0.530199</td>\n",
              "      <td>0.594889</td>\n",
              "      <td>0.585700</td>\n",
              "      <td>0.578876</td>\n",
              "      <td>5.0</td>\n",
              "      <td>5.0</td>\n",
              "      <td>5.0</td>\n",
              "      <td>5.0</td>\n",
              "      <td>5.0</td>\n",
              "    </tr>\n",
              "    <tr>\n",
              "      <th>2</th>\n",
              "      <td>0.530199</td>\n",
              "      <td>0.594889</td>\n",
              "      <td>0.585700</td>\n",
              "      <td>0.578876</td>\n",
              "      <td>5.0</td>\n",
              "      <td>5.0</td>\n",
              "      <td>5.0</td>\n",
              "      <td>5.0</td>\n",
              "      <td>5.0</td>\n",
              "    </tr>\n",
              "    <tr>\n",
              "      <th>3</th>\n",
              "      <td>0.530199</td>\n",
              "      <td>0.594889</td>\n",
              "      <td>0.585700</td>\n",
              "      <td>0.578876</td>\n",
              "      <td>5.0</td>\n",
              "      <td>5.0</td>\n",
              "      <td>5.0</td>\n",
              "      <td>5.0</td>\n",
              "      <td>5.0</td>\n",
              "    </tr>\n",
              "    <tr>\n",
              "      <th>4</th>\n",
              "      <td>0.530199</td>\n",
              "      <td>0.594889</td>\n",
              "      <td>0.585700</td>\n",
              "      <td>0.578876</td>\n",
              "      <td>5.0</td>\n",
              "      <td>5.0</td>\n",
              "      <td>5.0</td>\n",
              "      <td>5.0</td>\n",
              "      <td>5.0</td>\n",
              "    </tr>\n",
              "    <tr>\n",
              "      <th>...</th>\n",
              "      <td>...</td>\n",
              "      <td>...</td>\n",
              "      <td>...</td>\n",
              "      <td>...</td>\n",
              "      <td>...</td>\n",
              "      <td>...</td>\n",
              "      <td>...</td>\n",
              "      <td>...</td>\n",
              "      <td>...</td>\n",
              "    </tr>\n",
              "    <tr>\n",
              "      <th>33397</th>\n",
              "      <td>0.245094</td>\n",
              "      <td>0.262238</td>\n",
              "      <td>0.334022</td>\n",
              "      <td>0.224378</td>\n",
              "      <td>5.0</td>\n",
              "      <td>5.0</td>\n",
              "      <td>5.0</td>\n",
              "      <td>5.0</td>\n",
              "      <td>5.0</td>\n",
              "    </tr>\n",
              "    <tr>\n",
              "      <th>33398</th>\n",
              "      <td>0.306608</td>\n",
              "      <td>0.339873</td>\n",
              "      <td>0.394059</td>\n",
              "      <td>0.298434</td>\n",
              "      <td>5.0</td>\n",
              "      <td>5.0</td>\n",
              "      <td>5.0</td>\n",
              "      <td>5.0</td>\n",
              "      <td>5.0</td>\n",
              "    </tr>\n",
              "    <tr>\n",
              "      <th>33399</th>\n",
              "      <td>0.306608</td>\n",
              "      <td>0.339873</td>\n",
              "      <td>0.394059</td>\n",
              "      <td>0.298434</td>\n",
              "      <td>5.0</td>\n",
              "      <td>5.0</td>\n",
              "      <td>5.0</td>\n",
              "      <td>5.0</td>\n",
              "      <td>5.0</td>\n",
              "    </tr>\n",
              "    <tr>\n",
              "      <th>33400</th>\n",
              "      <td>0.306608</td>\n",
              "      <td>0.339873</td>\n",
              "      <td>0.394059</td>\n",
              "      <td>0.298434</td>\n",
              "      <td>5.0</td>\n",
              "      <td>5.0</td>\n",
              "      <td>5.0</td>\n",
              "      <td>5.0</td>\n",
              "      <td>5.0</td>\n",
              "    </tr>\n",
              "    <tr>\n",
              "      <th>33401</th>\n",
              "      <td>0.306608</td>\n",
              "      <td>0.339873</td>\n",
              "      <td>0.394059</td>\n",
              "      <td>0.298434</td>\n",
              "      <td>5.0</td>\n",
              "      <td>5.0</td>\n",
              "      <td>5.0</td>\n",
              "      <td>5.0</td>\n",
              "      <td>5.0</td>\n",
              "    </tr>\n",
              "  </tbody>\n",
              "</table>\n",
              "<p>33402 rows × 9 columns</p>\n",
              "</div>"
            ],
            "text/plain": [
              "          cos_0     cos_1     cos_2     cos_3  ...  cos_5  cos_6  cos_7  cos_8\n",
              "0      0.530199  0.594889  0.585700  0.578876  ...    5.0    5.0    5.0    5.0\n",
              "1      0.530199  0.594889  0.585700  0.578876  ...    5.0    5.0    5.0    5.0\n",
              "2      0.530199  0.594889  0.585700  0.578876  ...    5.0    5.0    5.0    5.0\n",
              "3      0.530199  0.594889  0.585700  0.578876  ...    5.0    5.0    5.0    5.0\n",
              "4      0.530199  0.594889  0.585700  0.578876  ...    5.0    5.0    5.0    5.0\n",
              "...         ...       ...       ...       ...  ...    ...    ...    ...    ...\n",
              "33397  0.245094  0.262238  0.334022  0.224378  ...    5.0    5.0    5.0    5.0\n",
              "33398  0.306608  0.339873  0.394059  0.298434  ...    5.0    5.0    5.0    5.0\n",
              "33399  0.306608  0.339873  0.394059  0.298434  ...    5.0    5.0    5.0    5.0\n",
              "33400  0.306608  0.339873  0.394059  0.298434  ...    5.0    5.0    5.0    5.0\n",
              "33401  0.306608  0.339873  0.394059  0.298434  ...    5.0    5.0    5.0    5.0\n",
              "\n",
              "[33402 rows x 9 columns]"
            ]
          },
          "metadata": {
            "tags": []
          },
          "execution_count": 57
        }
      ]
    },
    {
      "cell_type": "code",
      "metadata": {
        "id": "qsdK6EtGDGmI",
        "colab_type": "code",
        "colab": {}
      },
      "source": [
        "mat=pd.concat([root_ohe,df_cos,df_euclid],ignore_index=True,axis=1)"
      ],
      "execution_count": 0,
      "outputs": []
    },
    {
      "cell_type": "code",
      "metadata": {
        "id": "oiqZ8oQTDIvq",
        "colab_type": "code",
        "colab": {
          "base_uri": "https://localhost:8080/",
          "height": 34
        },
        "outputId": "bc4f5c1f-8ee1-46ea-fa8d-5a730fce957a"
      },
      "source": [
        "mat=mat.to_numpy()\n",
        "mat.shape"
      ],
      "execution_count": 59,
      "outputs": [
        {
          "output_type": "execute_result",
          "data": {
            "text/plain": [
              "(33402, 27)"
            ]
          },
          "metadata": {
            "tags": []
          },
          "execution_count": 59
        }
      ]
    },
    {
      "cell_type": "markdown",
      "metadata": {
        "id": "DjvapL4kIN85",
        "colab_type": "text"
      },
      "source": [
        "# Transformacion de datos"
      ]
    },
    {
      "cell_type": "code",
      "metadata": {
        "id": "LnDUruoxDK29",
        "colab_type": "code",
        "colab": {}
      },
      "source": [
        "#noramlizamos variables\n",
        "from sklearn.preprocessing import MinMaxScaler\n",
        "scaler=MinMaxScaler()\n",
        "mat=scaler.fit_transform(mat)"
      ],
      "execution_count": 0,
      "outputs": []
    },
    {
      "cell_type": "code",
      "metadata": {
        "id": "YpEUCp-iG6iL",
        "colab_type": "code",
        "colab": {}
      },
      "source": [
        "#noramlizamos variables\n",
        "from sklearn.preprocessing import MinMaxScaler\n",
        "scaler=MinMaxScaler()\n",
        "mat=scaler.fit_transform(mat)"
      ],
      "execution_count": 0,
      "outputs": []
    },
    {
      "cell_type": "markdown",
      "metadata": {
        "id": "JIxMb90nIR2W",
        "colab_type": "text"
      },
      "source": [
        "# Modelo"
      ]
    },
    {
      "cell_type": "code",
      "metadata": {
        "id": "4t7Gz8m5G9Z_",
        "colab_type": "code",
        "colab": {}
      },
      "source": [
        "import pickle\n",
        "# jala el pickle del modelo"
      ],
      "execution_count": 0,
      "outputs": []
    },
    {
      "cell_type": "code",
      "metadata": {
        "id": "zRDsjXR_HDB3",
        "colab_type": "code",
        "colab": {}
      },
      "source": [
        "#hacer predicciones"
      ],
      "execution_count": 0,
      "outputs": []
    },
    {
      "cell_type": "code",
      "metadata": {
        "id": "wA0votASHEeh",
        "colab_type": "code",
        "colab": {}
      },
      "source": [
        "#calcular el accuracy"
      ],
      "execution_count": 0,
      "outputs": []
    },
    {
      "cell_type": "code",
      "metadata": {
        "id": "0Eq0QwVWHH65",
        "colab_type": "code",
        "colab": {}
      },
      "source": [
        "#matriz de confusion"
      ],
      "execution_count": 0,
      "outputs": []
    },
    {
      "cell_type": "markdown",
      "metadata": {
        "id": "drZTpN11GzSc",
        "colab_type": "text"
      },
      "source": [
        ""
      ]
    }
  ]
}
{
  "nbformat": 4,
  "nbformat_minor": 0,
  "metadata": {
    "colab": {
      "name": "Processing.ipynb",
      "provenance": [],
      "include_colab_link": true
    },
    "kernelspec": {
      "name": "python3",
      "display_name": "Python 3"
    }
  },
  "cells": [
    {
      "cell_type": "markdown",
      "metadata": {
        "id": "view-in-github",
        "colab_type": "text"
      },
      "source": [
        "<a href=\"https://colab.research.google.com/github/Pilo1961/QuestionAnswer_System/blob/master/code/Processing.ipynb\" target=\"_parent\"><img src=\"https://colab.research.google.com/assets/colab-badge.svg\" alt=\"Open In Colab\"/></a>"
      ]
    },
    {
      "cell_type": "markdown",
      "metadata": {
        "id": "TBYUBtDapR9v",
        "colab_type": "text"
      },
      "source": [
        "# Sistema de Preguntas y Respuestas\n",
        "## 03. Processing Data and Feature engineering\n",
        "\n",
        "\n",
        "En el presente notebook se realiza el preprocesamiento de los datos que van a ser empleados en la implementación de los modelos supervisado. En el intermedio, implementamos dos modelos no supervisados, obteniendo accuracies de 59.9 y 36.9 por ciento."
      ]
    },
    {
      "cell_type": "markdown",
      "metadata": {
        "id": "Po2rOL7Xhd6l",
        "colab_type": "text"
      },
      "source": [
        "### 3.1 Setup"
      ]
    },
    {
      "cell_type": "code",
      "metadata": {
        "id": "nT3qdiARpj5G",
        "colab_type": "code",
        "outputId": "2ce12940-c56b-434b-fcf6-fb4c26f02f78",
        "colab": {
          "base_uri": "https://localhost:8080/",
          "height": 105
        }
      },
      "source": [
        "# Imports\n",
        "\n",
        "import pickle\n",
        "from textblob import TextBlob\n",
        "import nltk\n",
        "nltk.download('punkt')\n",
        "from nltk.tokenize import sent_tokenize, word_tokenize\n",
        "import pandas as pd\n",
        "import numpy as np\n",
        "import matplotlib.pyplot as plt\n",
        "import seaborn as sns\n",
        "\n",
        "%matplotlib inline"
      ],
      "execution_count": 1,
      "outputs": [
        {
          "output_type": "stream",
          "text": [
            "[nltk_data] Downloading package punkt to /root/nltk_data...\n",
            "[nltk_data]   Package punkt is already up-to-date!\n"
          ],
          "name": "stdout"
        },
        {
          "output_type": "stream",
          "text": [
            "/usr/local/lib/python3.6/dist-packages/statsmodels/tools/_testing.py:19: FutureWarning: pandas.util.testing is deprecated. Use the functions in the public API at pandas.testing instead.\n",
            "  import pandas.util.testing as tm\n"
          ],
          "name": "stderr"
        }
      ]
    },
    {
      "cell_type": "code",
      "metadata": {
        "id": "nIHvOI8TpU3d",
        "colab_type": "code",
        "outputId": "25024e8a-8d07-4387-a07e-305fb54df6ec",
        "colab": {
          "base_uri": "https://localhost:8080/",
          "height": 54
        }
      },
      "source": [
        "# Load data from google drive\n",
        "from google.colab import drive\n",
        "drive.mount('/content/drive')"
      ],
      "execution_count": 2,
      "outputs": [
        {
          "output_type": "stream",
          "text": [
            "Drive already mounted at /content/drive; to attempt to forcibly remount, call drive.mount(\"/content/drive\", force_remount=True).\n"
          ],
          "name": "stdout"
        }
      ]
    },
    {
      "cell_type": "markdown",
      "metadata": {
        "id": "yAPr24iiplIm",
        "colab_type": "text"
      },
      "source": [
        "### 3.2. Read data"
      ]
    },
    {
      "cell_type": "code",
      "metadata": {
        "id": "t6zlDoER-86z",
        "colab_type": "code",
        "colab": {}
      },
      "source": [
        "#load train data from pickle\n",
        "with open(\"/content/drive/My Drive/QA/df_train.pkl\", \"rb\") as f:\n",
        "    train_data = pickle.load(f)\n",
        "\n",
        "train_data.drop(columns=['id','title'],inplace=True)\n",
        "train_data.dropna(inplace=True)"
      ],
      "execution_count": 0,
      "outputs": []
    },
    {
      "cell_type": "code",
      "metadata": {
        "id": "QQaneygQ_OQX",
        "colab_type": "code",
        "outputId": "d4883011-a19a-4cb8-ec84-7404e92a5adb",
        "colab": {
          "base_uri": "https://localhost:8080/",
          "height": 212
        }
      },
      "source": [
        "print(train_data.shape)\n",
        "train_data.head()"
      ],
      "execution_count": 0,
      "outputs": [
        {
          "output_type": "stream",
          "text": [
            "(87636, 4)\n"
          ],
          "name": "stdout"
        },
        {
          "output_type": "execute_result",
          "data": {
            "text/html": [
              "<div>\n",
              "<style scoped>\n",
              "    .dataframe tbody tr th:only-of-type {\n",
              "        vertical-align: middle;\n",
              "    }\n",
              "\n",
              "    .dataframe tbody tr th {\n",
              "        vertical-align: top;\n",
              "    }\n",
              "\n",
              "    .dataframe thead th {\n",
              "        text-align: right;\n",
              "    }\n",
              "</style>\n",
              "<table border=\"1\" class=\"dataframe\">\n",
              "  <thead>\n",
              "    <tr style=\"text-align: right;\">\n",
              "      <th></th>\n",
              "      <th>answer_start</th>\n",
              "      <th>text</th>\n",
              "      <th>context</th>\n",
              "      <th>question</th>\n",
              "    </tr>\n",
              "  </thead>\n",
              "  <tbody>\n",
              "    <tr>\n",
              "      <th>0</th>\n",
              "      <td>515</td>\n",
              "      <td>Saint Bernadette Soubirous</td>\n",
              "      <td>Architecturally, the school has a Catholic cha...</td>\n",
              "      <td>To whom did the Virgin Mary allegedly appear i...</td>\n",
              "    </tr>\n",
              "    <tr>\n",
              "      <th>1</th>\n",
              "      <td>187</td>\n",
              "      <td>a copper statue of Christ</td>\n",
              "      <td>Architecturally, the school has a Catholic cha...</td>\n",
              "      <td>What is in front of the Notre Dame Main Building?</td>\n",
              "    </tr>\n",
              "    <tr>\n",
              "      <th>2</th>\n",
              "      <td>279</td>\n",
              "      <td>the Main Building</td>\n",
              "      <td>Architecturally, the school has a Catholic cha...</td>\n",
              "      <td>The Basilica of the Sacred heart at Notre Dame...</td>\n",
              "    </tr>\n",
              "    <tr>\n",
              "      <th>3</th>\n",
              "      <td>381</td>\n",
              "      <td>a Marian place of prayer and reflection</td>\n",
              "      <td>Architecturally, the school has a Catholic cha...</td>\n",
              "      <td>What is the Grotto at Notre Dame?</td>\n",
              "    </tr>\n",
              "    <tr>\n",
              "      <th>4</th>\n",
              "      <td>92</td>\n",
              "      <td>a golden statue of the Virgin Mary</td>\n",
              "      <td>Architecturally, the school has a Catholic cha...</td>\n",
              "      <td>What sits on top of the Main Building at Notre...</td>\n",
              "    </tr>\n",
              "  </tbody>\n",
              "</table>\n",
              "</div>"
            ],
            "text/plain": [
              "   answer_start  ...                                           question\n",
              "0           515  ...  To whom did the Virgin Mary allegedly appear i...\n",
              "1           187  ...  What is in front of the Notre Dame Main Building?\n",
              "2           279  ...  The Basilica of the Sacred heart at Notre Dame...\n",
              "3           381  ...                  What is the Grotto at Notre Dame?\n",
              "4            92  ...  What sits on top of the Main Building at Notre...\n",
              "\n",
              "[5 rows x 4 columns]"
            ]
          },
          "metadata": {
            "tags": []
          },
          "execution_count": 4
        }
      ]
    },
    {
      "cell_type": "code",
      "metadata": {
        "id": "uubTnOIX_Ut4",
        "colab_type": "code",
        "colab": {}
      },
      "source": [
        "# Load embeddings from pickle\n",
        "# Train question embedding\n",
        "with open(\"/content/drive/My Drive/QA/train_question.pkl\", \"rb\") as f:\n",
        "    train_question_emb = pickle.load(f)\n",
        "\n",
        "# Train context embeddings\n",
        "with open(\"/content/drive/My Drive/QA/train_dict.pkl\", \"rb\") as f:\n",
        "    train_dict = pickle.load(f)"
      ],
      "execution_count": 0,
      "outputs": []
    },
    {
      "cell_type": "markdown",
      "metadata": {
        "id": "-6aEpdhfxs5t",
        "colab_type": "text"
      },
      "source": [
        "### 3.3 Format data\n",
        "\n",
        "Ordenamos los datos en forma de listas anidadas.\n",
        "* La variable context_embedding es una lista anidada con los embeddings de las oraciones del contexto.\n",
        "* La variable contexts contiene las oraciones tokenizadas del contexto\n",
        "* q_embedding tiene los embeddings de las preguntas."
      ]
    },
    {
      "cell_type": "code",
      "metadata": {
        "id": "YE-nqZY4Cty9",
        "colab_type": "code",
        "colab": {}
      },
      "source": [
        "# Genera una lista de listas para los contextos\n",
        "# \\y para los embeddings de los contextos\n",
        "\n",
        "contexts=[]\n",
        "context_embedding=[]\n",
        "last_context=[]\n",
        "\n",
        "for context in train_data['context']:\n",
        "\n",
        "  if context == last_context:# Si es el mismo contexto usa lo que ya calculamos\n",
        "    contexts.append(temp)\n",
        "    context_embedding.append(temp_emb)\n",
        "    continue\n",
        "  \n",
        "  temp=[]\n",
        "  temp_emb=[]\n",
        "  for sent in sent_tokenize(context):\n",
        "    s=sent.lower()\n",
        "    temp.append(s)\n",
        "    e=train_dict[s]\n",
        "    temp_emb.append(e)\n",
        "  \n",
        "  contexts.append(temp)\n",
        "  context_embedding.append(temp_emb)\n",
        "  last_context=context\n"
      ],
      "execution_count": 0,
      "outputs": []
    },
    {
      "cell_type": "code",
      "metadata": {
        "id": "y2rVag0AHjvZ",
        "colab_type": "code",
        "outputId": "1e5fd9e4-c040-4e37-f094-ffcb5fc1b582",
        "colab": {
          "base_uri": "https://localhost:8080/",
          "height": 67
        }
      },
      "source": [
        "# Todas las variables tienen la misma longitud que el df original\n",
        "print(len(context_embedding))\n",
        "print(len(contexts))\n",
        "print(len(train_question_emb))"
      ],
      "execution_count": 0,
      "outputs": [
        {
          "output_type": "stream",
          "text": [
            "87636\n",
            "87636\n",
            "87636\n"
          ],
          "name": "stdout"
        }
      ]
    },
    {
      "cell_type": "code",
      "metadata": {
        "id": "LEhaUCYyhbK5",
        "colab_type": "code",
        "colab": {}
      },
      "source": [
        "df_context_embedding=pd.DataFrame(context_embedding)\n",
        "df_contexts=pd.DataFrame(contexts)\n",
        "df_question_embedding=pd.DataFrame(train_question_emb)"
      ],
      "execution_count": 0,
      "outputs": []
    },
    {
      "cell_type": "markdown",
      "metadata": {
        "id": "4371R2dAPfxM",
        "colab_type": "text"
      },
      "source": [
        "### 3.4 Generación variable target\n",
        "\n",
        "Para hacer la variable target buscamos la respuesta literal dentro del contexto. El target es la oración donde aparece la respuesta."
      ]
    },
    {
      "cell_type": "code",
      "metadata": {
        "id": "tdq5A5e3FB7j",
        "colab_type": "code",
        "outputId": "11643266-a6b5-48d9-9a75-47c597b19055",
        "colab": {
          "base_uri": "https://localhost:8080/",
          "height": 195
        }
      },
      "source": [
        "train_data.head()"
      ],
      "execution_count": 0,
      "outputs": [
        {
          "output_type": "execute_result",
          "data": {
            "text/html": [
              "<div>\n",
              "<style scoped>\n",
              "    .dataframe tbody tr th:only-of-type {\n",
              "        vertical-align: middle;\n",
              "    }\n",
              "\n",
              "    .dataframe tbody tr th {\n",
              "        vertical-align: top;\n",
              "    }\n",
              "\n",
              "    .dataframe thead th {\n",
              "        text-align: right;\n",
              "    }\n",
              "</style>\n",
              "<table border=\"1\" class=\"dataframe\">\n",
              "  <thead>\n",
              "    <tr style=\"text-align: right;\">\n",
              "      <th></th>\n",
              "      <th>answer_start</th>\n",
              "      <th>text</th>\n",
              "      <th>context</th>\n",
              "      <th>question</th>\n",
              "    </tr>\n",
              "  </thead>\n",
              "  <tbody>\n",
              "    <tr>\n",
              "      <th>0</th>\n",
              "      <td>515</td>\n",
              "      <td>Saint Bernadette Soubirous</td>\n",
              "      <td>Architecturally, the school has a Catholic cha...</td>\n",
              "      <td>To whom did the Virgin Mary allegedly appear i...</td>\n",
              "    </tr>\n",
              "    <tr>\n",
              "      <th>1</th>\n",
              "      <td>187</td>\n",
              "      <td>a copper statue of Christ</td>\n",
              "      <td>Architecturally, the school has a Catholic cha...</td>\n",
              "      <td>What is in front of the Notre Dame Main Building?</td>\n",
              "    </tr>\n",
              "    <tr>\n",
              "      <th>2</th>\n",
              "      <td>279</td>\n",
              "      <td>the Main Building</td>\n",
              "      <td>Architecturally, the school has a Catholic cha...</td>\n",
              "      <td>The Basilica of the Sacred heart at Notre Dame...</td>\n",
              "    </tr>\n",
              "    <tr>\n",
              "      <th>3</th>\n",
              "      <td>381</td>\n",
              "      <td>a Marian place of prayer and reflection</td>\n",
              "      <td>Architecturally, the school has a Catholic cha...</td>\n",
              "      <td>What is the Grotto at Notre Dame?</td>\n",
              "    </tr>\n",
              "    <tr>\n",
              "      <th>4</th>\n",
              "      <td>92</td>\n",
              "      <td>a golden statue of the Virgin Mary</td>\n",
              "      <td>Architecturally, the school has a Catholic cha...</td>\n",
              "      <td>What sits on top of the Main Building at Notre...</td>\n",
              "    </tr>\n",
              "  </tbody>\n",
              "</table>\n",
              "</div>"
            ],
            "text/plain": [
              "   answer_start  ...                                           question\n",
              "0           515  ...  To whom did the Virgin Mary allegedly appear i...\n",
              "1           187  ...  What is in front of the Notre Dame Main Building?\n",
              "2           279  ...  The Basilica of the Sacred heart at Notre Dame...\n",
              "3           381  ...                  What is the Grotto at Notre Dame?\n",
              "4            92  ...  What sits on top of the Main Building at Notre...\n",
              "\n",
              "[5 rows x 4 columns]"
            ]
          },
          "metadata": {
            "tags": []
          },
          "execution_count": 9
        }
      ]
    },
    {
      "cell_type": "code",
      "metadata": {
        "id": "X4Yg0BM4GPgJ",
        "colab_type": "code",
        "outputId": "844d7484-8258-4b96-85ee-e7400a36da7d",
        "colab": {
          "base_uri": "https://localhost:8080/",
          "height": 122
        }
      },
      "source": [
        "# Busca la oracion que tiene la respuesta literal dentro del contexto\n",
        "# guarda la posicion de la oracion dentro del contexto\n",
        "# Si no la encuentra deja target = -1\n",
        "train_data[\"target\"]=-1\n",
        "for i in range (len(train_data)):\n",
        "  respuesta=train_data[\"text\"][i].lower()\n",
        "  for j, sent in enumerate(contexts[i]):\n",
        "    if respuesta in sent: \n",
        "      train_data[\"target\"][i] = j\n",
        "      break\n"
      ],
      "execution_count": 8,
      "outputs": [
        {
          "output_type": "stream",
          "text": [
            "/usr/local/lib/python3.6/dist-packages/ipykernel_launcher.py:9: SettingWithCopyWarning: \n",
            "A value is trying to be set on a copy of a slice from a DataFrame\n",
            "\n",
            "See the caveats in the documentation: https://pandas.pydata.org/pandas-docs/stable/user_guide/indexing.html#returning-a-view-versus-a-copy\n",
            "  if __name__ == '__main__':\n"
          ],
          "name": "stderr"
        }
      ]
    },
    {
      "cell_type": "code",
      "metadata": {
        "id": "JubYzxmO6rrX",
        "colab_type": "code",
        "outputId": "3d6635f2-970c-482a-9d8a-46d763608050",
        "colab": {
          "base_uri": "https://localhost:8080/",
          "height": 34
        }
      },
      "source": [
        "#casos que no se encontro la respuesta\n",
        "sum(train_data[\"target\"]==-1)"
      ],
      "execution_count": 0,
      "outputs": [
        {
          "output_type": "execute_result",
          "data": {
            "text/plain": [
              "981"
            ]
          },
          "metadata": {
            "tags": []
          },
          "execution_count": 11
        }
      ]
    },
    {
      "cell_type": "markdown",
      "metadata": {
        "id": "1C0owgNb6E7d",
        "colab_type": "text"
      },
      "source": [
        "Encontramos 981 casos que representan el 1.11 por ciento. \n",
        "Dado que se trata de un problema de comprehensión de lectura y un supuesto en el planteamiento es que encontramos la respuesta a la pregunta literal en el contexto, procedemos a quitar esos casos de nuestro análisis."
      ]
    },
    {
      "cell_type": "code",
      "metadata": {
        "id": "Km2O-RsYkkuJ",
        "colab_type": "code",
        "colab": {}
      },
      "source": [
        "# Quitamos las filas que no tienen target en el df\n",
        "index = np.where(train_data[\"target\"]==-1)\n",
        "contexts = np.delete(contexts,index,axis=0)\n",
        "context_embedding = np.delete(context_embedding,index,axis=0)\n",
        "train_question_emb = np.delete(train_question_emb,index,axis=0)\n",
        "\n",
        "# Quitamos las filas que no tienen target en el df\n",
        "index=train_data[\"target\"]==-1\n",
        "train_data=train_data[-index].reset_index()"
      ],
      "execution_count": 0,
      "outputs": []
    },
    {
      "cell_type": "code",
      "metadata": {
        "id": "zn9xKuZTkk04",
        "colab_type": "code",
        "outputId": "32b919c8-d593-4705-a6cb-9612d41cae46",
        "colab": {
          "base_uri": "https://localhost:8080/",
          "height": 85
        }
      },
      "source": [
        "# La nueva longitud de los datos\n",
        "print(train_data.shape)\n",
        "print(len(context_embedding))\n",
        "print(len(contexts))\n",
        "print(len(train_question_emb))"
      ],
      "execution_count": 10,
      "outputs": [
        {
          "output_type": "stream",
          "text": [
            "(86655, 6)\n",
            "86655\n",
            "86655\n",
            "86655\n"
          ],
          "name": "stdout"
        }
      ]
    },
    {
      "cell_type": "code",
      "metadata": {
        "id": "s6NttZWBS-mI",
        "colab_type": "code",
        "outputId": "aec82891-41ea-4bd8-f3bb-9fe55fb978a2",
        "colab": {
          "base_uri": "https://localhost:8080/",
          "height": 301
        }
      },
      "source": [
        "sns.set(style=\"darkgrid\")\n",
        "g = sns.distplot(train_data[\"target\"], kde=False, rug =True, color=\"b\", bins=20)\n",
        "g.set_title(\"Distribución de variable target\")\n",
        "g.set_ylabel('Conteo')\n",
        "g.set_xlabel('Target')\n",
        "plt.show()"
      ],
      "execution_count": 11,
      "outputs": [
        {
          "output_type": "display_data",
          "data": {
            "image/png": "[encoded data removed]",
            "text/plain": [
              "<Figure size 432x288 with 1 Axes>"
            ]
          },
          "metadata": {
            "tags": []
          }
        }
      ]
    },
    {
      "cell_type": "code",
      "metadata": {
        "id": "FODko4ts5u7A",
        "colab_type": "code",
        "outputId": "e7bbe711-6f84-4d0e-e4b9-32dbadb3e37a",
        "colab": {
          "base_uri": "https://localhost:8080/",
          "height": 301
        }
      },
      "source": [
        "print(np.quantile(train_data[\"target\"],.99))\n",
        "pd.DataFrame(train_data[\"target\"]).describe()"
      ],
      "execution_count": 0,
      "outputs": [
        {
          "output_type": "stream",
          "text": [
            "7.0\n"
          ],
          "name": "stdout"
        },
        {
          "output_type": "execute_result",
          "data": {
            "text/html": [
              "<div>\n",
              "<style scoped>\n",
              "    .dataframe tbody tr th:only-of-type {\n",
              "        vertical-align: middle;\n",
              "    }\n",
              "\n",
              "    .dataframe tbody tr th {\n",
              "        vertical-align: top;\n",
              "    }\n",
              "\n",
              "    .dataframe thead th {\n",
              "        text-align: right;\n",
              "    }\n",
              "</style>\n",
              "<table border=\"1\" class=\"dataframe\">\n",
              "  <thead>\n",
              "    <tr style=\"text-align: right;\">\n",
              "      <th></th>\n",
              "      <th>target</th>\n",
              "    </tr>\n",
              "  </thead>\n",
              "  <tbody>\n",
              "    <tr>\n",
              "      <th>count</th>\n",
              "      <td>86655.000000</td>\n",
              "    </tr>\n",
              "    <tr>\n",
              "      <th>mean</th>\n",
              "      <td>1.645398</td>\n",
              "    </tr>\n",
              "    <tr>\n",
              "      <th>std</th>\n",
              "      <td>1.802559</td>\n",
              "    </tr>\n",
              "    <tr>\n",
              "      <th>min</th>\n",
              "      <td>0.000000</td>\n",
              "    </tr>\n",
              "    <tr>\n",
              "      <th>25%</th>\n",
              "      <td>0.000000</td>\n",
              "    </tr>\n",
              "    <tr>\n",
              "      <th>50%</th>\n",
              "      <td>1.000000</td>\n",
              "    </tr>\n",
              "    <tr>\n",
              "      <th>75%</th>\n",
              "      <td>3.000000</td>\n",
              "    </tr>\n",
              "    <tr>\n",
              "      <th>max</th>\n",
              "      <td>20.000000</td>\n",
              "    </tr>\n",
              "  </tbody>\n",
              "</table>\n",
              "</div>"
            ],
            "text/plain": [
              "             target\n",
              "count  86655.000000\n",
              "mean       1.645398\n",
              "std        1.802559\n",
              "min        0.000000\n",
              "25%        0.000000\n",
              "50%        1.000000\n",
              "75%        3.000000\n",
              "max       20.000000"
            ]
          },
          "metadata": {
            "tags": []
          },
          "execution_count": 15
        }
      ]
    },
    {
      "cell_type": "markdown",
      "metadata": {
        "id": "57FYSITLh-0A",
        "colab_type": "text"
      },
      "source": [
        "###3.5 Distancias Coseno y Euclidiana\n",
        "\n",
        "\n",
        "En el presente apartado, calculamos la distancia coseno y la euclidiana entre las oraciones del contexto y la pregunta, dicha información, junto con la calculada en los apartados previos y posteriores, constituirán los insumos de los modelos supervisados que desarollamos en el notebook [04. modelling](https://github.com/Pilo1961/QuestionAnswer_System/blob/master/code/02.%20modelling.ipynb).\n",
        "\n",
        "En el intermedio, aprovechamos para implementar un modelo no supervisado."
      ]
    },
    {
      "cell_type": "code",
      "metadata": {
        "id": "hinv4KbRmSDn",
        "colab_type": "code",
        "colab": {}
      },
      "source": [
        "# Definimos las distancias a utilizar\n",
        "norma=lambda x:np.sqrt(sum(x*x))\n",
        "distancia_coseno=lambda x,y: 1-(sum(x*y)/(norma(x)*norma(y)))\n",
        "distancia_euclidiana=lambda x,y: norma(x-y)"
      ],
      "execution_count": 0,
      "outputs": []
    },
    {
      "cell_type": "code",
      "metadata": {
        "id": "keDGSmXiiARO",
        "colab_type": "code",
        "outputId": "c6b358f6-9964-42f2-c317-8b5c524d5395",
        "colab": {
          "base_uri": "https://localhost:8080/",
          "height": 319
        }
      },
      "source": [
        "# Calcula la distancia coseno y la euclidiana entre las oraciones del contexto y la pregunta\n",
        "# Devuevle un array target con el indice de la oracion con la minima distancia\n",
        "euclid_distance_target=[]\n",
        "cosine_distance_target=[]\n",
        "euclid_distance=[]\n",
        "cosine_distance=[]\n",
        "\n",
        "for i in range(len(train_data)):\n",
        "  dc_min=1000\n",
        "  de_min=1000\n",
        "  temp_c=[]\n",
        "  temp_e=[]\n",
        "  for j, sent_emb in enumerate(context_embedding[i]):\n",
        "    dist_euc=distancia_euclidiana(sent_emb,train_question_emb[i])\n",
        "    dist_cos=distancia_coseno(sent_emb,train_question_emb[i])  \n",
        "    temp_c.append(dist_cos)\n",
        "    temp_e.append(dist_euc)\n",
        "\n",
        "  euclid_distance_target.append(np.argmin(temp_e))\n",
        "  cosine_distance_target.append(np.argmin(temp_c))\n",
        "  euclid_distance.append(temp_e)\n",
        "  cosine_distance.append(temp_c)\n",
        "  if i%5000==0: print(i)"
      ],
      "execution_count": 0,
      "outputs": [
        {
          "output_type": "stream",
          "text": [
            "0\n",
            "5000\n",
            "10000\n",
            "15000\n",
            "20000\n",
            "25000\n",
            "30000\n",
            "35000\n",
            "40000\n",
            "45000\n",
            "50000\n",
            "55000\n",
            "60000\n",
            "65000\n",
            "70000\n",
            "75000\n",
            "80000\n",
            "85000\n"
          ],
          "name": "stdout"
        }
      ]
    },
    {
      "cell_type": "markdown",
      "metadata": {
        "id": "gLlash-HiaCQ",
        "colab_type": "text"
      },
      "source": [
        "#### 3.5.1 Implementación intermedia de un *modelo* no supervisado"
      ]
    },
    {
      "cell_type": "code",
      "metadata": {
        "id": "c6g3SRaZpZTu",
        "colab_type": "code",
        "colab": {}
      },
      "source": [
        "train_data[\"euclid_prediction\"]=euclid_distance_target\n",
        "train_data[\"cosine_prediction\"]=cosine_distance_target"
      ],
      "execution_count": 0,
      "outputs": []
    },
    {
      "cell_type": "code",
      "metadata": {
        "id": "4DRCNSnaIshI",
        "colab_type": "code",
        "colab": {}
      },
      "source": [
        "import pickle\n",
        "\n",
        "with open(\"/content/drive/My Drive/QA/dist_cosine.pkl\", 'wb') as handle:\n",
        "    pickle.dump(cosine_distance, handle)\n",
        "\n",
        "with open(\"/content/drive/My Drive/QA/dist_euclid.pkl\", 'wb') as handle:\n",
        "    pickle.dump(euclid_distance, handle)"
      ],
      "execution_count": 0,
      "outputs": []
    },
    {
      "cell_type": "markdown",
      "metadata": {
        "id": "orTwo1Gkr-40",
        "colab_type": "text"
      },
      "source": [
        "Revisamos el accuracy  del modelo no supervisado."
      ]
    },
    {
      "cell_type": "code",
      "metadata": {
        "id": "_f73wEJor_Ck",
        "colab_type": "code",
        "outputId": "293612d8-0c9a-4581-e3a9-2401f020ffcf",
        "colab": {
          "base_uri": "https://localhost:8080/",
          "height": 50
        }
      },
      "source": [
        "#Checa si la oracion que minimiza la distancia es la misma que la oracion target\n",
        "euclid=0\n",
        "cosine=0\n",
        "for i in range(len(train_data)):\n",
        "  right=train_data[\"target\"][i]\n",
        "  e=train_data[\"euclid_prediction\"][i]\n",
        "  c=train_data[\"cosine_prediction\"][i]\n",
        "  if(right==e):euclid+=1\n",
        "  if(right==c):cosine+=1  \n",
        "\n",
        "print(\"Cosine accuracy\",cosine/len(train_data))\n",
        "print(\"Euclidian accuracy\",euclid/len(train_data))"
      ],
      "execution_count": 0,
      "outputs": [
        {
          "output_type": "stream",
          "text": [
            "Cosine accuracy 0.5996191795049334\n",
            "Euclidian accuracy 0.3696613005596907\n"
          ],
          "name": "stdout"
        }
      ]
    },
    {
      "cell_type": "markdown",
      "metadata": {
        "id": "09_Ix6Fwxz8Z",
        "colab_type": "text"
      },
      "source": [
        "Usando la distancia cosento detectamos el 59.9% de las oraciones en el conjunto train.  \n",
        "Usando la distancia euclidiana detectamos el 36.9% de las oraciones en el contexto que tienen la respuesta."
      ]
    },
    {
      "cell_type": "code",
      "metadata": {
        "id": "P0Z_T4EFr_NU",
        "colab_type": "code",
        "outputId": "d0e23d2a-d527-45d5-8ba2-12e90e7e5739",
        "colab": {
          "base_uri": "https://localhost:8080/",
          "height": 185
        }
      },
      "source": [
        "#Celda para verificar consistencia\n",
        "\n",
        "i=5906\n",
        "print(\"Distancia Euclidiana\")\n",
        "print(euclid_distance[i])\n",
        "print(\"Target: \", euclid_distance_target[i])\n",
        "print(\"Index del minimo:\",np.argmin(euclid_distance[i]))\n",
        "print(\"\\n\")\n",
        "print(\"Distancia Coseno\")\n",
        "print(cosine_distance[i])\n",
        "print(\"Target: \",cosine_distance_target[i])\n",
        "print(\"Index del minimo:\",np.argmin(cosine_distance[i]))"
      ],
      "execution_count": 0,
      "outputs": [
        {
          "output_type": "stream",
          "text": [
            "Distancia Euclidiana\n",
            "[5.2625631927403305, 4.21635732745609, 3.5960816786122, 4.308840077891539, 4.374068086779395]\n",
            "Target:  2\n",
            "Index del minimo: 2\n",
            "\n",
            "\n",
            "Distancia Coseno\n",
            "[0.4612922809524779, 0.5593019660042353, 0.4051351904905818, 0.3781817001638521, 0.43483427939486885]\n",
            "Target:  3\n",
            "Index del minimo: 3\n"
          ],
          "name": "stdout"
        }
      ]
    },
    {
      "cell_type": "markdown",
      "metadata": {
        "id": "IFDF3ppoydfI",
        "colab_type": "text"
      },
      "source": [
        "En la celda anterior vemos la distancia entre las oraciones del contexto y la pregunta.\n",
        "El objetivo es verificar consistencia entre el minimo y el minimo que se tiene como target registrado."
      ]
    },
    {
      "cell_type": "markdown",
      "metadata": {
        "id": "CXoJU1PZzvQy",
        "colab_type": "text"
      },
      "source": [
        "### 3.6 Drop observations not meeting criterias\n",
        "\n",
        "Nos limitamos a 10 oraciones por contexto. Cualquier texto con mas de 10 oraciones se limitará a 10."
      ]
    },
    {
      "cell_type": "code",
      "metadata": {
        "id": "IqtOYPV8D2Bq",
        "colab_type": "code",
        "colab": {}
      },
      "source": [
        "df_context_embedding=pd.DataFrame(context_embedding,columns=[\"context_embedding\"])"
      ],
      "execution_count": 0,
      "outputs": []
    },
    {
      "cell_type": "code",
      "metadata": {
        "id": "bBGJaXG3zcBV",
        "colab_type": "code",
        "outputId": "4d6a1fe4-6e4b-4ef8-8120-6d6249e33249",
        "colab": {
          "base_uri": "https://localhost:8080/",
          "height": 212
        }
      },
      "source": [
        "print(train_data.shape)\n",
        "train_data.head()"
      ],
      "execution_count": 0,
      "outputs": [
        {
          "output_type": "stream",
          "text": [
            "(86655, 8)\n"
          ],
          "name": "stdout"
        },
        {
          "output_type": "execute_result",
          "data": {
            "text/html": [
              "<div>\n",
              "<style scoped>\n",
              "    .dataframe tbody tr th:only-of-type {\n",
              "        vertical-align: middle;\n",
              "    }\n",
              "\n",
              "    .dataframe tbody tr th {\n",
              "        vertical-align: top;\n",
              "    }\n",
              "\n",
              "    .dataframe thead th {\n",
              "        text-align: right;\n",
              "    }\n",
              "</style>\n",
              "<table border=\"1\" class=\"dataframe\">\n",
              "  <thead>\n",
              "    <tr style=\"text-align: right;\">\n",
              "      <th></th>\n",
              "      <th>index</th>\n",
              "      <th>answer_start</th>\n",
              "      <th>text</th>\n",
              "      <th>context</th>\n",
              "      <th>question</th>\n",
              "      <th>target</th>\n",
              "      <th>euclid_prediction</th>\n",
              "      <th>cosine_prediction</th>\n",
              "    </tr>\n",
              "  </thead>\n",
              "  <tbody>\n",
              "    <tr>\n",
              "      <th>0</th>\n",
              "      <td>0</td>\n",
              "      <td>515</td>\n",
              "      <td>Saint Bernadette Soubirous</td>\n",
              "      <td>Architecturally, the school has a Catholic cha...</td>\n",
              "      <td>To whom did the Virgin Mary allegedly appear i...</td>\n",
              "      <td>5</td>\n",
              "      <td>0</td>\n",
              "      <td>5</td>\n",
              "    </tr>\n",
              "    <tr>\n",
              "      <th>1</th>\n",
              "      <td>1</td>\n",
              "      <td>187</td>\n",
              "      <td>a copper statue of Christ</td>\n",
              "      <td>Architecturally, the school has a Catholic cha...</td>\n",
              "      <td>What is in front of the Notre Dame Main Building?</td>\n",
              "      <td>2</td>\n",
              "      <td>3</td>\n",
              "      <td>2</td>\n",
              "    </tr>\n",
              "    <tr>\n",
              "      <th>2</th>\n",
              "      <td>2</td>\n",
              "      <td>279</td>\n",
              "      <td>the Main Building</td>\n",
              "      <td>Architecturally, the school has a Catholic cha...</td>\n",
              "      <td>The Basilica of the Sacred heart at Notre Dame...</td>\n",
              "      <td>1</td>\n",
              "      <td>3</td>\n",
              "      <td>3</td>\n",
              "    </tr>\n",
              "    <tr>\n",
              "      <th>3</th>\n",
              "      <td>3</td>\n",
              "      <td>381</td>\n",
              "      <td>a Marian place of prayer and reflection</td>\n",
              "      <td>Architecturally, the school has a Catholic cha...</td>\n",
              "      <td>What is the Grotto at Notre Dame?</td>\n",
              "      <td>4</td>\n",
              "      <td>3</td>\n",
              "      <td>3</td>\n",
              "    </tr>\n",
              "    <tr>\n",
              "      <th>4</th>\n",
              "      <td>4</td>\n",
              "      <td>92</td>\n",
              "      <td>a golden statue of the Virgin Mary</td>\n",
              "      <td>Architecturally, the school has a Catholic cha...</td>\n",
              "      <td>What sits on top of the Main Building at Notre...</td>\n",
              "      <td>1</td>\n",
              "      <td>3</td>\n",
              "      <td>1</td>\n",
              "    </tr>\n",
              "  </tbody>\n",
              "</table>\n",
              "</div>"
            ],
            "text/plain": [
              "   index  answer_start  ... euclid_prediction cosine_prediction\n",
              "0      0           515  ...                 0                 5\n",
              "1      1           187  ...                 3                 2\n",
              "2      2           279  ...                 3                 3\n",
              "3      3           381  ...                 3                 3\n",
              "4      4            92  ...                 3                 1\n",
              "\n",
              "[5 rows x 8 columns]"
            ]
          },
          "metadata": {
            "tags": []
          },
          "execution_count": 23
        }
      ]
    },
    {
      "cell_type": "markdown",
      "metadata": {
        "id": "J3sZ0BPqaFYQ",
        "colab_type": "text"
      },
      "source": [
        "\n",
        "### 3.7 Root analysis\n",
        "\n",
        "En las siguientes celdas se busca la raíz de las oraciones para los contextos y para las preguntas. \n",
        "\n",
        "[Ejemplo de arboles](https://stackoverflow.com/questions/36610179/how-to-get-the-dependency-tree-with-spacy/39104235)"
      ]
    },
    {
      "cell_type": "code",
      "metadata": {
        "id": "BDTV9YKcHoeH",
        "colab_type": "code",
        "outputId": "123441f4-d3ae-41c6-e90f-4f1d9db34ef0",
        "colab": {
          "base_uri": "https://localhost:8080/",
          "height": 218
        }
      },
      "source": [
        "#Ejemplo de la estructura de una oración\n",
        "\n",
        "import spacy\n",
        "from nltk import Tree\n",
        "from nltk.stem.lancaster import LancasterStemmer\n",
        "st = LancasterStemmer()\n",
        "\n",
        "en_nlp = spacy.load('en')\n",
        "doc = en_nlp(contexts[0][3])\n",
        "print(contexts[0][3])\n",
        "def to_nltk_tree(node):\n",
        "    if node.n_lefts + node.n_rights > 0:\n",
        "        return Tree(node.orth_, [to_nltk_tree(child) for child in node.children])\n",
        "    else:\n",
        "        return node.orth_\n",
        "\n",
        "\n",
        "[to_nltk_tree(sent.root).pretty_print() for sent in doc.sents]"
      ],
      "execution_count": 0,
      "outputs": [
        {
          "output_type": "stream",
          "text": [
            "next to the main building is the basilica of the sacred heart.\n",
            "                  is                           \n",
            "  ________________|__________                   \n",
            " |        next            basilica             \n",
            " |         |            _____|_______           \n",
            " |         to          |             of        \n",
            " |         |           |             |          \n",
            " |      building       |           heart       \n",
            " |    _____|______     |      _______|_____     \n",
            " .  the          main the   the          sacred\n",
            "\n"
          ],
          "name": "stdout"
        },
        {
          "output_type": "execute_result",
          "data": {
            "text/plain": [
              "[None]"
            ]
          },
          "metadata": {
            "tags": []
          },
          "execution_count": 24
        }
      ]
    },
    {
      "cell_type": "code",
      "metadata": {
        "id": "N3bELKSgHohM",
        "colab_type": "code",
        "outputId": "e47ed3ba-132b-44d8-b8eb-3be4cc2d7d03",
        "colab": {
          "base_uri": "https://localhost:8080/",
          "height": 319
        }
      },
      "source": [
        "# calcula las raices de las oraciones de los contextos\n",
        "# calcula las raices de las pregutnas\n",
        "# Genera un vector que contiene el numero de raices en cada indice\n",
        "\n",
        "questions_root=[]\n",
        "context_root=[]\n",
        "num_roots=[]\n",
        "\n",
        "\n",
        "for i in range(len(train_data)):\n",
        "  if train_data[\"context\"][i]!=last_context: \n",
        "    roots=[st.stem(str(sent.root)) for sent in en_nlp(train_data[\"context\"][i]).sents]\n",
        "  context_root.append(roots)\n",
        "  num_roots.append(len(roots))\n",
        "  questions_root.append([st.stem(str(sent.root)) for sent in en_nlp(train_data[\"question\"][i]).sents])\n",
        "  last_context=train_data[\"context\"][i]\n",
        "  if i%5000==0: print(i)"
      ],
      "execution_count": 0,
      "outputs": [
        {
          "output_type": "stream",
          "text": [
            "0\n",
            "5000\n",
            "10000\n",
            "15000\n",
            "20000\n",
            "25000\n",
            "30000\n",
            "35000\n",
            "40000\n",
            "45000\n",
            "50000\n",
            "55000\n",
            "60000\n",
            "65000\n",
            "70000\n",
            "75000\n",
            "80000\n",
            "85000\n"
          ],
          "name": "stdout"
        }
      ]
    },
    {
      "cell_type": "code",
      "metadata": {
        "id": "g7UtYGYysQhw",
        "colab_type": "code",
        "colab": {}
      },
      "source": [
        "import pickle\n",
        "\n",
        "with open(\"/content/drive/My Drive/QA/question_root.pkl\", 'wb') as handle:\n",
        "    pickle.dump(questions_root, handle)\n",
        "\n",
        "with open(\"/content/drive/My Drive/QA/context_root.pkl\", 'wb') as handle:\n",
        "    pickle.dump(context_root, handle)"
      ],
      "execution_count": 0,
      "outputs": []
    },
    {
      "cell_type": "code",
      "metadata": {
        "id": "GKxOgWNBHowi",
        "colab_type": "code",
        "outputId": "12cdab5d-a7fc-462c-8e3c-0a3122a82f56",
        "colab": {
          "base_uri": "https://localhost:8080/",
          "height": 168
        }
      },
      "source": [
        "#hacemos un array con las posiciones en que coinciden la raiz de la pregunta y de las oraciones\n",
        "\n",
        "root_index=[]\n",
        "\n",
        "for i in range(len(questions_root)):\n",
        "  c=[]\n",
        "  a=np.array(context_root[i])\n",
        "  b=np.array(questions_root[i])\n",
        "  for root in b:\n",
        "    temp=np.where(a==root)\n",
        "    c=np.append(c,temp[0])\n",
        "  root_index.append(c.astype('i'))\n",
        "  if i%10000 ==0: print(i)\n"
      ],
      "execution_count": 0,
      "outputs": [
        {
          "output_type": "stream",
          "text": [
            "0\n",
            "10000\n",
            "20000\n",
            "30000\n",
            "40000\n",
            "50000\n",
            "60000\n",
            "70000\n",
            "80000\n"
          ],
          "name": "stdout"
        }
      ]
    },
    {
      "cell_type": "code",
      "metadata": {
        "id": "i4Ne2vamEY5y",
        "colab_type": "code",
        "colab": {}
      },
      "source": [
        "#Hace un one hot encoder de los root. Limita los resultados a las dimensiones indicadas.\n",
        "dim=9\n",
        "root_ohe=[]\n",
        "for i in range(len(root_index)):\n",
        "  a=np.zeros(60)\n",
        "  a[root_index[i]]=1\n",
        "  root_ohe.append(a[:dim])\n",
        "\n",
        "root_ohe=pd.DataFrame(root_ohe)"
      ],
      "execution_count": 0,
      "outputs": []
    },
    {
      "cell_type": "code",
      "metadata": {
        "id": "5-Vz1QTaj3r1",
        "colab_type": "code",
        "outputId": "d15bc839-da24-4d49-a4a4-8109572303d3",
        "colab": {
          "base_uri": "https://localhost:8080/",
          "height": 195
        }
      },
      "source": [
        "root_ohe.head()"
      ],
      "execution_count": 0,
      "outputs": [
        {
          "output_type": "execute_result",
          "data": {
            "text/html": [
              "<div>\n",
              "<style scoped>\n",
              "    .dataframe tbody tr th:only-of-type {\n",
              "        vertical-align: middle;\n",
              "    }\n",
              "\n",
              "    .dataframe tbody tr th {\n",
              "        vertical-align: top;\n",
              "    }\n",
              "\n",
              "    .dataframe thead th {\n",
              "        text-align: right;\n",
              "    }\n",
              "</style>\n",
              "<table border=\"1\" class=\"dataframe\">\n",
              "  <thead>\n",
              "    <tr style=\"text-align: right;\">\n",
              "      <th></th>\n",
              "      <th>0</th>\n",
              "      <th>1</th>\n",
              "      <th>2</th>\n",
              "      <th>3</th>\n",
              "      <th>4</th>\n",
              "      <th>5</th>\n",
              "      <th>6</th>\n",
              "      <th>7</th>\n",
              "      <th>8</th>\n",
              "    </tr>\n",
              "  </thead>\n",
              "  <tbody>\n",
              "    <tr>\n",
              "      <th>0</th>\n",
              "      <td>0.0</td>\n",
              "      <td>0.0</td>\n",
              "      <td>0.0</td>\n",
              "      <td>0.0</td>\n",
              "      <td>0.0</td>\n",
              "      <td>0.0</td>\n",
              "      <td>0.0</td>\n",
              "      <td>0.0</td>\n",
              "      <td>0.0</td>\n",
              "    </tr>\n",
              "    <tr>\n",
              "      <th>1</th>\n",
              "      <td>0.0</td>\n",
              "      <td>1.0</td>\n",
              "      <td>1.0</td>\n",
              "      <td>1.0</td>\n",
              "      <td>1.0</td>\n",
              "      <td>1.0</td>\n",
              "      <td>1.0</td>\n",
              "      <td>0.0</td>\n",
              "      <td>0.0</td>\n",
              "    </tr>\n",
              "    <tr>\n",
              "      <th>2</th>\n",
              "      <td>0.0</td>\n",
              "      <td>1.0</td>\n",
              "      <td>1.0</td>\n",
              "      <td>1.0</td>\n",
              "      <td>1.0</td>\n",
              "      <td>1.0</td>\n",
              "      <td>1.0</td>\n",
              "      <td>0.0</td>\n",
              "      <td>0.0</td>\n",
              "    </tr>\n",
              "    <tr>\n",
              "      <th>3</th>\n",
              "      <td>0.0</td>\n",
              "      <td>1.0</td>\n",
              "      <td>1.0</td>\n",
              "      <td>1.0</td>\n",
              "      <td>1.0</td>\n",
              "      <td>1.0</td>\n",
              "      <td>1.0</td>\n",
              "      <td>0.0</td>\n",
              "      <td>0.0</td>\n",
              "    </tr>\n",
              "    <tr>\n",
              "      <th>4</th>\n",
              "      <td>0.0</td>\n",
              "      <td>0.0</td>\n",
              "      <td>0.0</td>\n",
              "      <td>0.0</td>\n",
              "      <td>0.0</td>\n",
              "      <td>0.0</td>\n",
              "      <td>0.0</td>\n",
              "      <td>0.0</td>\n",
              "      <td>0.0</td>\n",
              "    </tr>\n",
              "  </tbody>\n",
              "</table>\n",
              "</div>"
            ],
            "text/plain": [
              "     0    1    2    3    4    5    6    7    8\n",
              "0  0.0  0.0  0.0  0.0  0.0  0.0  0.0  0.0  0.0\n",
              "1  0.0  1.0  1.0  1.0  1.0  1.0  1.0  0.0  0.0\n",
              "2  0.0  1.0  1.0  1.0  1.0  1.0  1.0  0.0  0.0\n",
              "3  0.0  1.0  1.0  1.0  1.0  1.0  1.0  0.0  0.0\n",
              "4  0.0  0.0  0.0  0.0  0.0  0.0  0.0  0.0  0.0"
            ]
          },
          "metadata": {
            "tags": []
          },
          "execution_count": 70
        }
      ]
    },
    {
      "cell_type": "code",
      "metadata": {
        "id": "Qezc4Rk0S3Pd",
        "colab_type": "code",
        "colab": {}
      },
      "source": [
        "import pickle\n",
        "\n",
        "with open(\"/content/drive/My Drive/QA/root_ohe.pkl\", 'wb') as handle:\n",
        "    pickle.dump(root_ohe, handle)"
      ],
      "execution_count": 0,
      "outputs": []
    },
    {
      "cell_type": "code",
      "metadata": {
        "id": "TyyTg3CrYxx6",
        "colab_type": "code",
        "colab": {}
      },
      "source": [
        ""
      ],
      "execution_count": 0,
      "outputs": []
    }
  ]
}

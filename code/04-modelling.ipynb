{
  "nbformat": 4,
  "nbformat_minor": 0,
  "metadata": {
    "colab": {
      "name": "Processing.ipynb",
      "provenance": [],
      "include_colab_link": true
    },
    "kernelspec": {
      "name": "python3",
      "display_name": "Python 3"
    }
  },
  "cells": [
    {
      "cell_type": "markdown",
      "metadata": {
        "id": "view-in-github",
        "colab_type": "text"
      },
      "source": [
        "<a href=\"https://colab.research.google.com/github/Pilo1961/QuestionAnswer_System/blob/master/code/04-modelling.ipynb\" target=\"_parent\"><img src=\"https://colab.research.google.com/assets/colab-badge.svg\" alt=\"Open In Colab\"/></a>"
      ]
    },
    {
      "cell_type": "markdown",
      "metadata": {
        "id": "EW39We3gpLZf",
        "colab_type": "text"
      },
      "source": [
        "# Sistema de Preguntas y Respuestas\n",
        "## 04. Transform and Modelling"
      ]
    },
    {
      "cell_type": "markdown",
      "metadata": {
        "id": "xIJBsRolpyKR",
        "colab_type": "text"
      },
      "source": [
        "En el presente notebook se realizan algunas transformaciones a los datos para pasarlos en forma de matriz de feautures los distintos modelos que se implementan -RandomForest, DecisionTree y  AdaBoost. \n",
        "\n"
      ]
    },
    {
      "cell_type": "markdown",
      "metadata": {
        "id": "1lqjKZjtX_lm",
        "colab_type": "text"
      },
      "source": [
        "###4.1 Setup"
      ]
    },
    {
      "cell_type": "code",
      "metadata": {
        "id": "dpzxDk2dYAXt",
        "colab_type": "code",
        "colab": {}
      },
      "source": [
        "# Imports \n",
        "import numpy as np\n",
        "import pandas as pd"
      ],
      "execution_count": 0,
      "outputs": []
    },
    {
      "cell_type": "code",
      "metadata": {
        "id": "NeTI6ZQYLG__",
        "colab_type": "code",
        "outputId": "518ef93c-83ec-411a-b8c7-29fd3beec0d3",
        "colab": {
          "base_uri": "https://localhost:8080/",
          "height": 121
        }
      },
      "source": [
        "# Load data from google drive\n",
        "from google.colab import drive\n",
        "drive.mount('/content/drive')"
      ],
      "execution_count": 0,
      "outputs": [
        {
          "output_type": "stream",
          "text": [
            "Go to this URL in a browser: https://accounts.google.com/o/oauth2/auth?client_id=947318989803-6bn6qk8qdgf4n4g3pfee6491hc0brc4i.apps.googleusercontent.com&redirect_uri=urn%3aietf%3awg%3aoauth%3a2.0%3aoob&response_type=code&scope=email%20https%3a%2f%2fwww.googleapis.com%2fauth%2fdocs.test%20https%3a%2f%2fwww.googleapis.com%2fauth%2fdrive%20https%3a%2f%2fwww.googleapis.com%2fauth%2fdrive.photos.readonly%20https%3a%2f%2fwww.googleapis.com%2fauth%2fpeopleapi.readonly\n",
            "\n",
            "Enter your authorization code:\n",
            "··········\n",
            "Mounted at /content/drive\n"
          ],
          "name": "stdout"
        }
      ]
    },
    {
      "cell_type": "markdown",
      "metadata": {
        "id": "zdR0ZmjmYG0v",
        "colab_type": "text"
      },
      "source": [
        "###4.2 Load data"
      ]
    },
    {
      "cell_type": "code",
      "metadata": {
        "id": "t6zlDoER-86z",
        "colab_type": "code",
        "colab": {}
      },
      "source": [
        "# Loading pickles\n",
        "\n",
        "import pickle\n",
        "with open(\"/content/drive/My Drive/QA/root_ohe.pkl\", \"rb\") as f:\n",
        "    root_ohe = pickle.load(f)\n",
        "\n",
        "with open(\"/content/drive/My Drive/QA/dist_euclid.pkl\", \"rb\") as f:\n",
        "    euclid = pickle.load(f)\n",
        "\n",
        "with open(\"/content/drive/My Drive/QA/dist_cosine.pkl\", \"rb\") as f:\n",
        "    cosine = pickle.load(f)\n",
        "\n",
        "with open(\"/content/drive/My Drive/QA/train_target.pkl\", \"rb\") as f:\n",
        "    train = pickle.load(f)"
      ],
      "execution_count": 0,
      "outputs": []
    },
    {
      "cell_type": "code",
      "metadata": {
        "id": "QQaneygQ_OQX",
        "colab_type": "code",
        "outputId": "ad439adb-150c-4e57-ce42-005e481c5230",
        "colab": {
          "base_uri": "https://localhost:8080/",
          "height": 67
        }
      },
      "source": [
        "print(len(euclid))\n",
        "print(len(cosine))\n",
        "print(root_ohe.shape)"
      ],
      "execution_count": 0,
      "outputs": [
        {
          "output_type": "stream",
          "text": [
            "86655\n",
            "86655\n",
            "(86655, 9)\n"
          ],
          "name": "stdout"
        }
      ]
    },
    {
      "cell_type": "markdown",
      "metadata": {
        "id": "S959p6WQZQ7k",
        "colab_type": "text"
      },
      "source": [
        "### 4.3 Transformaciones"
      ]
    },
    {
      "cell_type": "code",
      "metadata": {
        "id": "uubTnOIX_Ut4",
        "colab_type": "code",
        "outputId": "bad45934-30db-4c19-db75-c46a0b2c48b1",
        "colab": {
          "base_uri": "https://localhost:8080/",
          "height": 402
        }
      },
      "source": [
        "root_ohe.columns=[\"root_0\",\"root_1\",\"root_2\",\"root_3\",\"root_4\",\"root_5\",\"root_6\",\"root_7\",\"root_8\"]\n",
        "root_ohe"
      ],
      "execution_count": 0,
      "outputs": [
        {
          "output_type": "execute_result",
          "data": {
            "text/html": [
              "<div>\n",
              "<style scoped>\n",
              "    .dataframe tbody tr th:only-of-type {\n",
              "        vertical-align: middle;\n",
              "    }\n",
              "\n",
              "    .dataframe tbody tr th {\n",
              "        vertical-align: top;\n",
              "    }\n",
              "\n",
              "    .dataframe thead th {\n",
              "        text-align: right;\n",
              "    }\n",
              "</style>\n",
              "<table border=\"1\" class=\"dataframe\">\n",
              "  <thead>\n",
              "    <tr style=\"text-align: right;\">\n",
              "      <th></th>\n",
              "      <th>root_0</th>\n",
              "      <th>root_1</th>\n",
              "      <th>root_2</th>\n",
              "      <th>root_3</th>\n",
              "      <th>root_4</th>\n",
              "      <th>root_5</th>\n",
              "      <th>root_6</th>\n",
              "      <th>root_7</th>\n",
              "      <th>root_8</th>\n",
              "    </tr>\n",
              "  </thead>\n",
              "  <tbody>\n",
              "    <tr>\n",
              "      <th>0</th>\n",
              "      <td>0.0</td>\n",
              "      <td>0.0</td>\n",
              "      <td>0.0</td>\n",
              "      <td>0.0</td>\n",
              "      <td>0.0</td>\n",
              "      <td>0.0</td>\n",
              "      <td>0.0</td>\n",
              "      <td>0.0</td>\n",
              "      <td>0.0</td>\n",
              "    </tr>\n",
              "    <tr>\n",
              "      <th>1</th>\n",
              "      <td>0.0</td>\n",
              "      <td>1.0</td>\n",
              "      <td>1.0</td>\n",
              "      <td>1.0</td>\n",
              "      <td>1.0</td>\n",
              "      <td>1.0</td>\n",
              "      <td>1.0</td>\n",
              "      <td>0.0</td>\n",
              "      <td>0.0</td>\n",
              "    </tr>\n",
              "    <tr>\n",
              "      <th>2</th>\n",
              "      <td>0.0</td>\n",
              "      <td>1.0</td>\n",
              "      <td>1.0</td>\n",
              "      <td>1.0</td>\n",
              "      <td>1.0</td>\n",
              "      <td>1.0</td>\n",
              "      <td>1.0</td>\n",
              "      <td>0.0</td>\n",
              "      <td>0.0</td>\n",
              "    </tr>\n",
              "    <tr>\n",
              "      <th>3</th>\n",
              "      <td>0.0</td>\n",
              "      <td>1.0</td>\n",
              "      <td>1.0</td>\n",
              "      <td>1.0</td>\n",
              "      <td>1.0</td>\n",
              "      <td>1.0</td>\n",
              "      <td>1.0</td>\n",
              "      <td>0.0</td>\n",
              "      <td>0.0</td>\n",
              "    </tr>\n",
              "    <tr>\n",
              "      <th>4</th>\n",
              "      <td>0.0</td>\n",
              "      <td>0.0</td>\n",
              "      <td>0.0</td>\n",
              "      <td>0.0</td>\n",
              "      <td>0.0</td>\n",
              "      <td>0.0</td>\n",
              "      <td>0.0</td>\n",
              "      <td>0.0</td>\n",
              "      <td>0.0</td>\n",
              "    </tr>\n",
              "    <tr>\n",
              "      <th>...</th>\n",
              "      <td>...</td>\n",
              "      <td>...</td>\n",
              "      <td>...</td>\n",
              "      <td>...</td>\n",
              "      <td>...</td>\n",
              "      <td>...</td>\n",
              "      <td>...</td>\n",
              "      <td>...</td>\n",
              "      <td>...</td>\n",
              "    </tr>\n",
              "    <tr>\n",
              "      <th>86650</th>\n",
              "      <td>0.0</td>\n",
              "      <td>0.0</td>\n",
              "      <td>0.0</td>\n",
              "      <td>0.0</td>\n",
              "      <td>0.0</td>\n",
              "      <td>0.0</td>\n",
              "      <td>0.0</td>\n",
              "      <td>0.0</td>\n",
              "      <td>0.0</td>\n",
              "    </tr>\n",
              "    <tr>\n",
              "      <th>86651</th>\n",
              "      <td>0.0</td>\n",
              "      <td>0.0</td>\n",
              "      <td>0.0</td>\n",
              "      <td>0.0</td>\n",
              "      <td>0.0</td>\n",
              "      <td>0.0</td>\n",
              "      <td>0.0</td>\n",
              "      <td>0.0</td>\n",
              "      <td>0.0</td>\n",
              "    </tr>\n",
              "    <tr>\n",
              "      <th>86652</th>\n",
              "      <td>0.0</td>\n",
              "      <td>0.0</td>\n",
              "      <td>0.0</td>\n",
              "      <td>0.0</td>\n",
              "      <td>0.0</td>\n",
              "      <td>0.0</td>\n",
              "      <td>0.0</td>\n",
              "      <td>0.0</td>\n",
              "      <td>0.0</td>\n",
              "    </tr>\n",
              "    <tr>\n",
              "      <th>86653</th>\n",
              "      <td>0.0</td>\n",
              "      <td>0.0</td>\n",
              "      <td>0.0</td>\n",
              "      <td>0.0</td>\n",
              "      <td>0.0</td>\n",
              "      <td>0.0</td>\n",
              "      <td>0.0</td>\n",
              "      <td>0.0</td>\n",
              "      <td>0.0</td>\n",
              "    </tr>\n",
              "    <tr>\n",
              "      <th>86654</th>\n",
              "      <td>0.0</td>\n",
              "      <td>0.0</td>\n",
              "      <td>0.0</td>\n",
              "      <td>1.0</td>\n",
              "      <td>0.0</td>\n",
              "      <td>0.0</td>\n",
              "      <td>0.0</td>\n",
              "      <td>0.0</td>\n",
              "      <td>0.0</td>\n",
              "    </tr>\n",
              "  </tbody>\n",
              "</table>\n",
              "<p>86655 rows × 9 columns</p>\n",
              "</div>"
            ],
            "text/plain": [
              "       root_0  root_1  root_2  root_3  root_4  root_5  root_6  root_7  root_8\n",
              "0         0.0     0.0     0.0     0.0     0.0     0.0     0.0     0.0     0.0\n",
              "1         0.0     1.0     1.0     1.0     1.0     1.0     1.0     0.0     0.0\n",
              "2         0.0     1.0     1.0     1.0     1.0     1.0     1.0     0.0     0.0\n",
              "3         0.0     1.0     1.0     1.0     1.0     1.0     1.0     0.0     0.0\n",
              "4         0.0     0.0     0.0     0.0     0.0     0.0     0.0     0.0     0.0\n",
              "...       ...     ...     ...     ...     ...     ...     ...     ...     ...\n",
              "86650     0.0     0.0     0.0     0.0     0.0     0.0     0.0     0.0     0.0\n",
              "86651     0.0     0.0     0.0     0.0     0.0     0.0     0.0     0.0     0.0\n",
              "86652     0.0     0.0     0.0     0.0     0.0     0.0     0.0     0.0     0.0\n",
              "86653     0.0     0.0     0.0     0.0     0.0     0.0     0.0     0.0     0.0\n",
              "86654     0.0     0.0     0.0     1.0     0.0     0.0     0.0     0.0     0.0\n",
              "\n",
              "[86655 rows x 9 columns]"
            ]
          },
          "metadata": {
            "tags": []
          },
          "execution_count": 5
        }
      ]
    },
    {
      "cell_type": "code",
      "metadata": {
        "id": "cHzWtbPqQfNy",
        "colab_type": "code",
        "outputId": "ec6c7cea-62e9-4b54-b79a-77025f20a29d",
        "colab": {
          "base_uri": "https://localhost:8080/",
          "height": 422
        }
      },
      "source": [
        "# Preparamos los datos de distancia euclidiana\n",
        "df_euclid=pd.DataFrame(euclid)\n",
        "df_euclid=df_euclid.iloc[:,0:9]\n",
        "df_euclid.columns=[\"euc_0\",\"euc_1\",\"euc_2\",\"euc_3\",\"euc_4\",\"euc_5\",\"euc_6\",\"euc_7\",\"euc_8\"]\n",
        "df_euclid.fillna(50, inplace=True)#imputamos con un valor grande.\n",
        "df_euclid"
      ],
      "execution_count": 0,
      "outputs": [
        {
          "output_type": "execute_result",
          "data": {
            "text/html": [
              "<div>\n",
              "<style scoped>\n",
              "    .dataframe tbody tr th:only-of-type {\n",
              "        vertical-align: middle;\n",
              "    }\n",
              "\n",
              "    .dataframe tbody tr th {\n",
              "        vertical-align: top;\n",
              "    }\n",
              "\n",
              "    .dataframe thead th {\n",
              "        text-align: right;\n",
              "    }\n",
              "</style>\n",
              "<table border=\"1\" class=\"dataframe\">\n",
              "  <thead>\n",
              "    <tr style=\"text-align: right;\">\n",
              "      <th></th>\n",
              "      <th>euc_0</th>\n",
              "      <th>euc_1</th>\n",
              "      <th>euc_2</th>\n",
              "      <th>euc_3</th>\n",
              "      <th>euc_4</th>\n",
              "      <th>euc_5</th>\n",
              "      <th>euc_6</th>\n",
              "      <th>euc_7</th>\n",
              "      <th>euc_8</th>\n",
              "    </tr>\n",
              "  </thead>\n",
              "  <tbody>\n",
              "    <tr>\n",
              "      <th>0</th>\n",
              "      <td>3.677407</td>\n",
              "      <td>4.353702</td>\n",
              "      <td>4.355070</td>\n",
              "      <td>3.873008</td>\n",
              "      <td>3.865309</td>\n",
              "      <td>3.882221</td>\n",
              "      <td>4.402894</td>\n",
              "      <td>50.0</td>\n",
              "      <td>50.0</td>\n",
              "    </tr>\n",
              "    <tr>\n",
              "      <th>1</th>\n",
              "      <td>3.275529</td>\n",
              "      <td>3.809133</td>\n",
              "      <td>4.072714</td>\n",
              "      <td>3.203871</td>\n",
              "      <td>3.429395</td>\n",
              "      <td>4.286461</td>\n",
              "      <td>4.053148</td>\n",
              "      <td>50.0</td>\n",
              "      <td>50.0</td>\n",
              "    </tr>\n",
              "    <tr>\n",
              "      <th>2</th>\n",
              "      <td>3.525856</td>\n",
              "      <td>3.833884</td>\n",
              "      <td>4.128951</td>\n",
              "      <td>2.807625</td>\n",
              "      <td>3.348045</td>\n",
              "      <td>4.325551</td>\n",
              "      <td>4.022338</td>\n",
              "      <td>50.0</td>\n",
              "      <td>50.0</td>\n",
              "    </tr>\n",
              "    <tr>\n",
              "      <th>3</th>\n",
              "      <td>4.185555</td>\n",
              "      <td>4.926534</td>\n",
              "      <td>5.493232</td>\n",
              "      <td>4.015984</td>\n",
              "      <td>4.482121</td>\n",
              "      <td>5.421094</td>\n",
              "      <td>5.381157</td>\n",
              "      <td>50.0</td>\n",
              "      <td>50.0</td>\n",
              "    </tr>\n",
              "    <tr>\n",
              "      <th>4</th>\n",
              "      <td>4.105423</td>\n",
              "      <td>4.132237</td>\n",
              "      <td>4.704564</td>\n",
              "      <td>3.750525</td>\n",
              "      <td>4.042750</td>\n",
              "      <td>4.817519</td>\n",
              "      <td>4.582985</td>\n",
              "      <td>50.0</td>\n",
              "      <td>50.0</td>\n",
              "    </tr>\n",
              "    <tr>\n",
              "      <th>...</th>\n",
              "      <td>...</td>\n",
              "      <td>...</td>\n",
              "      <td>...</td>\n",
              "      <td>...</td>\n",
              "      <td>...</td>\n",
              "      <td>...</td>\n",
              "      <td>...</td>\n",
              "      <td>...</td>\n",
              "      <td>...</td>\n",
              "    </tr>\n",
              "    <tr>\n",
              "      <th>86650</th>\n",
              "      <td>3.872611</td>\n",
              "      <td>3.352780</td>\n",
              "      <td>4.963609</td>\n",
              "      <td>4.499134</td>\n",
              "      <td>50.000000</td>\n",
              "      <td>50.000000</td>\n",
              "      <td>50.000000</td>\n",
              "      <td>50.0</td>\n",
              "      <td>50.0</td>\n",
              "    </tr>\n",
              "    <tr>\n",
              "      <th>86651</th>\n",
              "      <td>5.204634</td>\n",
              "      <td>4.683757</td>\n",
              "      <td>6.283728</td>\n",
              "      <td>5.990606</td>\n",
              "      <td>50.000000</td>\n",
              "      <td>50.000000</td>\n",
              "      <td>50.000000</td>\n",
              "      <td>50.0</td>\n",
              "      <td>50.0</td>\n",
              "    </tr>\n",
              "    <tr>\n",
              "      <th>86652</th>\n",
              "      <td>4.217816</td>\n",
              "      <td>3.874945</td>\n",
              "      <td>5.335346</td>\n",
              "      <td>4.984637</td>\n",
              "      <td>50.000000</td>\n",
              "      <td>50.000000</td>\n",
              "      <td>50.000000</td>\n",
              "      <td>50.0</td>\n",
              "      <td>50.0</td>\n",
              "    </tr>\n",
              "    <tr>\n",
              "      <th>86653</th>\n",
              "      <td>3.858460</td>\n",
              "      <td>3.419447</td>\n",
              "      <td>4.768705</td>\n",
              "      <td>4.292282</td>\n",
              "      <td>50.000000</td>\n",
              "      <td>50.000000</td>\n",
              "      <td>50.000000</td>\n",
              "      <td>50.0</td>\n",
              "      <td>50.0</td>\n",
              "    </tr>\n",
              "    <tr>\n",
              "      <th>86654</th>\n",
              "      <td>4.856692</td>\n",
              "      <td>4.657388</td>\n",
              "      <td>5.746286</td>\n",
              "      <td>5.508806</td>\n",
              "      <td>50.000000</td>\n",
              "      <td>50.000000</td>\n",
              "      <td>50.000000</td>\n",
              "      <td>50.0</td>\n",
              "      <td>50.0</td>\n",
              "    </tr>\n",
              "  </tbody>\n",
              "</table>\n",
              "<p>86655 rows × 9 columns</p>\n",
              "</div>"
            ],
            "text/plain": [
              "          euc_0     euc_1     euc_2  ...      euc_6  euc_7  euc_8\n",
              "0      3.677407  4.353702  4.355070  ...   4.402894   50.0   50.0\n",
              "1      3.275529  3.809133  4.072714  ...   4.053148   50.0   50.0\n",
              "2      3.525856  3.833884  4.128951  ...   4.022338   50.0   50.0\n",
              "3      4.185555  4.926534  5.493232  ...   5.381157   50.0   50.0\n",
              "4      4.105423  4.132237  4.704564  ...   4.582985   50.0   50.0\n",
              "...         ...       ...       ...  ...        ...    ...    ...\n",
              "86650  3.872611  3.352780  4.963609  ...  50.000000   50.0   50.0\n",
              "86651  5.204634  4.683757  6.283728  ...  50.000000   50.0   50.0\n",
              "86652  4.217816  3.874945  5.335346  ...  50.000000   50.0   50.0\n",
              "86653  3.858460  3.419447  4.768705  ...  50.000000   50.0   50.0\n",
              "86654  4.856692  4.657388  5.746286  ...  50.000000   50.0   50.0\n",
              "\n",
              "[86655 rows x 9 columns]"
            ]
          },
          "metadata": {
            "tags": []
          },
          "execution_count": 6
        }
      ]
    },
    {
      "cell_type": "code",
      "metadata": {
        "id": "TU8HZfXfKHan",
        "colab_type": "code",
        "outputId": "d1074a33-186e-4e7e-b460-7c267729c6fb",
        "colab": {
          "base_uri": "https://localhost:8080/",
          "height": 422
        }
      },
      "source": [
        "# Preparamos los datos de distancia coseno\n",
        "df_cos=pd.DataFrame(cosine)\n",
        "df_cos=df_cos.iloc[:,0:9]\n",
        "df_cos.columns=[\"cos_0\",\"cos_1\",\"cos_2\",\"cos_3\",\"cos_4\",\"cos_5\",\"cos_6\",\"cos_7\",\"cos_8\"]\n",
        "df_cos.fillna(5, inplace=True)#imputamos con un valor grande.\n",
        "df_cos"
      ],
      "execution_count": 0,
      "outputs": [
        {
          "output_type": "execute_result",
          "data": {
            "text/html": [
              "<div>\n",
              "<style scoped>\n",
              "    .dataframe tbody tr th:only-of-type {\n",
              "        vertical-align: middle;\n",
              "    }\n",
              "\n",
              "    .dataframe tbody tr th {\n",
              "        vertical-align: top;\n",
              "    }\n",
              "\n",
              "    .dataframe thead th {\n",
              "        text-align: right;\n",
              "    }\n",
              "</style>\n",
              "<table border=\"1\" class=\"dataframe\">\n",
              "  <thead>\n",
              "    <tr style=\"text-align: right;\">\n",
              "      <th></th>\n",
              "      <th>cos_0</th>\n",
              "      <th>cos_1</th>\n",
              "      <th>cos_2</th>\n",
              "      <th>cos_3</th>\n",
              "      <th>cos_4</th>\n",
              "      <th>cos_5</th>\n",
              "      <th>cos_6</th>\n",
              "      <th>cos_7</th>\n",
              "      <th>cos_8</th>\n",
              "    </tr>\n",
              "  </thead>\n",
              "  <tbody>\n",
              "    <tr>\n",
              "      <th>0</th>\n",
              "      <td>0.515035</td>\n",
              "      <td>0.560616</td>\n",
              "      <td>0.491694</td>\n",
              "      <td>0.539840</td>\n",
              "      <td>0.511034</td>\n",
              "      <td>0.388284</td>\n",
              "      <td>0.515897</td>\n",
              "      <td>5.0</td>\n",
              "      <td>5.0</td>\n",
              "    </tr>\n",
              "    <tr>\n",
              "      <th>1</th>\n",
              "      <td>0.593893</td>\n",
              "      <td>0.479187</td>\n",
              "      <td>0.430129</td>\n",
              "      <td>0.477835</td>\n",
              "      <td>0.508410</td>\n",
              "      <td>0.540927</td>\n",
              "      <td>0.451481</td>\n",
              "      <td>5.0</td>\n",
              "      <td>5.0</td>\n",
              "    </tr>\n",
              "    <tr>\n",
              "      <th>2</th>\n",
              "      <td>0.578198</td>\n",
              "      <td>0.476727</td>\n",
              "      <td>0.469617</td>\n",
              "      <td>0.326489</td>\n",
              "      <td>0.440708</td>\n",
              "      <td>0.536546</td>\n",
              "      <td>0.455903</td>\n",
              "      <td>5.0</td>\n",
              "      <td>5.0</td>\n",
              "    </tr>\n",
              "    <tr>\n",
              "      <th>3</th>\n",
              "      <td>0.936393</td>\n",
              "      <td>0.931265</td>\n",
              "      <td>1.024325</td>\n",
              "      <td>0.781154</td>\n",
              "      <td>0.923411</td>\n",
              "      <td>1.006022</td>\n",
              "      <td>1.003309</td>\n",
              "      <td>5.0</td>\n",
              "      <td>5.0</td>\n",
              "    </tr>\n",
              "    <tr>\n",
              "      <th>4</th>\n",
              "      <td>0.762022</td>\n",
              "      <td>0.556835</td>\n",
              "      <td>0.635806</td>\n",
              "      <td>0.588073</td>\n",
              "      <td>0.643344</td>\n",
              "      <td>0.681103</td>\n",
              "      <td>0.616077</td>\n",
              "      <td>5.0</td>\n",
              "      <td>5.0</td>\n",
              "    </tr>\n",
              "    <tr>\n",
              "      <th>...</th>\n",
              "      <td>...</td>\n",
              "      <td>...</td>\n",
              "      <td>...</td>\n",
              "      <td>...</td>\n",
              "      <td>...</td>\n",
              "      <td>...</td>\n",
              "      <td>...</td>\n",
              "      <td>...</td>\n",
              "      <td>...</td>\n",
              "    </tr>\n",
              "    <tr>\n",
              "      <th>86650</th>\n",
              "      <td>0.395856</td>\n",
              "      <td>0.337780</td>\n",
              "      <td>0.471598</td>\n",
              "      <td>0.415259</td>\n",
              "      <td>5.000000</td>\n",
              "      <td>5.000000</td>\n",
              "      <td>5.000000</td>\n",
              "      <td>5.0</td>\n",
              "      <td>5.0</td>\n",
              "    </tr>\n",
              "    <tr>\n",
              "      <th>86651</th>\n",
              "      <td>0.862949</td>\n",
              "      <td>0.788391</td>\n",
              "      <td>0.934276</td>\n",
              "      <td>0.920594</td>\n",
              "      <td>5.000000</td>\n",
              "      <td>5.000000</td>\n",
              "      <td>5.000000</td>\n",
              "      <td>5.0</td>\n",
              "      <td>5.0</td>\n",
              "    </tr>\n",
              "    <tr>\n",
              "      <th>86652</th>\n",
              "      <td>0.502594</td>\n",
              "      <td>0.490041</td>\n",
              "      <td>0.584356</td>\n",
              "      <td>0.552701</td>\n",
              "      <td>5.000000</td>\n",
              "      <td>5.000000</td>\n",
              "      <td>5.000000</td>\n",
              "      <td>5.0</td>\n",
              "      <td>5.0</td>\n",
              "    </tr>\n",
              "    <tr>\n",
              "      <th>86653</th>\n",
              "      <td>0.389310</td>\n",
              "      <td>0.348517</td>\n",
              "      <td>0.424135</td>\n",
              "      <td>0.368030</td>\n",
              "      <td>5.000000</td>\n",
              "      <td>5.000000</td>\n",
              "      <td>5.000000</td>\n",
              "      <td>5.0</td>\n",
              "      <td>5.0</td>\n",
              "    </tr>\n",
              "    <tr>\n",
              "      <th>86654</th>\n",
              "      <td>0.677444</td>\n",
              "      <td>0.708994</td>\n",
              "      <td>0.696106</td>\n",
              "      <td>0.697186</td>\n",
              "      <td>5.000000</td>\n",
              "      <td>5.000000</td>\n",
              "      <td>5.000000</td>\n",
              "      <td>5.0</td>\n",
              "      <td>5.0</td>\n",
              "    </tr>\n",
              "  </tbody>\n",
              "</table>\n",
              "<p>86655 rows × 9 columns</p>\n",
              "</div>"
            ],
            "text/plain": [
              "          cos_0     cos_1     cos_2     cos_3  ...     cos_5     cos_6  cos_7  cos_8\n",
              "0      0.515035  0.560616  0.491694  0.539840  ...  0.388284  0.515897    5.0    5.0\n",
              "1      0.593893  0.479187  0.430129  0.477835  ...  0.540927  0.451481    5.0    5.0\n",
              "2      0.578198  0.476727  0.469617  0.326489  ...  0.536546  0.455903    5.0    5.0\n",
              "3      0.936393  0.931265  1.024325  0.781154  ...  1.006022  1.003309    5.0    5.0\n",
              "4      0.762022  0.556835  0.635806  0.588073  ...  0.681103  0.616077    5.0    5.0\n",
              "...         ...       ...       ...       ...  ...       ...       ...    ...    ...\n",
              "86650  0.395856  0.337780  0.471598  0.415259  ...  5.000000  5.000000    5.0    5.0\n",
              "86651  0.862949  0.788391  0.934276  0.920594  ...  5.000000  5.000000    5.0    5.0\n",
              "86652  0.502594  0.490041  0.584356  0.552701  ...  5.000000  5.000000    5.0    5.0\n",
              "86653  0.389310  0.348517  0.424135  0.368030  ...  5.000000  5.000000    5.0    5.0\n",
              "86654  0.677444  0.708994  0.696106  0.697186  ...  5.000000  5.000000    5.0    5.0\n",
              "\n",
              "[86655 rows x 9 columns]"
            ]
          },
          "metadata": {
            "tags": []
          },
          "execution_count": 7
        }
      ]
    },
    {
      "cell_type": "markdown",
      "metadata": {
        "id": "2n2viAxUh9IP",
        "colab_type": "text"
      },
      "source": [
        "Pegamos todos los datos para formar la matriz de features"
      ]
    },
    {
      "cell_type": "code",
      "metadata": {
        "id": "8I6sJ-LEPScQ",
        "colab_type": "code",
        "colab": {}
      },
      "source": [
        "mat=pd.concat([root_ohe,df_cos,df_euclid],ignore_index=True,axis=1)"
      ],
      "execution_count": 0,
      "outputs": []
    },
    {
      "cell_type": "code",
      "metadata": {
        "id": "CFUdeY8fPSk6",
        "colab_type": "code",
        "outputId": "54c4c41a-907e-468f-99b2-3ad8c170de75",
        "colab": {
          "base_uri": "https://localhost:8080/",
          "height": 34
        }
      },
      "source": [
        "mat=mat.to_numpy()\n",
        "mat.shape"
      ],
      "execution_count": 0,
      "outputs": [
        {
          "output_type": "execute_result",
          "data": {
            "text/plain": [
              "(86655, 27)"
            ]
          },
          "metadata": {
            "tags": []
          },
          "execution_count": 9
        }
      ]
    },
    {
      "cell_type": "markdown",
      "metadata": {
        "id": "519md7TrlqVu",
        "colab_type": "text"
      },
      "source": [
        "Variable target"
      ]
    },
    {
      "cell_type": "code",
      "metadata": {
        "id": "rTUTqAaIlpUG",
        "colab_type": "code",
        "outputId": "e58fcb56-16d1-49f6-bdb9-964ee2dc25f5",
        "colab": {
          "base_uri": "https://localhost:8080/",
          "height": 34
        }
      },
      "source": [
        "y=train[\"target\"].to_numpy()\n",
        "len(y)"
      ],
      "execution_count": 0,
      "outputs": [
        {
          "output_type": "execute_result",
          "data": {
            "text/plain": [
              "86655"
            ]
          },
          "metadata": {
            "tags": []
          },
          "execution_count": 10
        }
      ]
    },
    {
      "cell_type": "code",
      "metadata": {
        "id": "CovuYhEUA71L",
        "colab_type": "code",
        "colab": {}
      },
      "source": [
        "#noramlizamos variables\n",
        "from sklearn.preprocessing import MinMaxScaler\n",
        "scaler=MinMaxScaler()\n",
        "mat=scaler.fit_transform(mat)"
      ],
      "execution_count": 0,
      "outputs": []
    },
    {
      "cell_type": "markdown",
      "metadata": {
        "id": "9hIvTnsEj1qv",
        "colab_type": "text"
      },
      "source": [
        "Division de train y test"
      ]
    },
    {
      "cell_type": "code",
      "metadata": {
        "id": "y2rVag0AHjvZ",
        "colab_type": "code",
        "colab": {}
      },
      "source": [
        "from sklearn.model_selection import train_test_split\n",
        "\n",
        "x_train, x_test ,y_train, y_test =train_test_split(mat,y,test_size=0.8)"
      ],
      "execution_count": 0,
      "outputs": []
    },
    {
      "cell_type": "markdown",
      "metadata": {
        "id": "A-W4iQqHmB6D",
        "colab_type": "text"
      },
      "source": [
        "### 4.4 Modelos"
      ]
    },
    {
      "cell_type": "code",
      "metadata": {
        "id": "b5S2xW49dVMI",
        "colab_type": "code",
        "outputId": "281b15a7-5835-4d16-a90f-99a5010f7f86",
        "colab": {
          "base_uri": "https://localhost:8080/",
          "height": 34
        }
      },
      "source": [
        "from sklearn.ensemble import RandomForestClassifier\n",
        "\n",
        "clf = RandomForestClassifier(max_depth=100, criterion='gini', n_estimators=100)\n",
        "clf.fit(x_train, y_train)\n",
        "clf.score(x_test, y_test)\n",
        "#clf.predict(x_test)"
      ],
      "execution_count": 0,
      "outputs": [
        {
          "output_type": "execute_result",
          "data": {
            "text/plain": [
              "0.6092118169753621"
            ]
          },
          "metadata": {
            "tags": []
          },
          "execution_count": 13
        }
      ]
    },
    {
      "cell_type": "code",
      "metadata": {
        "id": "PAG-GB0Momuc",
        "colab_type": "code",
        "colab": {}
      },
      "source": [
        "from sklearn.metrics import roc_curve, auc, confusion_matrix\n",
        "from sklearn.model_selection import cross_validate, train_test_split, GridSearchCV, ParameterGrid\n",
        "from sklearn.ensemble import RandomForestClassifier, GradientBoostingClassifier, AdaBoostClassifier\n",
        "from sklearn.tree import DecisionTreeClassifier\n",
        "from sklearn.metrics import *\n",
        "from sklearn import preprocessing, svm, metrics, tree, decomposition"
      ],
      "execution_count": 0,
      "outputs": []
    },
    {
      "cell_type": "code",
      "metadata": {
        "id": "ehCO__gMn_f-",
        "colab_type": "code",
        "colab": {}
      },
      "source": [
        "def define_hyper_params():\n",
        "    \"\"\"\n",
        "    Esta función define el parameter grid para los \n",
        "    distintos clasificadores.\n",
        "    \"\"\"\n",
        "    classifiers = {\n",
        "        'RF': RandomForestClassifier(n_estimators=50, n_jobs=-1),\n",
        "        'DT': DecisionTreeClassifier(),\n",
        "        'GB': GradientBoostingClassifier(learning_rate=0.05, subsample=0.5, max_depth=6, n_estimators=10),\n",
        "        'AB': AdaBoostClassifier(DecisionTreeClassifier(max_depth=1), algorithm=\"SAMME\", n_estimators=200)\n",
        "            }\n",
        "    \n",
        "    #Aqui definimos los parametros que queremos checar en el magic loop\n",
        "    grid = {\n",
        "        'RF':{'n_estimators': [10,100], 'max_depth': [10,50], 'max_features': ['sqrt','log2'],'min_samples_split': [5,10], 'n_jobs':[-1]},\n",
        "        'DT': {'criterion': ['gini', 'entropy'], 'max_depth': [10,50], 'max_features': [None],'min_samples_split': [5,10]},\n",
        "        'GB': {'n_estimators': [10,100], 'learning_rate' : [0.1,0.5],'subsample' : [0.1,1], 'max_depth': [5,10]},\n",
        "        'AB': { 'algorithm': ['SAMME', 'SAMME.R'], 'n_estimators': [1]}\n",
        "            }\n",
        "    return classifiers, grid"
      ],
      "execution_count": 0,
      "outputs": []
    },
    {
      "cell_type": "code",
      "metadata": {
        "id": "PE0N_0svoV0W",
        "colab_type": "code",
        "colab": {}
      },
      "source": [
        "def magic_loop_GS(models_to_run, clfs, grid, X, y):\n",
        "    \n",
        "    #crea df para ir guardando las calificaciones del modelo y el parametro\n",
        "    d={'modelo':[\"\"],\"params\":[\"\"],\"f1\":[0]}\n",
        "    model_hyperparmeter=pd.DataFrame(data=d)\n",
        "    \n",
        "    X_train, X_test, y_train, y_test = train_test_split(X, y)\n",
        "    for index, clf in enumerate([clfs[x] for x in models_to_run]):\n",
        "        hyper_param_grid = grid[models_to_run[index]]\n",
        "           \n",
        "        grid_search = GridSearchCV(clf, \n",
        "                           hyper_param_grid, \n",
        "                           scoring = 'accuracy',\n",
        "                           cv = 5, \n",
        "                           n_jobs = -1,\n",
        "                           verbose = 5)\n",
        "        \n",
        "        grid_search.fit(X, y)\n",
        "        \n",
        "        #de los valores posibles que pusimos en el grid, cuáles fueron los mejores\n",
        "        best_param=[grid_search.best_params_]\n",
        "\n",
        "        #mejor score asociado a los modelos generados con los diferentes hiperparametros\n",
        "        #corresponde al promedio de los scores generados con los cv\n",
        "        best_score=grid_search.best_score_\n",
        "\n",
        "        d={'modelo':models_to_run[index],\"params\":best_param,\"f1\":best_score}\n",
        "        model_new=pd.DataFrame(data=d)\n",
        "        model_hyperparmeter=model_hyperparmeter.append(model_new,ignore_index=True)\n",
        "        \n",
        "        #print(\"clf\",clf)\n",
        "        #print(\"best para,\",best_param)\n",
        "        #print(\"best score,\",best_score)\n",
        " \n",
        "\n",
        "    model_hyperparmeter=model_hyperparmeter.drop(model_hyperparmeter.index[0])               \n",
        "    return model_hyperparmeter"
      ],
      "execution_count": 0,
      "outputs": []
    },
    {
      "cell_type": "code",
      "metadata": {
        "id": "WdfkIwKqoZjX",
        "colab_type": "code",
        "outputId": "ce719a52-b86d-4e1a-8ed6-07774e383aac",
        "colab": {
          "base_uri": "https://localhost:8080/",
          "height": 248
        }
      },
      "source": [
        "import time\n",
        "models_to_run = ['RF']#, 'GB', 'AB']\n",
        "clfs, grid = define_hyper_params()\n",
        "\n",
        "start = time.time()\n",
        "hyperparameters=magic_loop_GS(models_to_run, clfs, grid, mat, y)\n",
        "end = time.time()\n",
        "tiempo_trans = end - start\n",
        "\n",
        "# En el arreglo tenemos el mejor score para cada metodo\n",
        "hyperparameters"
      ],
      "execution_count": 0,
      "outputs": [
        {
          "output_type": "stream",
          "text": [
            "Fitting 5 folds for each of 16 candidates, totalling 80 fits\n"
          ],
          "name": "stdout"
        },
        {
          "output_type": "stream",
          "text": [
            "/usr/local/lib/python3.6/dist-packages/sklearn/model_selection/_split.py:667: UserWarning: The least populated class in y has only 1 members, which is less than n_splits=5.\n",
            "  % (min_groups, self.n_splits)), UserWarning)\n",
            "[Parallel(n_jobs=-1)]: Using backend LokyBackend with 2 concurrent workers.\n",
            "[Parallel(n_jobs=-1)]: Done  14 tasks      | elapsed:  1.3min\n",
            "/usr/local/lib/python3.6/dist-packages/joblib/externals/loky/process_executor.py:691: UserWarning: A worker stopped while some jobs were given to the executor. This can be caused by a too short worker timeout or by a memory leak.\n",
            "  \"timeout or by a memory leak.\", UserWarning\n",
            "[Parallel(n_jobs=-1)]: Done  68 tasks      | elapsed: 11.0min\n",
            "[Parallel(n_jobs=-1)]: Done  80 out of  80 | elapsed: 13.4min finished\n"
          ],
          "name": "stderr"
        },
        {
          "output_type": "execute_result",
          "data": {
            "text/html": [
              "<div>\n",
              "<style scoped>\n",
              "    .dataframe tbody tr th:only-of-type {\n",
              "        vertical-align: middle;\n",
              "    }\n",
              "\n",
              "    .dataframe tbody tr th {\n",
              "        vertical-align: top;\n",
              "    }\n",
              "\n",
              "    .dataframe thead th {\n",
              "        text-align: right;\n",
              "    }\n",
              "</style>\n",
              "<table border=\"1\" class=\"dataframe\">\n",
              "  <thead>\n",
              "    <tr style=\"text-align: right;\">\n",
              "      <th></th>\n",
              "      <th>modelo</th>\n",
              "      <th>params</th>\n",
              "      <th>f1</th>\n",
              "    </tr>\n",
              "  </thead>\n",
              "  <tbody>\n",
              "    <tr>\n",
              "      <th>1</th>\n",
              "      <td>RF</td>\n",
              "      <td>{'max_depth': 50, 'max_features': 'sqrt', 'min...</td>\n",
              "      <td>0.628285</td>\n",
              "    </tr>\n",
              "  </tbody>\n",
              "</table>\n",
              "</div>"
            ],
            "text/plain": [
              "  modelo                                             params        f1\n",
              "1     RF  {'max_depth': 50, 'max_features': 'sqrt', 'min...  0.628285"
            ]
          },
          "metadata": {
            "tags": []
          },
          "execution_count": 18
        }
      ]
    },
    {
      "cell_type": "code",
      "metadata": {
        "id": "b_ds3nOJ_B70",
        "colab_type": "code",
        "outputId": "8ad35153-2035-4eff-c864-7238d2ca0f9a",
        "colab": {
          "base_uri": "https://localhost:8080/",
          "height": 198
        }
      },
      "source": [
        "import time\n",
        "models_to_run = ['AB']#, 'GB', 'AB']\n",
        "clfs, grid = define_hyper_params()\n",
        "\n",
        "start = time.time()\n",
        "hyperparameters=magic_loop_GS(models_to_run, clfs, grid, mat, y)\n",
        "end = time.time()\n",
        "tiempo_trans = end - start\n",
        "\n",
        "# En el arreglo tenemos el mejor score para cada metodo\n",
        "hyperparameters"
      ],
      "execution_count": 0,
      "outputs": [
        {
          "output_type": "stream",
          "text": [
            "Fitting 5 folds for each of 2 candidates, totalling 10 fits\n"
          ],
          "name": "stdout"
        },
        {
          "output_type": "stream",
          "text": [
            "/usr/local/lib/python3.6/dist-packages/sklearn/model_selection/_split.py:667: UserWarning: The least populated class in y has only 1 members, which is less than n_splits=5.\n",
            "  % (min_groups, self.n_splits)), UserWarning)\n",
            "[Parallel(n_jobs=-1)]: Using backend LokyBackend with 2 concurrent workers.\n",
            "[Parallel(n_jobs=-1)]: Done  10 out of  10 | elapsed:    3.0s remaining:    0.0s\n",
            "[Parallel(n_jobs=-1)]: Done  10 out of  10 | elapsed:    3.0s finished\n"
          ],
          "name": "stderr"
        },
        {
          "output_type": "execute_result",
          "data": {
            "text/html": [
              "<div>\n",
              "<style scoped>\n",
              "    .dataframe tbody tr th:only-of-type {\n",
              "        vertical-align: middle;\n",
              "    }\n",
              "\n",
              "    .dataframe tbody tr th {\n",
              "        vertical-align: top;\n",
              "    }\n",
              "\n",
              "    .dataframe thead th {\n",
              "        text-align: right;\n",
              "    }\n",
              "</style>\n",
              "<table border=\"1\" class=\"dataframe\">\n",
              "  <thead>\n",
              "    <tr style=\"text-align: right;\">\n",
              "      <th></th>\n",
              "      <th>modelo</th>\n",
              "      <th>params</th>\n",
              "      <th>f1</th>\n",
              "    </tr>\n",
              "  </thead>\n",
              "  <tbody>\n",
              "    <tr>\n",
              "      <th>1</th>\n",
              "      <td>AB</td>\n",
              "      <td>{'algorithm': 'SAMME', 'n_estimators': 1}</td>\n",
              "      <td>0.337084</td>\n",
              "    </tr>\n",
              "  </tbody>\n",
              "</table>\n",
              "</div>"
            ],
            "text/plain": [
              "  modelo                                     params        f1\n",
              "1     AB  {'algorithm': 'SAMME', 'n_estimators': 1}  0.337084"
            ]
          },
          "metadata": {
            "tags": []
          },
          "execution_count": 20
        }
      ]
    },
    {
      "cell_type": "code",
      "metadata": {
        "id": "o27O3JREFkCX",
        "colab_type": "code",
        "outputId": "08da205e-b62e-4b4f-b3a2-a214847f9a6f",
        "colab": {
          "base_uri": "https://localhost:8080/",
          "height": 198
        }
      },
      "source": [
        "import time\n",
        "models_to_run = ['DT']#, 'GB', 'AB']\n",
        "clfs, grid = define_hyper_params()\n",
        "\n",
        "start = time.time()\n",
        "hyperparameters=magic_loop_GS(models_to_run, clfs, grid, mat, y)\n",
        "end = time.time()\n",
        "tiempo_trans = end - start\n",
        "\n",
        "#en el arreglo tenemos el mejor score para cada metodo\n",
        "hyperparameters"
      ],
      "execution_count": 0,
      "outputs": [
        {
          "output_type": "stream",
          "text": [
            "Fitting 5 folds for each of 8 candidates, totalling 40 fits\n"
          ],
          "name": "stdout"
        },
        {
          "output_type": "stream",
          "text": [
            "/usr/local/lib/python3.6/dist-packages/sklearn/model_selection/_split.py:667: UserWarning: The least populated class in y has only 1 members, which is less than n_splits=5.\n",
            "  % (min_groups, self.n_splits)), UserWarning)\n",
            "[Parallel(n_jobs=-1)]: Using backend LokyBackend with 2 concurrent workers.\n",
            "[Parallel(n_jobs=-1)]: Done  14 tasks      | elapsed:   17.7s\n",
            "[Parallel(n_jobs=-1)]: Done  40 out of  40 | elapsed:  1.9min finished\n"
          ],
          "name": "stderr"
        },
        {
          "output_type": "execute_result",
          "data": {
            "text/html": [
              "<div>\n",
              "<style scoped>\n",
              "    .dataframe tbody tr th:only-of-type {\n",
              "        vertical-align: middle;\n",
              "    }\n",
              "\n",
              "    .dataframe tbody tr th {\n",
              "        vertical-align: top;\n",
              "    }\n",
              "\n",
              "    .dataframe thead th {\n",
              "        text-align: right;\n",
              "    }\n",
              "</style>\n",
              "<table border=\"1\" class=\"dataframe\">\n",
              "  <thead>\n",
              "    <tr style=\"text-align: right;\">\n",
              "      <th></th>\n",
              "      <th>modelo</th>\n",
              "      <th>params</th>\n",
              "      <th>f1</th>\n",
              "    </tr>\n",
              "  </thead>\n",
              "  <tbody>\n",
              "    <tr>\n",
              "      <th>1</th>\n",
              "      <td>DT</td>\n",
              "      <td>{'criterion': 'gini', 'max_depth': 10, 'max_fe...</td>\n",
              "      <td>0.524101</td>\n",
              "    </tr>\n",
              "  </tbody>\n",
              "</table>\n",
              "</div>"
            ],
            "text/plain": [
              "  modelo                                             params        f1\n",
              "1     DT  {'criterion': 'gini', 'max_depth': 10, 'max_fe...  0.524101"
            ]
          },
          "metadata": {
            "tags": []
          },
          "execution_count": 21
        }
      ]
    }
  ]
}
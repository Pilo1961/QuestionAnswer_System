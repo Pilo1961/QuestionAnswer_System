{
  "nbformat": 4,
  "nbformat_minor": 0,
  "metadata": {
    "colab": {
      "name": "SentenceEncoder.ipynb",
      "provenance": [],
      "authorship_tag": "ABX9TyMphdpeDZPrbVnxMwcS8OMk",
      "include_colab_link": true
    },
    "kernelspec": {
      "name": "python3",
      "display_name": "Python 3"
    },
    "accelerator": "GPU"
  },
  "cells": [
    {
      "cell_type": "markdown",
      "metadata": {
        "id": "view-in-github",
        "colab_type": "text"
      },
      "source": [
        "<a href=\"https://colab.research.google.com/github/Pilo1961/QuestionAnswer_System/blob/master/code/SentenceEncoder.ipynb\" target=\"_parent\"><img src=\"https://colab.research.google.com/assets/colab-badge.svg\" alt=\"Open In Colab\"/></a>"
      ]
    },
    {
      "cell_type": "markdown",
      "metadata": {
        "id": "9PFXHHxecVmj",
        "colab_type": "text"
      },
      "source": [
        "# Notebook setup"
      ]
    },
    {
      "cell_type": "code",
      "metadata": {
        "id": "YKgXtNpMcWYj",
        "colab_type": "code",
        "colab": {
          "base_uri": "https://localhost:8080/",
          "height": 50
        },
        "outputId": "c7c6234b-ed8c-4330-c6fd-c3b048acc6c1"
      },
      "source": [
        "import numpy as np\n",
        "import pandas as pd\n",
        "import json\n",
        "from random import randint\n",
        "import torch\n",
        "import pickle\n",
        "\n",
        "%load_ext autoreload\n",
        "%autoreload 2\n",
        "%matplotlib inline"
      ],
      "execution_count": 93,
      "outputs": [
        {
          "output_type": "stream",
          "text": [
            "The autoreload extension is already loaded. To reload it, use:\n",
            "  %reload_ext autoreload\n"
          ],
          "name": "stdout"
        }
      ]
    },
    {
      "cell_type": "code",
      "metadata": {
        "id": "xpWyef32ekX6",
        "colab_type": "code",
        "colab": {
          "base_uri": "https://localhost:8080/",
          "height": 34
        },
        "outputId": "5082a1e0-4926-46d0-98f5-0cc438a1dcb2"
      },
      "source": [
        "#usa cuda si esta disponible\n",
        "cuda=torch.cuda.is_available()\n",
        "use_cuda = cuda\n",
        "print(\"Use cuda: \",cuda)"
      ],
      "execution_count": 94,
      "outputs": [
        {
          "output_type": "stream",
          "text": [
            "Use cuda:  True\n"
          ],
          "name": "stdout"
        }
      ]
    },
    {
      "cell_type": "code",
      "metadata": {
        "id": "K-2f84cBcbgp",
        "colab_type": "code",
        "colab": {
          "base_uri": "https://localhost:8080/",
          "height": 54
        },
        "outputId": "0f49b515-a829-4922-d9c2-2df81789f29f"
      },
      "source": [
        "# mount drive to google drive\n",
        "from google.colab import drive\n",
        "drive.mount('/content/drive')"
      ],
      "execution_count": 95,
      "outputs": [
        {
          "output_type": "stream",
          "text": [
            "Drive already mounted at /content/drive; to attempt to forcibly remount, call drive.mount(\"/content/drive\", force_remount=True).\n"
          ],
          "name": "stdout"
        }
      ]
    },
    {
      "cell_type": "markdown",
      "metadata": {
        "id": "F34FcKKrc7yN",
        "colab_type": "text"
      },
      "source": [
        "## Leer dataset"
      ]
    },
    {
      "cell_type": "code",
      "metadata": {
        "id": "2Q__x_ikdKXG",
        "colab_type": "code",
        "colab": {}
      },
      "source": [
        "#load data from pickle\n",
        "path= \"/content/drive/My Drive/QA/df_train.pkl\"\n",
        "with open(path, \"rb\") as p:\n",
        "    df = pickle.load(p)\n",
        "\n",
        "df.rename(columns={'paragraph.context':'context','paragraph.qas.question':'question','paragraph.qas.id':'id'},inplace=True)"
      ],
      "execution_count": 0,
      "outputs": []
    },
    {
      "cell_type": "code",
      "metadata": {
        "id": "Ei6niZsVWFgu",
        "colab_type": "code",
        "outputId": "c9e8bd89-407f-4f8d-e178-14cda64d970f",
        "colab": {
          "base_uri": "https://localhost:8080/",
          "height": 652
        }
      },
      "source": [
        "print(df.shape)\n",
        "df.head()"
      ],
      "execution_count": 97,
      "outputs": [
        {
          "output_type": "stream",
          "text": [
            "(87636, 6)\n"
          ],
          "name": "stdout"
        },
        {
          "output_type": "execute_result",
          "data": {
            "text/html": [
              "<div>\n",
              "<style scoped>\n",
              "    .dataframe tbody tr th:only-of-type {\n",
              "        vertical-align: middle;\n",
              "    }\n",
              "\n",
              "    .dataframe tbody tr th {\n",
              "        vertical-align: top;\n",
              "    }\n",
              "\n",
              "    .dataframe thead th {\n",
              "        text-align: right;\n",
              "    }\n",
              "</style>\n",
              "<table border=\"1\" class=\"dataframe\">\n",
              "  <thead>\n",
              "    <tr style=\"text-align: right;\">\n",
              "      <th></th>\n",
              "      <th>answer_start</th>\n",
              "      <th>text</th>\n",
              "      <th>title</th>\n",
              "      <th>context</th>\n",
              "      <th>question</th>\n",
              "      <th>id</th>\n",
              "    </tr>\n",
              "  </thead>\n",
              "  <tbody>\n",
              "    <tr>\n",
              "      <th>0</th>\n",
              "      <td>515</td>\n",
              "      <td>Saint Bernadette Soubirous</td>\n",
              "      <td>University_of_Notre_Dame</td>\n",
              "      <td>Architecturally, the school has a Catholic cha...</td>\n",
              "      <td>To whom did the Virgin Mary allegedly appear i...</td>\n",
              "      <td>5733be284776f41900661182</td>\n",
              "    </tr>\n",
              "    <tr>\n",
              "      <th>1</th>\n",
              "      <td>187</td>\n",
              "      <td>a copper statue of Christ</td>\n",
              "      <td>University_of_Notre_Dame</td>\n",
              "      <td>Architecturally, the school has a Catholic cha...</td>\n",
              "      <td>What is in front of the Notre Dame Main Building?</td>\n",
              "      <td>5733be284776f4190066117f</td>\n",
              "    </tr>\n",
              "    <tr>\n",
              "      <th>2</th>\n",
              "      <td>279</td>\n",
              "      <td>the Main Building</td>\n",
              "      <td>University_of_Notre_Dame</td>\n",
              "      <td>Architecturally, the school has a Catholic cha...</td>\n",
              "      <td>The Basilica of the Sacred heart at Notre Dame...</td>\n",
              "      <td>5733be284776f41900661180</td>\n",
              "    </tr>\n",
              "    <tr>\n",
              "      <th>3</th>\n",
              "      <td>381</td>\n",
              "      <td>a Marian place of prayer and reflection</td>\n",
              "      <td>University_of_Notre_Dame</td>\n",
              "      <td>Architecturally, the school has a Catholic cha...</td>\n",
              "      <td>What is the Grotto at Notre Dame?</td>\n",
              "      <td>5733be284776f41900661181</td>\n",
              "    </tr>\n",
              "    <tr>\n",
              "      <th>4</th>\n",
              "      <td>92</td>\n",
              "      <td>a golden statue of the Virgin Mary</td>\n",
              "      <td>University_of_Notre_Dame</td>\n",
              "      <td>Architecturally, the school has a Catholic cha...</td>\n",
              "      <td>What sits on top of the Main Building at Notre...</td>\n",
              "      <td>5733be284776f4190066117e</td>\n",
              "    </tr>\n",
              "  </tbody>\n",
              "</table>\n",
              "</div>"
            ],
            "text/plain": [
              "   answer_start  ...                        id\n",
              "0           515  ...  5733be284776f41900661182\n",
              "1           187  ...  5733be284776f4190066117f\n",
              "2           279  ...  5733be284776f41900661180\n",
              "3           381  ...  5733be284776f41900661181\n",
              "4            92  ...  5733be284776f4190066117e\n",
              "\n",
              "[5 rows x 6 columns]"
            ]
          },
          "metadata": {
            "tags": []
          },
          "execution_count": 97
        }
      ]
    },
    {
      "cell_type": "code",
      "metadata": {
        "id": "Dmd3ryNmihDs",
        "colab_type": "code",
        "colab": {}
      },
      "source": [
        "#load data from pickle\n",
        "path= \"/content/drive/My Drive/QA/df_test.pkl\"\n",
        "with open(path, \"rb\") as p:\n",
        "    df_test = pickle.load(p)\n",
        "\n",
        "df_test.rename(columns={'paragraph.context':'context','paragraph.qas.question':'question','paragraph.qas.id':'id'},inplace=True)"
      ],
      "execution_count": 0,
      "outputs": []
    },
    {
      "cell_type": "code",
      "metadata": {
        "id": "pvnAHMwJihQ7",
        "colab_type": "code",
        "colab": {
          "base_uri": "https://localhost:8080/",
          "height": 719
        },
        "outputId": "5d079b8f-40e6-4ade-8112-538b605969ff"
      },
      "source": [
        "df_test.head()"
      ],
      "execution_count": 99,
      "outputs": [
        {
          "output_type": "execute_result",
          "data": {
            "text/html": [
              "<div>\n",
              "<style scoped>\n",
              "    .dataframe tbody tr th:only-of-type {\n",
              "        vertical-align: middle;\n",
              "    }\n",
              "\n",
              "    .dataframe tbody tr th {\n",
              "        vertical-align: top;\n",
              "    }\n",
              "\n",
              "    .dataframe thead th {\n",
              "        text-align: right;\n",
              "    }\n",
              "</style>\n",
              "<table border=\"1\" class=\"dataframe\">\n",
              "  <thead>\n",
              "    <tr style=\"text-align: right;\">\n",
              "      <th></th>\n",
              "      <th>answer_start</th>\n",
              "      <th>text</th>\n",
              "      <th>title</th>\n",
              "      <th>context</th>\n",
              "      <th>question</th>\n",
              "      <th>id</th>\n",
              "    </tr>\n",
              "  </thead>\n",
              "  <tbody>\n",
              "    <tr>\n",
              "      <th>0</th>\n",
              "      <td>176</td>\n",
              "      <td>Denver Broncos</td>\n",
              "      <td>Super_Bowl_50</td>\n",
              "      <td>Super Bowl 50 was an American football game to...</td>\n",
              "      <td>Which NFL team represented the AFC at Super Bo...</td>\n",
              "      <td>56be4db0acb8001400a502ec</td>\n",
              "    </tr>\n",
              "    <tr>\n",
              "      <th>1</th>\n",
              "      <td>177</td>\n",
              "      <td>Denver Broncos</td>\n",
              "      <td>Super_Bowl_50</td>\n",
              "      <td>Super Bowl 50 was an American football game to...</td>\n",
              "      <td>Which NFL team represented the AFC at Super Bo...</td>\n",
              "      <td>56be4db0acb8001400a502ec</td>\n",
              "    </tr>\n",
              "    <tr>\n",
              "      <th>2</th>\n",
              "      <td>177</td>\n",
              "      <td>Denver Broncos</td>\n",
              "      <td>Super_Bowl_50</td>\n",
              "      <td>Super Bowl 50 was an American football game to...</td>\n",
              "      <td>Which NFL team represented the AFC at Super Bo...</td>\n",
              "      <td>56be4db0acb8001400a502ec</td>\n",
              "    </tr>\n",
              "    <tr>\n",
              "      <th>3</th>\n",
              "      <td>248</td>\n",
              "      <td>Carolina Panthers</td>\n",
              "      <td>Super_Bowl_50</td>\n",
              "      <td>Super Bowl 50 was an American football game to...</td>\n",
              "      <td>Which NFL team represented the NFC at Super Bo...</td>\n",
              "      <td>56be4db0acb8001400a502ed</td>\n",
              "    </tr>\n",
              "    <tr>\n",
              "      <th>4</th>\n",
              "      <td>249</td>\n",
              "      <td>Carolina Panthers</td>\n",
              "      <td>Super_Bowl_50</td>\n",
              "      <td>Super Bowl 50 was an American football game to...</td>\n",
              "      <td>Which NFL team represented the NFC at Super Bo...</td>\n",
              "      <td>56be4db0acb8001400a502ed</td>\n",
              "    </tr>\n",
              "  </tbody>\n",
              "</table>\n",
              "</div>"
            ],
            "text/plain": [
              "   answer_start  ...                        id\n",
              "0           176  ...  56be4db0acb8001400a502ec\n",
              "1           177  ...  56be4db0acb8001400a502ec\n",
              "2           177  ...  56be4db0acb8001400a502ec\n",
              "3           248  ...  56be4db0acb8001400a502ed\n",
              "4           249  ...  56be4db0acb8001400a502ed\n",
              "\n",
              "[5 rows x 6 columns]"
            ]
          },
          "metadata": {
            "tags": []
          },
          "execution_count": 99
        }
      ]
    },
    {
      "cell_type": "markdown",
      "metadata": {
        "id": "GWRrOo_QdCha",
        "colab_type": "text"
      },
      "source": [
        "## Infersent \n",
        "\n",
        "Usamos el embedding preentrenado de InferSent. El modelo se entreno con GLoVE"
      ]
    },
    {
      "cell_type": "code",
      "metadata": {
        "id": "q-IYAkjUWotB",
        "colab_type": "code",
        "outputId": "06590a65-3348-45b4-e5ba-1dd44efcdc34",
        "colab": {
          "base_uri": "https://localhost:8080/",
          "height": 34
        }
      },
      "source": [
        "#importa el modulo models de infersent\n",
        "import sys\n",
        "sys.path.append('/content/drive/My Drive/QA/')\n",
        "from models import InferSent\n",
        "\n",
        "model_version = 1\n",
        "MODEL_PATH = \"/content/drive/My Drive/QA/infersent%s.pkl\" % model_version\n",
        "params_model = {'bsize': 64, 'word_emb_dim': 300, 'enc_lstm_dim': 2048,\n",
        "                'pool_type': 'max', 'dpout_model': 0.0, 'version': model_version}\n",
        "model = InferSent(params_model)\n",
        "model.load_state_dict(torch.load(MODEL_PATH))"
      ],
      "execution_count": 100,
      "outputs": [
        {
          "output_type": "execute_result",
          "data": {
            "text/plain": [
              "<All keys matched successfully>"
            ]
          },
          "metadata": {
            "tags": []
          },
          "execution_count": 100
        }
      ]
    },
    {
      "cell_type": "code",
      "metadata": {
        "id": "rR2vYh3bfdH7",
        "colab_type": "code",
        "colab": {}
      },
      "source": [
        "# Keep it on CPU or put it on GPU\n",
        "model = model.cuda() if use_cuda else model"
      ],
      "execution_count": 0,
      "outputs": []
    },
    {
      "cell_type": "code",
      "metadata": {
        "id": "sKvpnUbqZREg",
        "colab_type": "code",
        "colab": {}
      },
      "source": [
        "# Importa el embedding word2Vec GLovE preentrnado\n",
        "W2V_PATH = '/content/drive/My Drive/QA/glove.840B.300d.txt' if model_version == 1 else 'fastText/crawl-300d-2M.vec'\n",
        "model.set_w2v_path(W2V_PATH)"
      ],
      "execution_count": 0,
      "outputs": []
    },
    {
      "cell_type": "markdown",
      "metadata": {
        "id": "wJZYXWkJxIZd",
        "colab_type": "text"
      },
      "source": [
        "### Embedding de contextos"
      ]
    },
    {
      "cell_type": "code",
      "metadata": {
        "id": "jrQ7wAzmi6rK",
        "colab_type": "code",
        "colab": {
          "base_uri": "https://localhost:8080/",
          "height": 50
        },
        "outputId": "72070d5f-3176-45f9-fb7e-fe0d67b0abb7"
      },
      "source": [
        "import nltk\n",
        "nltk.download('punkt')\n",
        "from nltk.tokenize import sent_tokenize, word_tokenize"
      ],
      "execution_count": 103,
      "outputs": [
        {
          "output_type": "stream",
          "text": [
            "[nltk_data] Downloading package punkt to /root/nltk_data...\n",
            "[nltk_data]   Package punkt is already up-to-date!\n"
          ],
          "name": "stdout"
        }
      ]
    },
    {
      "cell_type": "markdown",
      "metadata": {
        "id": "X_lcO6_kjiCu",
        "colab_type": "text"
      },
      "source": [
        "#### Datos de entrenamiento\n",
        "\n",
        "Tokenizamos los datos de entrenamiento"
      ]
    },
    {
      "cell_type": "code",
      "metadata": {
        "id": "3-eBXvIpgAbJ",
        "colab_type": "code",
        "colab": {}
      },
      "source": [
        "# Tokeniza datos test\n",
        "#Hace cada oracion un token\n",
        "#Convierte todo el texto a minusculas\n",
        "contextos=df['context'].unique()\n",
        "data=[]\n",
        "for cont in contextos: # para cada contexto\n",
        "  sample=cont\n",
        "  for sent in sent_tokenize(sample): #Extrae las oraciones\n",
        "    data.append(sent.lower())"
      ],
      "execution_count": 0,
      "outputs": []
    },
    {
      "cell_type": "code",
      "metadata": {
        "id": "5puw5DTSwEGE",
        "colab_type": "code",
        "outputId": "84fba6db-684c-4fa9-ec60-8b46cc7f3f40",
        "colab": {
          "base_uri": "https://localhost:8080/",
          "height": 138
        }
      },
      "source": [
        "#Hay 93576 oraciones en el train, cada una es un token en la lista data\n",
        "print(len(data))\n",
        "data[:5]"
      ],
      "execution_count": 105,
      "outputs": [
        {
          "output_type": "stream",
          "text": [
            "93576\n"
          ],
          "name": "stdout"
        },
        {
          "output_type": "execute_result",
          "data": {
            "text/plain": [
              "['architecturally, the school has a catholic character.',\n",
              " \"atop the main building's gold dome is a golden statue of the virgin mary.\",\n",
              " 'immediately in front of the main building and facing it, is a copper statue of christ with arms upraised with the legend \"venite ad me omnes\".',\n",
              " 'next to the main building is the basilica of the sacred heart.',\n",
              " 'immediately behind the basilica is the grotto, a marian place of prayer and reflection.']"
            ]
          },
          "metadata": {
            "tags": []
          },
          "execution_count": 105
        }
      ]
    },
    {
      "cell_type": "markdown",
      "metadata": {
        "id": "ih1twc-CkIHV",
        "colab_type": "text"
      },
      "source": [
        "#### Datos de prueba\n",
        "Tokenizamos los datos de prueba\n",
        "No usamos para calcular el vocabularion"
      ]
    },
    {
      "cell_type": "code",
      "metadata": {
        "id": "mxVYdWutjCHk",
        "colab_type": "code",
        "colab": {}
      },
      "source": [
        "# Tokeniza datos train\n",
        "#Hace cada oracion un token\n",
        "#Convierte todo el texto a minusculas\n",
        "contextos=df_test['context'].unique()\n",
        "data2=[]\n",
        "for cont in contextos: # para cada contexto\n",
        "  sample=cont\n",
        "  for sent in sent_tokenize(sample): #Extrae las oraciones\n",
        "    data2.append(sent.lower())"
      ],
      "execution_count": 0,
      "outputs": []
    },
    {
      "cell_type": "code",
      "metadata": {
        "id": "HcE3ZE9jjCMV",
        "colab_type": "code",
        "colab": {
          "base_uri": "https://localhost:8080/",
          "height": 138
        },
        "outputId": "3a3339fd-4fcb-418c-8aa8-5a70faafd793"
      },
      "source": [
        "#Hay 10458 oraciones en el test, cada una es un token en la lista data\n",
        "print(len(data2))\n",
        "data2[:5]"
      ],
      "execution_count": 107,
      "outputs": [
        {
          "output_type": "stream",
          "text": [
            "10458\n"
          ],
          "name": "stdout"
        },
        {
          "output_type": "execute_result",
          "data": {
            "text/plain": [
              "['super bowl 50 was an american football game to determine the champion of the national football league (nfl) for the 2015 season.',\n",
              " 'the american football conference (afc) champion denver broncos defeated the national football conference (nfc) champion carolina panthers 24–10 to earn their third super bowl title.',\n",
              " \"the game was played on february 7, 2016, at levi's stadium in the san francisco bay area at santa clara, california.\",\n",
              " 'as this was the 50th super bowl, the league emphasized the \"golden anniversary\" with various gold-themed initiatives, as well as temporarily suspending the tradition of naming each super bowl game with roman numerals (under which the game would have been known as \"super bowl l\"), so that the logo could prominently feature the arabic numerals 50.',\n",
              " 'the panthers finished the regular season with a 15–1 record, and quarterback cam newton was named the nfl most valuable player (mvp).']"
            ]
          },
          "metadata": {
            "tags": []
          },
          "execution_count": 107
        }
      ]
    },
    {
      "cell_type": "markdown",
      "metadata": {
        "id": "1f28PEMAkQO2",
        "colab_type": "text"
      },
      "source": [
        "#### Vocabulario \n",
        "Caluclamos el vocabulario solamente usando los datos de entrenamiento."
      ]
    },
    {
      "cell_type": "code",
      "metadata": {
        "id": "_hom5aE-Z-8A",
        "colab_type": "code",
        "outputId": "db6390f9-f0c0-4bc3-b79e-029b80f94bff",
        "colab": {
          "base_uri": "https://localhost:8080/",
          "height": 50
        }
      },
      "source": [
        "# Construimos el vocabulario con las palabras en las oraciones\n",
        "model.build_vocab(data,tokenize=False)"
      ],
      "execution_count": 108,
      "outputs": [
        {
          "output_type": "stream",
          "text": [
            "Found 59547(/168972) words with w2v vectors\n",
            "Vocab size : 59547\n"
          ],
          "name": "stdout"
        }
      ]
    },
    {
      "cell_type": "code",
      "metadata": {
        "id": "5pnDWEWJcMiL",
        "colab_type": "code",
        "outputId": "b512efcc-1c72-451f-e12d-197bbcca2402",
        "colab": {
          "base_uri": "https://localhost:8080/",
          "height": 67
        }
      },
      "source": [
        "#hacemos el encoding\n",
        "embeddings = model.encode(data, bsize=128, tokenize=True, verbose=True)\n",
        "print('nb sentences encoded : {0}'.format(len(embeddings)))"
      ],
      "execution_count": 109,
      "outputs": [
        {
          "output_type": "stream",
          "text": [
            "Nb words kept : 2628013/2722521 (96.5%)\n",
            "Speed : 1740.7 sentences/s (gpu mode, bsize=128)\n",
            "nb sentences encoded : 93576\n"
          ],
          "name": "stdout"
        }
      ]
    },
    {
      "cell_type": "code",
      "metadata": {
        "id": "Rl_Pd0vQngBS",
        "colab_type": "code",
        "outputId": "404be357-c0e0-46a4-865c-7d3b3b2d1e32",
        "colab": {
          "base_uri": "https://localhost:8080/",
          "height": 34
        }
      },
      "source": [
        "# dimensiones del embedding\n",
        "embeddings.shape"
      ],
      "execution_count": 110,
      "outputs": [
        {
          "output_type": "execute_result",
          "data": {
            "text/plain": [
              "(93576, 4096)"
            ]
          },
          "metadata": {
            "tags": []
          },
          "execution_count": 110
        }
      ]
    },
    {
      "cell_type": "code",
      "metadata": {
        "id": "K7CpgPzpunaI",
        "colab_type": "code",
        "colab": {}
      },
      "source": [
        "#diccionario con los embeddings\n",
        "dict_context_embedding=dict(zip(data,embeddings))"
      ],
      "execution_count": 0,
      "outputs": []
    },
    {
      "cell_type": "code",
      "metadata": {
        "id": "_stDSFVOzSMT",
        "colab_type": "code",
        "colab": {}
      },
      "source": [
        "import pickle\n",
        "with open(\"/content/drive/My Drive/QA/context_embedding.pickle\", 'wb') as handle:\n",
        "    pickle.dump(dict_context_embedding, handle)"
      ],
      "execution_count": 0,
      "outputs": []
    },
    {
      "cell_type": "markdown",
      "metadata": {
        "id": "SJRFodOJxlEj",
        "colab_type": "text"
      },
      "source": [
        "### Embedding de preguntas"
      ]
    },
    {
      "cell_type": "code",
      "metadata": {
        "id": "udovufEcw9kh",
        "colab_type": "code",
        "colab": {}
      },
      "source": [
        "questions=list(df['question'])\n",
        "q_tokens=[]\n",
        "for q in questions: # para ca\n",
        "  #qq=sent_tokenize(q) #Extrae las oraciones\n",
        "  q_tokens.append(sent_tokenize(q.lower()))"
      ],
      "execution_count": 0,
      "outputs": []
    },
    {
      "cell_type": "code",
      "metadata": {
        "id": "I6UwjqXOyEIy",
        "colab_type": "code",
        "outputId": "d0ca82ab-0609-4b54-8b33-74a9ecbbd99e",
        "colab": {
          "base_uri": "https://localhost:8080/",
          "height": 34
        }
      },
      "source": [
        "len(q_tokens)"
      ],
      "execution_count": 114,
      "outputs": [
        {
          "output_type": "execute_result",
          "data": {
            "text/plain": [
              "87636"
            ]
          },
          "metadata": {
            "tags": []
          },
          "execution_count": 114
        }
      ]
    },
    {
      "cell_type": "code",
      "metadata": {
        "id": "oJNJO20syEOl",
        "colab_type": "code",
        "outputId": "ce5bca9a-9bee-4657-e0ba-63914afdb43d",
        "colab": {
          "base_uri": "https://localhost:8080/",
          "height": 50
        }
      },
      "source": [
        "#hacemos el encoding\n",
        "q_embeddings = model.encode(questions, bsize=128, tokenize=True, verbose=True)"
      ],
      "execution_count": 115,
      "outputs": [
        {
          "output_type": "stream",
          "text": [
            "Nb words kept : 863173/1164313 (74.1%)\n",
            "Speed : 3374.0 sentences/s (gpu mode, bsize=128)\n"
          ],
          "name": "stdout"
        }
      ]
    },
    {
      "cell_type": "code",
      "metadata": {
        "id": "FNu3KItG4u8e",
        "colab_type": "code",
        "outputId": "54d18366-4abb-4516-a556-3cc6305b740f",
        "colab": {
          "base_uri": "https://localhost:8080/",
          "height": 50
        }
      },
      "source": [
        "# dimensiones del embedding\n",
        "print(q_embeddings.shape)\n",
        "print(len(questions))"
      ],
      "execution_count": 116,
      "outputs": [
        {
          "output_type": "stream",
          "text": [
            "(87636, 4096)\n",
            "87636\n"
          ],
          "name": "stdout"
        }
      ]
    },
    {
      "cell_type": "code",
      "metadata": {
        "id": "LTUK7SqSwDQO",
        "colab_type": "code",
        "colab": {}
      },
      "source": [
        "import pickle\n",
        "with open(\"/content/drive/My Drive/QA/question-embedding.pickle\", 'wb') as handle:\n",
        "    pickle.dump(q_embeddings, handle)"
      ],
      "execution_count": 0,
      "outputs": []
    },
    {
      "cell_type": "markdown",
      "metadata": {
        "id": "_kcs0gxQ45Cl",
        "colab_type": "text"
      },
      "source": [
        "## Distancia entre oraciones"
      ]
    },
    {
      "cell_type": "code",
      "metadata": {
        "id": "dDp8eZ9c4-Nw",
        "colab_type": "code",
        "colab": {}
      },
      "source": [
        "def cosine(u, v):\n",
        "    return np.dot(u, v) / (np.linalg.norm(u) * np.linalg.norm(v))"
      ],
      "execution_count": 0,
      "outputs": []
    },
    {
      "cell_type": "code",
      "metadata": {
        "id": "eKNnZPwn5Hen",
        "colab_type": "code",
        "outputId": "c7ec44df-22b6-4dd0-9dcf-ede6efe3339e",
        "colab": {
          "base_uri": "https://localhost:8080/",
          "height": 591
        }
      },
      "source": [
        "print(\"Distancias Coseno\")\n",
        "print(\"Pregunta:\")\n",
        "print(questions[0])\n",
        "for i in range(10):\n",
        "  print(i)\n",
        "  print(data[i])\n",
        "  print(cosine(embeddings[i], q_embeddings[0]))"
      ],
      "execution_count": 119,
      "outputs": [
        {
          "output_type": "stream",
          "text": [
            "Distancias Coseno\n",
            "Pregunta:\n",
            "To whom did the Virgin Mary allegedly appear in 1858 in Lourdes France?\n",
            "0\n",
            "architecturally, the school has a catholic character.\n",
            "0.48496497\n",
            "1\n",
            "atop the main building's gold dome is a golden statue of the virgin mary.\n",
            "0.4393835\n",
            "2\n",
            "immediately in front of the main building and facing it, is a copper statue of christ with arms upraised with the legend \"venite ad me omnes\".\n",
            "0.50830585\n",
            "3\n",
            "next to the main building is the basilica of the sacred heart.\n",
            "0.46015966\n",
            "4\n",
            "immediately behind the basilica is the grotto, a marian place of prayer and reflection.\n",
            "0.4889662\n",
            "5\n",
            "it is a replica of the grotto at lourdes, france where the virgin mary reputedly appeared to saint bernadette soubirous in 1858.\n",
            "0.6117157\n",
            "6\n",
            "at the end of the main drive (and in a direct line that connects through 3 statues and the gold dome), is a simple, modern stone statue of mary.\n",
            "0.48410287\n",
            "7\n",
            "as at most other universities, notre dame's students run a number of news media outlets.\n",
            "0.49329674\n",
            "8\n",
            "the nine student-run outlets include three newspapers, both a radio and television station, and several magazines and journals.\n",
            "0.4749323\n",
            "9\n",
            "begun as a one-page journal in september 1876, the scholastic magazine is issued twice monthly and claims to be the oldest continuous collegiate publication in the united states.\n",
            "0.6170491\n"
          ],
          "name": "stdout"
        }
      ]
    },
    {
      "cell_type": "markdown",
      "metadata": {
        "id": "uRuYUVNo9GiG",
        "colab_type": "text"
      },
      "source": [
        "### Visualizacion de vector\n",
        "\n",
        "Importancia de palabras dentro de la oracion."
      ]
    },
    {
      "cell_type": "code",
      "metadata": {
        "id": "guFF49PA5StU",
        "colab_type": "code",
        "outputId": "27d5d78f-1a88-4718-b35f-16013f4e346d",
        "colab": {
          "base_uri": "https://localhost:8080/",
          "height": 54
        }
      },
      "source": [
        "df['context'][0]"
      ],
      "execution_count": 120,
      "outputs": [
        {
          "output_type": "execute_result",
          "data": {
            "text/plain": [
              "'Architecturally, the school has a Catholic character. Atop the Main Building\\'s gold dome is a golden statue of the Virgin Mary. Immediately in front of the Main Building and facing it, is a copper statue of Christ with arms upraised with the legend \"Venite Ad Me Omnes\". Next to the Main Building is the Basilica of the Sacred Heart. Immediately behind the basilica is the Grotto, a Marian place of prayer and reflection. It is a replica of the grotto at Lourdes, France where the Virgin Mary reputedly appeared to Saint Bernadette Soubirous in 1858. At the end of the main drive (and in a direct line that connects through 3 statues and the Gold Dome), is a simple, modern stone statue of Mary.'"
            ]
          },
          "metadata": {
            "tags": []
          },
          "execution_count": 120
        }
      ]
    },
    {
      "cell_type": "code",
      "metadata": {
        "id": "c2VIjIaX7xkR",
        "colab_type": "code",
        "outputId": "0171b3b8-20fb-458b-b37f-6950065de88d",
        "colab": {
          "base_uri": "https://localhost:8080/",
          "height": 34
        }
      },
      "source": [
        "df['question'][0]"
      ],
      "execution_count": 121,
      "outputs": [
        {
          "output_type": "execute_result",
          "data": {
            "text/plain": [
              "'To whom did the Virgin Mary allegedly appear in 1858 in Lourdes France?'"
            ]
          },
          "metadata": {
            "tags": []
          },
          "execution_count": 121
        }
      ]
    },
    {
      "cell_type": "code",
      "metadata": {
        "id": "LFGzynGj7-Na",
        "colab_type": "code",
        "outputId": "ec745b9a-8191-4653-ca37-d622bd3bbb0c",
        "colab": {
          "base_uri": "https://localhost:8080/",
          "height": 34
        }
      },
      "source": [
        "df['text'][0]"
      ],
      "execution_count": 122,
      "outputs": [
        {
          "output_type": "execute_result",
          "data": {
            "text/plain": [
              "'Saint Bernadette Soubirous'"
            ]
          },
          "metadata": {
            "tags": []
          },
          "execution_count": 122
        }
      ]
    },
    {
      "cell_type": "code",
      "metadata": {
        "id": "Bb74aHlT5S4o",
        "colab_type": "code",
        "outputId": "6ed63c17-2260-4cba-83b5-5042044ec69b",
        "colab": {
          "base_uri": "https://localhost:8080/",
          "height": 313
        }
      },
      "source": [
        "idx = randint(1, len(data))\n",
        "_, _ = model.visualize(data[idx])"
      ],
      "execution_count": 123,
      "outputs": [
        {
          "output_type": "display_data",
          "data": {
            "image/png": "[encoded data removed]",
            "text/plain": [
              "<Figure size 432x288 with 1 Axes>"
            ]
          },
          "metadata": {
            "tags": [],
            "needs_background": "light"
          }
        }
      ]
    },
    {
      "cell_type": "markdown",
      "metadata": {
        "id": "zjajXlKbwtaz",
        "colab_type": "text"
      },
      "source": [
        "\n",
        "8 # Modelos\n"
      ]
    },
    {
      "cell_type": "code",
      "metadata": {
        "id": "7DH7_dv28odj",
        "colab_type": "code",
        "colab": {}
      },
      "source": [
        "import pickle\n",
        "with open(\"/content/drive/My Drive/QA/q-embedding.pickle\", \"rb\") as f:\n",
        "    q_dict = pickle.load(f)\n",
        "\n",
        "with open(\"/content/drive/My Drive/QA/embedding.pickle\", \"rb\") as p:\n",
        "    s_dict = pickle.load(p)"
      ],
      "execution_count": 0,
      "outputs": []
    },
    {
      "cell_type": "code",
      "metadata": {
        "id": "6jubf_cex0yf",
        "colab_type": "code",
        "colab": {}
      },
      "source": [
        ""
      ],
      "execution_count": 0,
      "outputs": []
    }
  ]
}
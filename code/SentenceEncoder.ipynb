{
  "nbformat": 4,
  "nbformat_minor": 0,
  "metadata": {
    "colab": {
      "name": "SentenceEncoder.ipynb",
      "provenance": [],
      "include_colab_link": true
    },
    "kernelspec": {
      "name": "python3",
      "display_name": "Python 3"
    },
    "accelerator": "GPU"
  },
  "cells": [
    {
      "cell_type": "markdown",
      "metadata": {
        "id": "view-in-github",
        "colab_type": "text"
      },
      "source": [
        "<a href=\"https://colab.research.google.com/github/Pilo1961/QuestionAnswer_System/blob/master/code/SentenceEncoder.ipynb\" target=\"_parent\"><img src=\"https://colab.research.google.com/assets/colab-badge.svg\" alt=\"Open In Colab\"/></a>"
      ]
    },
    {
      "cell_type": "markdown",
      "metadata": {
        "id": "31ZYD3LlKO8A",
        "colab_type": "text"
      },
      "source": [
        "# Sistema de Preguntas y Respuestas\n",
        "## 02. Embeddings"
      ]
    },
    {
      "cell_type": "markdown",
      "metadata": {
        "id": "9PFXHHxecVmj",
        "colab_type": "text"
      },
      "source": [
        "### 2.1. Setup"
      ]
    },
    {
      "cell_type": "code",
      "metadata": {
        "id": "YKgXtNpMcWYj",
        "colab_type": "code",
        "colab": {}
      },
      "source": [
        "import numpy as np\n",
        "import pandas as pd\n",
        "import json\n",
        "from random import randint\n",
        "import torch\n",
        "import pickle\n",
        "\n",
        "%load_ext autoreload\n",
        "%autoreload 2\n",
        "%matplotlib inline"
      ],
      "execution_count": 0,
      "outputs": []
    },
    {
      "cell_type": "code",
      "metadata": {
        "id": "xpWyef32ekX6",
        "colab_type": "code",
        "outputId": "90cd0486-0fef-42b7-c47d-d9b26d56dd8a",
        "colab": {
          "base_uri": "https://localhost:8080/",
          "height": 34
        }
      },
      "source": [
        "# Usa cuda si está disponible\n",
        "cuda=torch.cuda.is_available()\n",
        "use_cuda = cuda\n",
        "print(\"Use cuda: \",cuda)"
      ],
      "execution_count": 0,
      "outputs": [
        {
          "output_type": "stream",
          "text": [
            "Use cuda:  True\n"
          ],
          "name": "stdout"
        }
      ]
    },
    {
      "cell_type": "code",
      "metadata": {
        "id": "K-2f84cBcbgp",
        "colab_type": "code",
        "outputId": "40675ace-1122-421d-cba3-787f9765d7f9",
        "colab": {
          "base_uri": "https://localhost:8080/",
          "height": 34
        }
      },
      "source": [
        "# Mount drive to google drive\n",
        "from google.colab import drive\n",
        "drive.mount('/content/drive')"
      ],
      "execution_count": 0,
      "outputs": [
        {
          "output_type": "stream",
          "text": [
            "Drive already mounted at /content/drive; to attempt to forcibly remount, call drive.mount(\"/content/drive\", force_remount=True).\n"
          ],
          "name": "stdout"
        }
      ]
    },
    {
      "cell_type": "markdown",
      "metadata": {
        "id": "F34FcKKrc7yN",
        "colab_type": "text"
      },
      "source": [
        "### 2.2 Leer dataset"
      ]
    },
    {
      "cell_type": "code",
      "metadata": {
        "id": "2Q__x_ikdKXG",
        "colab_type": "code",
        "colab": {}
      },
      "source": [
        "# Load data from pickle\n",
        "path= \"/content/drive/My Drive/QA/df_train.pkl\"\n",
        "pd.set_option('max_colwidth', 300)\n",
        "\n",
        "with open(path, \"rb\") as p:\n",
        "    df = pickle.load(p)\n",
        "\n",
        "df.rename(columns={'paragraph.context':'context','paragraph.qas.question':'question','paragraph.qas.id':'id'},inplace=True)"
      ],
      "execution_count": 0,
      "outputs": []
    },
    {
      "cell_type": "code",
      "metadata": {
        "id": "Ei6niZsVWFgu",
        "colab_type": "code",
        "outputId": "8dea78d4-590a-4e63-b4fe-2761d152ab0d",
        "colab": {
          "base_uri": "https://localhost:8080/",
          "height": 212
        }
      },
      "source": [
        "print(df.shape)\n",
        "df.head()"
      ],
      "execution_count": 0,
      "outputs": [
        {
          "output_type": "stream",
          "text": [
            "(87636, 6)\n"
          ],
          "name": "stdout"
        },
        {
          "output_type": "execute_result",
          "data": {
            "text/html": [
              "<div>\n",
              "<style scoped>\n",
              "    .dataframe tbody tr th:only-of-type {\n",
              "        vertical-align: middle;\n",
              "    }\n",
              "\n",
              "    .dataframe tbody tr th {\n",
              "        vertical-align: top;\n",
              "    }\n",
              "\n",
              "    .dataframe thead th {\n",
              "        text-align: right;\n",
              "    }\n",
              "</style>\n",
              "<table border=\"1\" class=\"dataframe\">\n",
              "  <thead>\n",
              "    <tr style=\"text-align: right;\">\n",
              "      <th></th>\n",
              "      <th>answer_start</th>\n",
              "      <th>text</th>\n",
              "      <th>title</th>\n",
              "      <th>context</th>\n",
              "      <th>question</th>\n",
              "      <th>id</th>\n",
              "    </tr>\n",
              "  </thead>\n",
              "  <tbody>\n",
              "    <tr>\n",
              "      <th>0</th>\n",
              "      <td>515</td>\n",
              "      <td>Saint Bernadette Soubirous</td>\n",
              "      <td>University_of_Notre_Dame</td>\n",
              "      <td>Architecturally, the school has a Catholic cha...</td>\n",
              "      <td>To whom did the Virgin Mary allegedly appear i...</td>\n",
              "      <td>5733be284776f41900661182</td>\n",
              "    </tr>\n",
              "    <tr>\n",
              "      <th>1</th>\n",
              "      <td>187</td>\n",
              "      <td>a copper statue of Christ</td>\n",
              "      <td>University_of_Notre_Dame</td>\n",
              "      <td>Architecturally, the school has a Catholic cha...</td>\n",
              "      <td>What is in front of the Notre Dame Main Building?</td>\n",
              "      <td>5733be284776f4190066117f</td>\n",
              "    </tr>\n",
              "    <tr>\n",
              "      <th>2</th>\n",
              "      <td>279</td>\n",
              "      <td>the Main Building</td>\n",
              "      <td>University_of_Notre_Dame</td>\n",
              "      <td>Architecturally, the school has a Catholic cha...</td>\n",
              "      <td>The Basilica of the Sacred heart at Notre Dame...</td>\n",
              "      <td>5733be284776f41900661180</td>\n",
              "    </tr>\n",
              "    <tr>\n",
              "      <th>3</th>\n",
              "      <td>381</td>\n",
              "      <td>a Marian place of prayer and reflection</td>\n",
              "      <td>University_of_Notre_Dame</td>\n",
              "      <td>Architecturally, the school has a Catholic cha...</td>\n",
              "      <td>What is the Grotto at Notre Dame?</td>\n",
              "      <td>5733be284776f41900661181</td>\n",
              "    </tr>\n",
              "    <tr>\n",
              "      <th>4</th>\n",
              "      <td>92</td>\n",
              "      <td>a golden statue of the Virgin Mary</td>\n",
              "      <td>University_of_Notre_Dame</td>\n",
              "      <td>Architecturally, the school has a Catholic cha...</td>\n",
              "      <td>What sits on top of the Main Building at Notre...</td>\n",
              "      <td>5733be284776f4190066117e</td>\n",
              "    </tr>\n",
              "  </tbody>\n",
              "</table>\n",
              "</div>"
            ],
            "text/plain": [
              "   answer_start  ...                        id\n",
              "0           515  ...  5733be284776f41900661182\n",
              "1           187  ...  5733be284776f4190066117f\n",
              "2           279  ...  5733be284776f41900661180\n",
              "3           381  ...  5733be284776f41900661181\n",
              "4            92  ...  5733be284776f4190066117e\n",
              "\n",
              "[5 rows x 6 columns]"
            ]
          },
          "metadata": {
            "tags": []
          },
          "execution_count": 7
        }
      ]
    },
    {
      "cell_type": "code",
      "metadata": {
        "id": "Dmd3ryNmihDs",
        "colab_type": "code",
        "colab": {}
      },
      "source": [
        "# Load data from pickle\n",
        "path= \"/content/drive/My Drive/QA/df_test.pkl\"\n",
        "with open(path, \"rb\") as p:\n",
        "    df_test = pickle.load(p)\n",
        "\n",
        "df_test.rename(columns={'paragraph.context':'context','paragraph.qas.question':'question','paragraph.qas.id':'id'},inplace=True)"
      ],
      "execution_count": 0,
      "outputs": []
    },
    {
      "cell_type": "code",
      "metadata": {
        "id": "pvnAHMwJihQ7",
        "colab_type": "code",
        "outputId": "6cda1715-6c34-4bdb-9cb2-1cd330f65911",
        "colab": {
          "base_uri": "https://localhost:8080/",
          "height": 195
        }
      },
      "source": [
        "df_test.head()"
      ],
      "execution_count": 0,
      "outputs": [
        {
          "output_type": "execute_result",
          "data": {
            "text/html": [
              "<div>\n",
              "<style scoped>\n",
              "    .dataframe tbody tr th:only-of-type {\n",
              "        vertical-align: middle;\n",
              "    }\n",
              "\n",
              "    .dataframe tbody tr th {\n",
              "        vertical-align: top;\n",
              "    }\n",
              "\n",
              "    .dataframe thead th {\n",
              "        text-align: right;\n",
              "    }\n",
              "</style>\n",
              "<table border=\"1\" class=\"dataframe\">\n",
              "  <thead>\n",
              "    <tr style=\"text-align: right;\">\n",
              "      <th></th>\n",
              "      <th>answer_start</th>\n",
              "      <th>text</th>\n",
              "      <th>title</th>\n",
              "      <th>context</th>\n",
              "      <th>question</th>\n",
              "      <th>id</th>\n",
              "    </tr>\n",
              "  </thead>\n",
              "  <tbody>\n",
              "    <tr>\n",
              "      <th>0</th>\n",
              "      <td>176</td>\n",
              "      <td>Denver Broncos</td>\n",
              "      <td>Super_Bowl_50</td>\n",
              "      <td>Super Bowl 50 was an American football game to...</td>\n",
              "      <td>Which NFL team represented the AFC at Super Bo...</td>\n",
              "      <td>56be4db0acb8001400a502ec</td>\n",
              "    </tr>\n",
              "    <tr>\n",
              "      <th>1</th>\n",
              "      <td>177</td>\n",
              "      <td>Denver Broncos</td>\n",
              "      <td>Super_Bowl_50</td>\n",
              "      <td>Super Bowl 50 was an American football game to...</td>\n",
              "      <td>Which NFL team represented the AFC at Super Bo...</td>\n",
              "      <td>56be4db0acb8001400a502ec</td>\n",
              "    </tr>\n",
              "    <tr>\n",
              "      <th>2</th>\n",
              "      <td>177</td>\n",
              "      <td>Denver Broncos</td>\n",
              "      <td>Super_Bowl_50</td>\n",
              "      <td>Super Bowl 50 was an American football game to...</td>\n",
              "      <td>Which NFL team represented the AFC at Super Bo...</td>\n",
              "      <td>56be4db0acb8001400a502ec</td>\n",
              "    </tr>\n",
              "    <tr>\n",
              "      <th>3</th>\n",
              "      <td>248</td>\n",
              "      <td>Carolina Panthers</td>\n",
              "      <td>Super_Bowl_50</td>\n",
              "      <td>Super Bowl 50 was an American football game to...</td>\n",
              "      <td>Which NFL team represented the NFC at Super Bo...</td>\n",
              "      <td>56be4db0acb8001400a502ed</td>\n",
              "    </tr>\n",
              "    <tr>\n",
              "      <th>4</th>\n",
              "      <td>249</td>\n",
              "      <td>Carolina Panthers</td>\n",
              "      <td>Super_Bowl_50</td>\n",
              "      <td>Super Bowl 50 was an American football game to...</td>\n",
              "      <td>Which NFL team represented the NFC at Super Bo...</td>\n",
              "      <td>56be4db0acb8001400a502ed</td>\n",
              "    </tr>\n",
              "  </tbody>\n",
              "</table>\n",
              "</div>"
            ],
            "text/plain": [
              "   answer_start  ...                        id\n",
              "0           176  ...  56be4db0acb8001400a502ec\n",
              "1           177  ...  56be4db0acb8001400a502ec\n",
              "2           177  ...  56be4db0acb8001400a502ec\n",
              "3           248  ...  56be4db0acb8001400a502ed\n",
              "4           249  ...  56be4db0acb8001400a502ed\n",
              "\n",
              "[5 rows x 6 columns]"
            ]
          },
          "metadata": {
            "tags": []
          },
          "execution_count": 9
        }
      ]
    },
    {
      "cell_type": "markdown",
      "metadata": {
        "id": "GWRrOo_QdCha",
        "colab_type": "text"
      },
      "source": [
        "### 2.3 Embedding de contextos\n",
        "\n",
        "Usamos el embedding preentrenado [InferSent](https://github.com/facebookresearch/InferSent), un método de embedding de oraciones que provee una representación semántica de las oraciones en inglés. El modelo se entrenó con GLoVE."
      ]
    },
    {
      "cell_type": "code",
      "metadata": {
        "id": "q-IYAkjUWotB",
        "colab_type": "code",
        "outputId": "66797f17-64b6-4d60-e34f-e0d138b130b6",
        "colab": {
          "base_uri": "https://localhost:8080/",
          "height": 34
        }
      },
      "source": [
        "# Importa el modulo models de infersent\n",
        "import sys\n",
        "sys.path.append('/content/drive/My Drive/QA/')\n",
        "from models import InferSent\n",
        "\n",
        "model_version = 1\n",
        "MODEL_PATH = \"/content/drive/My Drive/QA/infersent%s.pkl\" % model_version\n",
        "params_model = {'bsize': 64, 'word_emb_dim': 300, 'enc_lstm_dim': 2048,\n",
        "                'pool_type': 'max', 'dpout_model': 0.0, 'version': model_version}\n",
        "model = InferSent(params_model)\n",
        "model.load_state_dict(torch.load(MODEL_PATH))"
      ],
      "execution_count": 0,
      "outputs": [
        {
          "output_type": "execute_result",
          "data": {
            "text/plain": [
              "<All keys matched successfully>"
            ]
          },
          "metadata": {
            "tags": []
          },
          "execution_count": 10
        }
      ]
    },
    {
      "cell_type": "code",
      "metadata": {
        "id": "rR2vYh3bfdH7",
        "colab_type": "code",
        "colab": {}
      },
      "source": [
        "# Keep it on CPU or put it on GPU\n",
        "model = model.cuda() if use_cuda else model"
      ],
      "execution_count": 0,
      "outputs": []
    },
    {
      "cell_type": "code",
      "metadata": {
        "id": "sKvpnUbqZREg",
        "colab_type": "code",
        "colab": {}
      },
      "source": [
        "# Importa el embedding word2Vec GLovE preentrnado\n",
        "W2V_PATH = '/content/drive/My Drive/QA/glove.840B.300d.txt' if model_version == 1 else 'fastText/crawl-300d-2M.vec'\n",
        "model.set_w2v_path(W2V_PATH)"
      ],
      "execution_count": 0,
      "outputs": []
    },
    {
      "cell_type": "markdown",
      "metadata": {
        "id": "rtoXX7XaKqFF",
        "colab_type": "text"
      },
      "source": [
        "#### Datos de entrenamiento\n",
        "\n",
        "Tokenizamos los datos de entrenamiento"
      ]
    },
    {
      "cell_type": "code",
      "metadata": {
        "id": "jrQ7wAzmi6rK",
        "colab_type": "code",
        "outputId": "3ab44fdc-cc83-41bd-c870-d12f9d60105f",
        "colab": {
          "base_uri": "https://localhost:8080/",
          "height": 50
        }
      },
      "source": [
        "import nltk\n",
        "nltk.download('punkt')\n",
        "from nltk.tokenize import sent_tokenize, word_tokenize"
      ],
      "execution_count": 0,
      "outputs": [
        {
          "output_type": "stream",
          "text": [
            "[nltk_data] Downloading package punkt to /root/nltk_data...\n",
            "[nltk_data]   Package punkt is already up-to-date!\n"
          ],
          "name": "stdout"
        }
      ]
    },
    {
      "cell_type": "code",
      "metadata": {
        "id": "3-eBXvIpgAbJ",
        "colab_type": "code",
        "colab": {}
      },
      "source": [
        "# Tokeniza datos test\n",
        "# Hace cada oracion un token\n",
        "# Convierte todo el texto a minusculas\n",
        "contextos=df['context'].unique()\n",
        "data=[]\n",
        "for cont in contextos: # para cada contexto\n",
        "  sample=cont\n",
        "  for sent in sent_tokenize(sample): #Extrae las oraciones\n",
        "    data.append(sent.lower())"
      ],
      "execution_count": 0,
      "outputs": []
    },
    {
      "cell_type": "code",
      "metadata": {
        "id": "5puw5DTSwEGE",
        "colab_type": "code",
        "outputId": "43f1acc7-bb05-47ed-ea11-deb7e51089fa",
        "colab": {
          "base_uri": "https://localhost:8080/",
          "height": 118
        }
      },
      "source": [
        "# Hay 93576 oraciones en el train, cada una es un token en la lista data\n",
        "print(len(data))\n",
        "data[:5]"
      ],
      "execution_count": 0,
      "outputs": [
        {
          "output_type": "stream",
          "text": [
            "93576\n"
          ],
          "name": "stdout"
        },
        {
          "output_type": "execute_result",
          "data": {
            "text/plain": [
              "['architecturally, the school has a catholic character.',\n",
              " \"atop the main building's gold dome is a golden statue of the virgin mary.\",\n",
              " 'immediately in front of the main building and facing it, is a copper statue of christ with arms upraised with the legend \"venite ad me omnes\".',\n",
              " 'next to the main building is the basilica of the sacred heart.',\n",
              " 'immediately behind the basilica is the grotto, a marian place of prayer and reflection.']"
            ]
          },
          "metadata": {
            "tags": []
          },
          "execution_count": 15
        }
      ]
    },
    {
      "cell_type": "markdown",
      "metadata": {
        "id": "ih1twc-CkIHV",
        "colab_type": "text"
      },
      "source": [
        "#### Datos de prueba\n",
        "Tokenizamos los datos de prueba\n",
        "No usamos para calcular el vocabularion"
      ]
    },
    {
      "cell_type": "code",
      "metadata": {
        "id": "mxVYdWutjCHk",
        "colab_type": "code",
        "colab": {}
      },
      "source": [
        "# Tokeniza datos train\n",
        "# Hace cada oracion un token\n",
        "# Convierte todo el texto a minusculas\n",
        "contextos=df_test['context'].unique()\n",
        "data2=[]\n",
        "for cont in contextos: # para cada contexto\n",
        "  sample=cont\n",
        "  for sent in sent_tokenize(sample): #Extrae las oraciones\n",
        "    data2.append(sent.lower())"
      ],
      "execution_count": 0,
      "outputs": []
    },
    {
      "cell_type": "code",
      "metadata": {
        "id": "HcE3ZE9jjCMV",
        "colab_type": "code",
        "outputId": "77c56280-cc73-4f7a-ec10-d8991a66b6cb",
        "colab": {
          "base_uri": "https://localhost:8080/",
          "height": 138
        }
      },
      "source": [
        "# Hay 10458 oraciones en el test, cada una es un token en la lista data\n",
        "print(len(data2))\n",
        "data2[:5]"
      ],
      "execution_count": 0,
      "outputs": [
        {
          "output_type": "stream",
          "text": [
            "10458\n"
          ],
          "name": "stdout"
        },
        {
          "output_type": "execute_result",
          "data": {
            "text/plain": [
              "['super bowl 50 was an american football game to determine the champion of the national football league (nfl) for the 2015 season.',\n",
              " 'the american football conference (afc) champion denver broncos defeated the national football conference (nfc) champion carolina panthers 24–10 to earn their third super bowl title.',\n",
              " \"the game was played on february 7, 2016, at levi's stadium in the san francisco bay area at santa clara, california.\",\n",
              " 'as this was the 50th super bowl, the league emphasized the \"golden anniversary\" with various gold-themed initiatives, as well as temporarily suspending the tradition of naming each super bowl game with roman numerals (under which the game would have been known as \"super bowl l\"), so that the logo could prominently feature the arabic numerals 50.',\n",
              " 'the panthers finished the regular season with a 15–1 record, and quarterback cam newton was named the nfl most valuable player (mvp).']"
            ]
          },
          "metadata": {
            "tags": []
          },
          "execution_count": 17
        }
      ]
    },
    {
      "cell_type": "markdown",
      "metadata": {
        "id": "1f28PEMAkQO2",
        "colab_type": "text"
      },
      "source": [
        "#### Vocabulario \n",
        "**Calculamos** el vocabulario solamente usando los datos de entrenamiento."
      ]
    },
    {
      "cell_type": "code",
      "metadata": {
        "id": "_hom5aE-Z-8A",
        "colab_type": "code",
        "outputId": "3be56523-beef-49cb-cc4f-016aa94cf82d",
        "colab": {
          "base_uri": "https://localhost:8080/",
          "height": 50
        }
      },
      "source": [
        "# Construimos el vocabulario con las palabras en las oraciones\n",
        "model.build_vocab(data,tokenize=False)"
      ],
      "execution_count": 0,
      "outputs": [
        {
          "output_type": "stream",
          "text": [
            "Found 59547(/168972) words with w2v vectors\n",
            "Vocab size : 59547\n"
          ],
          "name": "stdout"
        }
      ]
    },
    {
      "cell_type": "markdown",
      "metadata": {
        "id": "j_0vI8oTkob6",
        "colab_type": "text"
      },
      "source": [
        "#### Embedding datos de entrenamiento"
      ]
    },
    {
      "cell_type": "code",
      "metadata": {
        "id": "5pnDWEWJcMiL",
        "colab_type": "code",
        "outputId": "df34b14a-e141-4ecb-c481-471d254d9762",
        "colab": {
          "base_uri": "https://localhost:8080/",
          "height": 67
        }
      },
      "source": [
        "# Generamos el encoding\n",
        "embeddings = model.encode(data, bsize=128, tokenize=True, verbose=True)\n",
        "print('nb sentences encoded : {0}'.format(len(embeddings)))"
      ],
      "execution_count": 0,
      "outputs": [
        {
          "output_type": "stream",
          "text": [
            "Nb words kept : 2628013/2722521 (96.5%)\n",
            "Speed : 1683.1 sentences/s (gpu mode, bsize=128)\n",
            "nb sentences encoded : 93576\n"
          ],
          "name": "stdout"
        }
      ]
    },
    {
      "cell_type": "code",
      "metadata": {
        "id": "Rl_Pd0vQngBS",
        "colab_type": "code",
        "outputId": "73b59d32-0452-4cfe-bd9c-88331b6cb362",
        "colab": {
          "base_uri": "https://localhost:8080/",
          "height": 34
        }
      },
      "source": [
        "# Dimensiones del embedding\n",
        "embeddings.shape"
      ],
      "execution_count": 0,
      "outputs": [
        {
          "output_type": "execute_result",
          "data": {
            "text/plain": [
              "(93576, 4096)"
            ]
          },
          "metadata": {
            "tags": []
          },
          "execution_count": 25
        }
      ]
    },
    {
      "cell_type": "code",
      "metadata": {
        "id": "M2ivoiV9tivX",
        "colab_type": "code",
        "outputId": "6c93f11e-432c-4e2b-9782-cfe104098c74",
        "colab": {
          "base_uri": "https://localhost:8080/",
          "height": 34
        }
      },
      "source": [
        "embeddings_dict=dict(zip(data,embeddings))\n",
        "len(embeddings_dict)"
      ],
      "execution_count": 0,
      "outputs": [
        {
          "output_type": "execute_result",
          "data": {
            "text/plain": [
              "93071"
            ]
          },
          "metadata": {
            "tags": []
          },
          "execution_count": 26
        }
      ]
    },
    {
      "cell_type": "code",
      "metadata": {
        "id": "_stDSFVOzSMT",
        "colab_type": "code",
        "colab": {}
      },
      "source": [
        "with open(\"/content/drive/My Drive/QA/train_dict.pkl\", 'wb') as handle:\n",
        "    pickle.dump(embeddings_dict, handle)"
      ],
      "execution_count": 0,
      "outputs": []
    },
    {
      "cell_type": "markdown",
      "metadata": {
        "id": "SJRFodOJxlEj",
        "colab_type": "text"
      },
      "source": [
        "#### Embedding de preguntas de entrenamiento"
      ]
    },
    {
      "cell_type": "code",
      "metadata": {
        "id": "udovufEcw9kh",
        "colab_type": "code",
        "colab": {}
      },
      "source": [
        "questions=list(df['question'])"
      ],
      "execution_count": 0,
      "outputs": []
    },
    {
      "cell_type": "code",
      "metadata": {
        "id": "oJNJO20syEOl",
        "colab_type": "code",
        "outputId": "661badd6-beef-45b6-de33-e738bf878d68",
        "colab": {
          "base_uri": "https://localhost:8080/",
          "height": 67
        }
      },
      "source": [
        "# Generamos el encoding\n",
        "q_embeddings = model.encode(questions, bsize=128, tokenize=True, verbose=True)\n",
        "print('nb sentences encoded : {0}'.format(len(q_embeddings)))"
      ],
      "execution_count": 0,
      "outputs": [
        {
          "output_type": "stream",
          "text": [
            "Nb words kept : 863173/1164313 (74.1%)\n",
            "Speed : 3511.9 sentences/s (gpu mode, bsize=128)\n",
            "nb sentences encoded : 87636\n"
          ],
          "name": "stdout"
        }
      ]
    },
    {
      "cell_type": "code",
      "metadata": {
        "id": "FNu3KItG4u8e",
        "colab_type": "code",
        "outputId": "124be8c8-3874-4454-9f26-4ded52fc25a3",
        "colab": {
          "base_uri": "https://localhost:8080/",
          "height": 50
        }
      },
      "source": [
        "# Dimensiones del embedding\n",
        "print(q_embeddings.shape)\n",
        "print(len(questions))"
      ],
      "execution_count": 0,
      "outputs": [
        {
          "output_type": "stream",
          "text": [
            "(87636, 4096)\n",
            "87636\n"
          ],
          "name": "stdout"
        }
      ]
    },
    {
      "cell_type": "code",
      "metadata": {
        "id": "LTUK7SqSwDQO",
        "colab_type": "code",
        "colab": {}
      },
      "source": [
        "with open(\"/content/drive/My Drive/QA/train_question.pkl\", 'wb') as handle:\n",
        "    pickle.dump(q_embeddings, handle)"
      ],
      "execution_count": 0,
      "outputs": []
    },
    {
      "cell_type": "markdown",
      "metadata": {
        "id": "69mYINxMh2ZE",
        "colab_type": "text"
      },
      "source": [
        "#### Embedding de datos de prueba"
      ]
    },
    {
      "cell_type": "code",
      "metadata": {
        "id": "umD7gWnwh8lm",
        "colab_type": "code",
        "outputId": "1d38f610-f353-4137-e0d2-0e09a4791268",
        "colab": {
          "base_uri": "https://localhost:8080/",
          "height": 67
        }
      },
      "source": [
        "# Generamos el encoding\n",
        "embeddings2 = model.encode(data2, bsize=128, tokenize=True, verbose=True)\n",
        "print('nb sentences encoded : {0}'.format(len(embeddings2)))"
      ],
      "execution_count": 0,
      "outputs": [
        {
          "output_type": "stream",
          "text": [
            "Nb words kept : 296059/311619 (95.0%)\n",
            "Speed : 1579.9 sentences/s (gpu mode, bsize=128)\n",
            "nb sentences encoded : 10458\n"
          ],
          "name": "stdout"
        }
      ]
    },
    {
      "cell_type": "code",
      "metadata": {
        "id": "q5VUwT9Ah8ru",
        "colab_type": "code",
        "outputId": "26003e8d-2a45-43ba-aa1c-fd864fa53d68",
        "colab": {
          "base_uri": "https://localhost:8080/",
          "height": 34
        }
      },
      "source": [
        "# Dimensiones del embedding\n",
        "embeddings2.shape"
      ],
      "execution_count": 0,
      "outputs": [
        {
          "output_type": "execute_result",
          "data": {
            "text/plain": [
              "(10458, 4096)"
            ]
          },
          "metadata": {
            "tags": []
          },
          "execution_count": 20
        }
      ]
    },
    {
      "cell_type": "code",
      "metadata": {
        "id": "jZIlUQ3ivjts",
        "colab_type": "code",
        "outputId": "9c6498f9-e256-4d4f-c1ff-787581ad7155",
        "colab": {
          "base_uri": "https://localhost:8080/",
          "height": 34
        }
      },
      "source": [
        "embeddings2_dict=dict(zip(data2,embeddings2))\n",
        "len(embeddings2_dict)"
      ],
      "execution_count": 0,
      "outputs": [
        {
          "output_type": "execute_result",
          "data": {
            "text/plain": [
              "10389"
            ]
          },
          "metadata": {
            "tags": []
          },
          "execution_count": 22
        }
      ]
    },
    {
      "cell_type": "code",
      "metadata": {
        "id": "-7lii9tziVMz",
        "colab_type": "code",
        "colab": {}
      },
      "source": [
        "with open(\"/content/drive/My Drive/QA/test_dict.pkl\", 'wb') as handle:\n",
        "    pickle.dump(embeddings2_dict, handle)"
      ],
      "execution_count": 0,
      "outputs": []
    },
    {
      "cell_type": "markdown",
      "metadata": {
        "id": "tLoTjIU6jayp",
        "colab_type": "text"
      },
      "source": [
        "#### Embedding de preguntas de prueba"
      ]
    },
    {
      "cell_type": "code",
      "metadata": {
        "id": "uugDqfNGjc5R",
        "colab_type": "code",
        "colab": {}
      },
      "source": [
        "questions2=list(df_test['question'])"
      ],
      "execution_count": 0,
      "outputs": []
    },
    {
      "cell_type": "code",
      "metadata": {
        "id": "Lbn85jISjc-Y",
        "colab_type": "code",
        "outputId": "68fa87ca-6c7b-4dea-c065-e5c0edc08a59",
        "colab": {
          "base_uri": "https://localhost:8080/",
          "height": 67
        }
      },
      "source": [
        "# Generamos el encoding\n",
        "q_embeddings2 = model.encode(questions2, bsize=128, tokenize=True, verbose=True)\n",
        "print('nb sentences encoded : {0}'.format(len(q_embeddings2)))"
      ],
      "execution_count": 0,
      "outputs": [
        {
          "output_type": "stream",
          "text": [
            "Nb words kept : 336231/452359 (74.3%)\n",
            "Speed : 3543.6 sentences/s (gpu mode, bsize=128)\n",
            "nb sentences encoded : 33615\n"
          ],
          "name": "stdout"
        }
      ]
    },
    {
      "cell_type": "code",
      "metadata": {
        "id": "alxTfGAnjdBe",
        "colab_type": "code",
        "outputId": "c4baa3a5-9d09-4f79-c424-0aabbe22c463",
        "colab": {
          "base_uri": "https://localhost:8080/",
          "height": 50
        }
      },
      "source": [
        "# Dimensiones del embedding\n",
        "print(q_embeddings2.shape)\n",
        "print(len(questions2))"
      ],
      "execution_count": 0,
      "outputs": [
        {
          "output_type": "stream",
          "text": [
            "(33615, 4096)\n",
            "33615\n"
          ],
          "name": "stdout"
        }
      ]
    },
    {
      "cell_type": "code",
      "metadata": {
        "id": "bs-B1_sMjdEZ",
        "colab_type": "code",
        "colab": {}
      },
      "source": [
        "with open(\"/content/drive/My Drive/QA/test_question.pkl\", 'wb') as handle:\n",
        "    pickle.dump(q_embeddings2, handle)"
      ],
      "execution_count": 0,
      "outputs": []
    },
    {
      "cell_type": "markdown",
      "metadata": {
        "id": "_kcs0gxQ45Cl",
        "colab_type": "text"
      },
      "source": [
        "### 2.4 Distancia entre oraciones"
      ]
    },
    {
      "cell_type": "code",
      "metadata": {
        "id": "dDp8eZ9c4-Nw",
        "colab_type": "code",
        "colab": {}
      },
      "source": [
        "# Definimos la distancia coseno\n",
        "def cosine(u, v):\n",
        "    return 1- (np.dot(u, v) / (np.linalg.norm(u) * np.linalg.norm(v)))"
      ],
      "execution_count": 0,
      "outputs": []
    },
    {
      "cell_type": "code",
      "metadata": {
        "id": "eKNnZPwn5Hen",
        "colab_type": "code",
        "outputId": "5f469f8c-8be7-43b8-acbc-a51cd2c22a22",
        "colab": {
          "base_uri": "https://localhost:8080/",
          "height": 571
        }
      },
      "source": [
        "# Calculamos la distancia coseno entre una pregunta y las oraciones en el contexto\n",
        "print(\"Distancias Coseno\")\n",
        "print(\"Pregunta:\")\n",
        "print(questions[0])\n",
        "for i in range(10):\n",
        "  print(i)\n",
        "  print(data[i])\n",
        "  print(cosine(embeddings[i], q_embeddings[0]))"
      ],
      "execution_count": 0,
      "outputs": [
        {
          "output_type": "stream",
          "text": [
            "Distancias Coseno\n",
            "Pregunta:\n",
            "To whom did the Virgin Mary allegedly appear in 1858 in Lourdes France?\n",
            "0\n",
            "architecturally, the school has a catholic character.\n",
            "0.5150350332260132\n",
            "1\n",
            "atop the main building's gold dome is a golden statue of the virgin mary.\n",
            "0.5606164932250977\n",
            "2\n",
            "immediately in front of the main building and facing it, is a copper statue of christ with arms upraised with the legend \"venite ad me omnes\".\n",
            "0.4916941523551941\n",
            "3\n",
            "next to the main building is the basilica of the sacred heart.\n",
            "0.5398403406143188\n",
            "4\n",
            "immediately behind the basilica is the grotto, a marian place of prayer and reflection.\n",
            "0.5110338032245636\n",
            "5\n",
            "it is a replica of the grotto at lourdes, france where the virgin mary reputedly appeared to saint bernadette soubirous in 1858.\n",
            "0.3882843255996704\n",
            "6\n",
            "at the end of the main drive (and in a direct line that connects through 3 statues and the gold dome), is a simple, modern stone statue of mary.\n",
            "0.515897125005722\n",
            "7\n",
            "as at most other universities, notre dame's students run a number of news media outlets.\n",
            "0.50670325756073\n",
            "8\n",
            "the nine student-run outlets include three newspapers, both a radio and television station, and several magazines and journals.\n",
            "0.5250676870346069\n",
            "9\n",
            "begun as a one-page journal in september 1876, the scholastic magazine is issued twice monthly and claims to be the oldest continuous collegiate publication in the united states.\n",
            "0.38295090198516846\n"
          ],
          "name": "stdout"
        }
      ]
    },
    {
      "cell_type": "markdown",
      "metadata": {
        "id": "uRuYUVNo9GiG",
        "colab_type": "text"
      },
      "source": [
        "### 2.5 Visualizacion de vector\n",
        "\n",
        "Importancia de palabras dentro de la oracion."
      ]
    },
    {
      "cell_type": "code",
      "metadata": {
        "id": "Bb74aHlT5S4o",
        "colab_type": "code",
        "outputId": "93c14374-fb9f-4554-bb70-31c6b4bce953",
        "colab": {
          "base_uri": "https://localhost:8080/",
          "height": 329
        }
      },
      "source": [
        "# Observamos la importancia de las palabras dentro de una oracion aleatoria\n",
        "idx = randint(1, len(data))\n",
        "_, _ = model.visualize(data[idx])"
      ],
      "execution_count": 0,
      "outputs": [
        {
          "output_type": "display_data",
          "data": {
            "image/png": "[encoded data removed]",
            "text/plain": [
              "<Figure size 432x288 with 1 Axes>"
            ]
          },
          "metadata": {
            "tags": [],
            "needs_background": "light"
          }
        }
      ]
    },
    {
      "cell_type": "code",
      "metadata": {
        "id": "GeDlPK6hnsh8",
        "colab_type": "code",
        "outputId": "291017f8-f3a1-4e89-c1e5-ee419f470b08",
        "colab": {
          "base_uri": "https://localhost:8080/",
          "height": 34
        }
      },
      "source": [
        "data[idx]"
      ],
      "execution_count": 0,
      "outputs": [
        {
          "output_type": "execute_result",
          "data": {
            "text/plain": [
              "'many of his observations were included as improvements in the 1981 lds edition of the book of mormon.'"
            ]
          },
          "metadata": {
            "tags": []
          },
          "execution_count": 37
        }
      ]
    },
    {
      "cell_type": "markdown",
      "metadata": {
        "id": "_pQLse0MLWc1",
        "colab_type": "text"
      },
      "source": [
        "En este oración la palabra más importante parece ser **mormon**."
      ]
    }
  ]
}